{
  "nbformat": 4,
  "nbformat_minor": 0,
  "metadata": {
    "colab": {
      "name": "Python_Packages.ipynb",
      "provenance": [],
      "collapsed_sections": []
    },
    "kernelspec": {
      "name": "python3",
      "display_name": "Python 3"
    }
  },
  "cells": [
    {
      "cell_type": "code",
      "metadata": {
        "id": "DDyymGodjjOo"
      },
      "source": [
        "import warnings\r\n",
        "warnings.filterwarnings('ignore')"
      ],
      "execution_count": 1,
      "outputs": []
    },
    {
      "cell_type": "code",
      "metadata": {
        "id": "GGr62yOKjvkw"
      },
      "source": [
        "import numpy as np"
      ],
      "execution_count": 2,
      "outputs": []
    },
    {
      "cell_type": "code",
      "metadata": {
        "id": "hYzRe2zpjxfb"
      },
      "source": [
        "a0 = np.array(9)"
      ],
      "execution_count": 3,
      "outputs": []
    },
    {
      "cell_type": "code",
      "metadata": {
        "colab": {
          "base_uri": "https://localhost:8080/"
        },
        "id": "iwgae8_Kj0BE",
        "outputId": "26a15a66-9b21-4bc3-ae43-79e15194c3e5"
      },
      "source": [
        "print(a0)"
      ],
      "execution_count": 4,
      "outputs": [
        {
          "output_type": "stream",
          "text": [
            "9\n"
          ],
          "name": "stdout"
        }
      ]
    },
    {
      "cell_type": "code",
      "metadata": {
        "id": "m4TvQ5Snj1oL"
      },
      "source": [
        "a1=np.array([1, 3, 5, 7, 9])"
      ],
      "execution_count": 5,
      "outputs": []
    },
    {
      "cell_type": "code",
      "metadata": {
        "colab": {
          "base_uri": "https://localhost:8080/"
        },
        "id": "JNr7TjIPj6lL",
        "outputId": "42494207-5f22-45c0-a6c2-dbebe43b2fb8"
      },
      "source": [
        "print(a1)"
      ],
      "execution_count": 6,
      "outputs": [
        {
          "output_type": "stream",
          "text": [
            "[1 3 5 7 9]\n"
          ],
          "name": "stdout"
        }
      ]
    },
    {
      "cell_type": "code",
      "metadata": {
        "id": "cTnoEPC2j_qk"
      },
      "source": [
        "a2=np.array([[1, 2, 3],\r\n",
        "            [4, 5, 6],\r\n",
        "            [7, 8, 9]])"
      ],
      "execution_count": 9,
      "outputs": []
    },
    {
      "cell_type": "code",
      "metadata": {
        "colab": {
          "base_uri": "https://localhost:8080/"
        },
        "id": "b6LF-rPJkLlU",
        "outputId": "bc620c11-8894-4ffb-b4f8-9d49cb3181f6"
      },
      "source": [
        "print(a2)"
      ],
      "execution_count": 10,
      "outputs": [
        {
          "output_type": "stream",
          "text": [
            "[[1 2 3]\n",
            " [4 5 6]\n",
            " [7 8 9]]\n"
          ],
          "name": "stdout"
        }
      ]
    },
    {
      "cell_type": "code",
      "metadata": {
        "colab": {
          "base_uri": "https://localhost:8080/"
        },
        "id": "l83Du-WmkWVY",
        "outputId": "8706205d-d82e-4712-c74e-323f1765c868"
      },
      "source": [
        "a3 = np.array([[[1, 2], \r\n",
        "                [3, 4]], \r\n",
        "               [[5, 6], \r\n",
        "               [7, 8]], \r\n",
        "              [[9, 10], \r\n",
        "               [11, 12]]])\r\n",
        "print(a3)"
      ],
      "execution_count": 15,
      "outputs": [
        {
          "output_type": "stream",
          "text": [
            "[[[ 1  2]\n",
            "  [ 3  4]]\n",
            "\n",
            " [[ 5  6]\n",
            "  [ 7  8]]\n",
            "\n",
            " [[ 9 10]\n",
            "  [11 12]]]\n"
          ],
          "name": "stdout"
        }
      ]
    },
    {
      "cell_type": "code",
      "metadata": {
        "colab": {
          "base_uri": "https://localhost:8080/"
        },
        "id": "qyfEGrS2kpnu",
        "outputId": "be951874-c4b0-47bf-9e9f-b07e7f675cd8"
      },
      "source": [
        "AR = np.array([1, 2, 3, 4, 5, 6, 7, 8, 9, 10, 11, 12])\r\n",
        "print(AR)"
      ],
      "execution_count": 16,
      "outputs": [
        {
          "output_type": "stream",
          "text": [
            "[ 1  2  3  4  5  6  7  8  9 10 11 12]\n"
          ],
          "name": "stdout"
        }
      ]
    },
    {
      "cell_type": "code",
      "metadata": {
        "colab": {
          "base_uri": "https://localhost:8080/"
        },
        "id": "G_yhVpk8k-fP",
        "outputId": "7eb48802-eae7-4dfd-f4ef-7e887715f96a"
      },
      "source": [
        "AR.shape"
      ],
      "execution_count": 17,
      "outputs": [
        {
          "output_type": "execute_result",
          "data": {
            "text/plain": [
              "(12,)"
            ]
          },
          "metadata": {
            "tags": []
          },
          "execution_count": 17
        }
      ]
    },
    {
      "cell_type": "code",
      "metadata": {
        "id": "BDrNmWnOlAsc"
      },
      "source": [
        "AR2 = AR.reshape(3, 4)"
      ],
      "execution_count": 18,
      "outputs": []
    },
    {
      "cell_type": "code",
      "metadata": {
        "colab": {
          "base_uri": "https://localhost:8080/"
        },
        "id": "aUL8K9jXlFDd",
        "outputId": "6d084761-3b10-45ed-b5b8-1d9afd251201"
      },
      "source": [
        "print(AR2)"
      ],
      "execution_count": 19,
      "outputs": [
        {
          "output_type": "stream",
          "text": [
            "[[ 1  2  3  4]\n",
            " [ 5  6  7  8]\n",
            " [ 9 10 11 12]]\n"
          ],
          "name": "stdout"
        }
      ]
    },
    {
      "cell_type": "code",
      "metadata": {
        "colab": {
          "base_uri": "https://localhost:8080/"
        },
        "id": "abuUttPqlG_i",
        "outputId": "9a2612f3-24ab-4f4d-ec70-6b3266031063"
      },
      "source": [
        "AR2.shape"
      ],
      "execution_count": 20,
      "outputs": [
        {
          "output_type": "execute_result",
          "data": {
            "text/plain": [
              "(3, 4)"
            ]
          },
          "metadata": {
            "tags": []
          },
          "execution_count": 20
        }
      ]
    },
    {
      "cell_type": "code",
      "metadata": {
        "id": "hSBl9-BblMLA"
      },
      "source": [
        "AR3 = AR.reshape(3, 2, 2)"
      ],
      "execution_count": 22,
      "outputs": []
    },
    {
      "cell_type": "code",
      "metadata": {
        "colab": {
          "base_uri": "https://localhost:8080/"
        },
        "id": "Y9iiZxU1lV4v",
        "outputId": "a1ef4ec3-e103-45bb-b28b-4bfd8b8fd046"
      },
      "source": [
        "print(AR3)"
      ],
      "execution_count": 23,
      "outputs": [
        {
          "output_type": "stream",
          "text": [
            "[[[ 1  2]\n",
            "  [ 3  4]]\n",
            "\n",
            " [[ 5  6]\n",
            "  [ 7  8]]\n",
            "\n",
            " [[ 9 10]\n",
            "  [11 12]]]\n"
          ],
          "name": "stdout"
        }
      ]
    },
    {
      "cell_type": "code",
      "metadata": {
        "colab": {
          "base_uri": "https://localhost:8080/"
        },
        "id": "pBXWok0BlZKx",
        "outputId": "e8e2bddd-d572-4278-c5c3-c64243feef76"
      },
      "source": [
        "AR3.shape"
      ],
      "execution_count": 24,
      "outputs": [
        {
          "output_type": "execute_result",
          "data": {
            "text/plain": [
              "(3, 2, 2)"
            ]
          },
          "metadata": {
            "tags": []
          },
          "execution_count": 24
        }
      ]
    },
    {
      "cell_type": "code",
      "metadata": {
        "colab": {
          "base_uri": "https://localhost:8080/"
        },
        "id": "vuJQ6mAGla5m",
        "outputId": "f28ab5b9-4cf1-455d-9f20-ff8d94d5f11a"
      },
      "source": [
        "np.arange(1, 10)"
      ],
      "execution_count": 25,
      "outputs": [
        {
          "output_type": "execute_result",
          "data": {
            "text/plain": [
              "array([1, 2, 3, 4, 5, 6, 7, 8, 9])"
            ]
          },
          "metadata": {
            "tags": []
          },
          "execution_count": 25
        }
      ]
    },
    {
      "cell_type": "code",
      "metadata": {
        "colab": {
          "base_uri": "https://localhost:8080/"
        },
        "id": "nhgH38eSld4S",
        "outputId": "0e65a7f9-7b3f-46d7-cd36-ddd6fb709e15"
      },
      "source": [
        "np.arange(1, 10). reshape(3,3)"
      ],
      "execution_count": 26,
      "outputs": [
        {
          "output_type": "execute_result",
          "data": {
            "text/plain": [
              "array([[1, 2, 3],\n",
              "       [4, 5, 6],\n",
              "       [7, 8, 9]])"
            ]
          },
          "metadata": {
            "tags": []
          },
          "execution_count": 26
        }
      ]
    },
    {
      "cell_type": "code",
      "metadata": {
        "colab": {
          "base_uri": "https://localhost:8080/"
        },
        "id": "FMotiXFTlixQ",
        "outputId": "a19168f9-3d8e-4a71-b93c-eaa6da9cc87f"
      },
      "source": [
        "np.zeros(9)"
      ],
      "execution_count": 27,
      "outputs": [
        {
          "output_type": "execute_result",
          "data": {
            "text/plain": [
              "array([0., 0., 0., 0., 0., 0., 0., 0., 0.])"
            ]
          },
          "metadata": {
            "tags": []
          },
          "execution_count": 27
        }
      ]
    },
    {
      "cell_type": "code",
      "metadata": {
        "colab": {
          "base_uri": "https://localhost:8080/"
        },
        "id": "tBVCK8dnlk5p",
        "outputId": "a239875b-6b4c-4bbd-82f8-2ce9c0a14021"
      },
      "source": [
        "np.ones(9)"
      ],
      "execution_count": 28,
      "outputs": [
        {
          "output_type": "execute_result",
          "data": {
            "text/plain": [
              "array([1., 1., 1., 1., 1., 1., 1., 1., 1.])"
            ]
          },
          "metadata": {
            "tags": []
          },
          "execution_count": 28
        }
      ]
    },
    {
      "cell_type": "code",
      "metadata": {
        "colab": {
          "base_uri": "https://localhost:8080/"
        },
        "id": "JvZIwQBRlmt1",
        "outputId": "147865bd-b024-4c63-e316-e7ccc165b09f"
      },
      "source": [
        "np.zeros([3, 4])"
      ],
      "execution_count": 29,
      "outputs": [
        {
          "output_type": "execute_result",
          "data": {
            "text/plain": [
              "array([[0., 0., 0., 0.],\n",
              "       [0., 0., 0., 0.],\n",
              "       [0., 0., 0., 0.]])"
            ]
          },
          "metadata": {
            "tags": []
          },
          "execution_count": 29
        }
      ]
    },
    {
      "cell_type": "code",
      "metadata": {
        "colab": {
          "base_uri": "https://localhost:8080/"
        },
        "id": "JbWbDA8Alp2D",
        "outputId": "0d8be844-54e9-4398-a2fe-834dee2f64e6"
      },
      "source": [
        "np.ones([4,3])"
      ],
      "execution_count": 30,
      "outputs": [
        {
          "output_type": "execute_result",
          "data": {
            "text/plain": [
              "array([[1., 1., 1.],\n",
              "       [1., 1., 1.],\n",
              "       [1., 1., 1.],\n",
              "       [1., 1., 1.]])"
            ]
          },
          "metadata": {
            "tags": []
          },
          "execution_count": 30
        }
      ]
    },
    {
      "cell_type": "code",
      "metadata": {
        "colab": {
          "base_uri": "https://localhost:8080/"
        },
        "id": "2Q5oou9vltDO",
        "outputId": "4216cf0a-6c65-45f5-c04b-ce85faf86e70"
      },
      "source": [
        "np.eye(3)"
      ],
      "execution_count": 31,
      "outputs": [
        {
          "output_type": "execute_result",
          "data": {
            "text/plain": [
              "array([[1., 0., 0.],\n",
              "       [0., 1., 0.],\n",
              "       [0., 0., 1.]])"
            ]
          },
          "metadata": {
            "tags": []
          },
          "execution_count": 31
        }
      ]
    },
    {
      "cell_type": "code",
      "metadata": {
        "colab": {
          "base_uri": "https://localhost:8080/"
        },
        "id": "yQzr1BZMlwtT",
        "outputId": "f69dbbf6-e674-47a9-ef06-29efbfb1a666"
      },
      "source": [
        "np.random.rand(3, 2, 2)"
      ],
      "execution_count": 32,
      "outputs": [
        {
          "output_type": "execute_result",
          "data": {
            "text/plain": [
              "array([[[0.72755756, 0.49942426],\n",
              "        [0.05275641, 0.08172821]],\n",
              "\n",
              "       [[0.17107548, 0.86694635],\n",
              "        [0.66027466, 0.30588281]],\n",
              "\n",
              "       [[0.39025259, 0.06341352],\n",
              "        [0.08905015, 0.08797753]]])"
            ]
          },
          "metadata": {
            "tags": []
          },
          "execution_count": 32
        }
      ]
    },
    {
      "cell_type": "code",
      "metadata": {
        "colab": {
          "base_uri": "https://localhost:8080/"
        },
        "id": "LiN79MZtmBAL",
        "outputId": "a742b672-99a5-4818-958e-13b65aa4d0f5"
      },
      "source": [
        "np.random.randint(1, 45, size = (5, 6))"
      ],
      "execution_count": 34,
      "outputs": [
        {
          "output_type": "execute_result",
          "data": {
            "text/plain": [
              "array([[37, 13,  7, 43, 35, 27],\n",
              "       [28, 33, 34,  2,  7,  6],\n",
              "       [18,  4, 35, 38, 41, 29],\n",
              "       [19, 16,  6, 27, 21, 14],\n",
              "       [31, 29, 36,  8,  1, 27]])"
            ]
          },
          "metadata": {
            "tags": []
          },
          "execution_count": 34
        }
      ]
    },
    {
      "cell_type": "code",
      "metadata": {
        "id": "vGD5Ox9KmFnl"
      },
      "source": [
        "np.random.seed(2045)"
      ],
      "execution_count": 35,
      "outputs": []
    },
    {
      "cell_type": "code",
      "metadata": {
        "colab": {
          "base_uri": "https://localhost:8080/"
        },
        "id": "tiFUaMWgmKlV",
        "outputId": "ea57fa5e-7c2e-44a0-c818-ee7af9bfb685"
      },
      "source": [
        "np.random.choice(np.arange(1, 46), size = (5, 6), replace = False)\r\n",
        "#replace = False 는 중복 허용 X"
      ],
      "execution_count": 39,
      "outputs": [
        {
          "output_type": "execute_result",
          "data": {
            "text/plain": [
              "array([[12, 15, 40,  6, 36, 37],\n",
              "       [44, 11, 19, 22,  8, 31],\n",
              "       [42, 39, 43, 33,  2,  1],\n",
              "       [30,  5, 26,  7,  9, 17],\n",
              "       [14,  3, 16, 38, 24, 35]])"
            ]
          },
          "metadata": {
            "tags": []
          },
          "execution_count": 39
        }
      ]
    },
    {
      "cell_type": "code",
      "metadata": {
        "id": "s8kkr4n2mUsh"
      },
      "source": [
        "a1 = np.array([1, 3, 5, 7, 9])\r\n",
        "a2 = np.array([10, 30, 50, 70, 90])"
      ],
      "execution_count": 40,
      "outputs": []
    },
    {
      "cell_type": "code",
      "metadata": {
        "colab": {
          "base_uri": "https://localhost:8080/"
        },
        "id": "GYMo6HzIml3u",
        "outputId": "e9b797ee-8e90-4fe2-9bd3-6799bd95c2f5"
      },
      "source": [
        "a1 + a2"
      ],
      "execution_count": 41,
      "outputs": [
        {
          "output_type": "execute_result",
          "data": {
            "text/plain": [
              "array([11, 33, 55, 77, 99])"
            ]
          },
          "metadata": {
            "tags": []
          },
          "execution_count": 41
        }
      ]
    },
    {
      "cell_type": "code",
      "metadata": {
        "colab": {
          "base_uri": "https://localhost:8080/"
        },
        "id": "S3V3VUiOmoIW",
        "outputId": "a74f6224-9a0a-4e3b-9d11-af98949f1d56"
      },
      "source": [
        "a2 - a1"
      ],
      "execution_count": 42,
      "outputs": [
        {
          "output_type": "execute_result",
          "data": {
            "text/plain": [
              "array([ 9, 27, 45, 63, 81])"
            ]
          },
          "metadata": {
            "tags": []
          },
          "execution_count": 42
        }
      ]
    },
    {
      "cell_type": "code",
      "metadata": {
        "colab": {
          "base_uri": "https://localhost:8080/"
        },
        "id": "uo6TUIOimpF-",
        "outputId": "e6a68b02-7118-48e0-9de6-27df195d5e41"
      },
      "source": [
        "a1 * a2"
      ],
      "execution_count": 43,
      "outputs": [
        {
          "output_type": "execute_result",
          "data": {
            "text/plain": [
              "array([ 10,  90, 250, 490, 810])"
            ]
          },
          "metadata": {
            "tags": []
          },
          "execution_count": 43
        }
      ]
    },
    {
      "cell_type": "code",
      "metadata": {
        "colab": {
          "base_uri": "https://localhost:8080/"
        },
        "id": "SvPrd5MRmxsm",
        "outputId": "56f30684-1295-4458-f16b-f437f3eae66e"
      },
      "source": [
        "a2/a1"
      ],
      "execution_count": 44,
      "outputs": [
        {
          "output_type": "execute_result",
          "data": {
            "text/plain": [
              "array([10., 10., 10., 10., 10.])"
            ]
          },
          "metadata": {
            "tags": []
          },
          "execution_count": 44
        }
      ]
    },
    {
      "cell_type": "code",
      "metadata": {
        "colab": {
          "base_uri": "https://localhost:8080/"
        },
        "id": "eQSo6b5ImzbY",
        "outputId": "3ae1dc4b-1b26-4306-deb7-c4da9a09026d"
      },
      "source": [
        "a1 * 3"
      ],
      "execution_count": 45,
      "outputs": [
        {
          "output_type": "execute_result",
          "data": {
            "text/plain": [
              "array([ 3,  9, 15, 21, 27])"
            ]
          },
          "metadata": {
            "tags": []
          },
          "execution_count": 45
        }
      ]
    },
    {
      "cell_type": "code",
      "metadata": {
        "colab": {
          "base_uri": "https://localhost:8080/"
        },
        "id": "-VNN57nNm0n0",
        "outputId": "a1372f40-b9bb-478f-839f-dcf4b39ee426"
      },
      "source": [
        "a1 ** 2"
      ],
      "execution_count": 46,
      "outputs": [
        {
          "output_type": "execute_result",
          "data": {
            "text/plain": [
              "array([ 1,  9, 25, 49, 81])"
            ]
          },
          "metadata": {
            "tags": []
          },
          "execution_count": 46
        }
      ]
    },
    {
      "cell_type": "code",
      "metadata": {
        "colab": {
          "base_uri": "https://localhost:8080/"
        },
        "id": "b2fTtGM-m1fc",
        "outputId": "fb9a2db4-9639-463c-dcc8-cec638e3a42e"
      },
      "source": [
        "a1.sum()"
      ],
      "execution_count": 47,
      "outputs": [
        {
          "output_type": "execute_result",
          "data": {
            "text/plain": [
              "25"
            ]
          },
          "metadata": {
            "tags": []
          },
          "execution_count": 47
        }
      ]
    },
    {
      "cell_type": "code",
      "metadata": {
        "colab": {
          "base_uri": "https://localhost:8080/"
        },
        "id": "wgCeUe52m37r",
        "outputId": "cda0853e-f290-4137-9684-74c942ff6945"
      },
      "source": [
        "a2.mean()"
      ],
      "execution_count": 48,
      "outputs": [
        {
          "output_type": "execute_result",
          "data": {
            "text/plain": [
              "50.0"
            ]
          },
          "metadata": {
            "tags": []
          },
          "execution_count": 48
        }
      ]
    },
    {
      "cell_type": "code",
      "metadata": {
        "colab": {
          "base_uri": "https://localhost:8080/"
        },
        "id": "MJ4Ft4uWm5NT",
        "outputId": "a342c857-cd1a-4438-b9c5-6a8fd1808a68"
      },
      "source": [
        "a2.var()"
      ],
      "execution_count": 49,
      "outputs": [
        {
          "output_type": "execute_result",
          "data": {
            "text/plain": [
              "800.0"
            ]
          },
          "metadata": {
            "tags": []
          },
          "execution_count": 49
        }
      ]
    },
    {
      "cell_type": "code",
      "metadata": {
        "colab": {
          "base_uri": "https://localhost:8080/"
        },
        "id": "2spCAQEjm6Mi",
        "outputId": "3740aa3e-068e-49e9-f259-98273bc66f90"
      },
      "source": [
        "a2.std()"
      ],
      "execution_count": 50,
      "outputs": [
        {
          "output_type": "execute_result",
          "data": {
            "text/plain": [
              "28.284271247461902"
            ]
          },
          "metadata": {
            "tags": []
          },
          "execution_count": 50
        }
      ]
    },
    {
      "cell_type": "code",
      "metadata": {
        "colab": {
          "base_uri": "https://localhost:8080/"
        },
        "id": "_oselkgUm7ZS",
        "outputId": "2c31cc11-5def-4e40-d659-1f64123b57c6"
      },
      "source": [
        "a2.min()"
      ],
      "execution_count": 51,
      "outputs": [
        {
          "output_type": "execute_result",
          "data": {
            "text/plain": [
              "10"
            ]
          },
          "metadata": {
            "tags": []
          },
          "execution_count": 51
        }
      ]
    },
    {
      "cell_type": "code",
      "metadata": {
        "colab": {
          "base_uri": "https://localhost:8080/"
        },
        "id": "hYgucEKVm9vX",
        "outputId": "9cbe38bc-5219-4253-f8a6-f323bd871514"
      },
      "source": [
        "a2.max()"
      ],
      "execution_count": 52,
      "outputs": [
        {
          "output_type": "execute_result",
          "data": {
            "text/plain": [
              "90"
            ]
          },
          "metadata": {
            "tags": []
          },
          "execution_count": 52
        }
      ]
    },
    {
      "cell_type": "code",
      "metadata": {
        "colab": {
          "base_uri": "https://localhost:8080/"
        },
        "id": "9Ve9qYUsnFJ7",
        "outputId": "24c34651-e1ca-4d61-cb6c-cf1e36ef8900"
      },
      "source": [
        "a1.cumsum()"
      ],
      "execution_count": 53,
      "outputs": [
        {
          "output_type": "execute_result",
          "data": {
            "text/plain": [
              "array([ 1,  4,  9, 16, 25])"
            ]
          },
          "metadata": {
            "tags": []
          },
          "execution_count": 53
        }
      ]
    },
    {
      "cell_type": "code",
      "metadata": {
        "colab": {
          "base_uri": "https://localhost:8080/"
        },
        "id": "ntssbS43nHTD",
        "outputId": "f9a9907a-b347-4105-aba1-24a5113c2167"
      },
      "source": [
        "a1.cumprod()"
      ],
      "execution_count": 54,
      "outputs": [
        {
          "output_type": "execute_result",
          "data": {
            "text/plain": [
              "array([  1,   3,  15, 105, 945])"
            ]
          },
          "metadata": {
            "tags": []
          },
          "execution_count": 54
        }
      ]
    },
    {
      "cell_type": "code",
      "metadata": {
        "id": "TIFBd6nGnKQw"
      },
      "source": [
        "A1 = np.array([2, 4, 6, 8]).reshape(2,2)"
      ],
      "execution_count": 55,
      "outputs": []
    },
    {
      "cell_type": "code",
      "metadata": {
        "colab": {
          "base_uri": "https://localhost:8080/"
        },
        "id": "meSLMipHnZTm",
        "outputId": "04dc9bae-48f2-4189-ded5-fe0a9e4f3b90"
      },
      "source": [
        "print(A1)"
      ],
      "execution_count": 56,
      "outputs": [
        {
          "output_type": "stream",
          "text": [
            "[[2 4]\n",
            " [6 8]]\n"
          ],
          "name": "stdout"
        }
      ]
    },
    {
      "cell_type": "code",
      "metadata": {
        "id": "AyCYfNqcnaq3"
      },
      "source": [
        "A2= np.array([3, 5, 7, 8]).reshape(2, 2)"
      ],
      "execution_count": 57,
      "outputs": []
    },
    {
      "cell_type": "code",
      "metadata": {
        "colab": {
          "base_uri": "https://localhost:8080/"
        },
        "id": "j0_0nMx2nhbR",
        "outputId": "42c8382a-1b58-4dc9-bb73-5519a7cfcc67"
      },
      "source": [
        "print(A2)"
      ],
      "execution_count": 58,
      "outputs": [
        {
          "output_type": "stream",
          "text": [
            "[[3 5]\n",
            " [7 8]]\n"
          ],
          "name": "stdout"
        }
      ]
    },
    {
      "cell_type": "code",
      "metadata": {
        "colab": {
          "base_uri": "https://localhost:8080/"
        },
        "id": "mP7mVKcbniyl",
        "outputId": "0ff9062c-74be-42eb-e44f-b6cf4e89b7fc"
      },
      "source": [
        "A1.dot(A2)"
      ],
      "execution_count": 59,
      "outputs": [
        {
          "output_type": "execute_result",
          "data": {
            "text/plain": [
              "array([[34, 42],\n",
              "       [74, 94]])"
            ]
          },
          "metadata": {
            "tags": []
          },
          "execution_count": 59
        }
      ]
    },
    {
      "cell_type": "code",
      "metadata": {
        "colab": {
          "base_uri": "https://localhost:8080/"
        },
        "id": "MSR3Avlgnkij",
        "outputId": "ad36fdec-9881-4897-fbf8-3ba7b00c3841"
      },
      "source": [
        "np.dot(A2, A1)"
      ],
      "execution_count": 60,
      "outputs": [
        {
          "output_type": "execute_result",
          "data": {
            "text/plain": [
              "array([[36, 52],\n",
              "       [62, 92]])"
            ]
          },
          "metadata": {
            "tags": []
          },
          "execution_count": 60
        }
      ]
    },
    {
      "cell_type": "code",
      "metadata": {
        "colab": {
          "base_uri": "https://localhost:8080/"
        },
        "id": "v8XkoeOinoAH",
        "outputId": "72188c29-1af1-4969-d105-fb3cc826cd44"
      },
      "source": [
        "A1 * A2"
      ],
      "execution_count": 61,
      "outputs": [
        {
          "output_type": "execute_result",
          "data": {
            "text/plain": [
              "array([[ 6, 20],\n",
              "       [42, 64]])"
            ]
          },
          "metadata": {
            "tags": []
          },
          "execution_count": 61
        }
      ]
    },
    {
      "cell_type": "code",
      "metadata": {
        "colab": {
          "base_uri": "https://localhost:8080/"
        },
        "id": "6BK1AEEunpe9",
        "outputId": "bb88e8c1-19fe-4e25-ae99-2917094ef04d"
      },
      "source": [
        "np.transpose(A1)"
      ],
      "execution_count": 62,
      "outputs": [
        {
          "output_type": "execute_result",
          "data": {
            "text/plain": [
              "array([[2, 6],\n",
              "       [4, 8]])"
            ]
          },
          "metadata": {
            "tags": []
          },
          "execution_count": 62
        }
      ]
    },
    {
      "cell_type": "code",
      "metadata": {
        "colab": {
          "base_uri": "https://localhost:8080/"
        },
        "id": "ah3-bXZNnrTI",
        "outputId": "189fd272-f2fd-4d87-a7bb-97be7a7a028b"
      },
      "source": [
        "A2.transpose()"
      ],
      "execution_count": 63,
      "outputs": [
        {
          "output_type": "execute_result",
          "data": {
            "text/plain": [
              "array([[3, 7],\n",
              "       [5, 8]])"
            ]
          },
          "metadata": {
            "tags": []
          },
          "execution_count": 63
        }
      ]
    },
    {
      "cell_type": "code",
      "metadata": {
        "colab": {
          "base_uri": "https://localhost:8080/"
        },
        "id": "ZKJvTgiInsmY",
        "outputId": "35887963-64b9-42b2-b5dc-f69d6e9dbeae"
      },
      "source": [
        "!ls -l"
      ],
      "execution_count": 64,
      "outputs": [
        {
          "output_type": "stream",
          "text": [
            "total 20\n",
            "-rw-r--r-- 1 root root   723 Feb 22 08:31 PII.csv\n",
            "-rw-r--r-- 1 root root 11370 Feb 22 08:31 PII.xlsx\n",
            "drwxr-xr-x 1 root root  4096 Feb 16 16:35 sample_data\n"
          ],
          "name": "stdout"
        }
      ]
    },
    {
      "cell_type": "code",
      "metadata": {
        "id": "LMA7f56c3ZxG"
      },
      "source": [
        "import pandas as pd"
      ],
      "execution_count": 65,
      "outputs": []
    },
    {
      "cell_type": "code",
      "metadata": {
        "id": "7tJSrpSU3c3D"
      },
      "source": [
        "DF1 = pd.read_csv('PII.csv')"
      ],
      "execution_count": 67,
      "outputs": []
    },
    {
      "cell_type": "code",
      "metadata": {
        "colab": {
          "base_uri": "https://localhost:8080/",
          "height": 557
        },
        "id": "Yj-xn8BE3iff",
        "outputId": "0b84b327-b9a3-49ae-afa5-704c55fa97b5"
      },
      "source": [
        "DF1"
      ],
      "execution_count": 68,
      "outputs": [
        {
          "output_type": "execute_result",
          "data": {
            "text/html": [
              "<div>\n",
              "<style scoped>\n",
              "    .dataframe tbody tr th:only-of-type {\n",
              "        vertical-align: middle;\n",
              "    }\n",
              "\n",
              "    .dataframe tbody tr th {\n",
              "        vertical-align: top;\n",
              "    }\n",
              "\n",
              "    .dataframe thead th {\n",
              "        text-align: right;\n",
              "    }\n",
              "</style>\n",
              "<table border=\"1\" class=\"dataframe\">\n",
              "  <thead>\n",
              "    <tr style=\"text-align: right;\">\n",
              "      <th></th>\n",
              "      <th>Name</th>\n",
              "      <th>Gender</th>\n",
              "      <th>Age</th>\n",
              "      <th>Grade</th>\n",
              "      <th>Picture</th>\n",
              "      <th>BloodType</th>\n",
              "      <th>Height</th>\n",
              "      <th>Weight</th>\n",
              "    </tr>\n",
              "  </thead>\n",
              "  <tbody>\n",
              "    <tr>\n",
              "      <th>0</th>\n",
              "      <td>송태섭</td>\n",
              "      <td>남자</td>\n",
              "      <td>21</td>\n",
              "      <td>3</td>\n",
              "      <td>무</td>\n",
              "      <td>B</td>\n",
              "      <td>179.1</td>\n",
              "      <td>63.9</td>\n",
              "    </tr>\n",
              "    <tr>\n",
              "      <th>1</th>\n",
              "      <td>최유정</td>\n",
              "      <td>여자</td>\n",
              "      <td>23</td>\n",
              "      <td>1</td>\n",
              "      <td>유</td>\n",
              "      <td>A</td>\n",
              "      <td>177.1</td>\n",
              "      <td>54.9</td>\n",
              "    </tr>\n",
              "    <tr>\n",
              "      <th>2</th>\n",
              "      <td>이한나</td>\n",
              "      <td>여자</td>\n",
              "      <td>20</td>\n",
              "      <td>1</td>\n",
              "      <td>무</td>\n",
              "      <td>A</td>\n",
              "      <td>167.9</td>\n",
              "      <td>50.2</td>\n",
              "    </tr>\n",
              "    <tr>\n",
              "      <th>3</th>\n",
              "      <td>김소혜</td>\n",
              "      <td>여자</td>\n",
              "      <td>23</td>\n",
              "      <td>3</td>\n",
              "      <td>무</td>\n",
              "      <td>O</td>\n",
              "      <td>176.1</td>\n",
              "      <td>53.5</td>\n",
              "    </tr>\n",
              "    <tr>\n",
              "      <th>4</th>\n",
              "      <td>서태웅</td>\n",
              "      <td>남자</td>\n",
              "      <td>24</td>\n",
              "      <td>4</td>\n",
              "      <td>무</td>\n",
              "      <td>B</td>\n",
              "      <td>176.1</td>\n",
              "      <td>79.8</td>\n",
              "    </tr>\n",
              "    <tr>\n",
              "      <th>5</th>\n",
              "      <td>정대만</td>\n",
              "      <td>남자</td>\n",
              "      <td>24</td>\n",
              "      <td>2</td>\n",
              "      <td>유</td>\n",
              "      <td>B</td>\n",
              "      <td>175.2</td>\n",
              "      <td>61.7</td>\n",
              "    </tr>\n",
              "    <tr>\n",
              "      <th>6</th>\n",
              "      <td>이정환</td>\n",
              "      <td>남자</td>\n",
              "      <td>22</td>\n",
              "      <td>4</td>\n",
              "      <td>무</td>\n",
              "      <td>B</td>\n",
              "      <td>169.1</td>\n",
              "      <td>69.8</td>\n",
              "    </tr>\n",
              "    <tr>\n",
              "      <th>7</th>\n",
              "      <td>채소연</td>\n",
              "      <td>여자</td>\n",
              "      <td>22</td>\n",
              "      <td>2</td>\n",
              "      <td>유</td>\n",
              "      <td>AB</td>\n",
              "      <td>169.9</td>\n",
              "      <td>52.7</td>\n",
              "    </tr>\n",
              "    <tr>\n",
              "      <th>8</th>\n",
              "      <td>강백호</td>\n",
              "      <td>남자</td>\n",
              "      <td>23</td>\n",
              "      <td>3</td>\n",
              "      <td>무</td>\n",
              "      <td>O</td>\n",
              "      <td>165.5</td>\n",
              "      <td>68.5</td>\n",
              "    </tr>\n",
              "    <tr>\n",
              "      <th>9</th>\n",
              "      <td>전소미</td>\n",
              "      <td>여자</td>\n",
              "      <td>22</td>\n",
              "      <td>2</td>\n",
              "      <td>유</td>\n",
              "      <td>O</td>\n",
              "      <td>161.9</td>\n",
              "      <td>52.3</td>\n",
              "    </tr>\n",
              "    <tr>\n",
              "      <th>10</th>\n",
              "      <td>변덕규</td>\n",
              "      <td>남자</td>\n",
              "      <td>21</td>\n",
              "      <td>1</td>\n",
              "      <td>무</td>\n",
              "      <td>A</td>\n",
              "      <td>163.2</td>\n",
              "      <td>55.5</td>\n",
              "    </tr>\n",
              "    <tr>\n",
              "      <th>11</th>\n",
              "      <td>정채연</td>\n",
              "      <td>여자</td>\n",
              "      <td>22</td>\n",
              "      <td>2</td>\n",
              "      <td>무</td>\n",
              "      <td>B</td>\n",
              "      <td>157.8</td>\n",
              "      <td>44.9</td>\n",
              "    </tr>\n",
              "    <tr>\n",
              "      <th>12</th>\n",
              "      <td>권준호</td>\n",
              "      <td>남자</td>\n",
              "      <td>24</td>\n",
              "      <td>4</td>\n",
              "      <td>유</td>\n",
              "      <td>O</td>\n",
              "      <td>166.9</td>\n",
              "      <td>61.7</td>\n",
              "    </tr>\n",
              "    <tr>\n",
              "      <th>13</th>\n",
              "      <td>채치수</td>\n",
              "      <td>남자</td>\n",
              "      <td>23</td>\n",
              "      <td>3</td>\n",
              "      <td>무</td>\n",
              "      <td>AB</td>\n",
              "      <td>181.8</td>\n",
              "      <td>85.9</td>\n",
              "    </tr>\n",
              "    <tr>\n",
              "      <th>14</th>\n",
              "      <td>윤대협</td>\n",
              "      <td>남자</td>\n",
              "      <td>22</td>\n",
              "      <td>2</td>\n",
              "      <td>유</td>\n",
              "      <td>AB</td>\n",
              "      <td>180.3</td>\n",
              "      <td>76.2</td>\n",
              "    </tr>\n",
              "    <tr>\n",
              "      <th>15</th>\n",
              "      <td>김세정</td>\n",
              "      <td>여자</td>\n",
              "      <td>21</td>\n",
              "      <td>1</td>\n",
              "      <td>무</td>\n",
              "      <td>O</td>\n",
              "      <td>155.5</td>\n",
              "      <td>44.9</td>\n",
              "    </tr>\n",
              "    <tr>\n",
              "      <th>16</th>\n",
              "      <td>신준섭</td>\n",
              "      <td>남자</td>\n",
              "      <td>23</td>\n",
              "      <td>1</td>\n",
              "      <td>무</td>\n",
              "      <td>A</td>\n",
              "      <td>168.9</td>\n",
              "      <td>62.7</td>\n",
              "    </tr>\n",
              "  </tbody>\n",
              "</table>\n",
              "</div>"
            ],
            "text/plain": [
              "   Name Gender  Age  Grade Picture BloodType  Height  Weight\n",
              "0   송태섭     남자   21      3       무         B   179.1    63.9\n",
              "1   최유정     여자   23      1       유         A   177.1    54.9\n",
              "2   이한나     여자   20      1       무         A   167.9    50.2\n",
              "3   김소혜     여자   23      3       무         O   176.1    53.5\n",
              "4   서태웅     남자   24      4       무         B   176.1    79.8\n",
              "5   정대만     남자   24      2       유         B   175.2    61.7\n",
              "6   이정환     남자   22      4       무         B   169.1    69.8\n",
              "7   채소연     여자   22      2       유        AB   169.9    52.7\n",
              "8   강백호     남자   23      3       무         O   165.5    68.5\n",
              "9   전소미     여자   22      2       유         O   161.9    52.3\n",
              "10  변덕규     남자   21      1       무         A   163.2    55.5\n",
              "11  정채연     여자   22      2       무         B   157.8    44.9\n",
              "12  권준호     남자   24      4       유         O   166.9    61.7\n",
              "13  채치수     남자   23      3       무        AB   181.8    85.9\n",
              "14  윤대협     남자   22      2       유        AB   180.3    76.2\n",
              "15  김세정     여자   21      1       무         O   155.5    44.9\n",
              "16  신준섭     남자   23      1       무         A   168.9    62.7"
            ]
          },
          "metadata": {
            "tags": []
          },
          "execution_count": 68
        }
      ]
    },
    {
      "cell_type": "code",
      "metadata": {
        "id": "iQwt2fae3miv"
      },
      "source": [
        "DF2 = pd.read_excel('PII.xlsx')"
      ],
      "execution_count": 69,
      "outputs": []
    },
    {
      "cell_type": "code",
      "metadata": {
        "colab": {
          "base_uri": "https://localhost:8080/",
          "height": 557
        },
        "id": "1TzNCDeG3srq",
        "outputId": "d7c58f97-38ac-4d04-dffa-a02644530bd9"
      },
      "source": [
        "DF2"
      ],
      "execution_count": 70,
      "outputs": [
        {
          "output_type": "execute_result",
          "data": {
            "text/html": [
              "<div>\n",
              "<style scoped>\n",
              "    .dataframe tbody tr th:only-of-type {\n",
              "        vertical-align: middle;\n",
              "    }\n",
              "\n",
              "    .dataframe tbody tr th {\n",
              "        vertical-align: top;\n",
              "    }\n",
              "\n",
              "    .dataframe thead th {\n",
              "        text-align: right;\n",
              "    }\n",
              "</style>\n",
              "<table border=\"1\" class=\"dataframe\">\n",
              "  <thead>\n",
              "    <tr style=\"text-align: right;\">\n",
              "      <th></th>\n",
              "      <th>Name</th>\n",
              "      <th>Gender</th>\n",
              "      <th>Age</th>\n",
              "      <th>Grade</th>\n",
              "      <th>Picture</th>\n",
              "      <th>BloodType</th>\n",
              "      <th>Height</th>\n",
              "      <th>Weight</th>\n",
              "    </tr>\n",
              "  </thead>\n",
              "  <tbody>\n",
              "    <tr>\n",
              "      <th>0</th>\n",
              "      <td>송태섭</td>\n",
              "      <td>남자</td>\n",
              "      <td>21</td>\n",
              "      <td>3</td>\n",
              "      <td>무</td>\n",
              "      <td>B</td>\n",
              "      <td>179.1</td>\n",
              "      <td>63.9</td>\n",
              "    </tr>\n",
              "    <tr>\n",
              "      <th>1</th>\n",
              "      <td>최유정</td>\n",
              "      <td>여자</td>\n",
              "      <td>23</td>\n",
              "      <td>1</td>\n",
              "      <td>유</td>\n",
              "      <td>A</td>\n",
              "      <td>177.1</td>\n",
              "      <td>54.9</td>\n",
              "    </tr>\n",
              "    <tr>\n",
              "      <th>2</th>\n",
              "      <td>이한나</td>\n",
              "      <td>여자</td>\n",
              "      <td>20</td>\n",
              "      <td>1</td>\n",
              "      <td>무</td>\n",
              "      <td>A</td>\n",
              "      <td>167.9</td>\n",
              "      <td>50.2</td>\n",
              "    </tr>\n",
              "    <tr>\n",
              "      <th>3</th>\n",
              "      <td>김소혜</td>\n",
              "      <td>여자</td>\n",
              "      <td>23</td>\n",
              "      <td>3</td>\n",
              "      <td>무</td>\n",
              "      <td>O</td>\n",
              "      <td>176.1</td>\n",
              "      <td>53.5</td>\n",
              "    </tr>\n",
              "    <tr>\n",
              "      <th>4</th>\n",
              "      <td>서태웅</td>\n",
              "      <td>남자</td>\n",
              "      <td>24</td>\n",
              "      <td>4</td>\n",
              "      <td>무</td>\n",
              "      <td>B</td>\n",
              "      <td>176.1</td>\n",
              "      <td>79.8</td>\n",
              "    </tr>\n",
              "    <tr>\n",
              "      <th>5</th>\n",
              "      <td>정대만</td>\n",
              "      <td>남자</td>\n",
              "      <td>24</td>\n",
              "      <td>2</td>\n",
              "      <td>유</td>\n",
              "      <td>B</td>\n",
              "      <td>175.2</td>\n",
              "      <td>61.7</td>\n",
              "    </tr>\n",
              "    <tr>\n",
              "      <th>6</th>\n",
              "      <td>이정환</td>\n",
              "      <td>남자</td>\n",
              "      <td>22</td>\n",
              "      <td>4</td>\n",
              "      <td>무</td>\n",
              "      <td>B</td>\n",
              "      <td>169.1</td>\n",
              "      <td>69.8</td>\n",
              "    </tr>\n",
              "    <tr>\n",
              "      <th>7</th>\n",
              "      <td>채소연</td>\n",
              "      <td>여자</td>\n",
              "      <td>22</td>\n",
              "      <td>2</td>\n",
              "      <td>유</td>\n",
              "      <td>AB</td>\n",
              "      <td>169.9</td>\n",
              "      <td>52.7</td>\n",
              "    </tr>\n",
              "    <tr>\n",
              "      <th>8</th>\n",
              "      <td>강백호</td>\n",
              "      <td>남자</td>\n",
              "      <td>23</td>\n",
              "      <td>3</td>\n",
              "      <td>무</td>\n",
              "      <td>O</td>\n",
              "      <td>165.5</td>\n",
              "      <td>68.5</td>\n",
              "    </tr>\n",
              "    <tr>\n",
              "      <th>9</th>\n",
              "      <td>전소미</td>\n",
              "      <td>여자</td>\n",
              "      <td>22</td>\n",
              "      <td>2</td>\n",
              "      <td>유</td>\n",
              "      <td>O</td>\n",
              "      <td>161.9</td>\n",
              "      <td>52.3</td>\n",
              "    </tr>\n",
              "    <tr>\n",
              "      <th>10</th>\n",
              "      <td>변덕규</td>\n",
              "      <td>남자</td>\n",
              "      <td>21</td>\n",
              "      <td>1</td>\n",
              "      <td>무</td>\n",
              "      <td>A</td>\n",
              "      <td>163.2</td>\n",
              "      <td>55.5</td>\n",
              "    </tr>\n",
              "    <tr>\n",
              "      <th>11</th>\n",
              "      <td>정채연</td>\n",
              "      <td>여자</td>\n",
              "      <td>22</td>\n",
              "      <td>2</td>\n",
              "      <td>무</td>\n",
              "      <td>B</td>\n",
              "      <td>157.8</td>\n",
              "      <td>44.9</td>\n",
              "    </tr>\n",
              "    <tr>\n",
              "      <th>12</th>\n",
              "      <td>권준호</td>\n",
              "      <td>남자</td>\n",
              "      <td>24</td>\n",
              "      <td>4</td>\n",
              "      <td>유</td>\n",
              "      <td>O</td>\n",
              "      <td>166.9</td>\n",
              "      <td>61.7</td>\n",
              "    </tr>\n",
              "    <tr>\n",
              "      <th>13</th>\n",
              "      <td>채치수</td>\n",
              "      <td>남자</td>\n",
              "      <td>23</td>\n",
              "      <td>3</td>\n",
              "      <td>무</td>\n",
              "      <td>AB</td>\n",
              "      <td>181.8</td>\n",
              "      <td>85.9</td>\n",
              "    </tr>\n",
              "    <tr>\n",
              "      <th>14</th>\n",
              "      <td>윤대협</td>\n",
              "      <td>남자</td>\n",
              "      <td>22</td>\n",
              "      <td>2</td>\n",
              "      <td>유</td>\n",
              "      <td>AB</td>\n",
              "      <td>180.3</td>\n",
              "      <td>76.2</td>\n",
              "    </tr>\n",
              "    <tr>\n",
              "      <th>15</th>\n",
              "      <td>김세정</td>\n",
              "      <td>여자</td>\n",
              "      <td>21</td>\n",
              "      <td>1</td>\n",
              "      <td>무</td>\n",
              "      <td>O</td>\n",
              "      <td>155.5</td>\n",
              "      <td>44.9</td>\n",
              "    </tr>\n",
              "    <tr>\n",
              "      <th>16</th>\n",
              "      <td>신준섭</td>\n",
              "      <td>남자</td>\n",
              "      <td>23</td>\n",
              "      <td>1</td>\n",
              "      <td>무</td>\n",
              "      <td>A</td>\n",
              "      <td>168.9</td>\n",
              "      <td>62.7</td>\n",
              "    </tr>\n",
              "  </tbody>\n",
              "</table>\n",
              "</div>"
            ],
            "text/plain": [
              "   Name Gender  Age  Grade Picture BloodType  Height  Weight\n",
              "0   송태섭     남자   21      3       무         B   179.1    63.9\n",
              "1   최유정     여자   23      1       유         A   177.1    54.9\n",
              "2   이한나     여자   20      1       무         A   167.9    50.2\n",
              "3   김소혜     여자   23      3       무         O   176.1    53.5\n",
              "4   서태웅     남자   24      4       무         B   176.1    79.8\n",
              "5   정대만     남자   24      2       유         B   175.2    61.7\n",
              "6   이정환     남자   22      4       무         B   169.1    69.8\n",
              "7   채소연     여자   22      2       유        AB   169.9    52.7\n",
              "8   강백호     남자   23      3       무         O   165.5    68.5\n",
              "9   전소미     여자   22      2       유         O   161.9    52.3\n",
              "10  변덕규     남자   21      1       무         A   163.2    55.5\n",
              "11  정채연     여자   22      2       무         B   157.8    44.9\n",
              "12  권준호     남자   24      4       유         O   166.9    61.7\n",
              "13  채치수     남자   23      3       무        AB   181.8    85.9\n",
              "14  윤대협     남자   22      2       유        AB   180.3    76.2\n",
              "15  김세정     여자   21      1       무         O   155.5    44.9\n",
              "16  신준섭     남자   23      1       무         A   168.9    62.7"
            ]
          },
          "metadata": {
            "tags": []
          },
          "execution_count": 70
        }
      ]
    },
    {
      "cell_type": "code",
      "metadata": {
        "colab": {
          "base_uri": "https://localhost:8080/"
        },
        "id": "D2JobFPM3uL6",
        "outputId": "113a5a20-b408-4270-92b6-6a0cf3486c6e"
      },
      "source": [
        "type(DF1)"
      ],
      "execution_count": 71,
      "outputs": [
        {
          "output_type": "execute_result",
          "data": {
            "text/plain": [
              "pandas.core.frame.DataFrame"
            ]
          },
          "metadata": {
            "tags": []
          },
          "execution_count": 71
        }
      ]
    },
    {
      "cell_type": "code",
      "metadata": {
        "colab": {
          "base_uri": "https://localhost:8080/"
        },
        "id": "gqTYw1HU3xYI",
        "outputId": "aac2c8c7-d875-4b4e-f159-b9ee500bd65b"
      },
      "source": [
        "DF1.index"
      ],
      "execution_count": 72,
      "outputs": [
        {
          "output_type": "execute_result",
          "data": {
            "text/plain": [
              "RangeIndex(start=0, stop=17, step=1)"
            ]
          },
          "metadata": {
            "tags": []
          },
          "execution_count": 72
        }
      ]
    },
    {
      "cell_type": "code",
      "metadata": {
        "colab": {
          "base_uri": "https://localhost:8080/"
        },
        "id": "7ACFDoKE3zRp",
        "outputId": "80336d81-bc28-4bb1-f0ae-c46458cff07f"
      },
      "source": [
        "DF1.columns"
      ],
      "execution_count": 73,
      "outputs": [
        {
          "output_type": "execute_result",
          "data": {
            "text/plain": [
              "Index(['Name', 'Gender', 'Age', 'Grade', 'Picture', 'BloodType', 'Height',\n",
              "       'Weight'],\n",
              "      dtype='object')"
            ]
          },
          "metadata": {
            "tags": []
          },
          "execution_count": 73
        }
      ]
    },
    {
      "cell_type": "code",
      "metadata": {
        "colab": {
          "base_uri": "https://localhost:8080/"
        },
        "id": "WzxJLUi730YA",
        "outputId": "1621f6d0-1672-4a3e-8e81-19ee2992155d"
      },
      "source": [
        "DF1.values"
      ],
      "execution_count": 74,
      "outputs": [
        {
          "output_type": "execute_result",
          "data": {
            "text/plain": [
              "array([['송태섭', '남자', 21, 3, '무', 'B', 179.1, 63.9],\n",
              "       ['최유정', '여자', 23, 1, '유', 'A', 177.1, 54.9],\n",
              "       ['이한나', '여자', 20, 1, '무', 'A', 167.9, 50.2],\n",
              "       ['김소혜', '여자', 23, 3, '무', 'O', 176.1, 53.5],\n",
              "       ['서태웅', '남자', 24, 4, '무', 'B', 176.1, 79.8],\n",
              "       ['정대만', '남자', 24, 2, '유', 'B', 175.2, 61.7],\n",
              "       ['이정환', '남자', 22, 4, '무', 'B', 169.1, 69.8],\n",
              "       ['채소연', '여자', 22, 2, '유', 'AB', 169.9, 52.7],\n",
              "       ['강백호', '남자', 23, 3, '무', 'O', 165.5, 68.5],\n",
              "       ['전소미', '여자', 22, 2, '유', 'O', 161.9, 52.3],\n",
              "       ['변덕규', '남자', 21, 1, '무', 'A', 163.2, 55.5],\n",
              "       ['정채연', '여자', 22, 2, '무', 'B', 157.8, 44.9],\n",
              "       ['권준호', '남자', 24, 4, '유', 'O', 166.9, 61.7],\n",
              "       ['채치수', '남자', 23, 3, '무', 'AB', 181.8, 85.9],\n",
              "       ['윤대협', '남자', 22, 2, '유', 'AB', 180.3, 76.2],\n",
              "       ['김세정', '여자', 21, 1, '무', 'O', 155.5, 44.9],\n",
              "       ['신준섭', '남자', 23, 1, '무', 'A', 168.9, 62.7]], dtype=object)"
            ]
          },
          "metadata": {
            "tags": []
          },
          "execution_count": 74
        }
      ]
    },
    {
      "cell_type": "code",
      "metadata": {
        "colab": {
          "base_uri": "https://localhost:8080/"
        },
        "id": "Vtc65gcB33X2",
        "outputId": "d0f32689-f4dc-46b7-f0ea-08ce67fd4f7d"
      },
      "source": [
        "DF1.info()"
      ],
      "execution_count": 75,
      "outputs": [
        {
          "output_type": "stream",
          "text": [
            "<class 'pandas.core.frame.DataFrame'>\n",
            "RangeIndex: 17 entries, 0 to 16\n",
            "Data columns (total 8 columns):\n",
            " #   Column     Non-Null Count  Dtype  \n",
            "---  ------     --------------  -----  \n",
            " 0   Name       17 non-null     object \n",
            " 1   Gender     17 non-null     object \n",
            " 2   Age        17 non-null     int64  \n",
            " 3   Grade      17 non-null     int64  \n",
            " 4   Picture    17 non-null     object \n",
            " 5   BloodType  17 non-null     object \n",
            " 6   Height     17 non-null     float64\n",
            " 7   Weight     17 non-null     float64\n",
            "dtypes: float64(2), int64(2), object(4)\n",
            "memory usage: 1.2+ KB\n"
          ],
          "name": "stdout"
        }
      ]
    },
    {
      "cell_type": "code",
      "metadata": {
        "colab": {
          "base_uri": "https://localhost:8080/",
          "height": 197
        },
        "id": "rWmd8gzB35qH",
        "outputId": "d2cf1423-6d55-4869-b55e-df0c14b46654"
      },
      "source": [
        "DF1.head()"
      ],
      "execution_count": 76,
      "outputs": [
        {
          "output_type": "execute_result",
          "data": {
            "text/html": [
              "<div>\n",
              "<style scoped>\n",
              "    .dataframe tbody tr th:only-of-type {\n",
              "        vertical-align: middle;\n",
              "    }\n",
              "\n",
              "    .dataframe tbody tr th {\n",
              "        vertical-align: top;\n",
              "    }\n",
              "\n",
              "    .dataframe thead th {\n",
              "        text-align: right;\n",
              "    }\n",
              "</style>\n",
              "<table border=\"1\" class=\"dataframe\">\n",
              "  <thead>\n",
              "    <tr style=\"text-align: right;\">\n",
              "      <th></th>\n",
              "      <th>Name</th>\n",
              "      <th>Gender</th>\n",
              "      <th>Age</th>\n",
              "      <th>Grade</th>\n",
              "      <th>Picture</th>\n",
              "      <th>BloodType</th>\n",
              "      <th>Height</th>\n",
              "      <th>Weight</th>\n",
              "    </tr>\n",
              "  </thead>\n",
              "  <tbody>\n",
              "    <tr>\n",
              "      <th>0</th>\n",
              "      <td>송태섭</td>\n",
              "      <td>남자</td>\n",
              "      <td>21</td>\n",
              "      <td>3</td>\n",
              "      <td>무</td>\n",
              "      <td>B</td>\n",
              "      <td>179.1</td>\n",
              "      <td>63.9</td>\n",
              "    </tr>\n",
              "    <tr>\n",
              "      <th>1</th>\n",
              "      <td>최유정</td>\n",
              "      <td>여자</td>\n",
              "      <td>23</td>\n",
              "      <td>1</td>\n",
              "      <td>유</td>\n",
              "      <td>A</td>\n",
              "      <td>177.1</td>\n",
              "      <td>54.9</td>\n",
              "    </tr>\n",
              "    <tr>\n",
              "      <th>2</th>\n",
              "      <td>이한나</td>\n",
              "      <td>여자</td>\n",
              "      <td>20</td>\n",
              "      <td>1</td>\n",
              "      <td>무</td>\n",
              "      <td>A</td>\n",
              "      <td>167.9</td>\n",
              "      <td>50.2</td>\n",
              "    </tr>\n",
              "    <tr>\n",
              "      <th>3</th>\n",
              "      <td>김소혜</td>\n",
              "      <td>여자</td>\n",
              "      <td>23</td>\n",
              "      <td>3</td>\n",
              "      <td>무</td>\n",
              "      <td>O</td>\n",
              "      <td>176.1</td>\n",
              "      <td>53.5</td>\n",
              "    </tr>\n",
              "    <tr>\n",
              "      <th>4</th>\n",
              "      <td>서태웅</td>\n",
              "      <td>남자</td>\n",
              "      <td>24</td>\n",
              "      <td>4</td>\n",
              "      <td>무</td>\n",
              "      <td>B</td>\n",
              "      <td>176.1</td>\n",
              "      <td>79.8</td>\n",
              "    </tr>\n",
              "  </tbody>\n",
              "</table>\n",
              "</div>"
            ],
            "text/plain": [
              "  Name Gender  Age  Grade Picture BloodType  Height  Weight\n",
              "0  송태섭     남자   21      3       무         B   179.1    63.9\n",
              "1  최유정     여자   23      1       유         A   177.1    54.9\n",
              "2  이한나     여자   20      1       무         A   167.9    50.2\n",
              "3  김소혜     여자   23      3       무         O   176.1    53.5\n",
              "4  서태웅     남자   24      4       무         B   176.1    79.8"
            ]
          },
          "metadata": {
            "tags": []
          },
          "execution_count": 76
        }
      ]
    },
    {
      "cell_type": "code",
      "metadata": {
        "colab": {
          "base_uri": "https://localhost:8080/",
          "height": 197
        },
        "id": "14VHInQP39OY",
        "outputId": "cca39e53-21f2-4d7f-e269-d77ba785ecee"
      },
      "source": [
        "DF1[0:5]"
      ],
      "execution_count": 77,
      "outputs": [
        {
          "output_type": "execute_result",
          "data": {
            "text/html": [
              "<div>\n",
              "<style scoped>\n",
              "    .dataframe tbody tr th:only-of-type {\n",
              "        vertical-align: middle;\n",
              "    }\n",
              "\n",
              "    .dataframe tbody tr th {\n",
              "        vertical-align: top;\n",
              "    }\n",
              "\n",
              "    .dataframe thead th {\n",
              "        text-align: right;\n",
              "    }\n",
              "</style>\n",
              "<table border=\"1\" class=\"dataframe\">\n",
              "  <thead>\n",
              "    <tr style=\"text-align: right;\">\n",
              "      <th></th>\n",
              "      <th>Name</th>\n",
              "      <th>Gender</th>\n",
              "      <th>Age</th>\n",
              "      <th>Grade</th>\n",
              "      <th>Picture</th>\n",
              "      <th>BloodType</th>\n",
              "      <th>Height</th>\n",
              "      <th>Weight</th>\n",
              "    </tr>\n",
              "  </thead>\n",
              "  <tbody>\n",
              "    <tr>\n",
              "      <th>0</th>\n",
              "      <td>송태섭</td>\n",
              "      <td>남자</td>\n",
              "      <td>21</td>\n",
              "      <td>3</td>\n",
              "      <td>무</td>\n",
              "      <td>B</td>\n",
              "      <td>179.1</td>\n",
              "      <td>63.9</td>\n",
              "    </tr>\n",
              "    <tr>\n",
              "      <th>1</th>\n",
              "      <td>최유정</td>\n",
              "      <td>여자</td>\n",
              "      <td>23</td>\n",
              "      <td>1</td>\n",
              "      <td>유</td>\n",
              "      <td>A</td>\n",
              "      <td>177.1</td>\n",
              "      <td>54.9</td>\n",
              "    </tr>\n",
              "    <tr>\n",
              "      <th>2</th>\n",
              "      <td>이한나</td>\n",
              "      <td>여자</td>\n",
              "      <td>20</td>\n",
              "      <td>1</td>\n",
              "      <td>무</td>\n",
              "      <td>A</td>\n",
              "      <td>167.9</td>\n",
              "      <td>50.2</td>\n",
              "    </tr>\n",
              "    <tr>\n",
              "      <th>3</th>\n",
              "      <td>김소혜</td>\n",
              "      <td>여자</td>\n",
              "      <td>23</td>\n",
              "      <td>3</td>\n",
              "      <td>무</td>\n",
              "      <td>O</td>\n",
              "      <td>176.1</td>\n",
              "      <td>53.5</td>\n",
              "    </tr>\n",
              "    <tr>\n",
              "      <th>4</th>\n",
              "      <td>서태웅</td>\n",
              "      <td>남자</td>\n",
              "      <td>24</td>\n",
              "      <td>4</td>\n",
              "      <td>무</td>\n",
              "      <td>B</td>\n",
              "      <td>176.1</td>\n",
              "      <td>79.8</td>\n",
              "    </tr>\n",
              "  </tbody>\n",
              "</table>\n",
              "</div>"
            ],
            "text/plain": [
              "  Name Gender  Age  Grade Picture BloodType  Height  Weight\n",
              "0  송태섭     남자   21      3       무         B   179.1    63.9\n",
              "1  최유정     여자   23      1       유         A   177.1    54.9\n",
              "2  이한나     여자   20      1       무         A   167.9    50.2\n",
              "3  김소혜     여자   23      3       무         O   176.1    53.5\n",
              "4  서태웅     남자   24      4       무         B   176.1    79.8"
            ]
          },
          "metadata": {
            "tags": []
          },
          "execution_count": 77
        }
      ]
    },
    {
      "cell_type": "code",
      "metadata": {
        "colab": {
          "base_uri": "https://localhost:8080/",
          "height": 137
        },
        "id": "Xje6dgPr4AkS",
        "outputId": "d6b4147c-81be-4352-e32b-fc6cbf57fb8f"
      },
      "source": [
        "DF1.tail(3)"
      ],
      "execution_count": 79,
      "outputs": [
        {
          "output_type": "execute_result",
          "data": {
            "text/html": [
              "<div>\n",
              "<style scoped>\n",
              "    .dataframe tbody tr th:only-of-type {\n",
              "        vertical-align: middle;\n",
              "    }\n",
              "\n",
              "    .dataframe tbody tr th {\n",
              "        vertical-align: top;\n",
              "    }\n",
              "\n",
              "    .dataframe thead th {\n",
              "        text-align: right;\n",
              "    }\n",
              "</style>\n",
              "<table border=\"1\" class=\"dataframe\">\n",
              "  <thead>\n",
              "    <tr style=\"text-align: right;\">\n",
              "      <th></th>\n",
              "      <th>Name</th>\n",
              "      <th>Gender</th>\n",
              "      <th>Age</th>\n",
              "      <th>Grade</th>\n",
              "      <th>Picture</th>\n",
              "      <th>BloodType</th>\n",
              "      <th>Height</th>\n",
              "      <th>Weight</th>\n",
              "    </tr>\n",
              "  </thead>\n",
              "  <tbody>\n",
              "    <tr>\n",
              "      <th>14</th>\n",
              "      <td>윤대협</td>\n",
              "      <td>남자</td>\n",
              "      <td>22</td>\n",
              "      <td>2</td>\n",
              "      <td>유</td>\n",
              "      <td>AB</td>\n",
              "      <td>180.3</td>\n",
              "      <td>76.2</td>\n",
              "    </tr>\n",
              "    <tr>\n",
              "      <th>15</th>\n",
              "      <td>김세정</td>\n",
              "      <td>여자</td>\n",
              "      <td>21</td>\n",
              "      <td>1</td>\n",
              "      <td>무</td>\n",
              "      <td>O</td>\n",
              "      <td>155.5</td>\n",
              "      <td>44.9</td>\n",
              "    </tr>\n",
              "    <tr>\n",
              "      <th>16</th>\n",
              "      <td>신준섭</td>\n",
              "      <td>남자</td>\n",
              "      <td>23</td>\n",
              "      <td>1</td>\n",
              "      <td>무</td>\n",
              "      <td>A</td>\n",
              "      <td>168.9</td>\n",
              "      <td>62.7</td>\n",
              "    </tr>\n",
              "  </tbody>\n",
              "</table>\n",
              "</div>"
            ],
            "text/plain": [
              "   Name Gender  Age  Grade Picture BloodType  Height  Weight\n",
              "14  윤대협     남자   22      2       유        AB   180.3    76.2\n",
              "15  김세정     여자   21      1       무         O   155.5    44.9\n",
              "16  신준섭     남자   23      1       무         A   168.9    62.7"
            ]
          },
          "metadata": {
            "tags": []
          },
          "execution_count": 79
        }
      ]
    },
    {
      "cell_type": "code",
      "metadata": {
        "colab": {
          "base_uri": "https://localhost:8080/",
          "height": 137
        },
        "id": "_N3TZ0x74DFV",
        "outputId": "fdb38e74-0cdf-470c-feae-c88d8bade0b5"
      },
      "source": [
        "DF1[-3:]"
      ],
      "execution_count": 80,
      "outputs": [
        {
          "output_type": "execute_result",
          "data": {
            "text/html": [
              "<div>\n",
              "<style scoped>\n",
              "    .dataframe tbody tr th:only-of-type {\n",
              "        vertical-align: middle;\n",
              "    }\n",
              "\n",
              "    .dataframe tbody tr th {\n",
              "        vertical-align: top;\n",
              "    }\n",
              "\n",
              "    .dataframe thead th {\n",
              "        text-align: right;\n",
              "    }\n",
              "</style>\n",
              "<table border=\"1\" class=\"dataframe\">\n",
              "  <thead>\n",
              "    <tr style=\"text-align: right;\">\n",
              "      <th></th>\n",
              "      <th>Name</th>\n",
              "      <th>Gender</th>\n",
              "      <th>Age</th>\n",
              "      <th>Grade</th>\n",
              "      <th>Picture</th>\n",
              "      <th>BloodType</th>\n",
              "      <th>Height</th>\n",
              "      <th>Weight</th>\n",
              "    </tr>\n",
              "  </thead>\n",
              "  <tbody>\n",
              "    <tr>\n",
              "      <th>14</th>\n",
              "      <td>윤대협</td>\n",
              "      <td>남자</td>\n",
              "      <td>22</td>\n",
              "      <td>2</td>\n",
              "      <td>유</td>\n",
              "      <td>AB</td>\n",
              "      <td>180.3</td>\n",
              "      <td>76.2</td>\n",
              "    </tr>\n",
              "    <tr>\n",
              "      <th>15</th>\n",
              "      <td>김세정</td>\n",
              "      <td>여자</td>\n",
              "      <td>21</td>\n",
              "      <td>1</td>\n",
              "      <td>무</td>\n",
              "      <td>O</td>\n",
              "      <td>155.5</td>\n",
              "      <td>44.9</td>\n",
              "    </tr>\n",
              "    <tr>\n",
              "      <th>16</th>\n",
              "      <td>신준섭</td>\n",
              "      <td>남자</td>\n",
              "      <td>23</td>\n",
              "      <td>1</td>\n",
              "      <td>무</td>\n",
              "      <td>A</td>\n",
              "      <td>168.9</td>\n",
              "      <td>62.7</td>\n",
              "    </tr>\n",
              "  </tbody>\n",
              "</table>\n",
              "</div>"
            ],
            "text/plain": [
              "   Name Gender  Age  Grade Picture BloodType  Height  Weight\n",
              "14  윤대협     남자   22      2       유        AB   180.3    76.2\n",
              "15  김세정     여자   21      1       무         O   155.5    44.9\n",
              "16  신준섭     남자   23      1       무         A   168.9    62.7"
            ]
          },
          "metadata": {
            "tags": []
          },
          "execution_count": 80
        }
      ]
    },
    {
      "cell_type": "code",
      "metadata": {
        "colab": {
          "base_uri": "https://localhost:8080/",
          "height": 287
        },
        "id": "DAdR2zPz4GO6",
        "outputId": "c71ba4f3-15cd-4300-84b1-3348aa5782b5"
      },
      "source": [
        "DF1.describe()"
      ],
      "execution_count": 81,
      "outputs": [
        {
          "output_type": "execute_result",
          "data": {
            "text/html": [
              "<div>\n",
              "<style scoped>\n",
              "    .dataframe tbody tr th:only-of-type {\n",
              "        vertical-align: middle;\n",
              "    }\n",
              "\n",
              "    .dataframe tbody tr th {\n",
              "        vertical-align: top;\n",
              "    }\n",
              "\n",
              "    .dataframe thead th {\n",
              "        text-align: right;\n",
              "    }\n",
              "</style>\n",
              "<table border=\"1\" class=\"dataframe\">\n",
              "  <thead>\n",
              "    <tr style=\"text-align: right;\">\n",
              "      <th></th>\n",
              "      <th>Age</th>\n",
              "      <th>Grade</th>\n",
              "      <th>Height</th>\n",
              "      <th>Weight</th>\n",
              "    </tr>\n",
              "  </thead>\n",
              "  <tbody>\n",
              "    <tr>\n",
              "      <th>count</th>\n",
              "      <td>17.000000</td>\n",
              "      <td>17.000000</td>\n",
              "      <td>17.000000</td>\n",
              "      <td>17.000000</td>\n",
              "    </tr>\n",
              "    <tr>\n",
              "      <th>mean</th>\n",
              "      <td>22.352941</td>\n",
              "      <td>2.294118</td>\n",
              "      <td>170.135294</td>\n",
              "      <td>61.123529</td>\n",
              "    </tr>\n",
              "    <tr>\n",
              "      <th>std</th>\n",
              "      <td>1.169464</td>\n",
              "      <td>1.104802</td>\n",
              "      <td>7.853896</td>\n",
              "      <td>11.867894</td>\n",
              "    </tr>\n",
              "    <tr>\n",
              "      <th>min</th>\n",
              "      <td>20.000000</td>\n",
              "      <td>1.000000</td>\n",
              "      <td>155.500000</td>\n",
              "      <td>44.900000</td>\n",
              "    </tr>\n",
              "    <tr>\n",
              "      <th>25%</th>\n",
              "      <td>22.000000</td>\n",
              "      <td>1.000000</td>\n",
              "      <td>165.500000</td>\n",
              "      <td>52.700000</td>\n",
              "    </tr>\n",
              "    <tr>\n",
              "      <th>50%</th>\n",
              "      <td>22.000000</td>\n",
              "      <td>2.000000</td>\n",
              "      <td>169.100000</td>\n",
              "      <td>61.700000</td>\n",
              "    </tr>\n",
              "    <tr>\n",
              "      <th>75%</th>\n",
              "      <td>23.000000</td>\n",
              "      <td>3.000000</td>\n",
              "      <td>176.100000</td>\n",
              "      <td>68.500000</td>\n",
              "    </tr>\n",
              "    <tr>\n",
              "      <th>max</th>\n",
              "      <td>24.000000</td>\n",
              "      <td>4.000000</td>\n",
              "      <td>181.800000</td>\n",
              "      <td>85.900000</td>\n",
              "    </tr>\n",
              "  </tbody>\n",
              "</table>\n",
              "</div>"
            ],
            "text/plain": [
              "             Age      Grade      Height     Weight\n",
              "count  17.000000  17.000000   17.000000  17.000000\n",
              "mean   22.352941   2.294118  170.135294  61.123529\n",
              "std     1.169464   1.104802    7.853896  11.867894\n",
              "min    20.000000   1.000000  155.500000  44.900000\n",
              "25%    22.000000   1.000000  165.500000  52.700000\n",
              "50%    22.000000   2.000000  169.100000  61.700000\n",
              "75%    23.000000   3.000000  176.100000  68.500000\n",
              "max    24.000000   4.000000  181.800000  85.900000"
            ]
          },
          "metadata": {
            "tags": []
          },
          "execution_count": 81
        }
      ]
    },
    {
      "cell_type": "code",
      "metadata": {
        "colab": {
          "base_uri": "https://localhost:8080/"
        },
        "id": "4jYuz0Ht4I0e",
        "outputId": "0305271e-0929-4ae1-c8e0-97d7fad831de"
      },
      "source": [
        "DF1.mean()"
      ],
      "execution_count": 82,
      "outputs": [
        {
          "output_type": "execute_result",
          "data": {
            "text/plain": [
              "Age        22.352941\n",
              "Grade       2.294118\n",
              "Height    170.135294\n",
              "Weight     61.123529\n",
              "dtype: float64"
            ]
          },
          "metadata": {
            "tags": []
          },
          "execution_count": 82
        }
      ]
    },
    {
      "cell_type": "code",
      "metadata": {
        "colab": {
          "base_uri": "https://localhost:8080/"
        },
        "id": "IivoydPX4NJf",
        "outputId": "8bc9a050-3dda-463d-e25d-05474afe953a"
      },
      "source": [
        "type(DF1['Height'])"
      ],
      "execution_count": 83,
      "outputs": [
        {
          "output_type": "execute_result",
          "data": {
            "text/plain": [
              "pandas.core.series.Series"
            ]
          },
          "metadata": {
            "tags": []
          },
          "execution_count": 83
        }
      ]
    },
    {
      "cell_type": "code",
      "metadata": {
        "colab": {
          "base_uri": "https://localhost:8080/",
          "height": 557
        },
        "id": "30VS41KO4TOh",
        "outputId": "809c2354-7396-4ff2-aaac-7e228510503a"
      },
      "source": [
        "DF1[['Height', 'Age']]"
      ],
      "execution_count": 86,
      "outputs": [
        {
          "output_type": "execute_result",
          "data": {
            "text/html": [
              "<div>\n",
              "<style scoped>\n",
              "    .dataframe tbody tr th:only-of-type {\n",
              "        vertical-align: middle;\n",
              "    }\n",
              "\n",
              "    .dataframe tbody tr th {\n",
              "        vertical-align: top;\n",
              "    }\n",
              "\n",
              "    .dataframe thead th {\n",
              "        text-align: right;\n",
              "    }\n",
              "</style>\n",
              "<table border=\"1\" class=\"dataframe\">\n",
              "  <thead>\n",
              "    <tr style=\"text-align: right;\">\n",
              "      <th></th>\n",
              "      <th>Height</th>\n",
              "      <th>Age</th>\n",
              "    </tr>\n",
              "  </thead>\n",
              "  <tbody>\n",
              "    <tr>\n",
              "      <th>0</th>\n",
              "      <td>179.1</td>\n",
              "      <td>21</td>\n",
              "    </tr>\n",
              "    <tr>\n",
              "      <th>1</th>\n",
              "      <td>177.1</td>\n",
              "      <td>23</td>\n",
              "    </tr>\n",
              "    <tr>\n",
              "      <th>2</th>\n",
              "      <td>167.9</td>\n",
              "      <td>20</td>\n",
              "    </tr>\n",
              "    <tr>\n",
              "      <th>3</th>\n",
              "      <td>176.1</td>\n",
              "      <td>23</td>\n",
              "    </tr>\n",
              "    <tr>\n",
              "      <th>4</th>\n",
              "      <td>176.1</td>\n",
              "      <td>24</td>\n",
              "    </tr>\n",
              "    <tr>\n",
              "      <th>5</th>\n",
              "      <td>175.2</td>\n",
              "      <td>24</td>\n",
              "    </tr>\n",
              "    <tr>\n",
              "      <th>6</th>\n",
              "      <td>169.1</td>\n",
              "      <td>22</td>\n",
              "    </tr>\n",
              "    <tr>\n",
              "      <th>7</th>\n",
              "      <td>169.9</td>\n",
              "      <td>22</td>\n",
              "    </tr>\n",
              "    <tr>\n",
              "      <th>8</th>\n",
              "      <td>165.5</td>\n",
              "      <td>23</td>\n",
              "    </tr>\n",
              "    <tr>\n",
              "      <th>9</th>\n",
              "      <td>161.9</td>\n",
              "      <td>22</td>\n",
              "    </tr>\n",
              "    <tr>\n",
              "      <th>10</th>\n",
              "      <td>163.2</td>\n",
              "      <td>21</td>\n",
              "    </tr>\n",
              "    <tr>\n",
              "      <th>11</th>\n",
              "      <td>157.8</td>\n",
              "      <td>22</td>\n",
              "    </tr>\n",
              "    <tr>\n",
              "      <th>12</th>\n",
              "      <td>166.9</td>\n",
              "      <td>24</td>\n",
              "    </tr>\n",
              "    <tr>\n",
              "      <th>13</th>\n",
              "      <td>181.8</td>\n",
              "      <td>23</td>\n",
              "    </tr>\n",
              "    <tr>\n",
              "      <th>14</th>\n",
              "      <td>180.3</td>\n",
              "      <td>22</td>\n",
              "    </tr>\n",
              "    <tr>\n",
              "      <th>15</th>\n",
              "      <td>155.5</td>\n",
              "      <td>21</td>\n",
              "    </tr>\n",
              "    <tr>\n",
              "      <th>16</th>\n",
              "      <td>168.9</td>\n",
              "      <td>23</td>\n",
              "    </tr>\n",
              "  </tbody>\n",
              "</table>\n",
              "</div>"
            ],
            "text/plain": [
              "    Height  Age\n",
              "0    179.1   21\n",
              "1    177.1   23\n",
              "2    167.9   20\n",
              "3    176.1   23\n",
              "4    176.1   24\n",
              "5    175.2   24\n",
              "6    169.1   22\n",
              "7    169.9   22\n",
              "8    165.5   23\n",
              "9    161.9   22\n",
              "10   163.2   21\n",
              "11   157.8   22\n",
              "12   166.9   24\n",
              "13   181.8   23\n",
              "14   180.3   22\n",
              "15   155.5   21\n",
              "16   168.9   23"
            ]
          },
          "metadata": {
            "tags": []
          },
          "execution_count": 86
        }
      ]
    },
    {
      "cell_type": "code",
      "metadata": {
        "colab": {
          "base_uri": "https://localhost:8080/"
        },
        "id": "F7RLf90K4WtT",
        "outputId": "b375c67f-a1c3-48fd-a413-e28548b86400"
      },
      "source": [
        "DF1.Height"
      ],
      "execution_count": 88,
      "outputs": [
        {
          "output_type": "execute_result",
          "data": {
            "text/plain": [
              "0     179.1\n",
              "1     177.1\n",
              "2     167.9\n",
              "3     176.1\n",
              "4     176.1\n",
              "5     175.2\n",
              "6     169.1\n",
              "7     169.9\n",
              "8     165.5\n",
              "9     161.9\n",
              "10    163.2\n",
              "11    157.8\n",
              "12    166.9\n",
              "13    181.8\n",
              "14    180.3\n",
              "15    155.5\n",
              "16    168.9\n",
              "Name: Height, dtype: float64"
            ]
          },
          "metadata": {
            "tags": []
          },
          "execution_count": 88
        }
      ]
    },
    {
      "cell_type": "code",
      "metadata": {
        "colab": {
          "base_uri": "https://localhost:8080/"
        },
        "id": "lgUBb6Nm4e2f",
        "outputId": "a93ae8a3-0b86-4f8d-bde4-f5a1d26f4cf4"
      },
      "source": [
        "DF1['Height'].sum()"
      ],
      "execution_count": 89,
      "outputs": [
        {
          "output_type": "execute_result",
          "data": {
            "text/plain": [
              "2892.2999999999997"
            ]
          },
          "metadata": {
            "tags": []
          },
          "execution_count": 89
        }
      ]
    },
    {
      "cell_type": "code",
      "metadata": {
        "colab": {
          "base_uri": "https://localhost:8080/"
        },
        "id": "gVxRyyXw4mIk",
        "outputId": "e2596a86-d395-416a-a42b-83947fdd40d5"
      },
      "source": [
        "DF1['Height'].mean()"
      ],
      "execution_count": 90,
      "outputs": [
        {
          "output_type": "execute_result",
          "data": {
            "text/plain": [
              "170.1352941176471"
            ]
          },
          "metadata": {
            "tags": []
          },
          "execution_count": 90
        }
      ]
    },
    {
      "cell_type": "code",
      "metadata": {
        "colab": {
          "base_uri": "https://localhost:8080/"
        },
        "id": "nnaskFaA4oWy",
        "outputId": "ee5b0894-5e57-4bd1-eb0b-c8be1dd71388"
      },
      "source": [
        "DF1['Height'].var()"
      ],
      "execution_count": 91,
      "outputs": [
        {
          "output_type": "execute_result",
          "data": {
            "text/plain": [
              "61.683676470588225"
            ]
          },
          "metadata": {
            "tags": []
          },
          "execution_count": 91
        }
      ]
    },
    {
      "cell_type": "code",
      "metadata": {
        "colab": {
          "base_uri": "https://localhost:8080/"
        },
        "id": "kgWi7GLg4put",
        "outputId": "01c50a74-002a-4d1a-a1aa-37be2d54b4b6"
      },
      "source": [
        "DF1['Height'].std()"
      ],
      "execution_count": 92,
      "outputs": [
        {
          "output_type": "execute_result",
          "data": {
            "text/plain": [
              "7.8538956238664275"
            ]
          },
          "metadata": {
            "tags": []
          },
          "execution_count": 92
        }
      ]
    },
    {
      "cell_type": "code",
      "metadata": {
        "colab": {
          "base_uri": "https://localhost:8080/"
        },
        "id": "P8iayEAO4rIB",
        "outputId": "e56ad956-55ff-47e7-9fa0-bd55d0dba1a4"
      },
      "source": [
        "DF1['Height'].min()"
      ],
      "execution_count": 93,
      "outputs": [
        {
          "output_type": "execute_result",
          "data": {
            "text/plain": [
              "155.5"
            ]
          },
          "metadata": {
            "tags": []
          },
          "execution_count": 93
        }
      ]
    },
    {
      "cell_type": "code",
      "metadata": {
        "colab": {
          "base_uri": "https://localhost:8080/"
        },
        "id": "d_lVUqa24win",
        "outputId": "58801d52-d504-46c1-ef8f-de392c1ea2a2"
      },
      "source": [
        "DF1['Height'].max()"
      ],
      "execution_count": 94,
      "outputs": [
        {
          "output_type": "execute_result",
          "data": {
            "text/plain": [
              "181.8"
            ]
          },
          "metadata": {
            "tags": []
          },
          "execution_count": 94
        }
      ]
    },
    {
      "cell_type": "code",
      "metadata": {
        "colab": {
          "base_uri": "https://localhost:8080/",
          "height": 197
        },
        "id": "uPPclED-4xpo",
        "outputId": "bdc1bf5d-0387-43a3-a560-353e1b5f5f00"
      },
      "source": [
        "DF1.groupby(['BloodType']).mean()"
      ],
      "execution_count": 95,
      "outputs": [
        {
          "output_type": "execute_result",
          "data": {
            "text/html": [
              "<div>\n",
              "<style scoped>\n",
              "    .dataframe tbody tr th:only-of-type {\n",
              "        vertical-align: middle;\n",
              "    }\n",
              "\n",
              "    .dataframe tbody tr th {\n",
              "        vertical-align: top;\n",
              "    }\n",
              "\n",
              "    .dataframe thead th {\n",
              "        text-align: right;\n",
              "    }\n",
              "</style>\n",
              "<table border=\"1\" class=\"dataframe\">\n",
              "  <thead>\n",
              "    <tr style=\"text-align: right;\">\n",
              "      <th></th>\n",
              "      <th>Age</th>\n",
              "      <th>Grade</th>\n",
              "      <th>Height</th>\n",
              "      <th>Weight</th>\n",
              "    </tr>\n",
              "    <tr>\n",
              "      <th>BloodType</th>\n",
              "      <th></th>\n",
              "      <th></th>\n",
              "      <th></th>\n",
              "      <th></th>\n",
              "    </tr>\n",
              "  </thead>\n",
              "  <tbody>\n",
              "    <tr>\n",
              "      <th>A</th>\n",
              "      <td>21.750000</td>\n",
              "      <td>1.000000</td>\n",
              "      <td>169.275000</td>\n",
              "      <td>55.825</td>\n",
              "    </tr>\n",
              "    <tr>\n",
              "      <th>AB</th>\n",
              "      <td>22.333333</td>\n",
              "      <td>2.333333</td>\n",
              "      <td>177.333333</td>\n",
              "      <td>71.600</td>\n",
              "    </tr>\n",
              "    <tr>\n",
              "      <th>B</th>\n",
              "      <td>22.600000</td>\n",
              "      <td>3.000000</td>\n",
              "      <td>171.460000</td>\n",
              "      <td>64.020</td>\n",
              "    </tr>\n",
              "    <tr>\n",
              "      <th>O</th>\n",
              "      <td>22.600000</td>\n",
              "      <td>2.600000</td>\n",
              "      <td>165.180000</td>\n",
              "      <td>56.180</td>\n",
              "    </tr>\n",
              "  </tbody>\n",
              "</table>\n",
              "</div>"
            ],
            "text/plain": [
              "                 Age     Grade      Height  Weight\n",
              "BloodType                                         \n",
              "A          21.750000  1.000000  169.275000  55.825\n",
              "AB         22.333333  2.333333  177.333333  71.600\n",
              "B          22.600000  3.000000  171.460000  64.020\n",
              "O          22.600000  2.600000  165.180000  56.180"
            ]
          },
          "metadata": {
            "tags": []
          },
          "execution_count": 95
        }
      ]
    },
    {
      "cell_type": "code",
      "metadata": {
        "colab": {
          "base_uri": "https://localhost:8080/"
        },
        "id": "60O_SKCn43U7",
        "outputId": "5ba20ebc-2a78-4041-ae62-74b3da1ad6e9"
      },
      "source": [
        "DF1.groupby(['BloodType'])['Height'].mean()"
      ],
      "execution_count": 97,
      "outputs": [
        {
          "output_type": "execute_result",
          "data": {
            "text/plain": [
              "BloodType\n",
              "A     169.275000\n",
              "AB    177.333333\n",
              "B     171.460000\n",
              "O     165.180000\n",
              "Name: Height, dtype: float64"
            ]
          },
          "metadata": {
            "tags": []
          },
          "execution_count": 97
        }
      ]
    },
    {
      "cell_type": "code",
      "metadata": {
        "colab": {
          "base_uri": "https://localhost:8080/"
        },
        "id": "QeO7tYQn47zG",
        "outputId": "add1762b-32c4-4562-c6cd-2ecb42d5baaa"
      },
      "source": [
        "DF1.Height[16]"
      ],
      "execution_count": 98,
      "outputs": [
        {
          "output_type": "execute_result",
          "data": {
            "text/plain": [
              "168.9"
            ]
          },
          "metadata": {
            "tags": []
          },
          "execution_count": 98
        }
      ]
    },
    {
      "cell_type": "code",
      "metadata": {
        "colab": {
          "base_uri": "https://localhost:8080/"
        },
        "id": "3p6P_UCC5E9Q",
        "outputId": "346ee1c2-c0ab-41d4-bcd8-5f786d727200"
      },
      "source": [
        "DF1.Height[0:5]"
      ],
      "execution_count": 99,
      "outputs": [
        {
          "output_type": "execute_result",
          "data": {
            "text/plain": [
              "0    179.1\n",
              "1    177.1\n",
              "2    167.9\n",
              "3    176.1\n",
              "4    176.1\n",
              "Name: Height, dtype: float64"
            ]
          },
          "metadata": {
            "tags": []
          },
          "execution_count": 99
        }
      ]
    },
    {
      "cell_type": "code",
      "metadata": {
        "id": "UeQGm8ek5IBL"
      },
      "source": [
        ""
      ],
      "execution_count": null,
      "outputs": []
    }
  ]
}