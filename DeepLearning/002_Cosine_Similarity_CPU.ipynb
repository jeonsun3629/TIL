{
  "nbformat": 4,
  "nbformat_minor": 0,
  "metadata": {
    "colab": {
      "name": "002_Cosine_Similarity_CPU.ipynb",
      "provenance": []
    },
    "kernelspec": {
      "name": "python3",
      "display_name": "Python 3"
    },
    "language_info": {
      "name": "python"
    }
  },
  "cells": [
    {
      "cell_type": "markdown",
      "metadata": {
        "id": "_BLUkCBERiSk"
      },
      "source": [
        "# Cosine Similarity"
      ]
    },
    {
      "cell_type": "markdown",
      "metadata": {
        "id": "cTPfLbaiSBZV"
      },
      "source": [
        "* 두 벡터의 크기와 상관없이, 상호 방향성이 얼마나 유사한지에 기반\n",
        "  * 두 벡터의 사잇각을 계산하여 유사도 측정\n",
        "* 문서(문장)의 크기를 고려하지 않는 빈도수 기반의 단점 보완"
      ]
    },
    {
      "cell_type": "code",
      "metadata": {
        "id": "7gSZEJDzSLtu"
      },
      "source": [
        "import warnings\n",
        "warnings.filterwarnings('ignore')"
      ],
      "execution_count": 2,
      "outputs": []
    },
    {
      "cell_type": "markdown",
      "metadata": {
        "id": "_2bft4b-SPKQ"
      },
      "source": [
        "# I. TF-IDF Vectorization"
      ]
    },
    {
      "cell_type": "markdown",
      "metadata": {
        "id": "l4la7Q1BSRkl"
      },
      "source": [
        "> ## 1) 문장 3개 지정"
      ]
    },
    {
      "cell_type": "code",
      "metadata": {
        "id": "vqWDK8cdSTKL"
      },
      "source": [
        "doc_list = ['if you take the blue pill, the story ends' ,\n",
        "            'if you take the red pill, you stay in Wonderland',\n",
        "            'if you take the red pill, I show you how deep the rabbit hole goes']\n"
      ],
      "execution_count": 3,
      "outputs": []
    },
    {
      "cell_type": "markdown",
      "metadata": {
        "id": "5wOvxEY7SVqq"
      },
      "source": [
        ">  ## 2) Coordinate(좌표) 양식"
      ]
    },
    {
      "cell_type": "markdown",
      "metadata": {
        "id": "R_lx89DMSY61"
      },
      "source": [
        "* '0'이 아닌 데이터포인트의 좌표만 저장"
      ]
    },
    {
      "cell_type": "code",
      "metadata": {
        "colab": {
          "base_uri": "https://localhost:8080/"
        },
        "id": "RjoX_J7uScA9",
        "outputId": "1a0f24a2-a983-4898-8939-300a4a59c284"
      },
      "source": [
        "from sklearn.feature_extraction.text import TfidfVectorizer\n",
        "\n",
        "tfidf_vec_simple = TfidfVectorizer()\n",
        "feature_vec_simple = tfidf_vec_simple.fit_transform(doc_list)\n",
        "\n",
        "print(feature_vec_simple)"
      ],
      "execution_count": 4,
      "outputs": [
        {
          "output_type": "stream",
          "text": [
            "  (0, 2)\t0.41556360057939173\n",
            "  (0, 13)\t0.41556360057939173\n",
            "  (0, 8)\t0.24543855687841593\n",
            "  (0, 0)\t0.41556360057939173\n",
            "  (0, 15)\t0.49087711375683185\n",
            "  (0, 14)\t0.24543855687841593\n",
            "  (0, 17)\t0.24543855687841593\n",
            "  (0, 6)\t0.24543855687841593\n",
            "  (1, 16)\t0.39624495215024286\n",
            "  (1, 7)\t0.39624495215024286\n",
            "  (1, 12)\t0.39624495215024286\n",
            "  (1, 10)\t0.3013544995034864\n",
            "  (1, 8)\t0.2340286519091622\n",
            "  (1, 15)\t0.2340286519091622\n",
            "  (1, 14)\t0.2340286519091622\n",
            "  (1, 17)\t0.4680573038183244\n",
            "  (1, 6)\t0.2340286519091622\n",
            "  (2, 3)\t0.3098560092999078\n",
            "  (2, 4)\t0.3098560092999078\n",
            "  (2, 9)\t0.3098560092999078\n",
            "  (2, 1)\t0.3098560092999078\n",
            "  (2, 5)\t0.3098560092999078\n",
            "  (2, 11)\t0.3098560092999078\n",
            "  (2, 10)\t0.23565348175165166\n",
            "  (2, 8)\t0.1830059506093466\n",
            "  (2, 15)\t0.3660119012186932\n",
            "  (2, 14)\t0.1830059506093466\n",
            "  (2, 17)\t0.3660119012186932\n",
            "  (2, 6)\t0.1830059506093466\n"
          ],
          "name": "stdout"
        }
      ]
    },
    {
      "cell_type": "markdown",
      "metadata": {
        "id": "lmkwjTIhSsbo"
      },
      "source": [
        "> ## 3) (밀집)행렬 변환"
      ]
    },
    {
      "cell_type": "code",
      "metadata": {
        "colab": {
          "base_uri": "https://localhost:8080/"
        },
        "id": "087IG3E0TFH9",
        "outputId": "d966d9f9-4278-4f3e-baeb-7344c4454607"
      },
      "source": [
        "feature_vec_dense = feature_vec_simple.todense()\n",
        "\n",
        "print(feature_vec_dense)\n"
      ],
      "execution_count": 5,
      "outputs": [
        {
          "output_type": "stream",
          "text": [
            "[[0.4155636  0.         0.4155636  0.         0.         0.\n",
            "  0.24543856 0.         0.24543856 0.         0.         0.\n",
            "  0.         0.4155636  0.24543856 0.49087711 0.         0.24543856]\n",
            " [0.         0.         0.         0.         0.         0.\n",
            "  0.23402865 0.39624495 0.23402865 0.         0.3013545  0.\n",
            "  0.39624495 0.         0.23402865 0.23402865 0.39624495 0.4680573 ]\n",
            " [0.         0.30985601 0.         0.30985601 0.30985601 0.30985601\n",
            "  0.18300595 0.         0.18300595 0.30985601 0.23565348 0.30985601\n",
            "  0.         0.         0.18300595 0.3660119  0.         0.3660119 ]]\n"
          ],
          "name": "stdout"
        }
      ]
    },
    {
      "cell_type": "markdown",
      "metadata": {
        "id": "Z0tDEDWAS5iB"
      },
      "source": [
        "> ## 4) 개별 Feature Vector 추출"
      ]
    },
    {
      "cell_type": "code",
      "metadata": {
        "colab": {
          "base_uri": "https://localhost:8080/"
        },
        "id": "dCzD3M2zTIci",
        "outputId": "d3f235e9-6b80-4cd4-bd1a-b0ba46aa278d"
      },
      "source": [
        "import numpy as np\n",
        "\n",
        "vec1 = np.array(feature_vec_dense[0]).reshape(-1,)\n",
        "vec2 = np.array(feature_vec_dense[1]).reshape(-1,)\n",
        "vec3 = np.array(feature_vec_dense[2]).reshape(-1,)\n",
        "vec1, vec2, vec3\n"
      ],
      "execution_count": 8,
      "outputs": [
        {
          "output_type": "execute_result",
          "data": {
            "text/plain": [
              "(array([0.4155636 , 0.        , 0.4155636 , 0.        , 0.        ,\n",
              "        0.        , 0.24543856, 0.        , 0.24543856, 0.        ,\n",
              "        0.        , 0.        , 0.        , 0.4155636 , 0.24543856,\n",
              "        0.49087711, 0.        , 0.24543856]),\n",
              " array([0.        , 0.        , 0.        , 0.        , 0.        ,\n",
              "        0.        , 0.23402865, 0.39624495, 0.23402865, 0.        ,\n",
              "        0.3013545 , 0.        , 0.39624495, 0.        , 0.23402865,\n",
              "        0.23402865, 0.39624495, 0.4680573 ]),\n",
              " array([0.        , 0.30985601, 0.        , 0.30985601, 0.30985601,\n",
              "        0.30985601, 0.18300595, 0.        , 0.18300595, 0.30985601,\n",
              "        0.23565348, 0.30985601, 0.        , 0.        , 0.18300595,\n",
              "        0.3660119 , 0.        , 0.3660119 ]))"
            ]
          },
          "metadata": {
            "tags": []
          },
          "execution_count": 8
        }
      ]
    },
    {
      "cell_type": "markdown",
      "metadata": {
        "id": "x6a8oN-YTQUQ"
      },
      "source": [
        "# II. cos_similarity()"
      ]
    },
    {
      "cell_type": "markdown",
      "metadata": {
        "id": "BezWvj7nT0P6"
      },
      "source": [
        "* 두 벡터의 내적을 총 벡터 크기로 정규화(L2 Norm)\n",
        "  * dot_product: 두 벡터의 내적\n",
        "  * l2_norm: 총 벡터 크기의 합"
      ]
    },
    {
      "cell_type": "code",
      "metadata": {
        "id": "CtbCdYVnT8Ea"
      },
      "source": [
        "import numpy as np\n",
        "\n",
        "def cos_similarity(v1, v2):\n",
        "    dot_product = np.dot(v1, v2)\n",
        "    l2_norm = (np.sqrt(sum(np.square(v1))) * np.sqrt(sum(np.square(v2))))\n",
        "    similarity = dot_product / l2_norm     \n",
        "    \n",
        "    return similarity\n"
      ],
      "execution_count": 12,
      "outputs": []
    },
    {
      "cell_type": "markdown",
      "metadata": {
        "id": "cTMxE37hUNeh"
      },
      "source": [
        "> ## 1) 'vec1', 'vec2' 코사인 유사도"
      ]
    },
    {
      "cell_type": "code",
      "metadata": {
        "colab": {
          "base_uri": "https://localhost:8080/"
        },
        "id": "o8gdPw_cUX4J",
        "outputId": "6b024ee5-d72e-4c34-e4c3-d7809ad437d7"
      },
      "source": [
        "similarity_simple = cos_similarity(vec1, vec2)\n",
        "\n",
        "print('vec1, vec2 코사인 유사도: {0:.5f}'.format(similarity_simple))\n"
      ],
      "execution_count": 13,
      "outputs": [
        {
          "output_type": "stream",
          "text": [
            "vec1, vec2 코사인 유사도: 0.40208\n"
          ],
          "name": "stdout"
        }
      ]
    },
    {
      "cell_type": "markdown",
      "metadata": {
        "id": "tQAZXCq-UjuB"
      },
      "source": [
        "> ## 2) 'vec2', 'vec3' 코사인 유사도"
      ]
    },
    {
      "cell_type": "code",
      "metadata": {
        "colab": {
          "base_uri": "https://localhost:8080/"
        },
        "id": "aw9m0-MSUzqp",
        "outputId": "156900ab-1ef7-4fd5-f5d7-b0364e4d28a0"
      },
      "source": [
        "similarity_simple = cos_similarity(vec2, vec3)\n",
        "\n",
        "print('vec2, vec3 코사인 유사도: {0:.5f}'.format(similarity_simple))\n"
      ],
      "execution_count": 14,
      "outputs": [
        {
          "output_type": "stream",
          "text": [
            "vec2, vec3 코사인 유사도: 0.45647\n"
          ],
          "name": "stdout"
        }
      ]
    },
    {
      "cell_type": "markdown",
      "metadata": {
        "id": "oS6spbnSU2UI"
      },
      "source": [
        "# IIl.sklearn - cosine_similarity()"
      ]
    },
    {
      "cell_type": "code",
      "metadata": {
        "colab": {
          "base_uri": "https://localhost:8080/"
        },
        "id": "H6KXU-otU7cW",
        "outputId": "370d67a5-010e-444d-8a55-79406535363e"
      },
      "source": [
        "from sklearn.metrics.pairwise import cosine_similarity\n",
        "cosine_similarity(feature_vec_simple[0], feature_vec_simple)"
      ],
      "execution_count": 15,
      "outputs": [
        {
          "output_type": "execute_result",
          "data": {
            "text/plain": [
              "array([[1.        , 0.40207758, 0.40425045]])"
            ]
          },
          "metadata": {
            "tags": []
          },
          "execution_count": 15
        }
      ]
    },
    {
      "cell_type": "code",
      "metadata": {
        "colab": {
          "base_uri": "https://localhost:8080/"
        },
        "id": "hdaCUcsXVGfv",
        "outputId": "6df1ac11-b31c-41d0-a8a0-1db7debc8d05"
      },
      "source": [
        "cosine_similarity(feature_vec_simple[0], feature_vec_simple[1:])\n"
      ],
      "execution_count": 16,
      "outputs": [
        {
          "output_type": "execute_result",
          "data": {
            "text/plain": [
              "array([[0.40207758, 0.40425045]])"
            ]
          },
          "metadata": {
            "tags": []
          },
          "execution_count": 16
        }
      ]
    },
    {
      "cell_type": "code",
      "metadata": {
        "colab": {
          "base_uri": "https://localhost:8080/"
        },
        "id": "LpgxpRIEVHhT",
        "outputId": "3a55ce36-5929-406c-a280-6cb1a963f79d"
      },
      "source": [
        "cosine_similarity(feature_vec_simple, feature_vec_simple)\n"
      ],
      "execution_count": 17,
      "outputs": [
        {
          "output_type": "execute_result",
          "data": {
            "text/plain": [
              "array([[1.        , 0.40207758, 0.40425045],\n",
              "       [0.40207758, 1.        , 0.45647296],\n",
              "       [0.40425045, 0.45647296, 1.        ]])"
            ]
          },
          "metadata": {
            "tags": []
          },
          "execution_count": 17
        }
      ]
    },
    {
      "cell_type": "markdown",
      "metadata": {
        "id": "_-aTC7KJVITz"
      },
      "source": [
        "# IV. Topic Problem"
      ]
    },
    {
      "cell_type": "markdown",
      "metadata": {
        "id": "_D1CITTKVc8g"
      },
      "source": [
        "> ## 1) 문장 지정"
      ]
    },
    {
      "cell_type": "code",
      "metadata": {
        "id": "pYG37ltpVf7T"
      },
      "source": [
        "sent_list = ['I eat an apple',\n",
        "             'Koo have fruit',\n",
        "             'I sell an apple']"
      ],
      "execution_count": 18,
      "outputs": []
    },
    {
      "cell_type": "markdown",
      "metadata": {
        "id": "z8Ujw1SDVl43"
      },
      "source": [
        "> ## 2) 벡터 변환"
      ]
    },
    {
      "cell_type": "code",
      "metadata": {
        "id": "-So9drU-Vn00"
      },
      "source": [
        "tfidf_vec = TfidfVectorizer()\n",
        "feature_vec = tfidf_vec.fit_transform(sent_list)"
      ],
      "execution_count": 19,
      "outputs": []
    },
    {
      "cell_type": "markdown",
      "metadata": {
        "id": "QI08FsqxVu1e"
      },
      "source": [
        "> ## 3) 문장1 vs. 문장2"
      ]
    },
    {
      "cell_type": "code",
      "metadata": {
        "colab": {
          "base_uri": "https://localhost:8080/"
        },
        "id": "ddlnmOX8Vxov",
        "outputId": "02142af2-74aa-4c7f-d0aa-63d52166daf9"
      },
      "source": [
        "cosine_similarity(feature_vec[0], feature_vec[1])\n"
      ],
      "execution_count": 20,
      "outputs": [
        {
          "output_type": "execute_result",
          "data": {
            "text/plain": [
              "array([[0.]])"
            ]
          },
          "metadata": {
            "tags": []
          },
          "execution_count": 20
        }
      ]
    },
    {
      "cell_type": "markdown",
      "metadata": {
        "id": "aPHLMIP9Vyy5"
      },
      "source": [
        "> ## 4) 문장1 vs. 문장3"
      ]
    },
    {
      "cell_type": "code",
      "metadata": {
        "colab": {
          "base_uri": "https://localhost:8080/"
        },
        "id": "nX7NbXD-V3W9",
        "outputId": "040dce72-4f5f-445a-abfa-358ca720ec89"
      },
      "source": [
        "cosine_similarity(feature_vec[0], feature_vec[2])"
      ],
      "execution_count": 21,
      "outputs": [
        {
          "output_type": "execute_result",
          "data": {
            "text/plain": [
              "array([[0.53634991]])"
            ]
          },
          "metadata": {
            "tags": []
          },
          "execution_count": 21
        }
      ]
    },
    {
      "cell_type": "markdown",
      "metadata": {
        "id": "wvgP_uxqV71q"
      },
      "source": [
        "# V. Word2Vec"
      ]
    },
    {
      "cell_type": "code",
      "metadata": {
        "colab": {
          "base_uri": "https://localhost:8080/"
        },
        "id": "ROcOxsclV_dc",
        "outputId": "ad6aa187-c779-4f18-a198-ef87c4244f4a"
      },
      "source": [
        "# Load Pretrained Word2Vec\n",
        "import tensorflow_hub as hub\n",
        "\n",
        "embed = hub.load('https://tfhub.dev/google/Wiki-words-250/2')\n",
        "\n",
        "words = ['apple', 'eat', 'fruit', 'have', 'sell']\n",
        "\n",
        "embeddings = embed(words)\n"
      ],
      "execution_count": 23,
      "outputs": [
        {
          "output_type": "stream",
          "text": [
            "WARNING:tensorflow:5 out of the last 5 calls to <function recreate_function.<locals>.restored_function_body at 0x7f8bafd757a0> triggered tf.function retracing. Tracing is expensive and the excessive number of tracings could be due to (1) creating @tf.function repeatedly in a loop, (2) passing tensors with different shapes, (3) passing Python objects instead of tensors. For (1), please define your @tf.function outside of the loop. For (2), @tf.function has experimental_relax_shapes=True option that relaxes argument shapes that can avoid unnecessary retracing. For (3), please refer to https://www.tensorflow.org/guide/function#controlling_retracing and https://www.tensorflow.org/api_docs/python/tf/function for  more details.\n"
          ],
          "name": "stdout"
        },
        {
          "output_type": "stream",
          "text": [
            "WARNING:tensorflow:5 out of the last 5 calls to <function recreate_function.<locals>.restored_function_body at 0x7f8bafd757a0> triggered tf.function retracing. Tracing is expensive and the excessive number of tracings could be due to (1) creating @tf.function repeatedly in a loop, (2) passing tensors with different shapes, (3) passing Python objects instead of tensors. For (1), please define your @tf.function outside of the loop. For (2), @tf.function has experimental_relax_shapes=True option that relaxes argument shapes that can avoid unnecessary retracing. For (3), please refer to https://www.tensorflow.org/guide/function#controlling_retracing and https://www.tensorflow.org/api_docs/python/tf/function for  more details.\n"
          ],
          "name": "stderr"
        },
        {
          "output_type": "stream",
          "text": [
            "WARNING:tensorflow:6 out of the last 6 calls to <function recreate_function.<locals>.restored_function_body at 0x7f8bafd70320> triggered tf.function retracing. Tracing is expensive and the excessive number of tracings could be due to (1) creating @tf.function repeatedly in a loop, (2) passing tensors with different shapes, (3) passing Python objects instead of tensors. For (1), please define your @tf.function outside of the loop. For (2), @tf.function has experimental_relax_shapes=True option that relaxes argument shapes that can avoid unnecessary retracing. For (3), please refer to https://www.tensorflow.org/guide/function#controlling_retracing and https://www.tensorflow.org/api_docs/python/tf/function for  more details.\n"
          ],
          "name": "stdout"
        },
        {
          "output_type": "stream",
          "text": [
            "WARNING:tensorflow:6 out of the last 6 calls to <function recreate_function.<locals>.restored_function_body at 0x7f8bafd70320> triggered tf.function retracing. Tracing is expensive and the excessive number of tracings could be due to (1) creating @tf.function repeatedly in a loop, (2) passing tensors with different shapes, (3) passing Python objects instead of tensors. For (1), please define your @tf.function outside of the loop. For (2), @tf.function has experimental_relax_shapes=True option that relaxes argument shapes that can avoid unnecessary retracing. For (3), please refer to https://www.tensorflow.org/guide/function#controlling_retracing and https://www.tensorflow.org/api_docs/python/tf/function for  more details.\n"
          ],
          "name": "stderr"
        }
      ]
    },
    {
      "cell_type": "code",
      "metadata": {
        "colab": {
          "base_uri": "https://localhost:8080/"
        },
        "id": "fNNZGm4BWTIy",
        "outputId": "7156a442-825a-48a9-e135-78ec4569a8b6"
      },
      "source": [
        "import numpy as np\n",
        "\n",
        "for i in range(len(words)):\n",
        "  for j in range(i, len(words)):\n",
        "    print(\"(\",words[i], \",\", words[j],\")\",np.inner(embeddings[i], embeddings[j]))"
      ],
      "execution_count": 26,
      "outputs": [
        {
          "output_type": "stream",
          "text": [
            "( apple , apple ) 1.0\n",
            "( apple , eat ) 0.48909307\n",
            "( apple , fruit ) 0.78753763\n",
            "( apple , have ) 0.13348329\n",
            "( apple , sell ) 0.106232405\n",
            "( eat , eat ) 1.0\n",
            "( eat , fruit ) 0.53294003\n",
            "( eat , have ) 0.3232242\n",
            "( eat , sell ) 0.2691978\n",
            "( fruit , fruit ) 1.0\n",
            "( fruit , have ) 0.13598028\n",
            "( fruit , sell ) 0.11212408\n",
            "( have , have ) 1.0\n",
            "( have , sell ) 0.21071003\n",
            "( sell , sell ) 1.0\n"
          ],
          "name": "stdout"
        }
      ]
    },
    {
      "cell_type": "code",
      "metadata": {
        "id": "Uc02tB93WbnI"
      },
      "source": [
        ""
      ],
      "execution_count": 24,
      "outputs": []
    }
  ]
}