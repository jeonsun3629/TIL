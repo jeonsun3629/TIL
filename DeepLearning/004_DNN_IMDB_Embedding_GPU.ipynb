{
  "nbformat": 4,
  "nbformat_minor": 0,
  "metadata": {
    "colab": {
      "name": "004_DNN_IMDB_Embedding_GPU.ipynb",
      "provenance": []
    },
    "kernelspec": {
      "name": "python3",
      "display_name": "Python 3"
    },
    "language_info": {
      "name": "python"
    },
    "accelerator": "GPU"
  },
  "cells": [
    {
      "cell_type": "markdown",
      "metadata": {
        "id": "eOxHPKjxv1dZ"
      },
      "source": [
        "# IMDB - Embedding with DNN\n"
      ]
    },
    {
      "cell_type": "markdown",
      "metadata": {
        "id": "01BqgIiowC6j"
      },
      "source": [
        "> ## NLP(Natural Language Processing)"
      ]
    },
    {
      "cell_type": "code",
      "metadata": {
        "id": "bcmE_3NywRwi"
      },
      "source": [
        "import warnings\n",
        "warnings.filterwarnings('ignore')\n"
      ],
      "execution_count": 1,
      "outputs": []
    },
    {
      "cell_type": "code",
      "metadata": {
        "colab": {
          "base_uri": "https://localhost:8080/",
          "height": 34
        },
        "id": "QZflq_rFwT47",
        "outputId": "c811cfa8-bba8-489c-ea8d-eb70af9d7cb0"
      },
      "source": [
        "import keras\n",
        "keras.__version__"
      ],
      "execution_count": 2,
      "outputs": [
        {
          "output_type": "execute_result",
          "data": {
            "application/vnd.google.colaboratory.intrinsic+json": {
              "type": "string"
            },
            "text/plain": [
              "'2.4.3'"
            ]
          },
          "metadata": {
            "tags": []
          },
          "execution_count": 2
        }
      ]
    },
    {
      "cell_type": "markdown",
      "metadata": {
        "id": "BFreYcB6wXR9"
      },
      "source": [
        "# I. IMDB Data_Set Load & Review"
      ]
    },
    {
      "cell_type": "markdown",
      "metadata": {
        "id": "6j1XxyeMwbIL"
      },
      "source": [
        "> ## 1) Load IMDB Data_Set"
      ]
    },
    {
      "cell_type": "markdown",
      "metadata": {
        "id": "GWSjCkJwwdoy"
      },
      "source": [
        "* Word to Vector\n",
        "* 전체 데이터 내에서 단어의 사용 빈도에 따라 인덱스화\n",
        "* 정수 인덱스 '11'은 11번째로 자주 사용된 단어를 나타냄\n",
        "* num_words = 10000: 인덱스 값 10000 이하의 단어만 추출\n",
        "* 단어 인덱스 값이 10000을 넘지 않는 단어만 분석에 사용"
      ]
    },
    {
      "cell_type": "code",
      "metadata": {
        "colab": {
          "base_uri": "https://localhost:8080/"
        },
        "id": "qRpsUnkZwu50",
        "outputId": "47fe8711-4ace-455e-8d2b-0e806b618965"
      },
      "source": [
        "from keras.datasets import imdb\n",
        "\n",
        "(X_train, y_train), (X_test, y_test) = imdb.load_data(num_words = 10000)\n"
      ],
      "execution_count": 3,
      "outputs": [
        {
          "output_type": "stream",
          "text": [
            "Downloading data from https://storage.googleapis.com/tensorflow/tf-keras-datasets/imdb.npz\n",
            "17465344/17464789 [==============================] - 0s 0us/step\n"
          ],
          "name": "stdout"
        }
      ]
    },
    {
      "cell_type": "markdown",
      "metadata": {
        "id": "iO4K_dLbwwjW"
      },
      "source": [
        "> ## 2) Visualization & Frequency(Optional)\n"
      ]
    },
    {
      "cell_type": "code",
      "metadata": {
        "colab": {
          "base_uri": "https://localhost:8080/",
          "height": 424
        },
        "id": "37mfy7RWxGel",
        "outputId": "81ee98f4-5d99-4be0-8a6e-b1545d9ce287"
      },
      "source": [
        "# x-Histogram(리뷰 길이)\n",
        "\n",
        "import matplotlib.pyplot as plt\n",
        "\n",
        "print('리뷰 최대 길이 :', max(len(L)for L in X_train))\n",
        "print('리뷰 평균길이 :', sum(map(len, X_train))/len(X_train))\n",
        "\n",
        "plt.figure(figsize = (9, 6))\n",
        "plt.hist([len(L) for L in X_train], bins = 50)\n",
        "plt.xlabel('Length of X_train')\n",
        "plt.ylabel('Number of X_train')\n",
        "plt.show()\n"
      ],
      "execution_count": 6,
      "outputs": [
        {
          "output_type": "stream",
          "text": [
            "리뷰 최대 길이 : 2494\n",
            "리뷰 평균길이 : 238.71364\n"
          ],
          "name": "stdout"
        },
        {
          "output_type": "display_data",
          "data": {
            "image/png": "[encoded data removed]",
            "text/plain": [
              "<Figure size 648x432 with 1 Axes>"
            ]
          },
          "metadata": {
            "tags": [],
            "needs_background": "light"
          }
        }
      ]
    },
    {
      "cell_type": "code",
      "metadata": {
        "colab": {
          "base_uri": "https://localhost:8080/"
        },
        "id": "6UGcN_MIxcPF",
        "outputId": "49a3295d-496e-4e95-98da-996eb7986ec3"
      },
      "source": [
        "# y-Frequency(0: 부정, 1: 긍정)\n",
        "\n",
        "import numpy as np\n",
        "\n",
        "unique_elements, counts_elements = np.unique(y_train, return_counts = True)\n",
        "\n",
        "print('Label 빈도수:')\n",
        "print(np.asarray((unique_elements, counts_elements)))"
      ],
      "execution_count": 7,
      "outputs": [
        {
          "output_type": "stream",
          "text": [
            "Label 빈도수:\n",
            "[[    0     1]\n",
            " [12500 12500]]\n"
          ],
          "name": "stdout"
        }
      ]
    },
    {
      "cell_type": "markdown",
      "metadata": {
        "id": "_-oXvdjxxw5E"
      },
      "source": [
        "# II. Tensor Transformation"
      ]
    },
    {
      "cell_type": "markdown",
      "metadata": {
        "id": "MZeclnxix3Qb"
      },
      "source": [
        "> ## 1) X_train & X_test: (25000, 10000)"
      ]
    },
    {
      "cell_type": "markdown",
      "metadata": {
        "id": "tuUDRlldx67-"
      },
      "source": [
        "* vectorization\n",
        "  * (25000, 10000)"
      ]
    },
    {
      "cell_type": "code",
      "metadata": {
        "colab": {
          "base_uri": "https://localhost:8080/"
        },
        "id": "NCggre3Yx-ka",
        "outputId": "d2fffef9-44f9-4920-f4e2-5b8f6b5cf69e"
      },
      "source": [
        "from keras import preprocessing\n",
        "\n",
        "X_train = preprocessing.sequence.pad_sequences(X_train, maxlen = 10000)\n",
        "X_test = preprocessing.sequence.pad_sequences(X_test, maxlen = 10000)\n",
        "X_train.shape, X_test.shape\n"
      ],
      "execution_count": 8,
      "outputs": [
        {
          "output_type": "execute_result",
          "data": {
            "text/plain": [
              "((25000, 10000), (25000, 10000))"
            ]
          },
          "metadata": {
            "tags": []
          },
          "execution_count": 8
        }
      ]
    },
    {
      "cell_type": "code",
      "metadata": {
        "colab": {
          "base_uri": "https://localhost:8080/"
        },
        "id": "7MxP4R5CyCOb",
        "outputId": "95807313-b4a3-4a01-c5a9-5fa12e63917a"
      },
      "source": [
        "# Transformation check\n",
        "\n",
        "print(X_train[0][:21])\n",
        "print(X_train[0][9979:])\n",
        "\n",
        "print(X_test[0][:21])\n",
        "print(X_test[0][9979:])\n"
      ],
      "execution_count": 9,
      "outputs": [
        {
          "output_type": "stream",
          "text": [
            "[0 0 0 0 0 0 0 0 0 0 0 0 0 0 0 0 0 0 0 0 0]\n",
            "[ 226   65   16   38 1334   88   12   16  283    5   16 4472  113  103\n",
            "   32   15   16 5345   19  178   32]\n",
            "[0 0 0 0 0 0 0 0 0 0 0 0 0 0 0 0 0 0 0 0 0]\n",
            "[  14  286  170    8  157   46    5   27  239   16  179    2   38   32\n",
            "   25 7944  451  202   14    6  717]\n"
          ],
          "name": "stdout"
        }
      ]
    },
    {
      "cell_type": "markdown",
      "metadata": {
        "id": "4znbe6RnyNC_"
      },
      "source": [
        "> ## 2) y_train & y_test"
      ]
    },
    {
      "cell_type": "code",
      "metadata": {
        "colab": {
          "base_uri": "https://localhost:8080/"
        },
        "id": "Yd8PkG4FyTcZ",
        "outputId": "a5a7c9b4-8576-4925-beaa-ebb4fb41e4e2"
      },
      "source": [
        "y_train = np.asarray(y_train).astype(float)\n",
        "y_test = np.asarray(y_test).astype(float)\n",
        "\n",
        "print(y_train[:21])\n",
        "print(y_test[:21])\n"
      ],
      "execution_count": 10,
      "outputs": [
        {
          "output_type": "stream",
          "text": [
            "[1. 0. 0. 1. 0. 0. 1. 0. 1. 0. 1. 0. 0. 0. 0. 0. 1. 1. 0. 1. 0.]\n",
            "[0. 1. 1. 0. 1. 1. 1. 0. 0. 1. 1. 0. 0. 0. 1. 0. 1. 0. 0. 0. 1.]\n"
          ],
          "name": "stdout"
        }
      ]
    },
    {
      "cell_type": "markdown",
      "metadata": {
        "id": "nePARexnyVLB"
      },
      "source": [
        "# III. Keras Embedding Modeling"
      ]
    },
    {
      "cell_type": "markdown",
      "metadata": {
        "id": "useVtc4NyYNP"
      },
      "source": [
        "> ## 1) Model Define"
      ]
    },
    {
      "cell_type": "markdown",
      "metadata": {
        "id": "efBSmiXtyZQ9"
      },
      "source": [
        "* 모델 신경망 구조 정의\n",
        "  * Embedding Dimension: 32"
      ]
    },
    {
      "cell_type": "code",
      "metadata": {
        "id": "pjDjQh0Ayci2"
      },
      "source": [
        "from keras import models\n",
        "from keras import layers\n",
        "imdb = models.Sequential()\n",
        "\n",
        "imdb.add(layers.Embedding(10000, 32, input_length = 10000))\n",
        "\n",
        "imdb.add(layers.Flatten())\n",
        "\n",
        "imdb.add(layers.Dense(16))\n",
        "imdb.add(layers.Dropout(0.5))\n",
        "imdb.add(layers.Dense(1, activation = 'sigmoid'))\n"
      ],
      "execution_count": 12,
      "outputs": []
    },
    {
      "cell_type": "code",
      "metadata": {
        "colab": {
          "base_uri": "https://localhost:8080/"
        },
        "id": "pBYoNgrWyo1W",
        "outputId": "873640f9-cd2e-40b3-c76d-3315520ed81f"
      },
      "source": [
        "imdb.summary()"
      ],
      "execution_count": 13,
      "outputs": [
        {
          "output_type": "stream",
          "text": [
            "Model: \"sequential\"\n",
            "_________________________________________________________________\n",
            "Layer (type)                 Output Shape              Param #   \n",
            "=================================================================\n",
            "embedding (Embedding)        (None, 10000, 32)         320000    \n",
            "_________________________________________________________________\n",
            "flatten (Flatten)            (None, 320000)            0         \n",
            "_________________________________________________________________\n",
            "dense (Dense)                (None, 16)                5120016   \n",
            "_________________________________________________________________\n",
            "dropout (Dropout)            (None, 16)                0         \n",
            "_________________________________________________________________\n",
            "dense_1 (Dense)              (None, 1)                 17        \n",
            "=================================================================\n",
            "Total params: 5,440,033\n",
            "Trainable params: 5,440,033\n",
            "Non-trainable params: 0\n",
            "_________________________________________________________________\n"
          ],
          "name": "stdout"
        }
      ]
    },
    {
      "cell_type": "markdown",
      "metadata": {
        "id": "kiJ7K7g-ysOC"
      },
      "source": [
        "> ## 2) Model Compile"
      ]
    },
    {
      "cell_type": "code",
      "metadata": {
        "id": "AAGBBlpCyv6F"
      },
      "source": [
        "# 모델 학습방법 설정\n",
        "\n",
        "imdb.compile(loss = 'binary_crossentropy',\n",
        "             optimizer = 'adam',\n",
        "             metrics = ['accuracy'])\n"
      ],
      "execution_count": 16,
      "outputs": []
    },
    {
      "cell_type": "markdown",
      "metadata": {
        "id": "ksrBdKlcy8C3"
      },
      "source": [
        "> ## 3) Model Fit"
      ]
    },
    {
      "cell_type": "code",
      "metadata": {
        "colab": {
          "base_uri": "https://localhost:8080/"
        },
        "id": "X5CTSXkmy9hM",
        "outputId": "b932a150-f887-4cdb-d233-e629a6978a5d"
      },
      "source": [
        "%%time\n",
        "\n",
        "Hist_imdb = imdb.fit(X_train, y_train,\n",
        "                     epochs = 50,\n",
        "                     batch_size = 512,\n",
        "                     validation_data = (X_test, y_test))\n"
      ],
      "execution_count": 17,
      "outputs": [
        {
          "output_type": "stream",
          "text": [
            "Epoch 1/50\n",
            "49/49 [==============================] - 24s 418ms/step - loss: 2.9640 - accuracy: 0.4998 - val_loss: 0.6658 - val_accuracy: 0.6286\n",
            "Epoch 2/50\n",
            "49/49 [==============================] - 20s 415ms/step - loss: 0.5973 - accuracy: 0.6943 - val_loss: 0.3811 - val_accuracy: 0.8550\n",
            "Epoch 3/50\n",
            "49/49 [==============================] - 20s 409ms/step - loss: 0.3057 - accuracy: 0.8966 - val_loss: 0.2889 - val_accuracy: 0.8802\n",
            "Epoch 4/50\n",
            "49/49 [==============================] - 20s 407ms/step - loss: 0.2087 - accuracy: 0.9318 - val_loss: 0.2733 - val_accuracy: 0.8854\n",
            "Epoch 5/50\n",
            "49/49 [==============================] - 20s 410ms/step - loss: 0.1592 - accuracy: 0.9561 - val_loss: 0.2728 - val_accuracy: 0.8862\n",
            "Epoch 6/50\n",
            "49/49 [==============================] - 20s 410ms/step - loss: 0.1205 - accuracy: 0.9705 - val_loss: 0.2776 - val_accuracy: 0.8849\n",
            "Epoch 7/50\n",
            "49/49 [==============================] - 20s 408ms/step - loss: 0.0892 - accuracy: 0.9834 - val_loss: 0.2911 - val_accuracy: 0.8818\n",
            "Epoch 8/50\n",
            "49/49 [==============================] - 20s 408ms/step - loss: 0.0666 - accuracy: 0.9904 - val_loss: 0.2986 - val_accuracy: 0.8834\n",
            "Epoch 9/50\n",
            "49/49 [==============================] - 20s 406ms/step - loss: 0.0487 - accuracy: 0.9961 - val_loss: 0.3116 - val_accuracy: 0.8822\n",
            "Epoch 10/50\n",
            "49/49 [==============================] - 20s 408ms/step - loss: 0.0370 - accuracy: 0.9979 - val_loss: 0.3244 - val_accuracy: 0.8806\n",
            "Epoch 11/50\n",
            "49/49 [==============================] - 20s 408ms/step - loss: 0.0287 - accuracy: 0.9991 - val_loss: 0.3371 - val_accuracy: 0.8801\n",
            "Epoch 12/50\n",
            "49/49 [==============================] - 20s 411ms/step - loss: 0.0228 - accuracy: 0.9993 - val_loss: 0.3494 - val_accuracy: 0.8794\n",
            "Epoch 13/50\n",
            "49/49 [==============================] - 20s 410ms/step - loss: 0.0181 - accuracy: 0.9995 - val_loss: 0.3612 - val_accuracy: 0.8795\n",
            "Epoch 14/50\n",
            "49/49 [==============================] - 20s 410ms/step - loss: 0.0151 - accuracy: 0.9998 - val_loss: 0.3729 - val_accuracy: 0.8797\n",
            "Epoch 15/50\n",
            "49/49 [==============================] - 20s 407ms/step - loss: 0.0127 - accuracy: 0.9999 - val_loss: 0.3854 - val_accuracy: 0.8794\n",
            "Epoch 16/50\n",
            "49/49 [==============================] - 20s 407ms/step - loss: 0.0108 - accuracy: 0.9998 - val_loss: 0.3947 - val_accuracy: 0.8794\n",
            "Epoch 17/50\n",
            "49/49 [==============================] - 20s 410ms/step - loss: 0.0093 - accuracy: 1.0000 - val_loss: 0.4057 - val_accuracy: 0.8782\n",
            "Epoch 18/50\n",
            "49/49 [==============================] - 20s 410ms/step - loss: 0.0079 - accuracy: 1.0000 - val_loss: 0.4143 - val_accuracy: 0.8778\n",
            "Epoch 19/50\n",
            "49/49 [==============================] - 20s 407ms/step - loss: 0.0066 - accuracy: 1.0000 - val_loss: 0.4233 - val_accuracy: 0.8780\n",
            "Epoch 20/50\n",
            "49/49 [==============================] - 20s 406ms/step - loss: 0.0063 - accuracy: 1.0000 - val_loss: 0.4327 - val_accuracy: 0.8779\n",
            "Epoch 21/50\n",
            "49/49 [==============================] - 20s 406ms/step - loss: 0.0054 - accuracy: 1.0000 - val_loss: 0.4417 - val_accuracy: 0.8778\n",
            "Epoch 22/50\n",
            "49/49 [==============================] - 20s 410ms/step - loss: 0.0051 - accuracy: 1.0000 - val_loss: 0.4492 - val_accuracy: 0.8778\n",
            "Epoch 23/50\n",
            "49/49 [==============================] - 20s 407ms/step - loss: 0.0044 - accuracy: 1.0000 - val_loss: 0.4568 - val_accuracy: 0.8776\n",
            "Epoch 24/50\n",
            "49/49 [==============================] - 20s 406ms/step - loss: 0.0040 - accuracy: 1.0000 - val_loss: 0.4645 - val_accuracy: 0.8782\n",
            "Epoch 25/50\n",
            "49/49 [==============================] - 20s 407ms/step - loss: 0.0036 - accuracy: 1.0000 - val_loss: 0.4722 - val_accuracy: 0.8777\n",
            "Epoch 26/50\n",
            "49/49 [==============================] - 20s 407ms/step - loss: 0.0033 - accuracy: 1.0000 - val_loss: 0.4790 - val_accuracy: 0.8775\n",
            "Epoch 27/50\n",
            "49/49 [==============================] - 20s 406ms/step - loss: 0.0032 - accuracy: 1.0000 - val_loss: 0.4857 - val_accuracy: 0.8772\n",
            "Epoch 28/50\n",
            "49/49 [==============================] - 20s 407ms/step - loss: 0.0031 - accuracy: 1.0000 - val_loss: 0.4927 - val_accuracy: 0.8773\n",
            "Epoch 29/50\n",
            "49/49 [==============================] - 20s 407ms/step - loss: 0.0028 - accuracy: 0.9999 - val_loss: 0.4988 - val_accuracy: 0.8778\n",
            "Epoch 30/50\n",
            "49/49 [==============================] - 20s 407ms/step - loss: 0.0023 - accuracy: 1.0000 - val_loss: 0.5051 - val_accuracy: 0.8772\n",
            "Epoch 31/50\n",
            "49/49 [==============================] - 20s 406ms/step - loss: 0.0022 - accuracy: 1.0000 - val_loss: 0.5129 - val_accuracy: 0.8766\n",
            "Epoch 32/50\n",
            "49/49 [==============================] - 20s 407ms/step - loss: 0.0021 - accuracy: 1.0000 - val_loss: 0.5177 - val_accuracy: 0.8768\n",
            "Epoch 33/50\n",
            "49/49 [==============================] - 20s 405ms/step - loss: 0.0020 - accuracy: 1.0000 - val_loss: 0.5233 - val_accuracy: 0.8772\n",
            "Epoch 34/50\n",
            "49/49 [==============================] - 20s 409ms/step - loss: 0.0019 - accuracy: 1.0000 - val_loss: 0.5300 - val_accuracy: 0.8768\n",
            "Epoch 35/50\n",
            "49/49 [==============================] - 20s 406ms/step - loss: 0.0017 - accuracy: 1.0000 - val_loss: 0.5348 - val_accuracy: 0.8771\n",
            "Epoch 36/50\n",
            "49/49 [==============================] - 20s 406ms/step - loss: 0.0016 - accuracy: 1.0000 - val_loss: 0.5415 - val_accuracy: 0.8771\n",
            "Epoch 37/50\n",
            "49/49 [==============================] - 20s 406ms/step - loss: 0.0016 - accuracy: 1.0000 - val_loss: 0.5462 - val_accuracy: 0.8770\n",
            "Epoch 38/50\n",
            "49/49 [==============================] - 20s 405ms/step - loss: 0.0015 - accuracy: 1.0000 - val_loss: 0.5517 - val_accuracy: 0.8774\n",
            "Epoch 39/50\n",
            "49/49 [==============================] - 20s 404ms/step - loss: 0.0014 - accuracy: 1.0000 - val_loss: 0.5574 - val_accuracy: 0.8773\n",
            "Epoch 40/50\n",
            "49/49 [==============================] - 20s 405ms/step - loss: 0.0014 - accuracy: 1.0000 - val_loss: 0.5633 - val_accuracy: 0.8770\n",
            "Epoch 41/50\n",
            "49/49 [==============================] - 20s 404ms/step - loss: 0.0012 - accuracy: 1.0000 - val_loss: 0.5689 - val_accuracy: 0.8770\n",
            "Epoch 42/50\n",
            "49/49 [==============================] - 20s 406ms/step - loss: 0.0012 - accuracy: 1.0000 - val_loss: 0.5729 - val_accuracy: 0.8769\n",
            "Epoch 43/50\n",
            "49/49 [==============================] - 20s 405ms/step - loss: 0.0011 - accuracy: 1.0000 - val_loss: 0.5785 - val_accuracy: 0.8772\n",
            "Epoch 44/50\n",
            "49/49 [==============================] - 20s 405ms/step - loss: 0.0010 - accuracy: 1.0000 - val_loss: 0.5830 - val_accuracy: 0.8772\n",
            "Epoch 45/50\n",
            "49/49 [==============================] - 20s 406ms/step - loss: 0.0011 - accuracy: 1.0000 - val_loss: 0.5886 - val_accuracy: 0.8767\n",
            "Epoch 46/50\n",
            "49/49 [==============================] - 20s 406ms/step - loss: 9.0284e-04 - accuracy: 1.0000 - val_loss: 0.5926 - val_accuracy: 0.8776\n",
            "Epoch 47/50\n",
            "49/49 [==============================] - 20s 407ms/step - loss: 8.8838e-04 - accuracy: 1.0000 - val_loss: 0.5974 - val_accuracy: 0.8774\n",
            "Epoch 48/50\n",
            "49/49 [==============================] - 20s 406ms/step - loss: 8.3842e-04 - accuracy: 1.0000 - val_loss: 0.6021 - val_accuracy: 0.8773\n",
            "Epoch 49/50\n",
            "49/49 [==============================] - 20s 411ms/step - loss: 8.0622e-04 - accuracy: 1.0000 - val_loss: 0.6063 - val_accuracy: 0.8772\n",
            "Epoch 50/50\n",
            "49/49 [==============================] - 20s 413ms/step - loss: 8.6269e-04 - accuracy: 1.0000 - val_loss: 0.6122 - val_accuracy: 0.8767\n",
            "CPU times: user 16min 2s, sys: 24.6 s, total: 16min 27s\n",
            "Wall time: 16min 35s\n"
          ],
          "name": "stdout"
        }
      ]
    },
    {
      "cell_type": "markdown",
      "metadata": {
        "id": "oQHj8qegzBdO"
      },
      "source": [
        "> ## 4) 학습 결과 시각화"
      ]
    },
    {
      "cell_type": "code",
      "metadata": {
        "colab": {
          "base_uri": "https://localhost:8080/",
          "height": 404
        },
        "id": "uWt0J9u0zIRH",
        "outputId": "ef75626b-41a5-42f8-e5e5-eb917ed50aff"
      },
      "source": [
        "# Loss Visualization\n",
        "\n",
        "import matplotlib.pyplot as plt\n",
        "\n",
        "epochs = range(1, len(Hist_imdb.history['loss']) + 1)\n",
        "\n",
        "plt.figure(figsize = (9, 6))\n",
        "plt.plot(epochs, Hist_imdb.history['loss'])\n",
        "plt.plot(epochs, Hist_imdb.history['val_loss'])\n",
        "plt.title('Training & Validation Loss')\n",
        "plt.xlabel('Epochs')\n",
        "plt.ylabel('Loss')\n",
        "plt.legend(['Training Loss', 'Validation Loss'])\n",
        "plt.grid()\n",
        "plt.show()"
      ],
      "execution_count": 18,
      "outputs": [
        {
          "output_type": "display_data",
          "data": {
            "image/png": "[encoded data removed]",
            "text/plain": [
              "<Figure size 648x432 with 1 Axes>"
            ]
          },
          "metadata": {
            "tags": [],
            "needs_background": "light"
          }
        }
      ]
    },
    {
      "cell_type": "code",
      "metadata": {
        "colab": {
          "base_uri": "https://localhost:8080/",
          "height": 404
        },
        "id": "RHZdocaSzUPt",
        "outputId": "fcfec45d-93bb-4bcc-a431-362da03d2e4d"
      },
      "source": [
        "# Accuracy Visualization\n",
        "\n",
        "import matplotlib.pyplot as plt\n",
        "\n",
        "epochs = range(1, len(Hist_imdb.history['accuracy']) + 1)\n",
        "\n",
        "plt.figure(figsize = (9, 6))\n",
        "plt.plot(epochs, Hist_imdb.history['accuracy'])\n",
        "plt.plot(epochs, Hist_imdb.history['val_accuracy'])\n",
        "plt.title('Training & Validation Accuracy')\n",
        "plt.xlabel('Epochs')\n",
        "plt.ylabel('Accuracy')\n",
        "plt.legend(['Training Accuracy', 'Validation Accuracy'])\n",
        "plt.grid()\n",
        "plt.show()\n"
      ],
      "execution_count": 19,
      "outputs": [
        {
          "output_type": "display_data",
          "data": {
            "image/png": "[encoded data removed]",
            "text/plain": [
              "<Figure size 648x432 with 1 Axes>"
            ]
          },
          "metadata": {
            "tags": [],
            "needs_background": "light"
          }
        }
      ]
    },
    {
      "cell_type": "markdown",
      "metadata": {
        "id": "Ju7uHtjbzZxd"
      },
      "source": [
        "> ## 5) Model Evaluate"
      ]
    },
    {
      "cell_type": "code",
      "metadata": {
        "colab": {
          "base_uri": "https://localhost:8080/"
        },
        "id": "zdkrFg7mzdSl",
        "outputId": "216e4e4f-3047-4ed3-d897-f5caba2a3847"
      },
      "source": [
        "# Loss & Accuracy\n",
        "\n",
        "loss, accuracy = imdb.evaluate(X_test, y_test)\n",
        "\n",
        "print('Loss = {:.5f}'.format(loss))\n",
        "print('Accuracy = {:.5f}'.format(accuracy))\n"
      ],
      "execution_count": 20,
      "outputs": [
        {
          "output_type": "stream",
          "text": [
            "782/782 [==============================] - 8s 11ms/step - loss: 0.6122 - accuracy: 0.8767\n",
            "Loss = 0.61216\n",
            "Accuracy = 0.87672\n"
          ],
          "name": "stdout"
        }
      ]
    },
    {
      "cell_type": "code",
      "metadata": {
        "id": "rzKAGSrvzhdv"
      },
      "source": [
        ""
      ],
      "execution_count": null,
      "outputs": []
    }
  ]
}