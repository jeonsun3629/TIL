{
  "nbformat": 4,
  "nbformat_minor": 0,
  "metadata": {
    "colab": {
      "name": "008_Sentiment_Analysis_GPU.ipynb",
      "provenance": []
    },
    "kernelspec": {
      "name": "python3",
      "display_name": "Python 3"
    },
    "language_info": {
      "name": "python"
    },
    "accelerator": "GPU"
  },
  "cells": [
    {
      "cell_type": "markdown",
      "metadata": {
        "id": "LDVnRiLVSVpz"
      },
      "source": [
        "# Sentiment Analysis\n"
      ]
    },
    {
      "cell_type": "markdown",
      "metadata": {
        "id": "IZpBLFH-Sr67"
      },
      "source": [
        "## 네이버 영화 리뷰 데이터"
      ]
    },
    {
      "cell_type": "code",
      "metadata": {
        "id": "3SgsauBdSt-n"
      },
      "source": [
        "import warnings\n",
        "warnings.filterwarnings('ignore')"
      ],
      "execution_count": 1,
      "outputs": []
    },
    {
      "cell_type": "code",
      "metadata": {
        "id": "p6MhB96JSu5y"
      },
      "source": [
        "import numpy as np\n",
        "import keras"
      ],
      "execution_count": 2,
      "outputs": []
    },
    {
      "cell_type": "markdown",
      "metadata": {
        "id": "K05cHAHcS1jJ"
      },
      "source": [
        "# I. Naver Sentiment Movie Corpus v1.0"
      ]
    },
    {
      "cell_type": "markdown",
      "metadata": {
        "id": "yAApJfcwTHTY"
      },
      "source": [
        "> ## 1) File Download"
      ]
    },
    {
      "cell_type": "markdown",
      "metadata": {
        "id": "XwaHLrlJTJbx"
      },
      "source": [
        "* Train: 150000\n",
        "* Test: 50000"
      ]
    },
    {
      "cell_type": "code",
      "metadata": {
        "colab": {
          "base_uri": "https://localhost:8080/"
        },
        "id": "LplNxjgCTPVI",
        "outputId": "f74fcd6a-8510-44b4-fd5e-41b8b1445985"
      },
      "source": [
        "tr_url = 'https://raw.githubusercontent.com/e9t/nsmc/master/ratings_train.txt'\n",
        "path_to_train_file = keras.utils.get_file('train.txt', tr_url)\n",
        "\n",
        "te_url = 'https://raw.githubusercontent.com/e9t/nsmc/master/ratings_test.txt'\n",
        "path_to_test_file = keras.utils.get_file('test.txt', te_url)\n"
      ],
      "execution_count": 3,
      "outputs": [
        {
          "output_type": "stream",
          "text": [
            "Downloading data from https://raw.githubusercontent.com/e9t/nsmc/master/ratings_train.txt\n",
            "14630912/14628807 [==============================] - 0s 0us/step\n",
            "Downloading data from https://raw.githubusercontent.com/e9t/nsmc/master/ratings_test.txt\n",
            "4898816/4893335 [==============================] - 0s 0us/step\n"
          ],
          "name": "stdout"
        }
      ]
    },
    {
      "cell_type": "markdown",
      "metadata": {
        "id": "7rC2nzvuTSx8"
      },
      "source": [
        "> ## 2) 'X' Data"
      ]
    },
    {
      "cell_type": "markdown",
      "metadata": {
        "id": "peblc-TbTWVC"
      },
      "source": [
        "* 각 열을 Tab으로 구분\n",
        "* '0'-부정, '1'-긍정\n"
      ]
    },
    {
      "cell_type": "code",
      "metadata": {
        "colab": {
          "base_uri": "https://localhost:8080/"
        },
        "id": "ekCWf-IbTbsC",
        "outputId": "273bf29e-0a8b-43e3-ca7d-e9a1e79b0ae5"
      },
      "source": [
        "train_text = open(path_to_train_file, 'rb').read().decode(encoding = 'utf-8')\n",
        "test_text = open(path_to_test_file, 'rb').read().decode(encoding = 'utf-8')\n",
        "\n",
        "print('Length of text: {} characters'.format(len(train_text)))\n",
        "print('Length of text: {} characters'.format(len(test_text)))\n",
        "print()\n",
        "\n",
        "print(train_text[:300])"
      ],
      "execution_count": 4,
      "outputs": [
        {
          "output_type": "stream",
          "text": [
            "Length of text: 6937271 characters\n",
            "Length of text: 2318260 characters\n",
            "\n",
            "id\tdocument\tlabel\n",
            "9976970\t아 더빙.. 진짜 짜증나네요 목소리\t0\n",
            "3819312\t흠...포스터보고 초딩영화줄....오버연기조차 가볍지 않구나\t1\n",
            "10265843\t너무재밓었다그래서보는것을추천한다\t0\n",
            "9045019\t교도소 이야기구먼 ..솔직히 재미는 없다..평점 조정\t0\n",
            "6483659\t사이몬페그의 익살스런 연기가 돋보였던 영화!스파이더맨에서 늙어보이기만 했던 커스틴 던스트가 너무나도 이뻐보였다\t1\n",
            "5403919\t막 걸음마 뗀 3세부터 초등학교 1학년생인 8살용영화.ㅋㅋㅋ...별반개도 아까움.\t0\n",
            "7797314\t원작의\n"
          ],
          "name": "stdout"
        }
      ]
    },
    {
      "cell_type": "markdown",
      "metadata": {
        "id": "SHvpFzrbTzDN"
      },
      "source": [
        "> ## 3) 'y' Label"
      ]
    },
    {
      "cell_type": "markdown",
      "metadata": {
        "id": "H6J0QeCxT2TA"
      },
      "source": [
        "* 각 문장을 '\\n'으로 분리 후 3열(index 번호 2)의 값을 정수로 추출"
      ]
    },
    {
      "cell_type": "code",
      "metadata": {
        "colab": {
          "base_uri": "https://localhost:8080/"
        },
        "id": "LAwPew0mT8hb",
        "outputId": "8c8f5ef3-1e54-49ab-f61c-9942d43034a5"
      },
      "source": [
        "train_Y = np.array([[int(row.split('\\t')[2])] for row in train_text.split('\\n')[1:] if row.count('\\t') > 0])\n",
        "test_Y = np.array([[int(row.split('\\t')[2])] for row in test_text.split('\\n')[1:] if row.count('\\t') > 0])\n",
        "\n",
        "print(train_Y.shape, test_Y.shape)\n",
        "print(train_Y[:5])"
      ],
      "execution_count": 7,
      "outputs": [
        {
          "output_type": "stream",
          "text": [
            "(150000, 1) (50000, 1)\n",
            "[[0]\n",
            " [1]\n",
            " [0]\n",
            " [0]\n",
            " [1]]\n"
          ],
          "name": "stdout"
        }
      ]
    },
    {
      "cell_type": "markdown",
      "metadata": {
        "id": "b_sgQ_1zUUXi"
      },
      "source": [
        "# II. Data Cleaning"
      ]
    },
    {
      "cell_type": "markdown",
      "metadata": {
        "id": "djtBiM1vUp9R"
      },
      "source": [
        "> ## 1) 'X' Data Cleaning\n",
        "\n",
        "https://github.com/yoonkim/CNN_sentence/blob/master/process_data.py\n"
      ]
    },
    {
      "cell_type": "code",
      "metadata": {
        "id": "lfIDGMLkUrcU"
      },
      "source": [
        "import re\n",
        "\n",
        "def clean_str(string):    \n",
        "    string = re.sub(r\"[^가-힣A-Za-z0-9(),!?\\'\\`]\", \" \", string)\n",
        "    # 한글, 영문, 숫자, 괄호, 쉽표, 느낌표, 물음표, 작은따옴표('),\n",
        "    # 역따옴표(`)를 제외한 나머지는 모두 찾아서 공백(” “)으로 바꾸겠다는 뜻\n",
        "    string = re.sub(r\"\\'s\", \" \\'s\", string)\n",
        "    string = re.sub(r\"\\'ve\", \" \\'ve\", string)\n",
        "    string = re.sub(r\"n\\'t\", \" n\\'t\", string)\n",
        "    string = re.sub(r\"\\'re\", \" \\'re\", string)\n",
        "    string = re.sub(r\"\\'d\", \" \\'d\", string)\n",
        "    string = re.sub(r\"\\'ll\", \" \\'ll\", string)\n",
        "    string = re.sub(r\",\", \" , \", string)\n",
        "    string = re.sub(r\"!\", \" ! \", string)\n",
        "    string = re.sub(r\"\\(\", \" \\( \", string)\n",
        "    string = re.sub(r\"\\)\", \" \\) \", string)\n",
        "    string = re.sub(r\"\\?\", \" \\? \", string)\n",
        "    string = re.sub(r\"\\s{2,}\", \" \", string)\n",
        "    string = re.sub(r\"\\'{2,}\", \"\\'\", string)\n",
        "    string = re.sub(r\"\\'\", \"\", string)\n",
        "    return string.lower()\n",
        "\n",
        "train_text_X = [row.split('\\t')[1] for row in train_text.split('\\n')[1:] if row.count('\\t') > 0]\n",
        "train_text_X = [clean_str(sentence) for sentence in train_text_X]\n"
      ],
      "execution_count": 8,
      "outputs": []
    },
    {
      "cell_type": "markdown",
      "metadata": {
        "id": "Ymf812vLVZAD"
      },
      "source": [
        "> ## 2) 단어별 최대길이 조정"
      ]
    },
    {
      "cell_type": "code",
      "metadata": {
        "colab": {
          "base_uri": "https://localhost:8080/"
        },
        "id": "wk1s_QsrVfMy",
        "outputId": "3400b132-4a64-44d7-846a-919d2247c009"
      },
      "source": [
        "# 문장 내 단어별 길이 확인\n",
        "\n",
        "sentences = [sentence.split(' ') for sentence in train_text_X]\n",
        "\n",
        "for i in range(5):\n",
        "  print(sentences[i])"
      ],
      "execution_count": 9,
      "outputs": [
        {
          "output_type": "stream",
          "text": [
            "['아', '더빙', '진짜', '짜증나네요', '목소리']\n",
            "['흠', '포스터보고', '초딩영화줄', '오버연기조차', '가볍지', '않구나']\n",
            "['너무재밓었다그래서보는것을추천한다']\n",
            "['교도소', '이야기구먼', '솔직히', '재미는', '없다', '평점', '조정']\n",
            "['사이몬페그의', '익살스런', '연기가', '돋보였던', '영화', '!', '스파이더맨에서', '늙어보이기만', '했던', '커스틴', '던스트가', '너무나도', '이뻐보였다']\n"
          ],
          "name": "stdout"
        }
      ]
    },
    {
      "cell_type": "code",
      "metadata": {
        "colab": {
          "base_uri": "https://localhost:8080/",
          "height": 282
        },
        "id": "2Y_wongCVpFF",
        "outputId": "97904d53-2a54-4c2f-ee4f-1e43ae55c94c"
      },
      "source": [
        "# 각 문장의 단어 길이 시각화\n",
        "\n",
        "import matplotlib.pyplot as plt\n",
        "\n",
        "sentence_len = [len(sentence) for sentence in sentences]\n",
        "sentence_len.sort()\n",
        "\n",
        "plt.plot(sentence_len)\n",
        "plt.show()\n",
        "\n",
        "print(sum([int(i <= 25) for i in sentence_len]))"
      ],
      "execution_count": 11,
      "outputs": [
        {
          "output_type": "display_data",
          "data": {
            "image/png": "[encoded data removed]",
            "text/plain": [
              "<Figure size 432x288 with 1 Axes>"
            ]
          },
          "metadata": {
            "tags": [],
            "needs_background": "light"
          }
        },
        {
          "output_type": "stream",
          "text": [
            "142587\n"
          ],
          "name": "stdout"
        }
      ]
    },
    {
      "cell_type": "code",
      "metadata": {
        "colab": {
          "base_uri": "https://localhost:8080/"
        },
        "id": "JCyynherVs_z",
        "outputId": "d9edd202-c6ab-4b8a-d58b-17faa7f0622a"
      },
      "source": [
        "# 단어 앞에서부터 5글자로 자르기\n",
        "\n",
        "sentences_new = []\n",
        "\n",
        "for sentence in sentences:\n",
        "  sentences_new.append([word[:5] for word in sentence][:25])\n",
        "\n",
        "sentences = sentences_new\n",
        "\n",
        "for i in range(5):\n",
        "  print(sentences[i])"
      ],
      "execution_count": 15,
      "outputs": [
        {
          "output_type": "stream",
          "text": [
            "['아', '더빙', '진짜', '짜증나네요', '목소리']\n",
            "['흠', '포스터보고', '초딩영화줄', '오버연기조', '가볍지', '않구나']\n",
            "['너무재밓었']\n",
            "['교도소', '이야기구먼', '솔직히', '재미는', '없다', '평점', '조정']\n",
            "['사이몬페그', '익살스런', '연기가', '돋보였던', '영화', '!', '스파이더맨', '늙어보이기', '했던', '커스틴', '던스트가', '너무나도', '이뻐보였다']\n"
          ],
          "name": "stdout"
        }
      ]
    },
    {
      "cell_type": "markdown",
      "metadata": {
        "id": "mJW1F5DsWEjv"
      },
      "source": [
        "# III. 'tokenizer()' and 'pad_sequences'"
      ]
    },
    {
      "cell_type": "markdown",
      "metadata": {
        "id": "0804RMNlWmAv"
      },
      "source": [
        "> ## 1) '20000'개 단어 사용"
      ]
    },
    {
      "cell_type": "code",
      "metadata": {
        "colab": {
          "base_uri": "https://localhost:8080/"
        },
        "id": "paRleWmOWo0Q",
        "outputId": "16d76202-43cc-4c54-edcf-cdafe7989ca1"
      },
      "source": [
        "from keras.preprocessing.text import Tokenizer\n",
        "from keras.preprocessing.sequence import pad_sequences\n",
        "\n",
        "tokenizer = Tokenizer(num_words = 20000)\n",
        "tokenizer.fit_on_texts(sentences)\n",
        "train_X = tokenizer.texts_to_sequences(sentences)\n",
        "\n",
        "train_X = pad_sequences(train_X, padding = 'post')\n",
        "\n",
        "print(train_X[:5])"
      ],
      "execution_count": 16,
      "outputs": [
        {
          "output_type": "stream",
          "text": [
            "[[   25   884     8  5795  1111     0     0     0     0     0     0     0\n",
            "      0     0     0     0     0     0     0     0     0     0     0     0\n",
            "      0]\n",
            " [  588  5796  6697     0     0     0     0     0     0     0     0     0\n",
            "      0     0     0     0     0     0     0     0     0     0     0     0\n",
            "      0]\n",
            " [    0     0     0     0     0     0     0     0     0     0     0     0\n",
            "      0     0     0     0     0     0     0     0     0     0     0     0\n",
            "      0]\n",
            " [   71   346    31    35 10468     0     0     0     0     0     0     0\n",
            "      0     0     0     0     0     0     0     0     0     0     0     0\n",
            "      0]\n",
            " [  106  5338     4     2  2169   869   573     0     0     0     0     0\n",
            "      0     0     0     0     0     0     0     0     0     0     0     0\n",
            "      0]]\n"
          ],
          "name": "stdout"
        }
      ]
    },
    {
      "cell_type": "markdown",
      "metadata": {
        "id": "bV4LSC3RWs51"
      },
      "source": [
        "> ## 2) tokenizer() 동작 확인"
      ]
    },
    {
      "cell_type": "markdown",
      "metadata": {
        "id": "J2pcXRNjW1g9"
      },
      "source": [
        "* 존재하는 단어 매핑\n",
        "  * '경우는', '잊혀질'"
      ]
    },
    {
      "cell_type": "code",
      "metadata": {
        "colab": {
          "base_uri": "https://localhost:8080/"
        },
        "id": "QxuJ2yRfW44s",
        "outputId": "fa185d09-d029-47f0-fe72-b1018488bd40"
      },
      "source": [
        "print(tokenizer.index_word[19999])\n",
        "print(tokenizer.index_word[20000])\n",
        "\n",
        "temp = tokenizer.texts_to_sequences(['#$#$#', '경우는', '잊혀질', '연기가'])\n",
        "print(temp)\n",
        "\n",
        "temp = pad_sequences(temp, padding = 'post')\n",
        "print(temp) \n"
      ],
      "execution_count": 17,
      "outputs": [
        {
          "output_type": "stream",
          "text": [
            "경우는\n",
            "잊혀질\n",
            "[[], [19999], [], [106]]\n",
            "[[    0]\n",
            " [19999]\n",
            " [    0]\n",
            " [  106]]\n"
          ],
          "name": "stdout"
        }
      ]
    },
    {
      "cell_type": "markdown",
      "metadata": {
        "id": "esE71UHUXAEZ"
      },
      "source": [
        "# IV. Modeling"
      ]
    },
    {
      "cell_type": "markdown",
      "metadata": {
        "id": "oCp7YlBmXEbZ"
      },
      "source": [
        "> ## 1) Model Structure"
      ]
    },
    {
      "cell_type": "code",
      "metadata": {
        "colab": {
          "base_uri": "https://localhost:8080/"
        },
        "id": "gW39AaaPXHNk",
        "outputId": "8e1bb2ec-4b4f-4e2a-c618-87d947e66654"
      },
      "source": [
        "from keras import models, layers\n",
        "\n",
        "model = models.Sequential()\n",
        "\n",
        "model.add(layers.Embedding(20000, 300, input_length = 25))\n",
        "\n",
        "model.add(layers.LSTM(32))\n",
        "model.add(layers.Dropout(0.5))\n",
        "model.add(layers.Dense(2, activation = 'softmax'))\n",
        "\n",
        "model.compile(loss = 'sparse_categorical_crossentropy',\n",
        "              optimizer = 'adam',\n",
        "              metrics = ['accuracy'])\n",
        "\n",
        "model.summary()"
      ],
      "execution_count": 21,
      "outputs": [
        {
          "output_type": "stream",
          "text": [
            "Model: \"sequential_2\"\n",
            "_________________________________________________________________\n",
            "Layer (type)                 Output Shape              Param #   \n",
            "=================================================================\n",
            "embedding_2 (Embedding)      (None, 25, 300)           6000000   \n",
            "_________________________________________________________________\n",
            "lstm_2 (LSTM)                (None, 32)                42624     \n",
            "_________________________________________________________________\n",
            "dropout_2 (Dropout)          (None, 32)                0         \n",
            "_________________________________________________________________\n",
            "dense_1 (Dense)              (None, 2)                 66        \n",
            "=================================================================\n",
            "Total params: 6,042,690\n",
            "Trainable params: 6,042,690\n",
            "Non-trainable params: 0\n",
            "_________________________________________________________________\n"
          ],
          "name": "stdout"
        }
      ]
    },
    {
      "cell_type": "markdown",
      "metadata": {
        "id": "pESicL1rXhjZ"
      },
      "source": [
        "> ## 2) Model Fit"
      ]
    },
    {
      "cell_type": "code",
      "metadata": {
        "colab": {
          "base_uri": "https://localhost:8080/"
        },
        "id": "x23a_S5ZXkJt",
        "outputId": "82e09f62-244e-4db2-9517-b6abf374585f"
      },
      "source": [
        "%%time\n",
        "\n",
        "history = model.fit(train_X, train_Y, \n",
        "                    epochs = 10, \n",
        "                    batch_size = 128, \n",
        "                    validation_split = 0.2)\n"
      ],
      "execution_count": 22,
      "outputs": [
        {
          "output_type": "stream",
          "text": [
            "Epoch 1/10\n",
            "938/938 [==============================] - 104s 78ms/step - loss: 0.5200 - accuracy: 0.7098 - val_loss: 0.3930 - val_accuracy: 0.8092\n",
            "Epoch 2/10\n",
            "938/938 [==============================] - 73s 78ms/step - loss: 0.3235 - accuracy: 0.8521 - val_loss: 0.4057 - val_accuracy: 0.8231\n",
            "Epoch 3/10\n",
            "938/938 [==============================] - 74s 78ms/step - loss: 0.2689 - accuracy: 0.8735 - val_loss: 0.4143 - val_accuracy: 0.8163\n",
            "Epoch 4/10\n",
            "938/938 [==============================] - 74s 79ms/step - loss: 0.2265 - accuracy: 0.8913 - val_loss: 0.5327 - val_accuracy: 0.8094\n",
            "Epoch 5/10\n",
            "938/938 [==============================] - 74s 79ms/step - loss: 0.1952 - accuracy: 0.9053 - val_loss: 0.5641 - val_accuracy: 0.8044\n",
            "Epoch 6/10\n",
            "938/938 [==============================] - 75s 80ms/step - loss: 0.1693 - accuracy: 0.9167 - val_loss: 0.5892 - val_accuracy: 0.8000\n",
            "Epoch 7/10\n",
            "938/938 [==============================] - 75s 79ms/step - loss: 0.1503 - accuracy: 0.9269 - val_loss: 0.6843 - val_accuracy: 0.8081\n",
            "Epoch 8/10\n",
            "938/938 [==============================] - 74s 79ms/step - loss: 0.1362 - accuracy: 0.9316 - val_loss: 0.6839 - val_accuracy: 0.8047\n",
            "Epoch 9/10\n",
            "938/938 [==============================] - 74s 79ms/step - loss: 0.1260 - accuracy: 0.9365 - val_loss: 0.7875 - val_accuracy: 0.7983\n",
            "Epoch 10/10\n",
            "938/938 [==============================] - 74s 79ms/step - loss: 0.1151 - accuracy: 0.9400 - val_loss: 0.7945 - val_accuracy: 0.8026\n",
            "CPU times: user 20min 26s, sys: 37.6 s, total: 21min 3s\n",
            "Wall time: 12min 51s\n"
          ],
          "name": "stdout"
        }
      ]
    },
    {
      "cell_type": "markdown",
      "metadata": {
        "id": "kZ8U8lEsXtWe"
      },
      "source": [
        "# V. Validation"
      ]
    },
    {
      "cell_type": "markdown",
      "metadata": {
        "id": "Pr3b1z8MX0X6"
      },
      "source": [
        "> ## 1) Visualization"
      ]
    },
    {
      "cell_type": "code",
      "metadata": {
        "colab": {
          "base_uri": "https://localhost:8080/",
          "height": 283
        },
        "id": "SWubm_IHX1zg",
        "outputId": "7f569764-f059-43bc-c139-665b42434fe8"
      },
      "source": [
        "import matplotlib.pyplot as plt\n",
        "\n",
        "plt.figure(figsize = (12, 4))\n",
        "\n",
        "plt.subplot(1, 2, 1)\n",
        "plt.plot(history.history['loss'], 'b-', label = 'loss')\n",
        "plt.plot(history.history['val_loss'], 'r--', label = 'val_loss')\n",
        "plt.xlabel('Epoch')\n",
        "plt.legend()\n",
        "\n",
        "plt.subplot(1, 2, 2)\n",
        "plt.plot(history.history['accuracy'], 'g-', label = 'accuracy')\n",
        "plt.plot(history.history['val_accuracy'], 'k--', label = 'val_accuracy')\n",
        "plt.xlabel('Epoch')\n",
        "plt.ylim(0.7, 1)\n",
        "\n",
        "plt.legend()\n",
        "plt.show()\n"
      ],
      "execution_count": 23,
      "outputs": [
        {
          "output_type": "display_data",
          "data": {
            "image/png": "[encoded data removed]",
            "text/plain": [
              "<Figure size 864x288 with 2 Axes>"
            ]
          },
          "metadata": {
            "tags": [],
            "needs_background": "light"
          }
        }
      ]
    },
    {
      "cell_type": "markdown",
      "metadata": {
        "id": "sm0w9Z7EX83g"
      },
      "source": [
        "> ## [Loss, Accuracy]"
      ]
    },
    {
      "cell_type": "code",
      "metadata": {
        "colab": {
          "base_uri": "https://localhost:8080/"
        },
        "id": "xXcO3P2tYE90",
        "outputId": "726ba67e-eeef-4243-9f7d-ca2d721a13dc"
      },
      "source": [
        "test_text_X = [row.split('\\t')[1] for row in test_text.split('\\n')[1:] if row.count('\\t') > 0]\n",
        "test_text_X = [clean_str(sentence) for sentence in test_text_X]\n",
        "\n",
        "sentences = [sentence.split(' ') for sentence in test_text_X]\n",
        "\n",
        "sentences_new = []\n",
        "\n",
        "for sentence in sentences:\n",
        "    sentences_new.append([word[:5] for word in sentence][:25])\n",
        "sentences = sentences_new\n",
        "\n",
        "test_X = tokenizer.texts_to_sequences(sentences)\n",
        "test_X = pad_sequences(test_X, padding = 'post')\n",
        "\n",
        "model.evaluate(test_X, test_Y, verbose = 0)\n"
      ],
      "execution_count": 24,
      "outputs": [
        {
          "output_type": "execute_result",
          "data": {
            "text/plain": [
              "[0.826222836971283, 0.7948399782180786]"
            ]
          },
          "metadata": {
            "tags": []
          },
          "execution_count": 24
        }
      ]
    },
    {
      "cell_type": "markdown",
      "metadata": {
        "id": "J3LQWFkcYUAS"
      },
      "source": [
        "# VI. 문장 감성 분석"
      ]
    },
    {
      "cell_type": "markdown",
      "metadata": {
        "id": "InPlCdWPYWWc"
      },
      "source": [
        "* 입력 단어에 따라서 감성 분석 결과 변화\n",
        "  * 긍정('1') -> 부정('0')\n",
        "  "
      ]
    },
    {
      "cell_type": "code",
      "metadata": {
        "colab": {
          "base_uri": "https://localhost:8080/"
        },
        "id": "eVawCR4aYcoS",
        "outputId": "9112c57d-18ca-406d-a10b-7cb762ecb1a2"
      },
      "source": [
        "test_sentence = '재미있을 줄 알았는데 완전 실망했다. 너무 졸리고 돈이 아까웠다.'\n",
        "test_sentece = test_sentence.split(' ')\n",
        "\n",
        "test_sentences = []\n",
        "now_sentence = []\n",
        "\n",
        "for word in test_sentece:\n",
        "  now_sentence.append(word)\n",
        "  test_sentences.append(now_sentence[:])\n",
        "\n",
        "test_X_1 = tokenizer.texts_to_sequences(test_sentences)\n",
        "test_X_1 = pad_sequences(test_X_1, padding = 'post', maxlen = 25)\n",
        "\n",
        "prediction = model.predict(test_X_1)\n",
        "\n",
        "for idx, sentence in enumerate(test_sentences):\n",
        "  print(sentence)\n",
        "  print(prediction[idx])"
      ],
      "execution_count": 30,
      "outputs": [
        {
          "output_type": "stream",
          "text": [
            "['재미있을']\n",
            "[0.18729298 0.81270707]\n",
            "['재미있을', '줄']\n",
            "[0.23327802 0.7667219 ]\n",
            "['재미있을', '줄', '알았는데']\n",
            "[0.20125127 0.79874873]\n",
            "['재미있을', '줄', '알았는데', '완전']\n",
            "[0.14805809 0.85194194]\n",
            "['재미있을', '줄', '알았는데', '완전', '실망했다.']\n",
            "[0.14805809 0.85194194]\n",
            "['재미있을', '줄', '알았는데', '완전', '실망했다.', '너무']\n",
            "[0.09145235 0.9085477 ]\n",
            "['재미있을', '줄', '알았는데', '완전', '실망했다.', '너무', '졸리고']\n",
            "[0.998735   0.00126494]\n",
            "['재미있을', '줄', '알았는데', '완전', '실망했다.', '너무', '졸리고', '돈이']\n",
            "[9.997737e-01 2.263476e-04]\n",
            "['재미있을', '줄', '알았는데', '완전', '실망했다.', '너무', '졸리고', '돈이', '아까웠다.']\n",
            "[9.997737e-01 2.263476e-04]\n"
          ],
          "name": "stdout"
        }
      ]
    },
    {
      "cell_type": "code",
      "metadata": {
        "id": "2lSrwxJLZIWL"
      },
      "source": [
        ""
      ],
      "execution_count": null,
      "outputs": []
    }
  ]
}