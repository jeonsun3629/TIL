{
  "nbformat": 4,
  "nbformat_minor": 0,
  "metadata": {
    "colab": {
      "name": "Error_Backpropagation.ipynb",
      "provenance": []
    },
    "kernelspec": {
      "name": "python3",
      "display_name": "Python 3"
    }
  },
  "cells": [
    {
      "cell_type": "markdown",
      "metadata": {
        "id": "0V6jDK8LZjll"
      },
      "source": [
        "# Error Backpropagation\r\n"
      ]
    },
    {
      "cell_type": "code",
      "metadata": {
        "id": "OMLsSck6ZySH"
      },
      "source": [
        "import warnings\r\n",
        "warnings.filterwarnings('ignore')"
      ],
      "execution_count": 1,
      "outputs": []
    },
    {
      "cell_type": "markdown",
      "metadata": {
        "id": "Wx6vqt46Z1FF"
      },
      "source": [
        "# I. 실습용 데이터 생성"
      ]
    },
    {
      "cell_type": "code",
      "metadata": {
        "id": "kD8biUD9Z3VX"
      },
      "source": [
        "import numpy as np\r\n",
        "np.set_printoptions(suppress = True, precision = 3)"
      ],
      "execution_count": 2,
      "outputs": []
    },
    {
      "cell_type": "markdown",
      "metadata": {
        "id": "B2JMQsfHZ8DB"
      },
      "source": [
        "> ## 1) input : X (4 * 3)"
      ]
    },
    {
      "cell_type": "code",
      "metadata": {
        "colab": {
          "base_uri": "https://localhost:8080/"
        },
        "id": "aH1HL_qWaAFL",
        "outputId": "08e28480-3e37-4bfd-eb96-f4dd65326137"
      },
      "source": [
        "X = np.array([[0, 0, 1],\r\n",
        "             [0, 1, 1],\r\n",
        "             [1, 0, 1],\r\n",
        "             [1, 1, 1]])\r\n",
        "\r\n",
        "X"
      ],
      "execution_count": 3,
      "outputs": [
        {
          "output_type": "execute_result",
          "data": {
            "text/plain": [
              "array([[0, 0, 1],\n",
              "       [0, 1, 1],\n",
              "       [1, 0, 1],\n",
              "       [1, 1, 1]])"
            ]
          },
          "metadata": {
            "tags": []
          },
          "execution_count": 3
        }
      ]
    },
    {
      "cell_type": "markdown",
      "metadata": {
        "id": "qZ0kmEXGaLHm"
      },
      "source": [
        "> ## 2) Output : y (4 * 1)"
      ]
    },
    {
      "cell_type": "code",
      "metadata": {
        "colab": {
          "base_uri": "https://localhost:8080/"
        },
        "id": "6kTgWx7OaQOI",
        "outputId": "046e8f6d-2547-41b9-b987-e765be96c1f3"
      },
      "source": [
        "y = np.array([0., 1., 1., 0.]).reshape(4, 1)\r\n",
        "\r\n",
        "y"
      ],
      "execution_count": 4,
      "outputs": [
        {
          "output_type": "execute_result",
          "data": {
            "text/plain": [
              "array([[0.],\n",
              "       [1.],\n",
              "       [1.],\n",
              "       [0.]])"
            ]
          },
          "metadata": {
            "tags": []
          },
          "execution_count": 4
        }
      ]
    },
    {
      "cell_type": "markdown",
      "metadata": {
        "id": "ozXQp0_GaXem"
      },
      "source": [
        "> ## 3) W1 (3 * 4)"
      ]
    },
    {
      "cell_type": "code",
      "metadata": {
        "id": "42qXKbrUagI3"
      },
      "source": [
        "np.random.seed(2045)\r\n",
        "W1 = np.random.rand(3, 4)"
      ],
      "execution_count": 5,
      "outputs": []
    },
    {
      "cell_type": "code",
      "metadata": {
        "colab": {
          "base_uri": "https://localhost:8080/"
        },
        "id": "lwYDP9sPajpC",
        "outputId": "95b74689-3788-44d6-e1ad-6e3232972a2d"
      },
      "source": [
        "W1"
      ],
      "execution_count": 6,
      "outputs": [
        {
          "output_type": "execute_result",
          "data": {
            "text/plain": [
              "array([[0.844, 0.886, 0.139, 0.061],\n",
              "       [0.192, 0.532, 0.155, 0.827],\n",
              "       [0.92 , 0.015, 0.49 , 0.692]])"
            ]
          },
          "metadata": {
            "tags": []
          },
          "execution_count": 6
        }
      ]
    },
    {
      "cell_type": "markdown",
      "metadata": {
        "id": "F6_cHJhfakbm"
      },
      "source": [
        "> ## 4) W2 (4 *1)"
      ]
    },
    {
      "cell_type": "code",
      "metadata": {
        "id": "cDij_4J2asUH"
      },
      "source": [
        "np.random.seed(2045)\r\n",
        "W2 = np.random.rand(4)"
      ],
      "execution_count": 7,
      "outputs": []
    },
    {
      "cell_type": "code",
      "metadata": {
        "colab": {
          "base_uri": "https://localhost:8080/"
        },
        "id": "WXTT3JfgavI-",
        "outputId": "02d89bf5-a702-4aa3-b4a9-74515434937b"
      },
      "source": [
        "W2 = W2.reshape(4, 1)\r\n",
        "W2"
      ],
      "execution_count": 8,
      "outputs": [
        {
          "output_type": "execute_result",
          "data": {
            "text/plain": [
              "array([[0.844],\n",
              "       [0.886],\n",
              "       [0.139],\n",
              "       [0.061]])"
            ]
          },
          "metadata": {
            "tags": []
          },
          "execution_count": 8
        }
      ]
    },
    {
      "cell_type": "markdown",
      "metadata": {
        "id": "wPWzariuaw0D"
      },
      "source": [
        "> ## 5) y_hat (4* 1)"
      ]
    },
    {
      "cell_type": "code",
      "metadata": {
        "colab": {
          "base_uri": "https://localhost:8080/"
        },
        "id": "Mi6bhKIcbHcx",
        "outputId": "a89d88b9-7e12-475f-9776-01ba8a6fedca"
      },
      "source": [
        "np.random.seed(2045)\r\n",
        "y_hat = np.random.rand(4).reshape(4, 1)\r\n",
        "\r\n",
        "y_hat"
      ],
      "execution_count": 9,
      "outputs": [
        {
          "output_type": "execute_result",
          "data": {
            "text/plain": [
              "array([[0.844],\n",
              "       [0.886],\n",
              "       [0.139],\n",
              "       [0.061]])"
            ]
          },
          "metadata": {
            "tags": []
          },
          "execution_count": 9
        }
      ]
    },
    {
      "cell_type": "markdown",
      "metadata": {
        "id": "pbDMLTI_bNFl"
      },
      "source": [
        "> ## 6) Layer1 (4 * 4)"
      ]
    },
    {
      "cell_type": "code",
      "metadata": {
        "id": "1ki3YnB-bQNC"
      },
      "source": [
        "Layer1 = np.ones([4, 4])"
      ],
      "execution_count": 10,
      "outputs": []
    },
    {
      "cell_type": "code",
      "metadata": {
        "colab": {
          "base_uri": "https://localhost:8080/"
        },
        "id": "3WWEiokBbT3F",
        "outputId": "b476b950-76da-4e84-bb3f-88243df2754b"
      },
      "source": [
        "Layer1"
      ],
      "execution_count": 11,
      "outputs": [
        {
          "output_type": "execute_result",
          "data": {
            "text/plain": [
              "array([[1., 1., 1., 1.],\n",
              "       [1., 1., 1., 1.],\n",
              "       [1., 1., 1., 1.],\n",
              "       [1., 1., 1., 1.]])"
            ]
          },
          "metadata": {
            "tags": []
          },
          "execution_count": 11
        }
      ]
    },
    {
      "cell_type": "markdown",
      "metadata": {
        "id": "dFRH70RGbVYO"
      },
      "source": [
        "# II. 함수 정의"
      ]
    },
    {
      "cell_type": "markdown",
      "metadata": {
        "id": "xalImfMZbfi4"
      },
      "source": [
        "> ## 1) sigmoid()"
      ]
    },
    {
      "cell_type": "markdown",
      "metadata": {
        "id": "9sdSrP7GbiQE"
      },
      "source": [
        "* Activation Function"
      ]
    },
    {
      "cell_type": "code",
      "metadata": {
        "id": "G3JUNN2YbkYy"
      },
      "source": [
        "def sigmoid(x):\r\n",
        "  y = 1/ (1 + np.exp(-x))\r\n",
        "  return y"
      ],
      "execution_count": 12,
      "outputs": []
    },
    {
      "cell_type": "markdown",
      "metadata": {
        "id": "5Kig3DklbpR2"
      },
      "source": [
        "> ## 2) d_sigmoid()"
      ]
    },
    {
      "cell_type": "markdown",
      "metadata": {
        "id": "EQ48KG6VbsRJ"
      },
      "source": [
        "* sigmoid() 미분함수"
      ]
    },
    {
      "cell_type": "code",
      "metadata": {
        "id": "Dzoe2T-BbtuG"
      },
      "source": [
        "def d_sigmoid(x):\r\n",
        "  dy = x * (1.0 - x)\r\n",
        "  return dy"
      ],
      "execution_count": 13,
      "outputs": []
    },
    {
      "cell_type": "markdown",
      "metadata": {
        "id": "1v0HmkMDbzV2"
      },
      "source": [
        "> ## 3) Loss function"
      ]
    },
    {
      "cell_type": "markdown",
      "metadata": {
        "id": "B8a-k_ycb2Be"
      },
      "source": [
        "* Mean Squared Error"
      ]
    },
    {
      "cell_type": "code",
      "metadata": {
        "id": "fFWiH9l5b37n"
      },
      "source": [
        "# def loss_function(y, y_hat):\r\n",
        "#   Loss = np.mean((y - y_hat) ** 2)\r\n",
        "#   return Loss "
      ],
      "execution_count": 14,
      "outputs": []
    },
    {
      "cell_type": "markdown",
      "metadata": {
        "id": "W9lxFAu4b6bS"
      },
      "source": [
        "* Binary Cross Entropy Error"
      ]
    },
    {
      "cell_type": "code",
      "metadata": {
        "id": "qmXnc9R3b9Yg"
      },
      "source": [
        "def loss_function(y, y_hat):\r\n",
        "  Loss = -np.mean((y * np.log(y_hat) + (1 - y) * np.log(1 - y_hat)))\r\n",
        "  return Loss"
      ],
      "execution_count": 15,
      "outputs": []
    },
    {
      "cell_type": "markdown",
      "metadata": {
        "id": "ZhZ3xxbecJJL"
      },
      "source": [
        "# III. 순방향과 역방향 함수 정의"
      ]
    },
    {
      "cell_type": "markdown",
      "metadata": {
        "id": "MKSAQG9ccpbz"
      },
      "source": [
        "> ## 1) Forward_Propagation"
      ]
    },
    {
      "cell_type": "markdown",
      "metadata": {
        "id": "QdnmvpJHcrs8"
      },
      "source": [
        "* Layer1 Output\r\n",
        "  * Layer1 = sigmoid(np.dot(X, W1))\r\n",
        "* y_hat Output\r\n",
        "  * y_hat = sigmoid(np.dot(Layer1, W2))"
      ]
    },
    {
      "cell_type": "code",
      "metadata": {
        "id": "N2wMVfvSc9E7"
      },
      "source": [
        "def forwardProp(X, W1, Layer1, W2, y_hat):\r\n",
        "  Layer1 = sigmoid(np.dot(X, W1))\r\n",
        "  y_hat = sigmoid(np.dot(Layer1, W2))\r\n",
        "\r\n",
        "  return Layer1, y_hat"
      ],
      "execution_count": 16,
      "outputs": []
    },
    {
      "cell_type": "markdown",
      "metadata": {
        "id": "L7YLVIj8dLBV"
      },
      "source": [
        "> ## 2) Back_Propagation"
      ]
    },
    {
      "cell_type": "markdown",
      "metadata": {
        "id": "TDOoNBoAdN1P"
      },
      "source": [
        "* d_W2\r\n",
        "  * d_W2 = np.dot(np.transpose(Layer1), (-2 * (y - y_hat) * d_sigmoid(y_hat)))\r\n",
        "\r\n",
        "* d_W1\r\n",
        "  * d_W1 = np.dot((-2 * (y - y_hat) * d_sigmoid(y_hat)), np.transpose(W2))\r\n",
        "  * d_W1 = d_W1 * d_sigmoid(Layer1)\r\n",
        "  * d_W1 = np.dot(np.transpose(X), d_W1)\r\n",
        "* Gradient Descent\r\n",
        "  * W1 = W1 - (0.001 * d_W1)\r\n",
        "  * W2 = W2 - (0.001 * d_W2)"
      ]
    },
    {
      "cell_type": "code",
      "metadata": {
        "id": "oMsTPxy2df00"
      },
      "source": [
        "def backProp(X, y, y_hat, Layer1, W1, W2):\r\n",
        "    d_W2 = np.dot(np.transpose(Layer1), (-2 * (y - y_hat) * d_sigmoid(y_hat)))\r\n",
        "    \r\n",
        "    d_W1 = np.dot((-2 * (y - y_hat) * d_sigmoid(y_hat)), np.transpose(W2))\r\n",
        "    d_W1 = d_W1 * d_sigmoid(Layer1)\r\n",
        "    d_W1 = np.dot(np.transpose(X), d_W1)\r\n",
        "    \r\n",
        "    W1 = W1 - d_W1\r\n",
        "    W2 = W2 - d_W2\r\n",
        "    \r\n",
        "    return y_hat, Layer1, W1, W2\r\n"
      ],
      "execution_count": 17,
      "outputs": []
    },
    {
      "cell_type": "markdown",
      "metadata": {
        "id": "j3T0CUm0d0PA"
      },
      "source": [
        "# IV. 오차역전파를 적용한 Gradient Descent"
      ]
    },
    {
      "cell_type": "markdown",
      "metadata": {
        "id": "V0N2vkb5eGZJ"
      },
      "source": [
        "* 학습 과정의 Loss값 저장 객체"
      ]
    },
    {
      "cell_type": "code",
      "metadata": {
        "id": "6WpmMY06eI-D"
      },
      "source": [
        "Loss_Record = []"
      ],
      "execution_count": 18,
      "outputs": []
    },
    {
      "cell_type": "markdown",
      "metadata": {
        "id": "ftJF5cxOeKQE"
      },
      "source": [
        "> ## 1) Learning with Error Backpropagation"
      ]
    },
    {
      "cell_type": "code",
      "metadata": {
        "id": "DiTmtWCBeRuP"
      },
      "source": [
        "for k in range(0, 1000):\r\n",
        "  Layer1, y_hat = forwardProp(X, W1, Layer1, W2, y_hat)\r\n",
        "  y_hat, Layer1, W1, W2 = backProp(X, y, y_hat, Layer1, W1, W2)\r\n",
        "\r\n",
        "  Loss_Record.append(loss_function(y, y_hat))\r\n",
        "  \r\n",
        "  # forward, backward를 1000번 반복하여 학습\r\n",
        "  # MSE는 Loss_Record에 append"
      ],
      "execution_count": 26,
      "outputs": []
    },
    {
      "cell_type": "markdown",
      "metadata": {
        "id": "_Lhplk08eiJU"
      },
      "source": [
        "> ## 2) Parameter Update Check"
      ]
    },
    {
      "cell_type": "markdown",
      "metadata": {
        "id": "355-5nVBekLo"
      },
      "source": [
        "* W1"
      ]
    },
    {
      "cell_type": "code",
      "metadata": {
        "colab": {
          "base_uri": "https://localhost:8080/"
        },
        "id": "zHG6XZ3TeuyY",
        "outputId": "76a5a039-f8f2-41ef-ab60-1f41db8e4c53"
      },
      "source": [
        "W1"
      ],
      "execution_count": 20,
      "outputs": [
        {
          "output_type": "execute_result",
          "data": {
            "text/plain": [
              "array([[ 1.048,  5.271,  6.361, -3.868],\n",
              "       [ 0.881,  5.475, -2.506,  6.596],\n",
              "       [ 1.591, -0.916, -0.21 ,  1.055]])"
            ]
          },
          "metadata": {
            "tags": []
          },
          "execution_count": 20
        }
      ]
    },
    {
      "cell_type": "markdown",
      "metadata": {
        "id": "oYdzeILNevUM"
      },
      "source": [
        "* W2"
      ]
    },
    {
      "cell_type": "code",
      "metadata": {
        "colab": {
          "base_uri": "https://localhost:8080/"
        },
        "id": "_bm4LC6eewn2",
        "outputId": "f17ddbc2-c84e-4ba1-cf8c-31d9f1280a69"
      },
      "source": [
        "W2"
      ],
      "execution_count": 21,
      "outputs": [
        {
          "output_type": "execute_result",
          "data": {
            "text/plain": [
              "array([[ 1.96 ],\n",
              "       [ 9.22 ],\n",
              "       [-7.269],\n",
              "       [-7.238]])"
            ]
          },
          "metadata": {
            "tags": []
          },
          "execution_count": 21
        }
      ]
    },
    {
      "cell_type": "markdown",
      "metadata": {
        "id": "RKuqOBFWezJv"
      },
      "source": [
        "* y_hat"
      ]
    },
    {
      "cell_type": "code",
      "metadata": {
        "colab": {
          "base_uri": "https://localhost:8080/"
        },
        "id": "lT24UZlGe7UK",
        "outputId": "2f6e9d45-1672-4fa0-f71c-cd0cd32b0a5d"
      },
      "source": [
        "# y_hat.round()\r\n",
        "y_hat"
      ],
      "execution_count": 22,
      "outputs": [
        {
          "output_type": "execute_result",
          "data": {
            "text/plain": [
              "array([[0.013],\n",
              "       [0.963],\n",
              "       [0.963],\n",
              "       [0.046]])"
            ]
          },
          "metadata": {
            "tags": []
          },
          "execution_count": 22
        }
      ]
    },
    {
      "cell_type": "markdown",
      "metadata": {
        "id": "bqVuYSm6exBV"
      },
      "source": [
        "> ## 3) Visualization"
      ]
    },
    {
      "cell_type": "code",
      "metadata": {
        "colab": {
          "base_uri": "https://localhost:8080/",
          "height": 374
        },
        "id": "TcdjQs52e6rZ",
        "outputId": "80a8d57f-777a-4992-ec7a-b9837fa5db59"
      },
      "source": [
        "import matplotlib.pyplot as plt\r\n",
        "\r\n",
        "plt.figure(figsize = (9, 6))\r\n",
        "plt.plot(Loss_Record)\r\n",
        "plt.show()"
      ],
      "execution_count": 23,
      "outputs": [
        {
          "output_type": "display_data",
          "data": {
            "image/png": "[encoded data removed]",
            "text/plain": [
              "<Figure size 648x432 with 1 Axes>"
            ]
          },
          "metadata": {
            "tags": [],
            "needs_background": "light"
          }
        }
      ]
    },
    {
      "cell_type": "code",
      "metadata": {
        "id": "jaMSHlGafOlW"
      },
      "source": [
        ""
      ],
      "execution_count": 23,
      "outputs": []
    }
  ]
}