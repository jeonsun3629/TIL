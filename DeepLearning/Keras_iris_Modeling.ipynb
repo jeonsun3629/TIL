{
  "nbformat": 4,
  "nbformat_minor": 0,
  "metadata": {
    "colab": {
      "name": "Keras_iris_Modeling.ipynb",
      "provenance": []
    },
    "kernelspec": {
      "name": "python3",
      "display_name": "Python 3"
    }
  },
  "cells": [
    {
      "cell_type": "markdown",
      "metadata": {
        "id": "4_Sv5-wWArK8"
      },
      "source": [
        "# Keras iris Modeling"
      ]
    },
    {
      "cell_type": "code",
      "metadata": {
        "id": "FzEFLGSNA16C"
      },
      "source": [
        "import warnings\r\n",
        "warnings.filterwarnings('ignore')"
      ],
      "execution_count": 1,
      "outputs": []
    },
    {
      "cell_type": "code",
      "metadata": {
        "id": "HB7ddeGlA44s"
      },
      "source": [
        "import seaborn as sns\r\n",
        "iris = sns.load_dataset('iris')"
      ],
      "execution_count": 2,
      "outputs": []
    },
    {
      "cell_type": "code",
      "metadata": {
        "colab": {
          "base_uri": "https://localhost:8080/"
        },
        "id": "nOffpwn0A96j",
        "outputId": "842147a8-0ebb-4878-d258-01f333b50a4d"
      },
      "source": [
        "iris.info()"
      ],
      "execution_count": 3,
      "outputs": [
        {
          "output_type": "stream",
          "text": [
            "<class 'pandas.core.frame.DataFrame'>\n",
            "RangeIndex: 150 entries, 0 to 149\n",
            "Data columns (total 5 columns):\n",
            " #   Column        Non-Null Count  Dtype  \n",
            "---  ------        --------------  -----  \n",
            " 0   sepal_length  150 non-null    float64\n",
            " 1   sepal_width   150 non-null    float64\n",
            " 2   petal_length  150 non-null    float64\n",
            " 3   petal_width   150 non-null    float64\n",
            " 4   species       150 non-null    object \n",
            "dtypes: float64(4), object(1)\n",
            "memory usage: 6.0+ KB\n"
          ],
          "name": "stdout"
        }
      ]
    },
    {
      "cell_type": "code",
      "metadata": {
        "colab": {
          "base_uri": "https://localhost:8080/",
          "height": 198
        },
        "id": "J0MY9P90A-_V",
        "outputId": "908d7e18-9475-4872-e87c-056799ac0ee6"
      },
      "source": [
        "iris.head()"
      ],
      "execution_count": 4,
      "outputs": [
        {
          "output_type": "execute_result",
          "data": {
            "text/html": [
              "<div>\n",
              "<style scoped>\n",
              "    .dataframe tbody tr th:only-of-type {\n",
              "        vertical-align: middle;\n",
              "    }\n",
              "\n",
              "    .dataframe tbody tr th {\n",
              "        vertical-align: top;\n",
              "    }\n",
              "\n",
              "    .dataframe thead th {\n",
              "        text-align: right;\n",
              "    }\n",
              "</style>\n",
              "<table border=\"1\" class=\"dataframe\">\n",
              "  <thead>\n",
              "    <tr style=\"text-align: right;\">\n",
              "      <th></th>\n",
              "      <th>sepal_length</th>\n",
              "      <th>sepal_width</th>\n",
              "      <th>petal_length</th>\n",
              "      <th>petal_width</th>\n",
              "      <th>species</th>\n",
              "    </tr>\n",
              "  </thead>\n",
              "  <tbody>\n",
              "    <tr>\n",
              "      <th>0</th>\n",
              "      <td>5.1</td>\n",
              "      <td>3.5</td>\n",
              "      <td>1.4</td>\n",
              "      <td>0.2</td>\n",
              "      <td>setosa</td>\n",
              "    </tr>\n",
              "    <tr>\n",
              "      <th>1</th>\n",
              "      <td>4.9</td>\n",
              "      <td>3.0</td>\n",
              "      <td>1.4</td>\n",
              "      <td>0.2</td>\n",
              "      <td>setosa</td>\n",
              "    </tr>\n",
              "    <tr>\n",
              "      <th>2</th>\n",
              "      <td>4.7</td>\n",
              "      <td>3.2</td>\n",
              "      <td>1.3</td>\n",
              "      <td>0.2</td>\n",
              "      <td>setosa</td>\n",
              "    </tr>\n",
              "    <tr>\n",
              "      <th>3</th>\n",
              "      <td>4.6</td>\n",
              "      <td>3.1</td>\n",
              "      <td>1.5</td>\n",
              "      <td>0.2</td>\n",
              "      <td>setosa</td>\n",
              "    </tr>\n",
              "    <tr>\n",
              "      <th>4</th>\n",
              "      <td>5.0</td>\n",
              "      <td>3.6</td>\n",
              "      <td>1.4</td>\n",
              "      <td>0.2</td>\n",
              "      <td>setosa</td>\n",
              "    </tr>\n",
              "  </tbody>\n",
              "</table>\n",
              "</div>"
            ],
            "text/plain": [
              "   sepal_length  sepal_width  petal_length  petal_width species\n",
              "0           5.1          3.5           1.4          0.2  setosa\n",
              "1           4.9          3.0           1.4          0.2  setosa\n",
              "2           4.7          3.2           1.3          0.2  setosa\n",
              "3           4.6          3.1           1.5          0.2  setosa\n",
              "4           5.0          3.6           1.4          0.2  setosa"
            ]
          },
          "metadata": {
            "tags": []
          },
          "execution_count": 4
        }
      ]
    },
    {
      "cell_type": "markdown",
      "metadata": {
        "id": "EagZMaQGBA65"
      },
      "source": [
        "# I. Data Preprocessing"
      ]
    },
    {
      "cell_type": "markdown",
      "metadata": {
        "id": "UFfy_DsGBGN5"
      },
      "source": [
        "> ## 1) iris.Species 빈도분석"
      ]
    },
    {
      "cell_type": "markdown",
      "metadata": {
        "id": "Sr1wSqemBJr3"
      },
      "source": [
        "* Species : setosa, virginica, versicolor"
      ]
    },
    {
      "cell_type": "code",
      "metadata": {
        "colab": {
          "base_uri": "https://localhost:8080/"
        },
        "id": "SJEEvrt3BL8j",
        "outputId": "30d20201-e6c3-4dd4-f819-fcb493dc3c0d"
      },
      "source": [
        "iris.species.value_counts()"
      ],
      "execution_count": 5,
      "outputs": [
        {
          "output_type": "execute_result",
          "data": {
            "text/plain": [
              "setosa        50\n",
              "virginica     50\n",
              "versicolor    50\n",
              "Name: species, dtype: int64"
            ]
          },
          "metadata": {
            "tags": []
          },
          "execution_count": 5
        }
      ]
    },
    {
      "cell_type": "markdown",
      "metadata": {
        "id": "PYhSKCuyBOoS"
      },
      "source": [
        "> ## 2) DataFrame to Array & Casting"
      ]
    },
    {
      "cell_type": "code",
      "metadata": {
        "colab": {
          "base_uri": "https://localhost:8080/"
        },
        "id": "-1DaZ4HVBUYZ",
        "outputId": "36d4a1da-0bde-46d0-e529-f2c2c1e0219d"
      },
      "source": [
        "iris_AR = iris.values\r\n",
        "iris_AR"
      ],
      "execution_count": 6,
      "outputs": [
        {
          "output_type": "execute_result",
          "data": {
            "text/plain": [
              "array([[5.1, 3.5, 1.4, 0.2, 'setosa'],\n",
              "       [4.9, 3.0, 1.4, 0.2, 'setosa'],\n",
              "       [4.7, 3.2, 1.3, 0.2, 'setosa'],\n",
              "       [4.6, 3.1, 1.5, 0.2, 'setosa'],\n",
              "       [5.0, 3.6, 1.4, 0.2, 'setosa'],\n",
              "       [5.4, 3.9, 1.7, 0.4, 'setosa'],\n",
              "       [4.6, 3.4, 1.4, 0.3, 'setosa'],\n",
              "       [5.0, 3.4, 1.5, 0.2, 'setosa'],\n",
              "       [4.4, 2.9, 1.4, 0.2, 'setosa'],\n",
              "       [4.9, 3.1, 1.5, 0.1, 'setosa'],\n",
              "       [5.4, 3.7, 1.5, 0.2, 'setosa'],\n",
              "       [4.8, 3.4, 1.6, 0.2, 'setosa'],\n",
              "       [4.8, 3.0, 1.4, 0.1, 'setosa'],\n",
              "       [4.3, 3.0, 1.1, 0.1, 'setosa'],\n",
              "       [5.8, 4.0, 1.2, 0.2, 'setosa'],\n",
              "       [5.7, 4.4, 1.5, 0.4, 'setosa'],\n",
              "       [5.4, 3.9, 1.3, 0.4, 'setosa'],\n",
              "       [5.1, 3.5, 1.4, 0.3, 'setosa'],\n",
              "       [5.7, 3.8, 1.7, 0.3, 'setosa'],\n",
              "       [5.1, 3.8, 1.5, 0.3, 'setosa'],\n",
              "       [5.4, 3.4, 1.7, 0.2, 'setosa'],\n",
              "       [5.1, 3.7, 1.5, 0.4, 'setosa'],\n",
              "       [4.6, 3.6, 1.0, 0.2, 'setosa'],\n",
              "       [5.1, 3.3, 1.7, 0.5, 'setosa'],\n",
              "       [4.8, 3.4, 1.9, 0.2, 'setosa'],\n",
              "       [5.0, 3.0, 1.6, 0.2, 'setosa'],\n",
              "       [5.0, 3.4, 1.6, 0.4, 'setosa'],\n",
              "       [5.2, 3.5, 1.5, 0.2, 'setosa'],\n",
              "       [5.2, 3.4, 1.4, 0.2, 'setosa'],\n",
              "       [4.7, 3.2, 1.6, 0.2, 'setosa'],\n",
              "       [4.8, 3.1, 1.6, 0.2, 'setosa'],\n",
              "       [5.4, 3.4, 1.5, 0.4, 'setosa'],\n",
              "       [5.2, 4.1, 1.5, 0.1, 'setosa'],\n",
              "       [5.5, 4.2, 1.4, 0.2, 'setosa'],\n",
              "       [4.9, 3.1, 1.5, 0.2, 'setosa'],\n",
              "       [5.0, 3.2, 1.2, 0.2, 'setosa'],\n",
              "       [5.5, 3.5, 1.3, 0.2, 'setosa'],\n",
              "       [4.9, 3.6, 1.4, 0.1, 'setosa'],\n",
              "       [4.4, 3.0, 1.3, 0.2, 'setosa'],\n",
              "       [5.1, 3.4, 1.5, 0.2, 'setosa'],\n",
              "       [5.0, 3.5, 1.3, 0.3, 'setosa'],\n",
              "       [4.5, 2.3, 1.3, 0.3, 'setosa'],\n",
              "       [4.4, 3.2, 1.3, 0.2, 'setosa'],\n",
              "       [5.0, 3.5, 1.6, 0.6, 'setosa'],\n",
              "       [5.1, 3.8, 1.9, 0.4, 'setosa'],\n",
              "       [4.8, 3.0, 1.4, 0.3, 'setosa'],\n",
              "       [5.1, 3.8, 1.6, 0.2, 'setosa'],\n",
              "       [4.6, 3.2, 1.4, 0.2, 'setosa'],\n",
              "       [5.3, 3.7, 1.5, 0.2, 'setosa'],\n",
              "       [5.0, 3.3, 1.4, 0.2, 'setosa'],\n",
              "       [7.0, 3.2, 4.7, 1.4, 'versicolor'],\n",
              "       [6.4, 3.2, 4.5, 1.5, 'versicolor'],\n",
              "       [6.9, 3.1, 4.9, 1.5, 'versicolor'],\n",
              "       [5.5, 2.3, 4.0, 1.3, 'versicolor'],\n",
              "       [6.5, 2.8, 4.6, 1.5, 'versicolor'],\n",
              "       [5.7, 2.8, 4.5, 1.3, 'versicolor'],\n",
              "       [6.3, 3.3, 4.7, 1.6, 'versicolor'],\n",
              "       [4.9, 2.4, 3.3, 1.0, 'versicolor'],\n",
              "       [6.6, 2.9, 4.6, 1.3, 'versicolor'],\n",
              "       [5.2, 2.7, 3.9, 1.4, 'versicolor'],\n",
              "       [5.0, 2.0, 3.5, 1.0, 'versicolor'],\n",
              "       [5.9, 3.0, 4.2, 1.5, 'versicolor'],\n",
              "       [6.0, 2.2, 4.0, 1.0, 'versicolor'],\n",
              "       [6.1, 2.9, 4.7, 1.4, 'versicolor'],\n",
              "       [5.6, 2.9, 3.6, 1.3, 'versicolor'],\n",
              "       [6.7, 3.1, 4.4, 1.4, 'versicolor'],\n",
              "       [5.6, 3.0, 4.5, 1.5, 'versicolor'],\n",
              "       [5.8, 2.7, 4.1, 1.0, 'versicolor'],\n",
              "       [6.2, 2.2, 4.5, 1.5, 'versicolor'],\n",
              "       [5.6, 2.5, 3.9, 1.1, 'versicolor'],\n",
              "       [5.9, 3.2, 4.8, 1.8, 'versicolor'],\n",
              "       [6.1, 2.8, 4.0, 1.3, 'versicolor'],\n",
              "       [6.3, 2.5, 4.9, 1.5, 'versicolor'],\n",
              "       [6.1, 2.8, 4.7, 1.2, 'versicolor'],\n",
              "       [6.4, 2.9, 4.3, 1.3, 'versicolor'],\n",
              "       [6.6, 3.0, 4.4, 1.4, 'versicolor'],\n",
              "       [6.8, 2.8, 4.8, 1.4, 'versicolor'],\n",
              "       [6.7, 3.0, 5.0, 1.7, 'versicolor'],\n",
              "       [6.0, 2.9, 4.5, 1.5, 'versicolor'],\n",
              "       [5.7, 2.6, 3.5, 1.0, 'versicolor'],\n",
              "       [5.5, 2.4, 3.8, 1.1, 'versicolor'],\n",
              "       [5.5, 2.4, 3.7, 1.0, 'versicolor'],\n",
              "       [5.8, 2.7, 3.9, 1.2, 'versicolor'],\n",
              "       [6.0, 2.7, 5.1, 1.6, 'versicolor'],\n",
              "       [5.4, 3.0, 4.5, 1.5, 'versicolor'],\n",
              "       [6.0, 3.4, 4.5, 1.6, 'versicolor'],\n",
              "       [6.7, 3.1, 4.7, 1.5, 'versicolor'],\n",
              "       [6.3, 2.3, 4.4, 1.3, 'versicolor'],\n",
              "       [5.6, 3.0, 4.1, 1.3, 'versicolor'],\n",
              "       [5.5, 2.5, 4.0, 1.3, 'versicolor'],\n",
              "       [5.5, 2.6, 4.4, 1.2, 'versicolor'],\n",
              "       [6.1, 3.0, 4.6, 1.4, 'versicolor'],\n",
              "       [5.8, 2.6, 4.0, 1.2, 'versicolor'],\n",
              "       [5.0, 2.3, 3.3, 1.0, 'versicolor'],\n",
              "       [5.6, 2.7, 4.2, 1.3, 'versicolor'],\n",
              "       [5.7, 3.0, 4.2, 1.2, 'versicolor'],\n",
              "       [5.7, 2.9, 4.2, 1.3, 'versicolor'],\n",
              "       [6.2, 2.9, 4.3, 1.3, 'versicolor'],\n",
              "       [5.1, 2.5, 3.0, 1.1, 'versicolor'],\n",
              "       [5.7, 2.8, 4.1, 1.3, 'versicolor'],\n",
              "       [6.3, 3.3, 6.0, 2.5, 'virginica'],\n",
              "       [5.8, 2.7, 5.1, 1.9, 'virginica'],\n",
              "       [7.1, 3.0, 5.9, 2.1, 'virginica'],\n",
              "       [6.3, 2.9, 5.6, 1.8, 'virginica'],\n",
              "       [6.5, 3.0, 5.8, 2.2, 'virginica'],\n",
              "       [7.6, 3.0, 6.6, 2.1, 'virginica'],\n",
              "       [4.9, 2.5, 4.5, 1.7, 'virginica'],\n",
              "       [7.3, 2.9, 6.3, 1.8, 'virginica'],\n",
              "       [6.7, 2.5, 5.8, 1.8, 'virginica'],\n",
              "       [7.2, 3.6, 6.1, 2.5, 'virginica'],\n",
              "       [6.5, 3.2, 5.1, 2.0, 'virginica'],\n",
              "       [6.4, 2.7, 5.3, 1.9, 'virginica'],\n",
              "       [6.8, 3.0, 5.5, 2.1, 'virginica'],\n",
              "       [5.7, 2.5, 5.0, 2.0, 'virginica'],\n",
              "       [5.8, 2.8, 5.1, 2.4, 'virginica'],\n",
              "       [6.4, 3.2, 5.3, 2.3, 'virginica'],\n",
              "       [6.5, 3.0, 5.5, 1.8, 'virginica'],\n",
              "       [7.7, 3.8, 6.7, 2.2, 'virginica'],\n",
              "       [7.7, 2.6, 6.9, 2.3, 'virginica'],\n",
              "       [6.0, 2.2, 5.0, 1.5, 'virginica'],\n",
              "       [6.9, 3.2, 5.7, 2.3, 'virginica'],\n",
              "       [5.6, 2.8, 4.9, 2.0, 'virginica'],\n",
              "       [7.7, 2.8, 6.7, 2.0, 'virginica'],\n",
              "       [6.3, 2.7, 4.9, 1.8, 'virginica'],\n",
              "       [6.7, 3.3, 5.7, 2.1, 'virginica'],\n",
              "       [7.2, 3.2, 6.0, 1.8, 'virginica'],\n",
              "       [6.2, 2.8, 4.8, 1.8, 'virginica'],\n",
              "       [6.1, 3.0, 4.9, 1.8, 'virginica'],\n",
              "       [6.4, 2.8, 5.6, 2.1, 'virginica'],\n",
              "       [7.2, 3.0, 5.8, 1.6, 'virginica'],\n",
              "       [7.4, 2.8, 6.1, 1.9, 'virginica'],\n",
              "       [7.9, 3.8, 6.4, 2.0, 'virginica'],\n",
              "       [6.4, 2.8, 5.6, 2.2, 'virginica'],\n",
              "       [6.3, 2.8, 5.1, 1.5, 'virginica'],\n",
              "       [6.1, 2.6, 5.6, 1.4, 'virginica'],\n",
              "       [7.7, 3.0, 6.1, 2.3, 'virginica'],\n",
              "       [6.3, 3.4, 5.6, 2.4, 'virginica'],\n",
              "       [6.4, 3.1, 5.5, 1.8, 'virginica'],\n",
              "       [6.0, 3.0, 4.8, 1.8, 'virginica'],\n",
              "       [6.9, 3.1, 5.4, 2.1, 'virginica'],\n",
              "       [6.7, 3.1, 5.6, 2.4, 'virginica'],\n",
              "       [6.9, 3.1, 5.1, 2.3, 'virginica'],\n",
              "       [5.8, 2.7, 5.1, 1.9, 'virginica'],\n",
              "       [6.8, 3.2, 5.9, 2.3, 'virginica'],\n",
              "       [6.7, 3.3, 5.7, 2.5, 'virginica'],\n",
              "       [6.7, 3.0, 5.2, 2.3, 'virginica'],\n",
              "       [6.3, 2.5, 5.0, 1.9, 'virginica'],\n",
              "       [6.5, 3.0, 5.2, 2.0, 'virginica'],\n",
              "       [6.2, 3.4, 5.4, 2.3, 'virginica'],\n",
              "       [5.9, 3.0, 5.1, 1.8, 'virginica']], dtype=object)"
            ]
          },
          "metadata": {
            "tags": []
          },
          "execution_count": 6
        }
      ]
    },
    {
      "cell_type": "markdown",
      "metadata": {
        "id": "3LlCCk2oBWl2"
      },
      "source": [
        "* object to float"
      ]
    },
    {
      "cell_type": "code",
      "metadata": {
        "colab": {
          "base_uri": "https://localhost:8080/"
        },
        "id": "cXPh1Ve6Bejb",
        "outputId": "70f29e93-5cfb-4749-cdbc-af8ded093657"
      },
      "source": [
        "AR_X = iris_AR[:, 0:4].astype(float)\r\n",
        "AR_y = iris_AR[:, 4]\r\n",
        "\r\n",
        "AR_X.shape, AR_y.shape"
      ],
      "execution_count": 7,
      "outputs": [
        {
          "output_type": "execute_result",
          "data": {
            "text/plain": [
              "((150, 4), (150,))"
            ]
          },
          "metadata": {
            "tags": []
          },
          "execution_count": 7
        }
      ]
    },
    {
      "cell_type": "markdown",
      "metadata": {
        "id": "18Q-riUnBpoc"
      },
      "source": [
        "> ## 3) One Hot Encoding with sklearn * Keras"
      ]
    },
    {
      "cell_type": "markdown",
      "metadata": {
        "id": "Np3LP-fbBxay"
      },
      "source": [
        "* LabelEncoder()\r\n",
        "  * ['setosa', 'virginica', 'virsicolor'] to [0, 1, 2]\r\n"
      ]
    },
    {
      "cell_type": "code",
      "metadata": {
        "colab": {
          "base_uri": "https://localhost:8080/"
        },
        "id": "V2LWf8pRB1vg",
        "outputId": "80b3b4c1-4eec-44c2-ba63-413278b25137"
      },
      "source": [
        "from sklearn.preprocessing import LabelEncoder\r\n",
        "encoder = LabelEncoder()\r\n",
        "AR_yLBE = encoder.fit_transform(AR_y)\r\n",
        "\r\n",
        "AR_yLBE"
      ],
      "execution_count": 8,
      "outputs": [
        {
          "output_type": "execute_result",
          "data": {
            "text/plain": [
              "array([0, 0, 0, 0, 0, 0, 0, 0, 0, 0, 0, 0, 0, 0, 0, 0, 0, 0, 0, 0, 0, 0,\n",
              "       0, 0, 0, 0, 0, 0, 0, 0, 0, 0, 0, 0, 0, 0, 0, 0, 0, 0, 0, 0, 0, 0,\n",
              "       0, 0, 0, 0, 0, 0, 1, 1, 1, 1, 1, 1, 1, 1, 1, 1, 1, 1, 1, 1, 1, 1,\n",
              "       1, 1, 1, 1, 1, 1, 1, 1, 1, 1, 1, 1, 1, 1, 1, 1, 1, 1, 1, 1, 1, 1,\n",
              "       1, 1, 1, 1, 1, 1, 1, 1, 1, 1, 1, 1, 2, 2, 2, 2, 2, 2, 2, 2, 2, 2,\n",
              "       2, 2, 2, 2, 2, 2, 2, 2, 2, 2, 2, 2, 2, 2, 2, 2, 2, 2, 2, 2, 2, 2,\n",
              "       2, 2, 2, 2, 2, 2, 2, 2, 2, 2, 2, 2, 2, 2, 2, 2, 2, 2])"
            ]
          },
          "metadata": {
            "tags": []
          },
          "execution_count": 8
        }
      ]
    },
    {
      "cell_type": "markdown",
      "metadata": {
        "id": "vA3LDRe5B_0Y"
      },
      "source": [
        "* One-Hot Encoding - to_categorical()"
      ]
    },
    {
      "cell_type": "code",
      "metadata": {
        "colab": {
          "base_uri": "https://localhost:8080/"
        },
        "id": "sFYcHIZcCEG5",
        "outputId": "cfc17605-c139-4e63-8c4d-d356f9cf7df9"
      },
      "source": [
        "import tensorflow as tf\r\n",
        "\r\n",
        "AR_yOHE = tf. keras.utils.to_categorical(AR_yLBE)\r\n",
        "\r\n",
        "AR_yOHE"
      ],
      "execution_count": 9,
      "outputs": [
        {
          "output_type": "execute_result",
          "data": {
            "text/plain": [
              "array([[1., 0., 0.],\n",
              "       [1., 0., 0.],\n",
              "       [1., 0., 0.],\n",
              "       [1., 0., 0.],\n",
              "       [1., 0., 0.],\n",
              "       [1., 0., 0.],\n",
              "       [1., 0., 0.],\n",
              "       [1., 0., 0.],\n",
              "       [1., 0., 0.],\n",
              "       [1., 0., 0.],\n",
              "       [1., 0., 0.],\n",
              "       [1., 0., 0.],\n",
              "       [1., 0., 0.],\n",
              "       [1., 0., 0.],\n",
              "       [1., 0., 0.],\n",
              "       [1., 0., 0.],\n",
              "       [1., 0., 0.],\n",
              "       [1., 0., 0.],\n",
              "       [1., 0., 0.],\n",
              "       [1., 0., 0.],\n",
              "       [1., 0., 0.],\n",
              "       [1., 0., 0.],\n",
              "       [1., 0., 0.],\n",
              "       [1., 0., 0.],\n",
              "       [1., 0., 0.],\n",
              "       [1., 0., 0.],\n",
              "       [1., 0., 0.],\n",
              "       [1., 0., 0.],\n",
              "       [1., 0., 0.],\n",
              "       [1., 0., 0.],\n",
              "       [1., 0., 0.],\n",
              "       [1., 0., 0.],\n",
              "       [1., 0., 0.],\n",
              "       [1., 0., 0.],\n",
              "       [1., 0., 0.],\n",
              "       [1., 0., 0.],\n",
              "       [1., 0., 0.],\n",
              "       [1., 0., 0.],\n",
              "       [1., 0., 0.],\n",
              "       [1., 0., 0.],\n",
              "       [1., 0., 0.],\n",
              "       [1., 0., 0.],\n",
              "       [1., 0., 0.],\n",
              "       [1., 0., 0.],\n",
              "       [1., 0., 0.],\n",
              "       [1., 0., 0.],\n",
              "       [1., 0., 0.],\n",
              "       [1., 0., 0.],\n",
              "       [1., 0., 0.],\n",
              "       [1., 0., 0.],\n",
              "       [0., 1., 0.],\n",
              "       [0., 1., 0.],\n",
              "       [0., 1., 0.],\n",
              "       [0., 1., 0.],\n",
              "       [0., 1., 0.],\n",
              "       [0., 1., 0.],\n",
              "       [0., 1., 0.],\n",
              "       [0., 1., 0.],\n",
              "       [0., 1., 0.],\n",
              "       [0., 1., 0.],\n",
              "       [0., 1., 0.],\n",
              "       [0., 1., 0.],\n",
              "       [0., 1., 0.],\n",
              "       [0., 1., 0.],\n",
              "       [0., 1., 0.],\n",
              "       [0., 1., 0.],\n",
              "       [0., 1., 0.],\n",
              "       [0., 1., 0.],\n",
              "       [0., 1., 0.],\n",
              "       [0., 1., 0.],\n",
              "       [0., 1., 0.],\n",
              "       [0., 1., 0.],\n",
              "       [0., 1., 0.],\n",
              "       [0., 1., 0.],\n",
              "       [0., 1., 0.],\n",
              "       [0., 1., 0.],\n",
              "       [0., 1., 0.],\n",
              "       [0., 1., 0.],\n",
              "       [0., 1., 0.],\n",
              "       [0., 1., 0.],\n",
              "       [0., 1., 0.],\n",
              "       [0., 1., 0.],\n",
              "       [0., 1., 0.],\n",
              "       [0., 1., 0.],\n",
              "       [0., 1., 0.],\n",
              "       [0., 1., 0.],\n",
              "       [0., 1., 0.],\n",
              "       [0., 1., 0.],\n",
              "       [0., 1., 0.],\n",
              "       [0., 1., 0.],\n",
              "       [0., 1., 0.],\n",
              "       [0., 1., 0.],\n",
              "       [0., 1., 0.],\n",
              "       [0., 1., 0.],\n",
              "       [0., 1., 0.],\n",
              "       [0., 1., 0.],\n",
              "       [0., 1., 0.],\n",
              "       [0., 1., 0.],\n",
              "       [0., 1., 0.],\n",
              "       [0., 1., 0.],\n",
              "       [0., 0., 1.],\n",
              "       [0., 0., 1.],\n",
              "       [0., 0., 1.],\n",
              "       [0., 0., 1.],\n",
              "       [0., 0., 1.],\n",
              "       [0., 0., 1.],\n",
              "       [0., 0., 1.],\n",
              "       [0., 0., 1.],\n",
              "       [0., 0., 1.],\n",
              "       [0., 0., 1.],\n",
              "       [0., 0., 1.],\n",
              "       [0., 0., 1.],\n",
              "       [0., 0., 1.],\n",
              "       [0., 0., 1.],\n",
              "       [0., 0., 1.],\n",
              "       [0., 0., 1.],\n",
              "       [0., 0., 1.],\n",
              "       [0., 0., 1.],\n",
              "       [0., 0., 1.],\n",
              "       [0., 0., 1.],\n",
              "       [0., 0., 1.],\n",
              "       [0., 0., 1.],\n",
              "       [0., 0., 1.],\n",
              "       [0., 0., 1.],\n",
              "       [0., 0., 1.],\n",
              "       [0., 0., 1.],\n",
              "       [0., 0., 1.],\n",
              "       [0., 0., 1.],\n",
              "       [0., 0., 1.],\n",
              "       [0., 0., 1.],\n",
              "       [0., 0., 1.],\n",
              "       [0., 0., 1.],\n",
              "       [0., 0., 1.],\n",
              "       [0., 0., 1.],\n",
              "       [0., 0., 1.],\n",
              "       [0., 0., 1.],\n",
              "       [0., 0., 1.],\n",
              "       [0., 0., 1.],\n",
              "       [0., 0., 1.],\n",
              "       [0., 0., 1.],\n",
              "       [0., 0., 1.],\n",
              "       [0., 0., 1.],\n",
              "       [0., 0., 1.],\n",
              "       [0., 0., 1.],\n",
              "       [0., 0., 1.],\n",
              "       [0., 0., 1.],\n",
              "       [0., 0., 1.],\n",
              "       [0., 0., 1.],\n",
              "       [0., 0., 1.],\n",
              "       [0., 0., 1.]], dtype=float32)"
            ]
          },
          "metadata": {
            "tags": []
          },
          "execution_count": 9
        }
      ]
    },
    {
      "cell_type": "markdown",
      "metadata": {
        "id": "EF3IX2RkCL5z"
      },
      "source": [
        "* tensorFlow Version"
      ]
    },
    {
      "cell_type": "code",
      "metadata": {
        "colab": {
          "base_uri": "https://localhost:8080/",
          "height": 35
        },
        "id": "mBYtB8jmCO1h",
        "outputId": "1b04f9aa-cd78-44ba-f71e-ad4fc86ec5fa"
      },
      "source": [
        "# 현재 버전\r\n",
        "tf.__version__"
      ],
      "execution_count": 47,
      "outputs": [
        {
          "output_type": "execute_result",
          "data": {
            "application/vnd.google.colaboratory.intrinsic+json": {
              "type": "string"
            },
            "text/plain": [
              "'2.4.1'"
            ]
          },
          "metadata": {
            "tags": []
          },
          "execution_count": 47
        }
      ]
    },
    {
      "cell_type": "markdown",
      "metadata": {
        "id": "pfxvMuhhCQft"
      },
      "source": [
        "* Keras Version"
      ]
    },
    {
      "cell_type": "code",
      "metadata": {
        "colab": {
          "base_uri": "https://localhost:8080/",
          "height": 35
        },
        "id": "wt6K3zUbCUwF",
        "outputId": "44344db0-c3f5-40d8-bf4d-af3e0af974fa"
      },
      "source": [
        "# 현재 버전\r\n",
        "tf.keras.__version__"
      ],
      "execution_count": 46,
      "outputs": [
        {
          "output_type": "execute_result",
          "data": {
            "application/vnd.google.colaboratory.intrinsic+json": {
              "type": "string"
            },
            "text/plain": [
              "'2.4.0'"
            ]
          },
          "metadata": {
            "tags": []
          },
          "execution_count": 46
        }
      ]
    },
    {
      "cell_type": "markdown",
      "metadata": {
        "id": "Ubl3oNJwCWhQ"
      },
      "source": [
        "> ## 4) Train & Test Split with sklearn Package"
      ]
    },
    {
      "cell_type": "code",
      "metadata": {
        "colab": {
          "base_uri": "https://localhost:8080/"
        },
        "id": "Jbl93oQrCbeY",
        "outputId": "fb921e85-2e72-4b6e-ef36-a18f2b91ee01"
      },
      "source": [
        "from sklearn.model_selection import train_test_split\r\n",
        "\r\n",
        "X_train, X_test, y_train, y_test = train_test_split(AR_X, AR_yOHE, \r\n",
        "                                                    test_size = 0.3, \r\n",
        "  random_state = 2045) \r\n",
        "\r\n",
        "X_train.shape, X_test.shape, y_train.shape, y_test.shape\r\n"
      ],
      "execution_count": 12,
      "outputs": [
        {
          "output_type": "execute_result",
          "data": {
            "text/plain": [
              "((105, 4), (45, 4), (105, 3), (45, 3))"
            ]
          },
          "metadata": {
            "tags": []
          },
          "execution_count": 12
        }
      ]
    },
    {
      "cell_type": "markdown",
      "metadata": {
        "id": "xIIv3DldCffX"
      },
      "source": [
        "# II. Keras Modeling"
      ]
    },
    {
      "cell_type": "markdown",
      "metadata": {
        "id": "G6r_CoJ4CiFd"
      },
      "source": [
        "> ## 1) Keras models & layers Import"
      ]
    },
    {
      "cell_type": "code",
      "metadata": {
        "id": "stjcCzWBCmWg"
      },
      "source": [
        "from tensorflow.keras import models\r\n",
        "from tensorflow.keras import layers"
      ],
      "execution_count": 14,
      "outputs": []
    },
    {
      "cell_type": "markdown",
      "metadata": {
        "id": "_BlqMhqLCp_U"
      },
      "source": [
        "> ## 2) Model Define"
      ]
    },
    {
      "cell_type": "markdown",
      "metadata": {
        "id": "gKfv508FCwnb"
      },
      "source": [
        "* 모델 신경망 구조 정의"
      ]
    },
    {
      "cell_type": "code",
      "metadata": {
        "id": "fj87e5WzCyVQ"
      },
      "source": [
        "# Model_이름\r\n",
        "# 레이어를 쌓는 과정**\r\n",
        "Model_iris = models.Sequential()\r\n",
        "\r\n",
        "Model_iris.add(layers.Dense(16, activation = 'relu', input_shape = (4,)))\r\n",
        "Model_iris.add(layers.Dense(8, activation = 'relu'))\r\n",
        "Model_iris.add(layers.Dense(3, activation = 'softmax'))"
      ],
      "execution_count": 49,
      "outputs": []
    },
    {
      "cell_type": "markdown",
      "metadata": {
        "id": "levIwGREDFJw"
      },
      "source": [
        "* 모델 구조 확인\r\n",
        "  * Layers & Parameters"
      ]
    },
    {
      "cell_type": "code",
      "metadata": {
        "colab": {
          "base_uri": "https://localhost:8080/"
        },
        "id": "UKrdFAstDHs9",
        "outputId": "b977fb2f-9541-47e4-8603-3e7bd8dfbb8f"
      },
      "source": [
        "Model_iris.summary()"
      ],
      "execution_count": 16,
      "outputs": [
        {
          "output_type": "stream",
          "text": [
            "Model: \"sequential\"\n",
            "_________________________________________________________________\n",
            "Layer (type)                 Output Shape              Param #   \n",
            "=================================================================\n",
            "dense (Dense)                (None, 16)                80        \n",
            "_________________________________________________________________\n",
            "dense_1 (Dense)              (None, 8)                 136       \n",
            "_________________________________________________________________\n",
            "dense_2 (Dense)              (None, 3)                 27        \n",
            "=================================================================\n",
            "Total params: 243\n",
            "Trainable params: 243\n",
            "Non-trainable params: 0\n",
            "_________________________________________________________________\n"
          ],
          "name": "stdout"
        }
      ]
    },
    {
      "cell_type": "markdown",
      "metadata": {
        "id": "pLKGgfkgDOg4"
      },
      "source": [
        "* 모델 레이어 시각화"
      ]
    },
    {
      "cell_type": "code",
      "metadata": {
        "colab": {
          "base_uri": "https://localhost:8080/",
          "height": 369
        },
        "id": "NIZPY9iCDR7y",
        "outputId": "16746137-9d8f-41c9-ceee-e07ea25548d2"
      },
      "source": [
        "from tensorflow.keras import utils\r\n",
        "utils.plot_model(Model_iris)"
      ],
      "execution_count": 17,
      "outputs": [
        {
          "output_type": "execute_result",
          "data": {
            "image/png": "[encoded data removed]",
            "text/plain": [
              "<IPython.core.display.Image object>"
            ]
          },
          "metadata": {
            "tags": []
          },
          "execution_count": 17
        }
      ]
    },
    {
      "cell_type": "markdown",
      "metadata": {
        "id": "xGG7GbzGDWbZ"
      },
      "source": [
        "> ## 3) Model Compile"
      ]
    },
    {
      "cell_type": "markdown",
      "metadata": {
        "id": "OqnNXs7TDYQv"
      },
      "source": [
        "* 모델 학습방법 설정"
      ]
    },
    {
      "cell_type": "code",
      "metadata": {
        "id": "g1EwMChfDZ4e"
      },
      "source": [
        "Model_iris.compile(loss = 'categorical_crossentropy',\r\n",
        "                   optimizer = 'adam',\r\n",
        "                   metrics = ['accuracy'])"
      ],
      "execution_count": 18,
      "outputs": []
    },
    {
      "cell_type": "markdown",
      "metadata": {
        "id": "JJSOR1JKDly9"
      },
      "source": [
        "> ## 4) Model Fit"
      ]
    },
    {
      "cell_type": "markdown",
      "metadata": {
        "id": "eada7ZlZDvHo"
      },
      "source": [
        "* 모델 학습 수행"
      ]
    },
    {
      "cell_type": "code",
      "metadata": {
        "colab": {
          "base_uri": "https://localhost:8080/"
        },
        "id": "suENCD-pDwV2",
        "outputId": "5811d5c4-14a9-4cac-c0c1-751e75242e64"
      },
      "source": [
        "History_iris = Model_iris.fit(X_train, y_train,\r\n",
        "                              epochs = 500,\r\n",
        "                              batch_size = 7,\r\n",
        "                              validation_data = (X_test, y_test))"
      ],
      "execution_count": 20,
      "outputs": [
        {
          "output_type": "stream",
          "text": [
            "Epoch 1/500\n",
            "15/15 [==============================] - 1s 36ms/step - loss: 1.6725 - accuracy: 0.3228 - val_loss: 1.4688 - val_accuracy: 0.3556\n",
            "Epoch 2/500\n",
            "15/15 [==============================] - 0s 5ms/step - loss: 1.4543 - accuracy: 0.3627 - val_loss: 1.2470 - val_accuracy: 0.3333\n",
            "Epoch 3/500\n",
            "15/15 [==============================] - 0s 5ms/step - loss: 1.2300 - accuracy: 0.3822 - val_loss: 1.1071 - val_accuracy: 0.6000\n",
            "Epoch 4/500\n",
            "15/15 [==============================] - 0s 4ms/step - loss: 1.0926 - accuracy: 0.4808 - val_loss: 1.0453 - val_accuracy: 0.4000\n",
            "Epoch 5/500\n",
            "15/15 [==============================] - 0s 4ms/step - loss: 1.0286 - accuracy: 0.3669 - val_loss: 1.0304 - val_accuracy: 0.3111\n",
            "Epoch 6/500\n",
            "15/15 [==============================] - 0s 4ms/step - loss: 0.9984 - accuracy: 0.3607 - val_loss: 1.0126 - val_accuracy: 0.3111\n",
            "Epoch 7/500\n",
            "15/15 [==============================] - 0s 4ms/step - loss: 0.9928 - accuracy: 0.3466 - val_loss: 0.9862 - val_accuracy: 0.3778\n",
            "Epoch 8/500\n",
            "15/15 [==============================] - 0s 4ms/step - loss: 0.9668 - accuracy: 0.3911 - val_loss: 0.9598 - val_accuracy: 0.5778\n",
            "Epoch 9/500\n",
            "15/15 [==============================] - 0s 4ms/step - loss: 0.9340 - accuracy: 0.6732 - val_loss: 0.9342 - val_accuracy: 0.6667\n",
            "Epoch 10/500\n",
            "15/15 [==============================] - 0s 5ms/step - loss: 0.9164 - accuracy: 0.6739 - val_loss: 0.9080 - val_accuracy: 0.6667\n",
            "Epoch 11/500\n",
            "15/15 [==============================] - 0s 4ms/step - loss: 0.8890 - accuracy: 0.6392 - val_loss: 0.8766 - val_accuracy: 0.6889\n",
            "Epoch 12/500\n",
            "15/15 [==============================] - 0s 4ms/step - loss: 0.8637 - accuracy: 0.6667 - val_loss: 0.8336 - val_accuracy: 0.6889\n",
            "Epoch 13/500\n",
            "15/15 [==============================] - 0s 4ms/step - loss: 0.8202 - accuracy: 0.6624 - val_loss: 0.7967 - val_accuracy: 0.6889\n",
            "Epoch 14/500\n",
            "15/15 [==============================] - 0s 4ms/step - loss: 0.7942 - accuracy: 0.6701 - val_loss: 0.7600 - val_accuracy: 0.6889\n",
            "Epoch 15/500\n",
            "15/15 [==============================] - 0s 4ms/step - loss: 0.7752 - accuracy: 0.6201 - val_loss: 0.7262 - val_accuracy: 0.6889\n",
            "Epoch 16/500\n",
            "15/15 [==============================] - 0s 4ms/step - loss: 0.7192 - accuracy: 0.6882 - val_loss: 0.6907 - val_accuracy: 0.6889\n",
            "Epoch 17/500\n",
            "15/15 [==============================] - 0s 5ms/step - loss: 0.6880 - accuracy: 0.6622 - val_loss: 0.6542 - val_accuracy: 0.6889\n",
            "Epoch 18/500\n",
            "15/15 [==============================] - 0s 5ms/step - loss: 0.6528 - accuracy: 0.6583 - val_loss: 0.6225 - val_accuracy: 0.6889\n",
            "Epoch 19/500\n",
            "15/15 [==============================] - 0s 4ms/step - loss: 0.6622 - accuracy: 0.5853 - val_loss: 0.5972 - val_accuracy: 0.6889\n",
            "Epoch 20/500\n",
            "15/15 [==============================] - 0s 4ms/step - loss: 0.6090 - accuracy: 0.6498 - val_loss: 0.5657 - val_accuracy: 0.6889\n",
            "Epoch 21/500\n",
            "15/15 [==============================] - 0s 5ms/step - loss: 0.5905 - accuracy: 0.6625 - val_loss: 0.5436 - val_accuracy: 0.6889\n",
            "Epoch 22/500\n",
            "15/15 [==============================] - 0s 5ms/step - loss: 0.5715 - accuracy: 0.6471 - val_loss: 0.5206 - val_accuracy: 0.7333\n",
            "Epoch 23/500\n",
            "15/15 [==============================] - 0s 4ms/step - loss: 0.5389 - accuracy: 0.6898 - val_loss: 0.4999 - val_accuracy: 0.7778\n",
            "Epoch 24/500\n",
            "15/15 [==============================] - 0s 4ms/step - loss: 0.5385 - accuracy: 0.7595 - val_loss: 0.4848 - val_accuracy: 0.7556\n",
            "Epoch 25/500\n",
            "15/15 [==============================] - 0s 4ms/step - loss: 0.5398 - accuracy: 0.7479 - val_loss: 0.4675 - val_accuracy: 0.9778\n",
            "Epoch 26/500\n",
            "15/15 [==============================] - 0s 5ms/step - loss: 0.4590 - accuracy: 0.8912 - val_loss: 0.4531 - val_accuracy: 0.7778\n",
            "Epoch 27/500\n",
            "15/15 [==============================] - 0s 4ms/step - loss: 0.4852 - accuracy: 0.7854 - val_loss: 0.4399 - val_accuracy: 0.8000\n",
            "Epoch 28/500\n",
            "15/15 [==============================] - 0s 4ms/step - loss: 0.5289 - accuracy: 0.8347 - val_loss: 0.4272 - val_accuracy: 0.9778\n",
            "Epoch 29/500\n",
            "15/15 [==============================] - 0s 5ms/step - loss: 0.4451 - accuracy: 0.8907 - val_loss: 0.4168 - val_accuracy: 0.8000\n",
            "Epoch 30/500\n",
            "15/15 [==============================] - 0s 5ms/step - loss: 0.4358 - accuracy: 0.8422 - val_loss: 0.4053 - val_accuracy: 0.9778\n",
            "Epoch 31/500\n",
            "15/15 [==============================] - 0s 5ms/step - loss: 0.4401 - accuracy: 0.8751 - val_loss: 0.3956 - val_accuracy: 0.9556\n",
            "Epoch 32/500\n",
            "15/15 [==============================] - 0s 4ms/step - loss: 0.4070 - accuracy: 0.8618 - val_loss: 0.3857 - val_accuracy: 0.9778\n",
            "Epoch 33/500\n",
            "15/15 [==============================] - 0s 6ms/step - loss: 0.4204 - accuracy: 0.9508 - val_loss: 0.3768 - val_accuracy: 1.0000\n",
            "Epoch 34/500\n",
            "15/15 [==============================] - 0s 5ms/step - loss: 0.4030 - accuracy: 0.9380 - val_loss: 0.3706 - val_accuracy: 0.8667\n",
            "Epoch 35/500\n",
            "15/15 [==============================] - 0s 4ms/step - loss: 0.3572 - accuracy: 0.9293 - val_loss: 0.3597 - val_accuracy: 1.0000\n",
            "Epoch 36/500\n",
            "15/15 [==============================] - 0s 4ms/step - loss: 0.4252 - accuracy: 0.9352 - val_loss: 0.3515 - val_accuracy: 0.9778\n",
            "Epoch 37/500\n",
            "15/15 [==============================] - 0s 4ms/step - loss: 0.4139 - accuracy: 0.9444 - val_loss: 0.3434 - val_accuracy: 1.0000\n",
            "Epoch 38/500\n",
            "15/15 [==============================] - 0s 4ms/step - loss: 0.3576 - accuracy: 0.9648 - val_loss: 0.3357 - val_accuracy: 1.0000\n",
            "Epoch 39/500\n",
            "15/15 [==============================] - 0s 5ms/step - loss: 0.3687 - accuracy: 0.9848 - val_loss: 0.3293 - val_accuracy: 0.9778\n",
            "Epoch 40/500\n",
            "15/15 [==============================] - 0s 4ms/step - loss: 0.3775 - accuracy: 0.9446 - val_loss: 0.3217 - val_accuracy: 1.0000\n",
            "Epoch 41/500\n",
            "15/15 [==============================] - 0s 4ms/step - loss: 0.3448 - accuracy: 0.9701 - val_loss: 0.3143 - val_accuracy: 0.9778\n",
            "Epoch 42/500\n",
            "15/15 [==============================] - 0s 4ms/step - loss: 0.3402 - accuracy: 0.9766 - val_loss: 0.3073 - val_accuracy: 1.0000\n",
            "Epoch 43/500\n",
            "15/15 [==============================] - 0s 5ms/step - loss: 0.3486 - accuracy: 0.9599 - val_loss: 0.3006 - val_accuracy: 1.0000\n",
            "Epoch 44/500\n",
            "15/15 [==============================] - 0s 5ms/step - loss: 0.3236 - accuracy: 0.9621 - val_loss: 0.2940 - val_accuracy: 1.0000\n",
            "Epoch 45/500\n",
            "15/15 [==============================] - 0s 4ms/step - loss: 0.3434 - accuracy: 0.9336 - val_loss: 0.2878 - val_accuracy: 1.0000\n",
            "Epoch 46/500\n",
            "15/15 [==============================] - 0s 4ms/step - loss: 0.2802 - accuracy: 0.9716 - val_loss: 0.2811 - val_accuracy: 1.0000\n",
            "Epoch 47/500\n",
            "15/15 [==============================] - 0s 5ms/step - loss: 0.2984 - accuracy: 0.9604 - val_loss: 0.2750 - val_accuracy: 1.0000\n",
            "Epoch 48/500\n",
            "15/15 [==============================] - 0s 5ms/step - loss: 0.3229 - accuracy: 0.9590 - val_loss: 0.2689 - val_accuracy: 1.0000\n",
            "Epoch 49/500\n",
            "15/15 [==============================] - 0s 4ms/step - loss: 0.2780 - accuracy: 0.9714 - val_loss: 0.2631 - val_accuracy: 1.0000\n",
            "Epoch 50/500\n",
            "15/15 [==============================] - 0s 4ms/step - loss: 0.3013 - accuracy: 0.9590 - val_loss: 0.2573 - val_accuracy: 1.0000\n",
            "Epoch 51/500\n",
            "15/15 [==============================] - 0s 4ms/step - loss: 0.2938 - accuracy: 0.9644 - val_loss: 0.2518 - val_accuracy: 1.0000\n",
            "Epoch 52/500\n",
            "15/15 [==============================] - 0s 4ms/step - loss: 0.2773 - accuracy: 0.9611 - val_loss: 0.2461 - val_accuracy: 1.0000\n",
            "Epoch 53/500\n",
            "15/15 [==============================] - 0s 5ms/step - loss: 0.2829 - accuracy: 0.9736 - val_loss: 0.2406 - val_accuracy: 1.0000\n",
            "Epoch 54/500\n",
            "15/15 [==============================] - 0s 5ms/step - loss: 0.2777 - accuracy: 0.9722 - val_loss: 0.2356 - val_accuracy: 1.0000\n",
            "Epoch 55/500\n",
            "15/15 [==============================] - 0s 5ms/step - loss: 0.2530 - accuracy: 0.9649 - val_loss: 0.2293 - val_accuracy: 1.0000\n",
            "Epoch 56/500\n",
            "15/15 [==============================] - 0s 4ms/step - loss: 0.2613 - accuracy: 0.9799 - val_loss: 0.2244 - val_accuracy: 1.0000\n",
            "Epoch 57/500\n",
            "15/15 [==============================] - 0s 5ms/step - loss: 0.2828 - accuracy: 0.9504 - val_loss: 0.2193 - val_accuracy: 1.0000\n",
            "Epoch 58/500\n",
            "15/15 [==============================] - 0s 4ms/step - loss: 0.2485 - accuracy: 0.9542 - val_loss: 0.2148 - val_accuracy: 1.0000\n",
            "Epoch 59/500\n",
            "15/15 [==============================] - 0s 4ms/step - loss: 0.2449 - accuracy: 0.9488 - val_loss: 0.2095 - val_accuracy: 1.0000\n",
            "Epoch 60/500\n",
            "15/15 [==============================] - 0s 4ms/step - loss: 0.2144 - accuracy: 0.9710 - val_loss: 0.2054 - val_accuracy: 0.9778\n",
            "Epoch 61/500\n",
            "15/15 [==============================] - 0s 5ms/step - loss: 0.2857 - accuracy: 0.9459 - val_loss: 0.2000 - val_accuracy: 1.0000\n",
            "Epoch 62/500\n",
            "15/15 [==============================] - 0s 5ms/step - loss: 0.2361 - accuracy: 0.9186 - val_loss: 0.1956 - val_accuracy: 1.0000\n",
            "Epoch 63/500\n",
            "15/15 [==============================] - 0s 4ms/step - loss: 0.2130 - accuracy: 0.9697 - val_loss: 0.1921 - val_accuracy: 1.0000\n",
            "Epoch 64/500\n",
            "15/15 [==============================] - 0s 4ms/step - loss: 0.2270 - accuracy: 0.9534 - val_loss: 0.1932 - val_accuracy: 0.9778\n",
            "Epoch 65/500\n",
            "15/15 [==============================] - 0s 4ms/step - loss: 0.2631 - accuracy: 0.9537 - val_loss: 0.1843 - val_accuracy: 1.0000\n",
            "Epoch 66/500\n",
            "15/15 [==============================] - 0s 5ms/step - loss: 0.2329 - accuracy: 0.9562 - val_loss: 0.1796 - val_accuracy: 1.0000\n",
            "Epoch 67/500\n",
            "15/15 [==============================] - 0s 4ms/step - loss: 0.1935 - accuracy: 0.9854 - val_loss: 0.1753 - val_accuracy: 1.0000\n",
            "Epoch 68/500\n",
            "15/15 [==============================] - 0s 4ms/step - loss: 0.2170 - accuracy: 0.9660 - val_loss: 0.1759 - val_accuracy: 0.9778\n",
            "Epoch 69/500\n",
            "15/15 [==============================] - 0s 4ms/step - loss: 0.2128 - accuracy: 0.9766 - val_loss: 0.1687 - val_accuracy: 1.0000\n",
            "Epoch 70/500\n",
            "15/15 [==============================] - 0s 5ms/step - loss: 0.1983 - accuracy: 0.9590 - val_loss: 0.1647 - val_accuracy: 1.0000\n",
            "Epoch 71/500\n",
            "15/15 [==============================] - 0s 5ms/step - loss: 0.2212 - accuracy: 0.9626 - val_loss: 0.1615 - val_accuracy: 1.0000\n",
            "Epoch 72/500\n",
            "15/15 [==============================] - 0s 4ms/step - loss: 0.2009 - accuracy: 0.9656 - val_loss: 0.1591 - val_accuracy: 0.9778\n",
            "Epoch 73/500\n",
            "15/15 [==============================] - 0s 4ms/step - loss: 0.2012 - accuracy: 0.9578 - val_loss: 0.1546 - val_accuracy: 1.0000\n",
            "Epoch 74/500\n",
            "15/15 [==============================] - 0s 5ms/step - loss: 0.2013 - accuracy: 0.9550 - val_loss: 0.1517 - val_accuracy: 0.9778\n",
            "Epoch 75/500\n",
            "15/15 [==============================] - 0s 5ms/step - loss: 0.2153 - accuracy: 0.9674 - val_loss: 0.1482 - val_accuracy: 1.0000\n",
            "Epoch 76/500\n",
            "15/15 [==============================] - 0s 5ms/step - loss: 0.1641 - accuracy: 0.9885 - val_loss: 0.1451 - val_accuracy: 1.0000\n",
            "Epoch 77/500\n",
            "15/15 [==============================] - 0s 4ms/step - loss: 0.1853 - accuracy: 0.9677 - val_loss: 0.1439 - val_accuracy: 0.9778\n",
            "Epoch 78/500\n",
            "15/15 [==============================] - 0s 4ms/step - loss: 0.1676 - accuracy: 0.9800 - val_loss: 0.1404 - val_accuracy: 0.9778\n",
            "Epoch 79/500\n",
            "15/15 [==============================] - 0s 5ms/step - loss: 0.1706 - accuracy: 0.9706 - val_loss: 0.1365 - val_accuracy: 1.0000\n",
            "Epoch 80/500\n",
            "15/15 [==============================] - 0s 5ms/step - loss: 0.1789 - accuracy: 0.9813 - val_loss: 0.1350 - val_accuracy: 0.9778\n",
            "Epoch 81/500\n",
            "15/15 [==============================] - 0s 4ms/step - loss: 0.1617 - accuracy: 0.9852 - val_loss: 0.1315 - val_accuracy: 0.9778\n",
            "Epoch 82/500\n",
            "15/15 [==============================] - 0s 4ms/step - loss: 0.1455 - accuracy: 0.9819 - val_loss: 0.1286 - val_accuracy: 1.0000\n",
            "Epoch 83/500\n",
            "15/15 [==============================] - 0s 5ms/step - loss: 0.1973 - accuracy: 0.9370 - val_loss: 0.1268 - val_accuracy: 0.9778\n",
            "Epoch 84/500\n",
            "15/15 [==============================] - 0s 5ms/step - loss: 0.1562 - accuracy: 0.9927 - val_loss: 0.1271 - val_accuracy: 0.9778\n",
            "Epoch 85/500\n",
            "15/15 [==============================] - 0s 4ms/step - loss: 0.1788 - accuracy: 0.9894 - val_loss: 0.1213 - val_accuracy: 1.0000\n",
            "Epoch 86/500\n",
            "15/15 [==============================] - 0s 5ms/step - loss: 0.1748 - accuracy: 0.9467 - val_loss: 0.1192 - val_accuracy: 1.0000\n",
            "Epoch 87/500\n",
            "15/15 [==============================] - 0s 4ms/step - loss: 0.1455 - accuracy: 0.9606 - val_loss: 0.1173 - val_accuracy: 0.9778\n",
            "Epoch 88/500\n",
            "15/15 [==============================] - 0s 4ms/step - loss: 0.1378 - accuracy: 0.9825 - val_loss: 0.1162 - val_accuracy: 0.9778\n",
            "Epoch 89/500\n",
            "15/15 [==============================] - 0s 4ms/step - loss: 0.1565 - accuracy: 0.9689 - val_loss: 0.1127 - val_accuracy: 1.0000\n",
            "Epoch 90/500\n",
            "15/15 [==============================] - 0s 4ms/step - loss: 0.1481 - accuracy: 0.9872 - val_loss: 0.1111 - val_accuracy: 0.9778\n",
            "Epoch 91/500\n",
            "15/15 [==============================] - 0s 5ms/step - loss: 0.1409 - accuracy: 0.9736 - val_loss: 0.1104 - val_accuracy: 0.9778\n",
            "Epoch 92/500\n",
            "15/15 [==============================] - 0s 4ms/step - loss: 0.1216 - accuracy: 0.9908 - val_loss: 0.1072 - val_accuracy: 1.0000\n",
            "Epoch 93/500\n",
            "15/15 [==============================] - 0s 4ms/step - loss: 0.1232 - accuracy: 0.9894 - val_loss: 0.1078 - val_accuracy: 0.9778\n",
            "Epoch 94/500\n",
            "15/15 [==============================] - 0s 4ms/step - loss: 0.1167 - accuracy: 0.9915 - val_loss: 0.1037 - val_accuracy: 1.0000\n",
            "Epoch 95/500\n",
            "15/15 [==============================] - 0s 4ms/step - loss: 0.1682 - accuracy: 0.9361 - val_loss: 0.1018 - val_accuracy: 0.9778\n",
            "Epoch 96/500\n",
            "15/15 [==============================] - 0s 4ms/step - loss: 0.1435 - accuracy: 0.9723 - val_loss: 0.1002 - val_accuracy: 0.9778\n",
            "Epoch 97/500\n",
            "15/15 [==============================] - 0s 4ms/step - loss: 0.1487 - accuracy: 0.9556 - val_loss: 0.0982 - val_accuracy: 1.0000\n",
            "Epoch 98/500\n",
            "15/15 [==============================] - 0s 4ms/step - loss: 0.1305 - accuracy: 0.9900 - val_loss: 0.0967 - val_accuracy: 1.0000\n",
            "Epoch 99/500\n",
            "15/15 [==============================] - 0s 4ms/step - loss: 0.1437 - accuracy: 0.9872 - val_loss: 0.1005 - val_accuracy: 0.9778\n",
            "Epoch 100/500\n",
            "15/15 [==============================] - 0s 4ms/step - loss: 0.1614 - accuracy: 0.9876 - val_loss: 0.0937 - val_accuracy: 1.0000\n",
            "Epoch 101/500\n",
            "15/15 [==============================] - 0s 5ms/step - loss: 0.1546 - accuracy: 0.9754 - val_loss: 0.0924 - val_accuracy: 0.9778\n",
            "Epoch 102/500\n",
            "15/15 [==============================] - 0s 5ms/step - loss: 0.1428 - accuracy: 0.9620 - val_loss: 0.0910 - val_accuracy: 0.9778\n",
            "Epoch 103/500\n",
            "15/15 [==============================] - 0s 5ms/step - loss: 0.1497 - accuracy: 0.9519 - val_loss: 0.0898 - val_accuracy: 0.9778\n",
            "Epoch 104/500\n",
            "15/15 [==============================] - 0s 4ms/step - loss: 0.1282 - accuracy: 0.9611 - val_loss: 0.0883 - val_accuracy: 0.9778\n",
            "Epoch 105/500\n",
            "15/15 [==============================] - 0s 5ms/step - loss: 0.1525 - accuracy: 0.9674 - val_loss: 0.0872 - val_accuracy: 0.9778\n",
            "Epoch 106/500\n",
            "15/15 [==============================] - 0s 5ms/step - loss: 0.0998 - accuracy: 0.9757 - val_loss: 0.0868 - val_accuracy: 0.9778\n",
            "Epoch 107/500\n",
            "15/15 [==============================] - 0s 4ms/step - loss: 0.1072 - accuracy: 0.9947 - val_loss: 0.0845 - val_accuracy: 0.9778\n",
            "Epoch 108/500\n",
            "15/15 [==============================] - 0s 4ms/step - loss: 0.1211 - accuracy: 0.9822 - val_loss: 0.0831 - val_accuracy: 1.0000\n",
            "Epoch 109/500\n",
            "15/15 [==============================] - 0s 5ms/step - loss: 0.1625 - accuracy: 0.9355 - val_loss: 0.0853 - val_accuracy: 0.9778\n",
            "Epoch 110/500\n",
            "15/15 [==============================] - 0s 4ms/step - loss: 0.1193 - accuracy: 0.9791 - val_loss: 0.0808 - val_accuracy: 1.0000\n",
            "Epoch 111/500\n",
            "15/15 [==============================] - 0s 5ms/step - loss: 0.1308 - accuracy: 0.9621 - val_loss: 0.0816 - val_accuracy: 0.9778\n",
            "Epoch 112/500\n",
            "15/15 [==============================] - 0s 4ms/step - loss: 0.0960 - accuracy: 0.9843 - val_loss: 0.0795 - val_accuracy: 0.9778\n",
            "Epoch 113/500\n",
            "15/15 [==============================] - 0s 5ms/step - loss: 0.0960 - accuracy: 0.9910 - val_loss: 0.0802 - val_accuracy: 0.9778\n",
            "Epoch 114/500\n",
            "15/15 [==============================] - 0s 4ms/step - loss: 0.1184 - accuracy: 0.9767 - val_loss: 0.0766 - val_accuracy: 1.0000\n",
            "Epoch 115/500\n",
            "15/15 [==============================] - 0s 4ms/step - loss: 0.1335 - accuracy: 0.9716 - val_loss: 0.0793 - val_accuracy: 0.9778\n",
            "Epoch 116/500\n",
            "15/15 [==============================] - 0s 4ms/step - loss: 0.1279 - accuracy: 0.9559 - val_loss: 0.0746 - val_accuracy: 1.0000\n",
            "Epoch 117/500\n",
            "15/15 [==============================] - 0s 4ms/step - loss: 0.0912 - accuracy: 0.9821 - val_loss: 0.0753 - val_accuracy: 0.9778\n",
            "Epoch 118/500\n",
            "15/15 [==============================] - 0s 6ms/step - loss: 0.1150 - accuracy: 0.9704 - val_loss: 0.0740 - val_accuracy: 0.9778\n",
            "Epoch 119/500\n",
            "15/15 [==============================] - 0s 5ms/step - loss: 0.1372 - accuracy: 0.9460 - val_loss: 0.0718 - val_accuracy: 1.0000\n",
            "Epoch 120/500\n",
            "15/15 [==============================] - 0s 5ms/step - loss: 0.1416 - accuracy: 0.9317 - val_loss: 0.0720 - val_accuracy: 0.9778\n",
            "Epoch 121/500\n",
            "15/15 [==============================] - 0s 4ms/step - loss: 0.1037 - accuracy: 0.9589 - val_loss: 0.0702 - val_accuracy: 1.0000\n",
            "Epoch 122/500\n",
            "15/15 [==============================] - 0s 5ms/step - loss: 0.1152 - accuracy: 0.9655 - val_loss: 0.0696 - val_accuracy: 0.9778\n",
            "Epoch 123/500\n",
            "15/15 [==============================] - 0s 4ms/step - loss: 0.0932 - accuracy: 0.9872 - val_loss: 0.0690 - val_accuracy: 0.9778\n",
            "Epoch 124/500\n",
            "15/15 [==============================] - 0s 4ms/step - loss: 0.1407 - accuracy: 0.9679 - val_loss: 0.0682 - val_accuracy: 0.9778\n",
            "Epoch 125/500\n",
            "15/15 [==============================] - 0s 5ms/step - loss: 0.1283 - accuracy: 0.9728 - val_loss: 0.0679 - val_accuracy: 0.9778\n",
            "Epoch 126/500\n",
            "15/15 [==============================] - 0s 5ms/step - loss: 0.1394 - accuracy: 0.9529 - val_loss: 0.0667 - val_accuracy: 0.9778\n",
            "Epoch 127/500\n",
            "15/15 [==============================] - 0s 5ms/step - loss: 0.1175 - accuracy: 0.9550 - val_loss: 0.0667 - val_accuracy: 0.9778\n",
            "Epoch 128/500\n",
            "15/15 [==============================] - 0s 5ms/step - loss: 0.0809 - accuracy: 0.9831 - val_loss: 0.0651 - val_accuracy: 0.9778\n",
            "Epoch 129/500\n",
            "15/15 [==============================] - 0s 4ms/step - loss: 0.0856 - accuracy: 0.9843 - val_loss: 0.0676 - val_accuracy: 0.9778\n",
            "Epoch 130/500\n",
            "15/15 [==============================] - 0s 5ms/step - loss: 0.1104 - accuracy: 0.9675 - val_loss: 0.0636 - val_accuracy: 0.9778\n",
            "Epoch 131/500\n",
            "15/15 [==============================] - 0s 5ms/step - loss: 0.0909 - accuracy: 0.9788 - val_loss: 0.0627 - val_accuracy: 1.0000\n",
            "Epoch 132/500\n",
            "15/15 [==============================] - 0s 5ms/step - loss: 0.0959 - accuracy: 0.9763 - val_loss: 0.0660 - val_accuracy: 0.9778\n",
            "Epoch 133/500\n",
            "15/15 [==============================] - 0s 5ms/step - loss: 0.1237 - accuracy: 0.9622 - val_loss: 0.0614 - val_accuracy: 1.0000\n",
            "Epoch 134/500\n",
            "15/15 [==============================] - 0s 5ms/step - loss: 0.1078 - accuracy: 0.9728 - val_loss: 0.0650 - val_accuracy: 0.9778\n",
            "Epoch 135/500\n",
            "15/15 [==============================] - 0s 4ms/step - loss: 0.1172 - accuracy: 0.9662 - val_loss: 0.0617 - val_accuracy: 0.9778\n",
            "Epoch 136/500\n",
            "15/15 [==============================] - 0s 4ms/step - loss: 0.0932 - accuracy: 0.9627 - val_loss: 0.0616 - val_accuracy: 0.9778\n",
            "Epoch 137/500\n",
            "15/15 [==============================] - 0s 5ms/step - loss: 0.1078 - accuracy: 0.9843 - val_loss: 0.0592 - val_accuracy: 0.9778\n",
            "Epoch 138/500\n",
            "15/15 [==============================] - 0s 5ms/step - loss: 0.1116 - accuracy: 0.9768 - val_loss: 0.0629 - val_accuracy: 0.9778\n",
            "Epoch 139/500\n",
            "15/15 [==============================] - 0s 5ms/step - loss: 0.0798 - accuracy: 0.9833 - val_loss: 0.0584 - val_accuracy: 0.9778\n",
            "Epoch 140/500\n",
            "15/15 [==============================] - 0s 5ms/step - loss: 0.0961 - accuracy: 0.9648 - val_loss: 0.0593 - val_accuracy: 0.9778\n",
            "Epoch 141/500\n",
            "15/15 [==============================] - 0s 4ms/step - loss: 0.1146 - accuracy: 0.9728 - val_loss: 0.0572 - val_accuracy: 0.9778\n",
            "Epoch 142/500\n",
            "15/15 [==============================] - 0s 4ms/step - loss: 0.0785 - accuracy: 0.9866 - val_loss: 0.0577 - val_accuracy: 0.9778\n",
            "Epoch 143/500\n",
            "15/15 [==============================] - 0s 4ms/step - loss: 0.1159 - accuracy: 0.9544 - val_loss: 0.0583 - val_accuracy: 0.9778\n",
            "Epoch 144/500\n",
            "15/15 [==============================] - 0s 5ms/step - loss: 0.0705 - accuracy: 0.9855 - val_loss: 0.0553 - val_accuracy: 1.0000\n",
            "Epoch 145/500\n",
            "15/15 [==============================] - 0s 5ms/step - loss: 0.0772 - accuracy: 0.9705 - val_loss: 0.0604 - val_accuracy: 0.9778\n",
            "Epoch 146/500\n",
            "15/15 [==============================] - 0s 5ms/step - loss: 0.0678 - accuracy: 0.9916 - val_loss: 0.0554 - val_accuracy: 0.9778\n",
            "Epoch 147/500\n",
            "15/15 [==============================] - 0s 5ms/step - loss: 0.1031 - accuracy: 0.9733 - val_loss: 0.0555 - val_accuracy: 0.9778\n",
            "Epoch 148/500\n",
            "15/15 [==============================] - 0s 5ms/step - loss: 0.1097 - accuracy: 0.9736 - val_loss: 0.0558 - val_accuracy: 0.9778\n",
            "Epoch 149/500\n",
            "15/15 [==============================] - 0s 4ms/step - loss: 0.0773 - accuracy: 0.9929 - val_loss: 0.0542 - val_accuracy: 0.9778\n",
            "Epoch 150/500\n",
            "15/15 [==============================] - 0s 4ms/step - loss: 0.0712 - accuracy: 0.9935 - val_loss: 0.0526 - val_accuracy: 1.0000\n",
            "Epoch 151/500\n",
            "15/15 [==============================] - 0s 5ms/step - loss: 0.0775 - accuracy: 0.9843 - val_loss: 0.0640 - val_accuracy: 0.9778\n",
            "Epoch 152/500\n",
            "15/15 [==============================] - 0s 5ms/step - loss: 0.0737 - accuracy: 0.9927 - val_loss: 0.0517 - val_accuracy: 1.0000\n",
            "Epoch 153/500\n",
            "15/15 [==============================] - 0s 4ms/step - loss: 0.0851 - accuracy: 0.9773 - val_loss: 0.0570 - val_accuracy: 0.9778\n",
            "Epoch 154/500\n",
            "15/15 [==============================] - 0s 5ms/step - loss: 0.1356 - accuracy: 0.9614 - val_loss: 0.0511 - val_accuracy: 1.0000\n",
            "Epoch 155/500\n",
            "15/15 [==============================] - 0s 5ms/step - loss: 0.0812 - accuracy: 0.9856 - val_loss: 0.0535 - val_accuracy: 0.9778\n",
            "Epoch 156/500\n",
            "15/15 [==============================] - 0s 5ms/step - loss: 0.0947 - accuracy: 0.9772 - val_loss: 0.0566 - val_accuracy: 0.9778\n",
            "Epoch 157/500\n",
            "15/15 [==============================] - 0s 5ms/step - loss: 0.0914 - accuracy: 0.9734 - val_loss: 0.0497 - val_accuracy: 1.0000\n",
            "Epoch 158/500\n",
            "15/15 [==============================] - 0s 5ms/step - loss: 0.1045 - accuracy: 0.9549 - val_loss: 0.0553 - val_accuracy: 0.9778\n",
            "Epoch 159/500\n",
            "15/15 [==============================] - 0s 4ms/step - loss: 0.0736 - accuracy: 0.9875 - val_loss: 0.0507 - val_accuracy: 0.9778\n",
            "Epoch 160/500\n",
            "15/15 [==============================] - 0s 5ms/step - loss: 0.0962 - accuracy: 0.9639 - val_loss: 0.0500 - val_accuracy: 0.9778\n",
            "Epoch 161/500\n",
            "15/15 [==============================] - 0s 5ms/step - loss: 0.0738 - accuracy: 0.9898 - val_loss: 0.0523 - val_accuracy: 0.9778\n",
            "Epoch 162/500\n",
            "15/15 [==============================] - 0s 5ms/step - loss: 0.0815 - accuracy: 0.9886 - val_loss: 0.0524 - val_accuracy: 0.9778\n",
            "Epoch 163/500\n",
            "15/15 [==============================] - 0s 4ms/step - loss: 0.0678 - accuracy: 0.9925 - val_loss: 0.0491 - val_accuracy: 0.9778\n",
            "Epoch 164/500\n",
            "15/15 [==============================] - 0s 4ms/step - loss: 0.0594 - accuracy: 0.9903 - val_loss: 0.0482 - val_accuracy: 0.9778\n",
            "Epoch 165/500\n",
            "15/15 [==============================] - 0s 4ms/step - loss: 0.0808 - accuracy: 0.9657 - val_loss: 0.0592 - val_accuracy: 0.9778\n",
            "Epoch 166/500\n",
            "15/15 [==============================] - 0s 4ms/step - loss: 0.0771 - accuracy: 0.9924 - val_loss: 0.0469 - val_accuracy: 1.0000\n",
            "Epoch 167/500\n",
            "15/15 [==============================] - 0s 5ms/step - loss: 0.0835 - accuracy: 0.9820 - val_loss: 0.0522 - val_accuracy: 0.9778\n",
            "Epoch 168/500\n",
            "15/15 [==============================] - 0s 5ms/step - loss: 0.0764 - accuracy: 0.9910 - val_loss: 0.0481 - val_accuracy: 0.9778\n",
            "Epoch 169/500\n",
            "15/15 [==============================] - 0s 5ms/step - loss: 0.0680 - accuracy: 0.9847 - val_loss: 0.0463 - val_accuracy: 0.9778\n",
            "Epoch 170/500\n",
            "15/15 [==============================] - 0s 4ms/step - loss: 0.0919 - accuracy: 0.9613 - val_loss: 0.0526 - val_accuracy: 0.9778\n",
            "Epoch 171/500\n",
            "15/15 [==============================] - 0s 4ms/step - loss: 0.1148 - accuracy: 0.9678 - val_loss: 0.0454 - val_accuracy: 1.0000\n",
            "Epoch 172/500\n",
            "15/15 [==============================] - 0s 5ms/step - loss: 0.1268 - accuracy: 0.9686 - val_loss: 0.0551 - val_accuracy: 0.9778\n",
            "Epoch 173/500\n",
            "15/15 [==============================] - 0s 5ms/step - loss: 0.0638 - accuracy: 0.9854 - val_loss: 0.0447 - val_accuracy: 1.0000\n",
            "Epoch 174/500\n",
            "15/15 [==============================] - 0s 5ms/step - loss: 0.0613 - accuracy: 0.9836 - val_loss: 0.0482 - val_accuracy: 0.9778\n",
            "Epoch 175/500\n",
            "15/15 [==============================] - 0s 5ms/step - loss: 0.0925 - accuracy: 0.9861 - val_loss: 0.0501 - val_accuracy: 0.9778\n",
            "Epoch 176/500\n",
            "15/15 [==============================] - 0s 5ms/step - loss: 0.0912 - accuracy: 0.9754 - val_loss: 0.0451 - val_accuracy: 0.9778\n",
            "Epoch 177/500\n",
            "15/15 [==============================] - 0s 5ms/step - loss: 0.0766 - accuracy: 0.9840 - val_loss: 0.0453 - val_accuracy: 0.9778\n",
            "Epoch 178/500\n",
            "15/15 [==============================] - 0s 4ms/step - loss: 0.1130 - accuracy: 0.9574 - val_loss: 0.0514 - val_accuracy: 0.9778\n",
            "Epoch 179/500\n",
            "15/15 [==============================] - 0s 5ms/step - loss: 0.0662 - accuracy: 0.9847 - val_loss: 0.0437 - val_accuracy: 0.9778\n",
            "Epoch 180/500\n",
            "15/15 [==============================] - 0s 4ms/step - loss: 0.0784 - accuracy: 0.9782 - val_loss: 0.0470 - val_accuracy: 0.9778\n",
            "Epoch 181/500\n",
            "15/15 [==============================] - 0s 5ms/step - loss: 0.0670 - accuracy: 0.9885 - val_loss: 0.0451 - val_accuracy: 0.9778\n",
            "Epoch 182/500\n",
            "15/15 [==============================] - 0s 5ms/step - loss: 0.0889 - accuracy: 0.9728 - val_loss: 0.0491 - val_accuracy: 0.9778\n",
            "Epoch 183/500\n",
            "15/15 [==============================] - 0s 5ms/step - loss: 0.0591 - accuracy: 0.9906 - val_loss: 0.0432 - val_accuracy: 0.9778\n",
            "Epoch 184/500\n",
            "15/15 [==============================] - 0s 5ms/step - loss: 0.0751 - accuracy: 0.9791 - val_loss: 0.0473 - val_accuracy: 0.9778\n",
            "Epoch 185/500\n",
            "15/15 [==============================] - 0s 5ms/step - loss: 0.0642 - accuracy: 0.9872 - val_loss: 0.0421 - val_accuracy: 0.9778\n",
            "Epoch 186/500\n",
            "15/15 [==============================] - 0s 5ms/step - loss: 0.0804 - accuracy: 0.9846 - val_loss: 0.0465 - val_accuracy: 0.9778\n",
            "Epoch 187/500\n",
            "15/15 [==============================] - 0s 5ms/step - loss: 0.0931 - accuracy: 0.9772 - val_loss: 0.0445 - val_accuracy: 0.9778\n",
            "Epoch 188/500\n",
            "15/15 [==============================] - 0s 5ms/step - loss: 0.1008 - accuracy: 0.9807 - val_loss: 0.0453 - val_accuracy: 0.9778\n",
            "Epoch 189/500\n",
            "15/15 [==============================] - 0s 5ms/step - loss: 0.0810 - accuracy: 0.9778 - val_loss: 0.0475 - val_accuracy: 0.9778\n",
            "Epoch 190/500\n",
            "15/15 [==============================] - 0s 5ms/step - loss: 0.0766 - accuracy: 0.9678 - val_loss: 0.0424 - val_accuracy: 0.9778\n",
            "Epoch 191/500\n",
            "15/15 [==============================] - 0s 5ms/step - loss: 0.0811 - accuracy: 0.9758 - val_loss: 0.0436 - val_accuracy: 0.9778\n",
            "Epoch 192/500\n",
            "15/15 [==============================] - 0s 5ms/step - loss: 0.1227 - accuracy: 0.9511 - val_loss: 0.0463 - val_accuracy: 0.9778\n",
            "Epoch 193/500\n",
            "15/15 [==============================] - 0s 4ms/step - loss: 0.1133 - accuracy: 0.9648 - val_loss: 0.0415 - val_accuracy: 0.9778\n",
            "Epoch 194/500\n",
            "15/15 [==============================] - 0s 5ms/step - loss: 0.0830 - accuracy: 0.9600 - val_loss: 0.0436 - val_accuracy: 0.9778\n",
            "Epoch 195/500\n",
            "15/15 [==============================] - 0s 5ms/step - loss: 0.0983 - accuracy: 0.9689 - val_loss: 0.0434 - val_accuracy: 0.9778\n",
            "Epoch 196/500\n",
            "15/15 [==============================] - 0s 4ms/step - loss: 0.0526 - accuracy: 0.9820 - val_loss: 0.0422 - val_accuracy: 0.9778\n",
            "Epoch 197/500\n",
            "15/15 [==============================] - 0s 5ms/step - loss: 0.0957 - accuracy: 0.9614 - val_loss: 0.0435 - val_accuracy: 0.9778\n",
            "Epoch 198/500\n",
            "15/15 [==============================] - 0s 5ms/step - loss: 0.0779 - accuracy: 0.9867 - val_loss: 0.0444 - val_accuracy: 0.9778\n",
            "Epoch 199/500\n",
            "15/15 [==============================] - 0s 5ms/step - loss: 0.0883 - accuracy: 0.9758 - val_loss: 0.0447 - val_accuracy: 0.9778\n",
            "Epoch 200/500\n",
            "15/15 [==============================] - 0s 5ms/step - loss: 0.0813 - accuracy: 0.9748 - val_loss: 0.0411 - val_accuracy: 0.9778\n",
            "Epoch 201/500\n",
            "15/15 [==============================] - 0s 4ms/step - loss: 0.0965 - accuracy: 0.9704 - val_loss: 0.0413 - val_accuracy: 0.9778\n",
            "Epoch 202/500\n",
            "15/15 [==============================] - 0s 5ms/step - loss: 0.0643 - accuracy: 0.9843 - val_loss: 0.0414 - val_accuracy: 0.9778\n",
            "Epoch 203/500\n",
            "15/15 [==============================] - 0s 5ms/step - loss: 0.0764 - accuracy: 0.9763 - val_loss: 0.0436 - val_accuracy: 0.9778\n",
            "Epoch 204/500\n",
            "15/15 [==============================] - 0s 5ms/step - loss: 0.0615 - accuracy: 0.9930 - val_loss: 0.0383 - val_accuracy: 1.0000\n",
            "Epoch 205/500\n",
            "15/15 [==============================] - 0s 5ms/step - loss: 0.0759 - accuracy: 0.9870 - val_loss: 0.0494 - val_accuracy: 0.9778\n",
            "Epoch 206/500\n",
            "15/15 [==============================] - 0s 4ms/step - loss: 0.1176 - accuracy: 0.9582 - val_loss: 0.0393 - val_accuracy: 0.9778\n",
            "Epoch 207/500\n",
            "15/15 [==============================] - 0s 6ms/step - loss: 0.0543 - accuracy: 0.9792 - val_loss: 0.0442 - val_accuracy: 0.9778\n",
            "Epoch 208/500\n",
            "15/15 [==============================] - 0s 5ms/step - loss: 0.0791 - accuracy: 0.9859 - val_loss: 0.0419 - val_accuracy: 0.9778\n",
            "Epoch 209/500\n",
            "15/15 [==============================] - 0s 5ms/step - loss: 0.0791 - accuracy: 0.9794 - val_loss: 0.0379 - val_accuracy: 0.9778\n",
            "Epoch 210/500\n",
            "15/15 [==============================] - 0s 4ms/step - loss: 0.0625 - accuracy: 0.9917 - val_loss: 0.0428 - val_accuracy: 0.9778\n",
            "Epoch 211/500\n",
            "15/15 [==============================] - 0s 5ms/step - loss: 0.0706 - accuracy: 0.9793 - val_loss: 0.0447 - val_accuracy: 0.9778\n",
            "Epoch 212/500\n",
            "15/15 [==============================] - 0s 5ms/step - loss: 0.0846 - accuracy: 0.9788 - val_loss: 0.0374 - val_accuracy: 0.9778\n",
            "Epoch 213/500\n",
            "15/15 [==============================] - 0s 5ms/step - loss: 0.0600 - accuracy: 0.9836 - val_loss: 0.0400 - val_accuracy: 0.9778\n",
            "Epoch 214/500\n",
            "15/15 [==============================] - 0s 5ms/step - loss: 0.0605 - accuracy: 0.9957 - val_loss: 0.0399 - val_accuracy: 0.9778\n",
            "Epoch 215/500\n",
            "15/15 [==============================] - 0s 5ms/step - loss: 0.0661 - accuracy: 0.9929 - val_loss: 0.0447 - val_accuracy: 0.9778\n",
            "Epoch 216/500\n",
            "15/15 [==============================] - 0s 5ms/step - loss: 0.0746 - accuracy: 0.9685 - val_loss: 0.0440 - val_accuracy: 0.9778\n",
            "Epoch 217/500\n",
            "15/15 [==============================] - 0s 5ms/step - loss: 0.0609 - accuracy: 0.9859 - val_loss: 0.0387 - val_accuracy: 0.9778\n",
            "Epoch 218/500\n",
            "15/15 [==============================] - 0s 4ms/step - loss: 0.0545 - accuracy: 0.9890 - val_loss: 0.0373 - val_accuracy: 0.9778\n",
            "Epoch 219/500\n",
            "15/15 [==============================] - 0s 5ms/step - loss: 0.1021 - accuracy: 0.9649 - val_loss: 0.0431 - val_accuracy: 0.9778\n",
            "Epoch 220/500\n",
            "15/15 [==============================] - 0s 5ms/step - loss: 0.1107 - accuracy: 0.9336 - val_loss: 0.0381 - val_accuracy: 0.9778\n",
            "Epoch 221/500\n",
            "15/15 [==============================] - 0s 4ms/step - loss: 0.1020 - accuracy: 0.9589 - val_loss: 0.0362 - val_accuracy: 0.9778\n",
            "Epoch 222/500\n",
            "15/15 [==============================] - 0s 4ms/step - loss: 0.0777 - accuracy: 0.9640 - val_loss: 0.0411 - val_accuracy: 0.9778\n",
            "Epoch 223/500\n",
            "15/15 [==============================] - 0s 5ms/step - loss: 0.1193 - accuracy: 0.9569 - val_loss: 0.0402 - val_accuracy: 0.9778\n",
            "Epoch 224/500\n",
            "15/15 [==============================] - 0s 5ms/step - loss: 0.0632 - accuracy: 0.9760 - val_loss: 0.0361 - val_accuracy: 0.9778\n",
            "Epoch 225/500\n",
            "15/15 [==============================] - 0s 5ms/step - loss: 0.0697 - accuracy: 0.9757 - val_loss: 0.0412 - val_accuracy: 0.9778\n",
            "Epoch 226/500\n",
            "15/15 [==============================] - 0s 5ms/step - loss: 0.0624 - accuracy: 0.9876 - val_loss: 0.0366 - val_accuracy: 0.9778\n",
            "Epoch 227/500\n",
            "15/15 [==============================] - 0s 5ms/step - loss: 0.0617 - accuracy: 0.9898 - val_loss: 0.0413 - val_accuracy: 0.9778\n",
            "Epoch 228/500\n",
            "15/15 [==============================] - 0s 4ms/step - loss: 0.0671 - accuracy: 0.9843 - val_loss: 0.0405 - val_accuracy: 0.9778\n",
            "Epoch 229/500\n",
            "15/15 [==============================] - 0s 6ms/step - loss: 0.0786 - accuracy: 0.9760 - val_loss: 0.0363 - val_accuracy: 0.9778\n",
            "Epoch 230/500\n",
            "15/15 [==============================] - 0s 5ms/step - loss: 0.0535 - accuracy: 0.9867 - val_loss: 0.0392 - val_accuracy: 0.9778\n",
            "Epoch 231/500\n",
            "15/15 [==============================] - 0s 5ms/step - loss: 0.0643 - accuracy: 0.9915 - val_loss: 0.0415 - val_accuracy: 0.9778\n",
            "Epoch 232/500\n",
            "15/15 [==============================] - 0s 5ms/step - loss: 0.0892 - accuracy: 0.9510 - val_loss: 0.0420 - val_accuracy: 0.9778\n",
            "Epoch 233/500\n",
            "15/15 [==============================] - 0s 5ms/step - loss: 0.0581 - accuracy: 0.9910 - val_loss: 0.0366 - val_accuracy: 0.9778\n",
            "Epoch 234/500\n",
            "15/15 [==============================] - 0s 4ms/step - loss: 0.0756 - accuracy: 0.9769 - val_loss: 0.0378 - val_accuracy: 0.9778\n",
            "Epoch 235/500\n",
            "15/15 [==============================] - 0s 5ms/step - loss: 0.0648 - accuracy: 0.9876 - val_loss: 0.0402 - val_accuracy: 0.9778\n",
            "Epoch 236/500\n",
            "15/15 [==============================] - 0s 4ms/step - loss: 0.0736 - accuracy: 0.9881 - val_loss: 0.0395 - val_accuracy: 0.9778\n",
            "Epoch 237/500\n",
            "15/15 [==============================] - 0s 5ms/step - loss: 0.0885 - accuracy: 0.9676 - val_loss: 0.0369 - val_accuracy: 0.9778\n",
            "Epoch 238/500\n",
            "15/15 [==============================] - 0s 4ms/step - loss: 0.0623 - accuracy: 0.9831 - val_loss: 0.0399 - val_accuracy: 0.9778\n",
            "Epoch 239/500\n",
            "15/15 [==============================] - 0s 5ms/step - loss: 0.0475 - accuracy: 0.9918 - val_loss: 0.0382 - val_accuracy: 0.9778\n",
            "Epoch 240/500\n",
            "15/15 [==============================] - 0s 5ms/step - loss: 0.0643 - accuracy: 0.9678 - val_loss: 0.0380 - val_accuracy: 0.9778\n",
            "Epoch 241/500\n",
            "15/15 [==============================] - 0s 5ms/step - loss: 0.0542 - accuracy: 0.9970 - val_loss: 0.0339 - val_accuracy: 0.9778\n",
            "Epoch 242/500\n",
            "15/15 [==============================] - 0s 5ms/step - loss: 0.0847 - accuracy: 0.9775 - val_loss: 0.0436 - val_accuracy: 0.9778\n",
            "Epoch 243/500\n",
            "15/15 [==============================] - 0s 5ms/step - loss: 0.0721 - accuracy: 0.9876 - val_loss: 0.0340 - val_accuracy: 0.9778\n",
            "Epoch 244/500\n",
            "15/15 [==============================] - 0s 5ms/step - loss: 0.1236 - accuracy: 0.9485 - val_loss: 0.0392 - val_accuracy: 0.9778\n",
            "Epoch 245/500\n",
            "15/15 [==============================] - 0s 5ms/step - loss: 0.0768 - accuracy: 0.9851 - val_loss: 0.0377 - val_accuracy: 0.9778\n",
            "Epoch 246/500\n",
            "15/15 [==============================] - 0s 5ms/step - loss: 0.0792 - accuracy: 0.9736 - val_loss: 0.0385 - val_accuracy: 0.9778\n",
            "Epoch 247/500\n",
            "15/15 [==============================] - 0s 5ms/step - loss: 0.0933 - accuracy: 0.9775 - val_loss: 0.0343 - val_accuracy: 0.9778\n",
            "Epoch 248/500\n",
            "15/15 [==============================] - 0s 5ms/step - loss: 0.0625 - accuracy: 0.9843 - val_loss: 0.0389 - val_accuracy: 0.9778\n",
            "Epoch 249/500\n",
            "15/15 [==============================] - 0s 5ms/step - loss: 0.0527 - accuracy: 0.9872 - val_loss: 0.0423 - val_accuracy: 0.9778\n",
            "Epoch 250/500\n",
            "15/15 [==============================] - 0s 5ms/step - loss: 0.0814 - accuracy: 0.9675 - val_loss: 0.0353 - val_accuracy: 0.9778\n",
            "Epoch 251/500\n",
            "15/15 [==============================] - 0s 5ms/step - loss: 0.0651 - accuracy: 0.9857 - val_loss: 0.0380 - val_accuracy: 0.9778\n",
            "Epoch 252/500\n",
            "15/15 [==============================] - 0s 5ms/step - loss: 0.0617 - accuracy: 0.9881 - val_loss: 0.0371 - val_accuracy: 0.9778\n",
            "Epoch 253/500\n",
            "15/15 [==============================] - 0s 5ms/step - loss: 0.0550 - accuracy: 0.9910 - val_loss: 0.0379 - val_accuracy: 0.9778\n",
            "Epoch 254/500\n",
            "15/15 [==============================] - 0s 5ms/step - loss: 0.0809 - accuracy: 0.9747 - val_loss: 0.0369 - val_accuracy: 0.9778\n",
            "Epoch 255/500\n",
            "15/15 [==============================] - 0s 4ms/step - loss: 0.0468 - accuracy: 0.9889 - val_loss: 0.0338 - val_accuracy: 0.9778\n",
            "Epoch 256/500\n",
            "15/15 [==============================] - 0s 5ms/step - loss: 0.1196 - accuracy: 0.9627 - val_loss: 0.0417 - val_accuracy: 0.9778\n",
            "Epoch 257/500\n",
            "15/15 [==============================] - 0s 5ms/step - loss: 0.0816 - accuracy: 0.9799 - val_loss: 0.0359 - val_accuracy: 0.9778\n",
            "Epoch 258/500\n",
            "15/15 [==============================] - 0s 5ms/step - loss: 0.0648 - accuracy: 0.9829 - val_loss: 0.0353 - val_accuracy: 0.9778\n",
            "Epoch 259/500\n",
            "15/15 [==============================] - 0s 5ms/step - loss: 0.0779 - accuracy: 0.9657 - val_loss: 0.0394 - val_accuracy: 0.9778\n",
            "Epoch 260/500\n",
            "15/15 [==============================] - 0s 5ms/step - loss: 0.0691 - accuracy: 0.9652 - val_loss: 0.0348 - val_accuracy: 0.9778\n",
            "Epoch 261/500\n",
            "15/15 [==============================] - 0s 5ms/step - loss: 0.0709 - accuracy: 0.9818 - val_loss: 0.0409 - val_accuracy: 0.9778\n",
            "Epoch 262/500\n",
            "15/15 [==============================] - 0s 5ms/step - loss: 0.0876 - accuracy: 0.9673 - val_loss: 0.0318 - val_accuracy: 0.9778\n",
            "Epoch 263/500\n",
            "15/15 [==============================] - 0s 5ms/step - loss: 0.0617 - accuracy: 0.9900 - val_loss: 0.0410 - val_accuracy: 0.9778\n",
            "Epoch 264/500\n",
            "15/15 [==============================] - 0s 5ms/step - loss: 0.0467 - accuracy: 0.9897 - val_loss: 0.0348 - val_accuracy: 0.9778\n",
            "Epoch 265/500\n",
            "15/15 [==============================] - 0s 5ms/step - loss: 0.0568 - accuracy: 0.9845 - val_loss: 0.0374 - val_accuracy: 0.9778\n",
            "Epoch 266/500\n",
            "15/15 [==============================] - 0s 5ms/step - loss: 0.1182 - accuracy: 0.9649 - val_loss: 0.0394 - val_accuracy: 0.9778\n",
            "Epoch 267/500\n",
            "15/15 [==============================] - 0s 5ms/step - loss: 0.0778 - accuracy: 0.9497 - val_loss: 0.0350 - val_accuracy: 0.9778\n",
            "Epoch 268/500\n",
            "15/15 [==============================] - 0s 5ms/step - loss: 0.0779 - accuracy: 0.9696 - val_loss: 0.0345 - val_accuracy: 0.9778\n",
            "Epoch 269/500\n",
            "15/15 [==============================] - 0s 6ms/step - loss: 0.1057 - accuracy: 0.9529 - val_loss: 0.0355 - val_accuracy: 0.9778\n",
            "Epoch 270/500\n",
            "15/15 [==============================] - 0s 5ms/step - loss: 0.0450 - accuracy: 0.9911 - val_loss: 0.0349 - val_accuracy: 0.9778\n",
            "Epoch 271/500\n",
            "15/15 [==============================] - 0s 5ms/step - loss: 0.0623 - accuracy: 0.9932 - val_loss: 0.0341 - val_accuracy: 0.9778\n",
            "Epoch 272/500\n",
            "15/15 [==============================] - 0s 5ms/step - loss: 0.0709 - accuracy: 0.9762 - val_loss: 0.0357 - val_accuracy: 0.9778\n",
            "Epoch 273/500\n",
            "15/15 [==============================] - 0s 5ms/step - loss: 0.0472 - accuracy: 0.9858 - val_loss: 0.0351 - val_accuracy: 0.9778\n",
            "Epoch 274/500\n",
            "15/15 [==============================] - 0s 4ms/step - loss: 0.0441 - accuracy: 0.9877 - val_loss: 0.0399 - val_accuracy: 0.9778\n",
            "Epoch 275/500\n",
            "15/15 [==============================] - 0s 5ms/step - loss: 0.0803 - accuracy: 0.9535 - val_loss: 0.0369 - val_accuracy: 0.9778\n",
            "Epoch 276/500\n",
            "15/15 [==============================] - 0s 5ms/step - loss: 0.0633 - accuracy: 0.9723 - val_loss: 0.0338 - val_accuracy: 0.9778\n",
            "Epoch 277/500\n",
            "15/15 [==============================] - 0s 4ms/step - loss: 0.0598 - accuracy: 0.9821 - val_loss: 0.0350 - val_accuracy: 0.9778\n",
            "Epoch 278/500\n",
            "15/15 [==============================] - 0s 5ms/step - loss: 0.0564 - accuracy: 0.9891 - val_loss: 0.0344 - val_accuracy: 0.9778\n",
            "Epoch 279/500\n",
            "15/15 [==============================] - 0s 5ms/step - loss: 0.0560 - accuracy: 0.9758 - val_loss: 0.0393 - val_accuracy: 0.9778\n",
            "Epoch 280/500\n",
            "15/15 [==============================] - 0s 5ms/step - loss: 0.0765 - accuracy: 0.9572 - val_loss: 0.0360 - val_accuracy: 0.9778\n",
            "Epoch 281/500\n",
            "15/15 [==============================] - 0s 5ms/step - loss: 0.0568 - accuracy: 0.9880 - val_loss: 0.0330 - val_accuracy: 0.9778\n",
            "Epoch 282/500\n",
            "15/15 [==============================] - 0s 6ms/step - loss: 0.0706 - accuracy: 0.9733 - val_loss: 0.0428 - val_accuracy: 0.9778\n",
            "Epoch 283/500\n",
            "15/15 [==============================] - 0s 5ms/step - loss: 0.1271 - accuracy: 0.9386 - val_loss: 0.0316 - val_accuracy: 0.9778\n",
            "Epoch 284/500\n",
            "15/15 [==============================] - 0s 5ms/step - loss: 0.0765 - accuracy: 0.9657 - val_loss: 0.0353 - val_accuracy: 0.9778\n",
            "Epoch 285/500\n",
            "15/15 [==============================] - 0s 5ms/step - loss: 0.0805 - accuracy: 0.9772 - val_loss: 0.0371 - val_accuracy: 0.9778\n",
            "Epoch 286/500\n",
            "15/15 [==============================] - 0s 5ms/step - loss: 0.0552 - accuracy: 0.9914 - val_loss: 0.0323 - val_accuracy: 0.9778\n",
            "Epoch 287/500\n",
            "15/15 [==============================] - 0s 5ms/step - loss: 0.0724 - accuracy: 0.9778 - val_loss: 0.0412 - val_accuracy: 0.9778\n",
            "Epoch 288/500\n",
            "15/15 [==============================] - 0s 5ms/step - loss: 0.0904 - accuracy: 0.9615 - val_loss: 0.0348 - val_accuracy: 0.9778\n",
            "Epoch 289/500\n",
            "15/15 [==============================] - 0s 6ms/step - loss: 0.0490 - accuracy: 0.9880 - val_loss: 0.0348 - val_accuracy: 0.9778\n",
            "Epoch 290/500\n",
            "15/15 [==============================] - 0s 5ms/step - loss: 0.1160 - accuracy: 0.9391 - val_loss: 0.0380 - val_accuracy: 0.9778\n",
            "Epoch 291/500\n",
            "15/15 [==============================] - 0s 5ms/step - loss: 0.0928 - accuracy: 0.9533 - val_loss: 0.0333 - val_accuracy: 0.9778\n",
            "Epoch 292/500\n",
            "15/15 [==============================] - 0s 5ms/step - loss: 0.0622 - accuracy: 0.9750 - val_loss: 0.0295 - val_accuracy: 0.9778\n",
            "Epoch 293/500\n",
            "15/15 [==============================] - 0s 5ms/step - loss: 0.0426 - accuracy: 0.9929 - val_loss: 0.0335 - val_accuracy: 0.9778\n",
            "Epoch 294/500\n",
            "15/15 [==============================] - 0s 6ms/step - loss: 0.0664 - accuracy: 0.9772 - val_loss: 0.0371 - val_accuracy: 0.9778\n",
            "Epoch 295/500\n",
            "15/15 [==============================] - 0s 5ms/step - loss: 0.0744 - accuracy: 0.9799 - val_loss: 0.0359 - val_accuracy: 0.9778\n",
            "Epoch 296/500\n",
            "15/15 [==============================] - 0s 4ms/step - loss: 0.0730 - accuracy: 0.9635 - val_loss: 0.0320 - val_accuracy: 0.9778\n",
            "Epoch 297/500\n",
            "15/15 [==============================] - 0s 5ms/step - loss: 0.1041 - accuracy: 0.9619 - val_loss: 0.0357 - val_accuracy: 0.9778\n",
            "Epoch 298/500\n",
            "15/15 [==============================] - 0s 5ms/step - loss: 0.0716 - accuracy: 0.9813 - val_loss: 0.0375 - val_accuracy: 0.9778\n",
            "Epoch 299/500\n",
            "15/15 [==============================] - 0s 4ms/step - loss: 0.0915 - accuracy: 0.9867 - val_loss: 0.0361 - val_accuracy: 0.9778\n",
            "Epoch 300/500\n",
            "15/15 [==============================] - 0s 5ms/step - loss: 0.0545 - accuracy: 0.9889 - val_loss: 0.0318 - val_accuracy: 0.9778\n",
            "Epoch 301/500\n",
            "15/15 [==============================] - 0s 5ms/step - loss: 0.0747 - accuracy: 0.9782 - val_loss: 0.0382 - val_accuracy: 0.9778\n",
            "Epoch 302/500\n",
            "15/15 [==============================] - 0s 5ms/step - loss: 0.0698 - accuracy: 0.9670 - val_loss: 0.0313 - val_accuracy: 0.9778\n",
            "Epoch 303/500\n",
            "15/15 [==============================] - 0s 5ms/step - loss: 0.0646 - accuracy: 0.9779 - val_loss: 0.0447 - val_accuracy: 0.9778\n",
            "Epoch 304/500\n",
            "15/15 [==============================] - 0s 5ms/step - loss: 0.0512 - accuracy: 0.9786 - val_loss: 0.0311 - val_accuracy: 0.9778\n",
            "Epoch 305/500\n",
            "15/15 [==============================] - 0s 12ms/step - loss: 0.0649 - accuracy: 0.9648 - val_loss: 0.0345 - val_accuracy: 0.9778\n",
            "Epoch 306/500\n",
            "15/15 [==============================] - 0s 31ms/step - loss: 0.0532 - accuracy: 0.9947 - val_loss: 0.0308 - val_accuracy: 0.9778\n",
            "Epoch 307/500\n",
            "15/15 [==============================] - 0s 11ms/step - loss: 0.0497 - accuracy: 0.9918 - val_loss: 0.0406 - val_accuracy: 0.9778\n",
            "Epoch 308/500\n",
            "15/15 [==============================] - 0s 5ms/step - loss: 0.0588 - accuracy: 0.9824 - val_loss: 0.0369 - val_accuracy: 0.9778\n",
            "Epoch 309/500\n",
            "15/15 [==============================] - 0s 5ms/step - loss: 0.0627 - accuracy: 0.9665 - val_loss: 0.0321 - val_accuracy: 0.9778\n",
            "Epoch 310/500\n",
            "15/15 [==============================] - 0s 8ms/step - loss: 0.0638 - accuracy: 0.9790 - val_loss: 0.0364 - val_accuracy: 0.9778\n",
            "Epoch 311/500\n",
            "15/15 [==============================] - 0s 5ms/step - loss: 0.0571 - accuracy: 0.9944 - val_loss: 0.0284 - val_accuracy: 1.0000\n",
            "Epoch 312/500\n",
            "15/15 [==============================] - 0s 5ms/step - loss: 0.0463 - accuracy: 0.9859 - val_loss: 0.0481 - val_accuracy: 0.9778\n",
            "Epoch 313/500\n",
            "15/15 [==============================] - 0s 5ms/step - loss: 0.0781 - accuracy: 0.9772 - val_loss: 0.0327 - val_accuracy: 0.9778\n",
            "Epoch 314/500\n",
            "15/15 [==============================] - 0s 9ms/step - loss: 0.0543 - accuracy: 0.9821 - val_loss: 0.0399 - val_accuracy: 0.9778\n",
            "Epoch 315/500\n",
            "15/15 [==============================] - 0s 6ms/step - loss: 0.0492 - accuracy: 0.9857 - val_loss: 0.0335 - val_accuracy: 0.9778\n",
            "Epoch 316/500\n",
            "15/15 [==============================] - 0s 5ms/step - loss: 0.0539 - accuracy: 0.9910 - val_loss: 0.0354 - val_accuracy: 0.9778\n",
            "Epoch 317/500\n",
            "15/15 [==============================] - 0s 5ms/step - loss: 0.0605 - accuracy: 0.9719 - val_loss: 0.0380 - val_accuracy: 0.9778\n",
            "Epoch 318/500\n",
            "15/15 [==============================] - 0s 5ms/step - loss: 0.0799 - accuracy: 0.9800 - val_loss: 0.0335 - val_accuracy: 0.9778\n",
            "Epoch 319/500\n",
            "15/15 [==============================] - 0s 5ms/step - loss: 0.0499 - accuracy: 0.9859 - val_loss: 0.0349 - val_accuracy: 0.9778\n",
            "Epoch 320/500\n",
            "15/15 [==============================] - 0s 5ms/step - loss: 0.0469 - accuracy: 0.9802 - val_loss: 0.0351 - val_accuracy: 0.9778\n",
            "Epoch 321/500\n",
            "15/15 [==============================] - 0s 4ms/step - loss: 0.0463 - accuracy: 0.9867 - val_loss: 0.0340 - val_accuracy: 0.9778\n",
            "Epoch 322/500\n",
            "15/15 [==============================] - 0s 5ms/step - loss: 0.0535 - accuracy: 0.9824 - val_loss: 0.0402 - val_accuracy: 0.9778\n",
            "Epoch 323/500\n",
            "15/15 [==============================] - 0s 11ms/step - loss: 0.0819 - accuracy: 0.9503 - val_loss: 0.0309 - val_accuracy: 0.9778\n",
            "Epoch 324/500\n",
            "15/15 [==============================] - 0s 6ms/step - loss: 0.0703 - accuracy: 0.9859 - val_loss: 0.0329 - val_accuracy: 0.9778\n",
            "Epoch 325/500\n",
            "15/15 [==============================] - 0s 5ms/step - loss: 0.0644 - accuracy: 0.9868 - val_loss: 0.0345 - val_accuracy: 0.9778\n",
            "Epoch 326/500\n",
            "15/15 [==============================] - 0s 5ms/step - loss: 0.0493 - accuracy: 0.9873 - val_loss: 0.0375 - val_accuracy: 0.9778\n",
            "Epoch 327/500\n",
            "15/15 [==============================] - 0s 5ms/step - loss: 0.0542 - accuracy: 0.9799 - val_loss: 0.0305 - val_accuracy: 0.9778\n",
            "Epoch 328/500\n",
            "15/15 [==============================] - 0s 5ms/step - loss: 0.0601 - accuracy: 0.9665 - val_loss: 0.0325 - val_accuracy: 0.9778\n",
            "Epoch 329/500\n",
            "15/15 [==============================] - 0s 5ms/step - loss: 0.0407 - accuracy: 0.9917 - val_loss: 0.0352 - val_accuracy: 0.9778\n",
            "Epoch 330/500\n",
            "15/15 [==============================] - 0s 5ms/step - loss: 0.0627 - accuracy: 0.9690 - val_loss: 0.0360 - val_accuracy: 0.9778\n",
            "Epoch 331/500\n",
            "15/15 [==============================] - 0s 5ms/step - loss: 0.1173 - accuracy: 0.9272 - val_loss: 0.0341 - val_accuracy: 0.9778\n",
            "Epoch 332/500\n",
            "15/15 [==============================] - 0s 5ms/step - loss: 0.0582 - accuracy: 0.9820 - val_loss: 0.0292 - val_accuracy: 0.9778\n",
            "Epoch 333/500\n",
            "15/15 [==============================] - 0s 5ms/step - loss: 0.0664 - accuracy: 0.9771 - val_loss: 0.0375 - val_accuracy: 0.9778\n",
            "Epoch 334/500\n",
            "15/15 [==============================] - 0s 5ms/step - loss: 0.0472 - accuracy: 0.9834 - val_loss: 0.0323 - val_accuracy: 0.9778\n",
            "Epoch 335/500\n",
            "15/15 [==============================] - 0s 12ms/step - loss: 0.0669 - accuracy: 0.9716 - val_loss: 0.0346 - val_accuracy: 0.9778\n",
            "Epoch 336/500\n",
            "15/15 [==============================] - 0s 5ms/step - loss: 0.0623 - accuracy: 0.9728 - val_loss: 0.0342 - val_accuracy: 0.9778\n",
            "Epoch 337/500\n",
            "15/15 [==============================] - 0s 5ms/step - loss: 0.0831 - accuracy: 0.9520 - val_loss: 0.0322 - val_accuracy: 0.9778\n",
            "Epoch 338/500\n",
            "15/15 [==============================] - 0s 5ms/step - loss: 0.0562 - accuracy: 0.9861 - val_loss: 0.0334 - val_accuracy: 0.9778\n",
            "Epoch 339/500\n",
            "15/15 [==============================] - 0s 5ms/step - loss: 0.1045 - accuracy: 0.9547 - val_loss: 0.0378 - val_accuracy: 0.9778\n",
            "Epoch 340/500\n",
            "15/15 [==============================] - 0s 5ms/step - loss: 0.0599 - accuracy: 0.9461 - val_loss: 0.0261 - val_accuracy: 1.0000\n",
            "Epoch 341/500\n",
            "15/15 [==============================] - 0s 5ms/step - loss: 0.0693 - accuracy: 0.9834 - val_loss: 0.0442 - val_accuracy: 0.9778\n",
            "Epoch 342/500\n",
            "15/15 [==============================] - 0s 5ms/step - loss: 0.0660 - accuracy: 0.9763 - val_loss: 0.0353 - val_accuracy: 0.9778\n",
            "Epoch 343/500\n",
            "15/15 [==============================] - 0s 5ms/step - loss: 0.0449 - accuracy: 0.9908 - val_loss: 0.0286 - val_accuracy: 0.9778\n",
            "Epoch 344/500\n",
            "15/15 [==============================] - 0s 5ms/step - loss: 0.0903 - accuracy: 0.9775 - val_loss: 0.0407 - val_accuracy: 0.9778\n",
            "Epoch 345/500\n",
            "15/15 [==============================] - 0s 5ms/step - loss: 0.0979 - accuracy: 0.9698 - val_loss: 0.0330 - val_accuracy: 0.9778\n",
            "Epoch 346/500\n",
            "15/15 [==============================] - 0s 5ms/step - loss: 0.0793 - accuracy: 0.9736 - val_loss: 0.0282 - val_accuracy: 0.9778\n",
            "Epoch 347/500\n",
            "15/15 [==============================] - 0s 5ms/step - loss: 0.0749 - accuracy: 0.9640 - val_loss: 0.0363 - val_accuracy: 0.9778\n",
            "Epoch 348/500\n",
            "15/15 [==============================] - 0s 6ms/step - loss: 0.0744 - accuracy: 0.9568 - val_loss: 0.0363 - val_accuracy: 0.9778\n",
            "Epoch 349/500\n",
            "15/15 [==============================] - 0s 5ms/step - loss: 0.0431 - accuracy: 0.9870 - val_loss: 0.0353 - val_accuracy: 0.9778\n",
            "Epoch 350/500\n",
            "15/15 [==============================] - 0s 4ms/step - loss: 0.0833 - accuracy: 0.9529 - val_loss: 0.0376 - val_accuracy: 0.9778\n",
            "Epoch 351/500\n",
            "15/15 [==============================] - 0s 6ms/step - loss: 0.0744 - accuracy: 0.9563 - val_loss: 0.0325 - val_accuracy: 0.9778\n",
            "Epoch 352/500\n",
            "15/15 [==============================] - 0s 5ms/step - loss: 0.0432 - accuracy: 0.9950 - val_loss: 0.0318 - val_accuracy: 0.9778\n",
            "Epoch 353/500\n",
            "15/15 [==============================] - 0s 5ms/step - loss: 0.0706 - accuracy: 0.9884 - val_loss: 0.0400 - val_accuracy: 0.9778\n",
            "Epoch 354/500\n",
            "15/15 [==============================] - 0s 5ms/step - loss: 0.0599 - accuracy: 0.9556 - val_loss: 0.0352 - val_accuracy: 0.9778\n",
            "Epoch 355/500\n",
            "15/15 [==============================] - 0s 5ms/step - loss: 0.0413 - accuracy: 0.9872 - val_loss: 0.0293 - val_accuracy: 0.9778\n",
            "Epoch 356/500\n",
            "15/15 [==============================] - 0s 5ms/step - loss: 0.0683 - accuracy: 0.9818 - val_loss: 0.0397 - val_accuracy: 0.9778\n",
            "Epoch 357/500\n",
            "15/15 [==============================] - 0s 5ms/step - loss: 0.0547 - accuracy: 0.9881 - val_loss: 0.0372 - val_accuracy: 0.9778\n",
            "Epoch 358/500\n",
            "15/15 [==============================] - 0s 5ms/step - loss: 0.0432 - accuracy: 0.9859 - val_loss: 0.0312 - val_accuracy: 0.9778\n",
            "Epoch 359/500\n",
            "15/15 [==============================] - 0s 5ms/step - loss: 0.0896 - accuracy: 0.9549 - val_loss: 0.0357 - val_accuracy: 0.9778\n",
            "Epoch 360/500\n",
            "15/15 [==============================] - 0s 5ms/step - loss: 0.0759 - accuracy: 0.9701 - val_loss: 0.0334 - val_accuracy: 0.9778\n",
            "Epoch 361/500\n",
            "15/15 [==============================] - 0s 5ms/step - loss: 0.0615 - accuracy: 0.9880 - val_loss: 0.0331 - val_accuracy: 0.9778\n",
            "Epoch 362/500\n",
            "15/15 [==============================] - 0s 5ms/step - loss: 0.0586 - accuracy: 0.9949 - val_loss: 0.0335 - val_accuracy: 0.9778\n",
            "Epoch 363/500\n",
            "15/15 [==============================] - 0s 5ms/step - loss: 0.0699 - accuracy: 0.9609 - val_loss: 0.0338 - val_accuracy: 0.9778\n",
            "Epoch 364/500\n",
            "15/15 [==============================] - 0s 5ms/step - loss: 0.0778 - accuracy: 0.9799 - val_loss: 0.0345 - val_accuracy: 0.9778\n",
            "Epoch 365/500\n",
            "15/15 [==============================] - 0s 5ms/step - loss: 0.0868 - accuracy: 0.9516 - val_loss: 0.0386 - val_accuracy: 0.9778\n",
            "Epoch 366/500\n",
            "15/15 [==============================] - 0s 5ms/step - loss: 0.0734 - accuracy: 0.9663 - val_loss: 0.0308 - val_accuracy: 0.9778\n",
            "Epoch 367/500\n",
            "15/15 [==============================] - 0s 6ms/step - loss: 0.0444 - accuracy: 0.9831 - val_loss: 0.0376 - val_accuracy: 0.9778\n",
            "Epoch 368/500\n",
            "15/15 [==============================] - 0s 5ms/step - loss: 0.0974 - accuracy: 0.9627 - val_loss: 0.0314 - val_accuracy: 0.9778\n",
            "Epoch 369/500\n",
            "15/15 [==============================] - 0s 5ms/step - loss: 0.0583 - accuracy: 0.9836 - val_loss: 0.0325 - val_accuracy: 0.9778\n",
            "Epoch 370/500\n",
            "15/15 [==============================] - 0s 5ms/step - loss: 0.0454 - accuracy: 0.9824 - val_loss: 0.0328 - val_accuracy: 0.9778\n",
            "Epoch 371/500\n",
            "15/15 [==============================] - 0s 5ms/step - loss: 0.0814 - accuracy: 0.9746 - val_loss: 0.0337 - val_accuracy: 0.9778\n",
            "Epoch 372/500\n",
            "15/15 [==============================] - 0s 5ms/step - loss: 0.1033 - accuracy: 0.9574 - val_loss: 0.0400 - val_accuracy: 0.9778\n",
            "Epoch 373/500\n",
            "15/15 [==============================] - 0s 5ms/step - loss: 0.0470 - accuracy: 0.9876 - val_loss: 0.0308 - val_accuracy: 0.9778\n",
            "Epoch 374/500\n",
            "15/15 [==============================] - 0s 5ms/step - loss: 0.0508 - accuracy: 0.9929 - val_loss: 0.0317 - val_accuracy: 0.9778\n",
            "Epoch 375/500\n",
            "15/15 [==============================] - 0s 6ms/step - loss: 0.0567 - accuracy: 0.9941 - val_loss: 0.0325 - val_accuracy: 0.9778\n",
            "Epoch 376/500\n",
            "15/15 [==============================] - 0s 5ms/step - loss: 0.0851 - accuracy: 0.9723 - val_loss: 0.0424 - val_accuracy: 0.9778\n",
            "Epoch 377/500\n",
            "15/15 [==============================] - 0s 5ms/step - loss: 0.0509 - accuracy: 0.9890 - val_loss: 0.0324 - val_accuracy: 0.9778\n",
            "Epoch 378/500\n",
            "15/15 [==============================] - 0s 5ms/step - loss: 0.0598 - accuracy: 0.9857 - val_loss: 0.0343 - val_accuracy: 0.9778\n",
            "Epoch 379/500\n",
            "15/15 [==============================] - 0s 5ms/step - loss: 0.0744 - accuracy: 0.9639 - val_loss: 0.0368 - val_accuracy: 0.9778\n",
            "Epoch 380/500\n",
            "15/15 [==============================] - 0s 6ms/step - loss: 0.0722 - accuracy: 0.9753 - val_loss: 0.0323 - val_accuracy: 0.9778\n",
            "Epoch 381/500\n",
            "15/15 [==============================] - 0s 5ms/step - loss: 0.0618 - accuracy: 0.9843 - val_loss: 0.0335 - val_accuracy: 0.9778\n",
            "Epoch 382/500\n",
            "15/15 [==============================] - 0s 5ms/step - loss: 0.0696 - accuracy: 0.9708 - val_loss: 0.0396 - val_accuracy: 0.9778\n",
            "Epoch 383/500\n",
            "15/15 [==============================] - 0s 5ms/step - loss: 0.0410 - accuracy: 0.9908 - val_loss: 0.0304 - val_accuracy: 0.9778\n",
            "Epoch 384/500\n",
            "15/15 [==============================] - 0s 5ms/step - loss: 0.0576 - accuracy: 0.9768 - val_loss: 0.0380 - val_accuracy: 0.9778\n",
            "Epoch 385/500\n",
            "15/15 [==============================] - 0s 5ms/step - loss: 0.0940 - accuracy: 0.9686 - val_loss: 0.0295 - val_accuracy: 0.9778\n",
            "Epoch 386/500\n",
            "15/15 [==============================] - 0s 5ms/step - loss: 0.0680 - accuracy: 0.9876 - val_loss: 0.0334 - val_accuracy: 0.9778\n",
            "Epoch 387/500\n",
            "15/15 [==============================] - 0s 6ms/step - loss: 0.0746 - accuracy: 0.9799 - val_loss: 0.0402 - val_accuracy: 0.9778\n",
            "Epoch 388/500\n",
            "15/15 [==============================] - 0s 5ms/step - loss: 0.0386 - accuracy: 0.9876 - val_loss: 0.0349 - val_accuracy: 0.9778\n",
            "Epoch 389/500\n",
            "15/15 [==============================] - 0s 5ms/step - loss: 0.0523 - accuracy: 0.9852 - val_loss: 0.0327 - val_accuracy: 0.9778\n",
            "Epoch 390/500\n",
            "15/15 [==============================] - 0s 5ms/step - loss: 0.0452 - accuracy: 0.9861 - val_loss: 0.0344 - val_accuracy: 0.9778\n",
            "Epoch 391/500\n",
            "15/15 [==============================] - 0s 5ms/step - loss: 0.0425 - accuracy: 0.9890 - val_loss: 0.0307 - val_accuracy: 0.9778\n",
            "Epoch 392/500\n",
            "15/15 [==============================] - 0s 5ms/step - loss: 0.0524 - accuracy: 0.9833 - val_loss: 0.0352 - val_accuracy: 0.9778\n",
            "Epoch 393/500\n",
            "15/15 [==============================] - 0s 5ms/step - loss: 0.0725 - accuracy: 0.9836 - val_loss: 0.0353 - val_accuracy: 0.9778\n",
            "Epoch 394/500\n",
            "15/15 [==============================] - 0s 5ms/step - loss: 0.0822 - accuracy: 0.9743 - val_loss: 0.0299 - val_accuracy: 0.9778\n",
            "Epoch 395/500\n",
            "15/15 [==============================] - 0s 6ms/step - loss: 0.0300 - accuracy: 0.9976 - val_loss: 0.0299 - val_accuracy: 0.9778\n",
            "Epoch 396/500\n",
            "15/15 [==============================] - 0s 5ms/step - loss: 0.0367 - accuracy: 0.9927 - val_loss: 0.0383 - val_accuracy: 0.9778\n",
            "Epoch 397/500\n",
            "15/15 [==============================] - 0s 5ms/step - loss: 0.1045 - accuracy: 0.9614 - val_loss: 0.0355 - val_accuracy: 0.9778\n",
            "Epoch 398/500\n",
            "15/15 [==============================] - 0s 5ms/step - loss: 0.0590 - accuracy: 0.9859 - val_loss: 0.0282 - val_accuracy: 0.9778\n",
            "Epoch 399/500\n",
            "15/15 [==============================] - 0s 5ms/step - loss: 0.0549 - accuracy: 0.9821 - val_loss: 0.0361 - val_accuracy: 0.9778\n",
            "Epoch 400/500\n",
            "15/15 [==============================] - 0s 5ms/step - loss: 0.0632 - accuracy: 0.9586 - val_loss: 0.0342 - val_accuracy: 0.9778\n",
            "Epoch 401/500\n",
            "15/15 [==============================] - 0s 5ms/step - loss: 0.0636 - accuracy: 0.9813 - val_loss: 0.0347 - val_accuracy: 0.9778\n",
            "Epoch 402/500\n",
            "15/15 [==============================] - 0s 5ms/step - loss: 0.0727 - accuracy: 0.9834 - val_loss: 0.0352 - val_accuracy: 0.9778\n",
            "Epoch 403/500\n",
            "15/15 [==============================] - 0s 5ms/step - loss: 0.0796 - accuracy: 0.9833 - val_loss: 0.0383 - val_accuracy: 0.9778\n",
            "Epoch 404/500\n",
            "15/15 [==============================] - 0s 5ms/step - loss: 0.0626 - accuracy: 0.9768 - val_loss: 0.0313 - val_accuracy: 0.9778\n",
            "Epoch 405/500\n",
            "15/15 [==============================] - 0s 4ms/step - loss: 0.0726 - accuracy: 0.9636 - val_loss: 0.0307 - val_accuracy: 0.9778\n",
            "Epoch 406/500\n",
            "15/15 [==============================] - 0s 5ms/step - loss: 0.0540 - accuracy: 0.9867 - val_loss: 0.0361 - val_accuracy: 0.9778\n",
            "Epoch 407/500\n",
            "15/15 [==============================] - 0s 5ms/step - loss: 0.0555 - accuracy: 0.9850 - val_loss: 0.0419 - val_accuracy: 0.9778\n",
            "Epoch 408/500\n",
            "15/15 [==============================] - 0s 5ms/step - loss: 0.0820 - accuracy: 0.9761 - val_loss: 0.0279 - val_accuracy: 0.9778\n",
            "Epoch 409/500\n",
            "15/15 [==============================] - 0s 4ms/step - loss: 0.0612 - accuracy: 0.9679 - val_loss: 0.0297 - val_accuracy: 0.9778\n",
            "Epoch 410/500\n",
            "15/15 [==============================] - 0s 5ms/step - loss: 0.1025 - accuracy: 0.9638 - val_loss: 0.0364 - val_accuracy: 0.9778\n",
            "Epoch 411/500\n",
            "15/15 [==============================] - 0s 5ms/step - loss: 0.0758 - accuracy: 0.9791 - val_loss: 0.0304 - val_accuracy: 0.9778\n",
            "Epoch 412/500\n",
            "15/15 [==============================] - 0s 5ms/step - loss: 0.0291 - accuracy: 0.9865 - val_loss: 0.0375 - val_accuracy: 0.9778\n",
            "Epoch 413/500\n",
            "15/15 [==============================] - 0s 5ms/step - loss: 0.0601 - accuracy: 0.9741 - val_loss: 0.0337 - val_accuracy: 0.9778\n",
            "Epoch 414/500\n",
            "15/15 [==============================] - 0s 5ms/step - loss: 0.0445 - accuracy: 0.9897 - val_loss: 0.0323 - val_accuracy: 0.9778\n",
            "Epoch 415/500\n",
            "15/15 [==============================] - 0s 5ms/step - loss: 0.0379 - accuracy: 0.9918 - val_loss: 0.0373 - val_accuracy: 0.9778\n",
            "Epoch 416/500\n",
            "15/15 [==============================] - 0s 5ms/step - loss: 0.0550 - accuracy: 0.9639 - val_loss: 0.0361 - val_accuracy: 0.9778\n",
            "Epoch 417/500\n",
            "15/15 [==============================] - 0s 5ms/step - loss: 0.0647 - accuracy: 0.9599 - val_loss: 0.0355 - val_accuracy: 0.9778\n",
            "Epoch 418/500\n",
            "15/15 [==============================] - 0s 6ms/step - loss: 0.0397 - accuracy: 0.9934 - val_loss: 0.0311 - val_accuracy: 0.9778\n",
            "Epoch 419/500\n",
            "15/15 [==============================] - 0s 5ms/step - loss: 0.0384 - accuracy: 0.9827 - val_loss: 0.0395 - val_accuracy: 0.9778\n",
            "Epoch 420/500\n",
            "15/15 [==============================] - 0s 5ms/step - loss: 0.0543 - accuracy: 0.9749 - val_loss: 0.0286 - val_accuracy: 0.9778\n",
            "Epoch 421/500\n",
            "15/15 [==============================] - 0s 5ms/step - loss: 0.0814 - accuracy: 0.9689 - val_loss: 0.0409 - val_accuracy: 0.9778\n",
            "Epoch 422/500\n",
            "15/15 [==============================] - 0s 5ms/step - loss: 0.0649 - accuracy: 0.9791 - val_loss: 0.0344 - val_accuracy: 0.9778\n",
            "Epoch 423/500\n",
            "15/15 [==============================] - 0s 5ms/step - loss: 0.0453 - accuracy: 0.9852 - val_loss: 0.0351 - val_accuracy: 0.9778\n",
            "Epoch 424/500\n",
            "15/15 [==============================] - 0s 4ms/step - loss: 0.0465 - accuracy: 0.9891 - val_loss: 0.0336 - val_accuracy: 0.9778\n",
            "Epoch 425/500\n",
            "15/15 [==============================] - 0s 6ms/step - loss: 0.0518 - accuracy: 0.9865 - val_loss: 0.0358 - val_accuracy: 0.9778\n",
            "Epoch 426/500\n",
            "15/15 [==============================] - 0s 5ms/step - loss: 0.0474 - accuracy: 0.9942 - val_loss: 0.0320 - val_accuracy: 0.9778\n",
            "Epoch 427/500\n",
            "15/15 [==============================] - 0s 5ms/step - loss: 0.0498 - accuracy: 0.9908 - val_loss: 0.0407 - val_accuracy: 0.9778\n",
            "Epoch 428/500\n",
            "15/15 [==============================] - 0s 4ms/step - loss: 0.0319 - accuracy: 0.9927 - val_loss: 0.0347 - val_accuracy: 0.9778\n",
            "Epoch 429/500\n",
            "15/15 [==============================] - 0s 5ms/step - loss: 0.0554 - accuracy: 0.9678 - val_loss: 0.0331 - val_accuracy: 0.9778\n",
            "Epoch 430/500\n",
            "15/15 [==============================] - 0s 5ms/step - loss: 0.0430 - accuracy: 0.9957 - val_loss: 0.0293 - val_accuracy: 0.9778\n",
            "Epoch 431/500\n",
            "15/15 [==============================] - 0s 5ms/step - loss: 0.0771 - accuracy: 0.9772 - val_loss: 0.0435 - val_accuracy: 0.9778\n",
            "Epoch 432/500\n",
            "15/15 [==============================] - 0s 5ms/step - loss: 0.0449 - accuracy: 0.9970 - val_loss: 0.0280 - val_accuracy: 0.9778\n",
            "Epoch 433/500\n",
            "15/15 [==============================] - 0s 5ms/step - loss: 0.0807 - accuracy: 0.9716 - val_loss: 0.0403 - val_accuracy: 0.9778\n",
            "Epoch 434/500\n",
            "15/15 [==============================] - 0s 4ms/step - loss: 0.0643 - accuracy: 0.9748 - val_loss: 0.0322 - val_accuracy: 0.9778\n",
            "Epoch 435/500\n",
            "15/15 [==============================] - 0s 5ms/step - loss: 0.0720 - accuracy: 0.9821 - val_loss: 0.0309 - val_accuracy: 0.9778\n",
            "Epoch 436/500\n",
            "15/15 [==============================] - 0s 5ms/step - loss: 0.0872 - accuracy: 0.9769 - val_loss: 0.0293 - val_accuracy: 0.9778\n",
            "Epoch 437/500\n",
            "15/15 [==============================] - 0s 5ms/step - loss: 0.0429 - accuracy: 0.9917 - val_loss: 0.0336 - val_accuracy: 0.9778\n",
            "Epoch 438/500\n",
            "15/15 [==============================] - 0s 5ms/step - loss: 0.0699 - accuracy: 0.9459 - val_loss: 0.0365 - val_accuracy: 0.9778\n",
            "Epoch 439/500\n",
            "15/15 [==============================] - 0s 5ms/step - loss: 0.0653 - accuracy: 0.9745 - val_loss: 0.0368 - val_accuracy: 0.9778\n",
            "Epoch 440/500\n",
            "15/15 [==============================] - 0s 5ms/step - loss: 0.0237 - accuracy: 0.9976 - val_loss: 0.0258 - val_accuracy: 0.9778\n",
            "Epoch 441/500\n",
            "15/15 [==============================] - 0s 5ms/step - loss: 0.0325 - accuracy: 0.9892 - val_loss: 0.0365 - val_accuracy: 0.9778\n",
            "Epoch 442/500\n",
            "15/15 [==============================] - 0s 5ms/step - loss: 0.0467 - accuracy: 0.9682 - val_loss: 0.0362 - val_accuracy: 0.9778\n",
            "Epoch 443/500\n",
            "15/15 [==============================] - 0s 5ms/step - loss: 0.0253 - accuracy: 0.9941 - val_loss: 0.0334 - val_accuracy: 0.9778\n",
            "Epoch 444/500\n",
            "15/15 [==============================] - 0s 5ms/step - loss: 0.0507 - accuracy: 0.9915 - val_loss: 0.0333 - val_accuracy: 0.9778\n",
            "Epoch 445/500\n",
            "15/15 [==============================] - 0s 5ms/step - loss: 0.0461 - accuracy: 0.9883 - val_loss: 0.0359 - val_accuracy: 0.9778\n",
            "Epoch 446/500\n",
            "15/15 [==============================] - 0s 6ms/step - loss: 0.0309 - accuracy: 0.9904 - val_loss: 0.0303 - val_accuracy: 0.9778\n",
            "Epoch 447/500\n",
            "15/15 [==============================] - 0s 5ms/step - loss: 0.0597 - accuracy: 0.9753 - val_loss: 0.0382 - val_accuracy: 0.9778\n",
            "Epoch 448/500\n",
            "15/15 [==============================] - 0s 5ms/step - loss: 0.0454 - accuracy: 0.9941 - val_loss: 0.0302 - val_accuracy: 0.9778\n",
            "Epoch 449/500\n",
            "15/15 [==============================] - 0s 6ms/step - loss: 0.0555 - accuracy: 0.9747 - val_loss: 0.0410 - val_accuracy: 0.9778\n",
            "Epoch 450/500\n",
            "15/15 [==============================] - 0s 5ms/step - loss: 0.0671 - accuracy: 0.9867 - val_loss: 0.0303 - val_accuracy: 0.9778\n",
            "Epoch 451/500\n",
            "15/15 [==============================] - 0s 5ms/step - loss: 0.0432 - accuracy: 0.9889 - val_loss: 0.0322 - val_accuracy: 0.9778\n",
            "Epoch 452/500\n",
            "15/15 [==============================] - 0s 5ms/step - loss: 0.0499 - accuracy: 0.9905 - val_loss: 0.0339 - val_accuracy: 0.9778\n",
            "Epoch 453/500\n",
            "15/15 [==============================] - 0s 5ms/step - loss: 0.0568 - accuracy: 0.9925 - val_loss: 0.0347 - val_accuracy: 0.9778\n",
            "Epoch 454/500\n",
            "15/15 [==============================] - 0s 5ms/step - loss: 0.0572 - accuracy: 0.9861 - val_loss: 0.0381 - val_accuracy: 0.9778\n",
            "Epoch 455/500\n",
            "15/15 [==============================] - 0s 5ms/step - loss: 0.0575 - accuracy: 0.9713 - val_loss: 0.0331 - val_accuracy: 0.9778\n",
            "Epoch 456/500\n",
            "15/15 [==============================] - 0s 5ms/step - loss: 0.0538 - accuracy: 0.9748 - val_loss: 0.0347 - val_accuracy: 0.9778\n",
            "Epoch 457/500\n",
            "15/15 [==============================] - 0s 5ms/step - loss: 0.0738 - accuracy: 0.9820 - val_loss: 0.0297 - val_accuracy: 0.9778\n",
            "Epoch 458/500\n",
            "15/15 [==============================] - 0s 5ms/step - loss: 0.0886 - accuracy: 0.9691 - val_loss: 0.0327 - val_accuracy: 0.9778\n",
            "Epoch 459/500\n",
            "15/15 [==============================] - 0s 5ms/step - loss: 0.0371 - accuracy: 0.9890 - val_loss: 0.0329 - val_accuracy: 0.9778\n",
            "Epoch 460/500\n",
            "15/15 [==============================] - 0s 5ms/step - loss: 0.0605 - accuracy: 0.9633 - val_loss: 0.0367 - val_accuracy: 0.9778\n",
            "Epoch 461/500\n",
            "15/15 [==============================] - 0s 5ms/step - loss: 0.0563 - accuracy: 0.9891 - val_loss: 0.0349 - val_accuracy: 0.9778\n",
            "Epoch 462/500\n",
            "15/15 [==============================] - 0s 5ms/step - loss: 0.0535 - accuracy: 0.9846 - val_loss: 0.0362 - val_accuracy: 0.9778\n",
            "Epoch 463/500\n",
            "15/15 [==============================] - 0s 5ms/step - loss: 0.0414 - accuracy: 0.9911 - val_loss: 0.0326 - val_accuracy: 0.9778\n",
            "Epoch 464/500\n",
            "15/15 [==============================] - 0s 5ms/step - loss: 0.0542 - accuracy: 0.9754 - val_loss: 0.0354 - val_accuracy: 0.9778\n",
            "Epoch 465/500\n",
            "15/15 [==============================] - 0s 5ms/step - loss: 0.1030 - accuracy: 0.9527 - val_loss: 0.0338 - val_accuracy: 0.9778\n",
            "Epoch 466/500\n",
            "15/15 [==============================] - 0s 5ms/step - loss: 0.0555 - accuracy: 0.9911 - val_loss: 0.0317 - val_accuracy: 0.9778\n",
            "Epoch 467/500\n",
            "15/15 [==============================] - 0s 4ms/step - loss: 0.0583 - accuracy: 0.9758 - val_loss: 0.0417 - val_accuracy: 0.9778\n",
            "Epoch 468/500\n",
            "15/15 [==============================] - 0s 5ms/step - loss: 0.0638 - accuracy: 0.9901 - val_loss: 0.0319 - val_accuracy: 0.9778\n",
            "Epoch 469/500\n",
            "15/15 [==============================] - 0s 5ms/step - loss: 0.0408 - accuracy: 0.9935 - val_loss: 0.0356 - val_accuracy: 0.9778\n",
            "Epoch 470/500\n",
            "15/15 [==============================] - 0s 5ms/step - loss: 0.0442 - accuracy: 0.9922 - val_loss: 0.0343 - val_accuracy: 0.9778\n",
            "Epoch 471/500\n",
            "15/15 [==============================] - 0s 5ms/step - loss: 0.0527 - accuracy: 0.9852 - val_loss: 0.0373 - val_accuracy: 0.9778\n",
            "Epoch 472/500\n",
            "15/15 [==============================] - 0s 6ms/step - loss: 0.0631 - accuracy: 0.9675 - val_loss: 0.0320 - val_accuracy: 0.9778\n",
            "Epoch 473/500\n",
            "15/15 [==============================] - 0s 5ms/step - loss: 0.0863 - accuracy: 0.9748 - val_loss: 0.0313 - val_accuracy: 0.9778\n",
            "Epoch 474/500\n",
            "15/15 [==============================] - 0s 5ms/step - loss: 0.0483 - accuracy: 0.9817 - val_loss: 0.0363 - val_accuracy: 0.9778\n",
            "Epoch 475/500\n",
            "15/15 [==============================] - 0s 5ms/step - loss: 0.0594 - accuracy: 0.9745 - val_loss: 0.0350 - val_accuracy: 0.9778\n",
            "Epoch 476/500\n",
            "15/15 [==============================] - 0s 5ms/step - loss: 0.0734 - accuracy: 0.9833 - val_loss: 0.0298 - val_accuracy: 0.9778\n",
            "Epoch 477/500\n",
            "15/15 [==============================] - 0s 5ms/step - loss: 0.0372 - accuracy: 0.9922 - val_loss: 0.0347 - val_accuracy: 0.9778\n",
            "Epoch 478/500\n",
            "15/15 [==============================] - 0s 5ms/step - loss: 0.0647 - accuracy: 0.9708 - val_loss: 0.0364 - val_accuracy: 0.9778\n",
            "Epoch 479/500\n",
            "15/15 [==============================] - 0s 6ms/step - loss: 0.0350 - accuracy: 0.9911 - val_loss: 0.0313 - val_accuracy: 0.9778\n",
            "Epoch 480/500\n",
            "15/15 [==============================] - 0s 5ms/step - loss: 0.0714 - accuracy: 0.9634 - val_loss: 0.0362 - val_accuracy: 0.9778\n",
            "Epoch 481/500\n",
            "15/15 [==============================] - 0s 5ms/step - loss: 0.0511 - accuracy: 0.9665 - val_loss: 0.0314 - val_accuracy: 0.9778\n",
            "Epoch 482/500\n",
            "15/15 [==============================] - 0s 5ms/step - loss: 0.0710 - accuracy: 0.9671 - val_loss: 0.0327 - val_accuracy: 0.9778\n",
            "Epoch 483/500\n",
            "15/15 [==============================] - 0s 5ms/step - loss: 0.0563 - accuracy: 0.9737 - val_loss: 0.0326 - val_accuracy: 0.9778\n",
            "Epoch 484/500\n",
            "15/15 [==============================] - 0s 5ms/step - loss: 0.0581 - accuracy: 0.9738 - val_loss: 0.0372 - val_accuracy: 0.9778\n",
            "Epoch 485/500\n",
            "15/15 [==============================] - 0s 5ms/step - loss: 0.1034 - accuracy: 0.9698 - val_loss: 0.0317 - val_accuracy: 0.9778\n",
            "Epoch 486/500\n",
            "15/15 [==============================] - 0s 5ms/step - loss: 0.0532 - accuracy: 0.9864 - val_loss: 0.0240 - val_accuracy: 0.9778\n",
            "Epoch 487/500\n",
            "15/15 [==============================] - 0s 5ms/step - loss: 0.1090 - accuracy: 0.9542 - val_loss: 0.0450 - val_accuracy: 0.9778\n",
            "Epoch 488/500\n",
            "15/15 [==============================] - 0s 6ms/step - loss: 0.0762 - accuracy: 0.9578 - val_loss: 0.0316 - val_accuracy: 0.9778\n",
            "Epoch 489/500\n",
            "15/15 [==============================] - 0s 4ms/step - loss: 0.0659 - accuracy: 0.9648 - val_loss: 0.0296 - val_accuracy: 0.9778\n",
            "Epoch 490/500\n",
            "15/15 [==============================] - 0s 5ms/step - loss: 0.0433 - accuracy: 0.9898 - val_loss: 0.0318 - val_accuracy: 0.9778\n",
            "Epoch 491/500\n",
            "15/15 [==============================] - 0s 6ms/step - loss: 0.0849 - accuracy: 0.9525 - val_loss: 0.0387 - val_accuracy: 0.9778\n",
            "Epoch 492/500\n",
            "15/15 [==============================] - 0s 5ms/step - loss: 0.0580 - accuracy: 0.9549 - val_loss: 0.0306 - val_accuracy: 0.9778\n",
            "Epoch 493/500\n",
            "15/15 [==============================] - 0s 5ms/step - loss: 0.0554 - accuracy: 0.9709 - val_loss: 0.0369 - val_accuracy: 0.9778\n",
            "Epoch 494/500\n",
            "15/15 [==============================] - 0s 5ms/step - loss: 0.0803 - accuracy: 0.9476 - val_loss: 0.0332 - val_accuracy: 0.9778\n",
            "Epoch 495/500\n",
            "15/15 [==============================] - 0s 5ms/step - loss: 0.0397 - accuracy: 0.9900 - val_loss: 0.0336 - val_accuracy: 0.9778\n",
            "Epoch 496/500\n",
            "15/15 [==============================] - 0s 6ms/step - loss: 0.0599 - accuracy: 0.9757 - val_loss: 0.0353 - val_accuracy: 0.9778\n",
            "Epoch 497/500\n",
            "15/15 [==============================] - 0s 5ms/step - loss: 0.0643 - accuracy: 0.9716 - val_loss: 0.0337 - val_accuracy: 0.9778\n",
            "Epoch 498/500\n",
            "15/15 [==============================] - 0s 5ms/step - loss: 0.0302 - accuracy: 0.9929 - val_loss: 0.0333 - val_accuracy: 0.9778\n",
            "Epoch 499/500\n",
            "15/15 [==============================] - 0s 5ms/step - loss: 0.0364 - accuracy: 0.9898 - val_loss: 0.0343 - val_accuracy: 0.9778\n",
            "Epoch 500/500\n",
            "15/15 [==============================] - 0s 5ms/step - loss: 0.0363 - accuracy: 0.9942 - val_loss: 0.0339 - val_accuracy: 0.9778\n"
          ],
          "name": "stdout"
        }
      ]
    },
    {
      "cell_type": "markdown",
      "metadata": {
        "id": "UmWIiXeiD5Ez"
      },
      "source": [
        "> ## 5) 학습 결과 시각화"
      ]
    },
    {
      "cell_type": "code",
      "metadata": {
        "colab": {
          "base_uri": "https://localhost:8080/",
          "height": 378
        },
        "id": "7RXck16UEH6x",
        "outputId": "6dda388d-1044-4df6-c0ad-98cce01c1aa8"
      },
      "source": [
        "import matplotlib.pyplot as plt\r\n",
        "\r\n",
        "plt.figure(figsize = (9, 6))\r\n",
        "plt.ylim(0, 1.2)\r\n",
        "plt.plot(History_iris.history['loss'])\r\n",
        "plt.plot(History_iris.history['val_loss'])\r\n",
        "plt.plot(History_iris.history['accuracy'])\r\n",
        "plt.plot(History_iris.history['val_accuracy'])\r\n",
        "plt.legend(['loss', 'val_loss', 'accuracy', 'val_accuracy'])\r\n",
        "plt.grid()\r\n",
        "plt.show()"
      ],
      "execution_count": 21,
      "outputs": [
        {
          "output_type": "display_data",
          "data": {
            "image/png": "[encoded data removed]",
            "text/plain": [
              "<Figure size 648x432 with 1 Axes>"
            ]
          },
          "metadata": {
            "tags": [],
            "needs_background": "light"
          }
        }
      ]
    },
    {
      "cell_type": "markdown",
      "metadata": {
        "id": "wkEa1M42EWWJ"
      },
      "source": [
        "> ## 6) Module Evaluate"
      ]
    },
    {
      "cell_type": "markdown",
      "metadata": {
        "id": "uPfpYZYUEbzV"
      },
      "source": [
        "* Loss & Accuracy"
      ]
    },
    {
      "cell_type": "code",
      "metadata": {
        "colab": {
          "base_uri": "https://localhost:8080/"
        },
        "id": "vbTspB9yEdcV",
        "outputId": "2bfbca06-6712-41c2-af17-b0752096cd9d"
      },
      "source": [
        "loss, accuracy = Model_iris.evaluate(X_test, y_test)\r\n",
        "\r\n",
        "print('Loss = {:.2f}'.format(loss))\r\n",
        "print('Accuracy = {:.2f}'.format(accuracy))"
      ],
      "execution_count": 23,
      "outputs": [
        {
          "output_type": "stream",
          "text": [
            "2/2 [==============================] - 0s 6ms/step - loss: 0.0339 - accuracy: 0.9778\n",
            "Loss = 0.03\n",
            "Accuracy = 0.98\n"
          ],
          "name": "stdout"
        }
      ]
    },
    {
      "cell_type": "markdown",
      "metadata": {
        "id": "qEpwm6NkEi7x"
      },
      "source": [
        "> ## 7) Model Predict"
      ]
    },
    {
      "cell_type": "markdown",
      "metadata": {
        "id": "_jgj5B0zE2Yp"
      },
      "source": [
        "* probability"
      ]
    },
    {
      "cell_type": "code",
      "metadata": {
        "colab": {
          "base_uri": "https://localhost:8080/"
        },
        "id": "VIMgV-6cE375",
        "outputId": "7097dd14-7712-4ccc-8b93-aacbf6d8242f"
      },
      "source": [
        "import numpy as np\r\n",
        "np.set_printoptions(suppress = True, precision = 5)\r\n",
        "Model_iris.predict(X_test)"
      ],
      "execution_count": 25,
      "outputs": [
        {
          "output_type": "execute_result",
          "data": {
            "text/plain": [
              "array([[0.9999 , 0.0001 , 0.     ],\n",
              "       [0.99857, 0.00143, 0.     ],\n",
              "       [0.00183, 0.99816, 0.00001],\n",
              "       [0.     , 0.00006, 0.99994],\n",
              "       [0.99999, 0.00001, 0.     ],\n",
              "       [0.00025, 0.99971, 0.00003],\n",
              "       [0.     , 0.00562, 0.99438],\n",
              "       [0.99999, 0.00001, 0.     ],\n",
              "       [0.     , 0.00042, 0.99958],\n",
              "       [0.99993, 0.00007, 0.     ],\n",
              "       [0.00021, 0.8983 , 0.1015 ],\n",
              "       [0.     , 0.00287, 0.99713],\n",
              "       [0.0001 , 0.99803, 0.00186],\n",
              "       [1.     , 0.     , 0.     ],\n",
              "       [0.99999, 0.00001, 0.     ],\n",
              "       [0.0002 , 0.99706, 0.00275],\n",
              "       [0.00011, 0.98865, 0.01124],\n",
              "       [0.99997, 0.00003, 0.     ],\n",
              "       [0.00006, 0.99973, 0.00021],\n",
              "       [0.99999, 0.00001, 0.     ],\n",
              "       [0.99996, 0.00004, 0.     ],\n",
              "       [0.99995, 0.00005, 0.     ],\n",
              "       [0.     , 0.00085, 0.99915],\n",
              "       [0.99998, 0.00002, 0.     ],\n",
              "       [0.     , 0.05615, 0.94385],\n",
              "       [0.     , 0.00772, 0.99228],\n",
              "       [0.99999, 0.00001, 0.     ],\n",
              "       [0.00005, 0.99833, 0.00162],\n",
              "       [0.00006, 0.99812, 0.00183],\n",
              "       [0.00001, 0.03671, 0.96328],\n",
              "       [0.99999, 0.00001, 0.     ],\n",
              "       [0.00006, 0.99897, 0.00097],\n",
              "       [0.99999, 0.00001, 0.     ],\n",
              "       [0.00007, 0.71433, 0.2856 ],\n",
              "       [0.00011, 0.99648, 0.00341],\n",
              "       [0.00015, 0.99983, 0.00003],\n",
              "       [0.     , 0.00007, 0.99993],\n",
              "       [0.00021, 0.99967, 0.00012],\n",
              "       [0.99995, 0.00005, 0.     ],\n",
              "       [0.00014, 0.99821, 0.00165],\n",
              "       [0.     , 0.0001 , 0.9999 ],\n",
              "       [0.99975, 0.00025, 0.     ],\n",
              "       [0.     , 0.00146, 0.99854],\n",
              "       [0.     , 0.00041, 0.99959],\n",
              "       [0.     , 0.01841, 0.98159]], dtype=float32)"
            ]
          },
          "metadata": {
            "tags": []
          },
          "execution_count": 25
        }
      ]
    },
    {
      "cell_type": "markdown",
      "metadata": {
        "id": "dwdIQ1KiE7qZ"
      },
      "source": [
        "* Class"
      ]
    },
    {
      "cell_type": "code",
      "metadata": {
        "colab": {
          "base_uri": "https://localhost:8080/"
        },
        "id": "1-uc2ltAFBGv",
        "outputId": "eb8ef25f-96c7-4aa0-9728-b39fed8ccd4a"
      },
      "source": [
        "y_hat = Model_iris.predict_classes(X_test)\r\n",
        "\r\n",
        "y_hat"
      ],
      "execution_count": 26,
      "outputs": [
        {
          "output_type": "execute_result",
          "data": {
            "text/plain": [
              "array([0, 0, 1, 2, 0, 1, 2, 0, 2, 0, 1, 2, 1, 0, 0, 1, 1, 0, 1, 0, 0, 0,\n",
              "       2, 0, 2, 2, 0, 1, 1, 2, 0, 1, 0, 1, 1, 1, 2, 1, 0, 1, 2, 0, 2, 2,\n",
              "       2])"
            ]
          },
          "metadata": {
            "tags": []
          },
          "execution_count": 26
        }
      ]
    },
    {
      "cell_type": "markdown",
      "metadata": {
        "id": "n7kxij2YFWWb"
      },
      "source": [
        "* Probability to Class"
      ]
    },
    {
      "cell_type": "code",
      "metadata": {
        "colab": {
          "base_uri": "https://localhost:8080/"
        },
        "id": "R4tjmuoEFYT6",
        "outputId": "c4598ec6-c789-4e7e-a7c7-22bfcfc3e194"
      },
      "source": [
        "np.argmax(Model_iris.predict(X_test), axis = 1)"
      ],
      "execution_count": 27,
      "outputs": [
        {
          "output_type": "execute_result",
          "data": {
            "text/plain": [
              "array([0, 0, 1, 2, 0, 1, 2, 0, 2, 0, 1, 2, 1, 0, 0, 1, 1, 0, 1, 0, 0, 0,\n",
              "       2, 0, 2, 2, 0, 1, 1, 2, 0, 1, 0, 1, 1, 1, 2, 1, 0, 1, 2, 0, 2, 2,\n",
              "       2])"
            ]
          },
          "metadata": {
            "tags": []
          },
          "execution_count": 27
        }
      ]
    },
    {
      "cell_type": "markdown",
      "metadata": {
        "id": "lzeoi5_PFeVC"
      },
      "source": [
        "* One-Hot Encoding to Array\r\n",
        "  * np.argmax(): 다차원 배열의 차원에 따라 가장 큰 값의 인덱스를 반환\r\n",
        "  * axis=1: 열기준"
      ]
    },
    {
      "cell_type": "code",
      "metadata": {
        "colab": {
          "base_uri": "https://localhost:8080/"
        },
        "id": "ryBqaQYfFsyd",
        "outputId": "9618a8a9-c43a-4297-a704-d5e712866cb5"
      },
      "source": [
        "y = np.argmax(y_test, axis = 1)\r\n",
        "\r\n",
        "y"
      ],
      "execution_count": 28,
      "outputs": [
        {
          "output_type": "execute_result",
          "data": {
            "text/plain": [
              "array([0, 0, 1, 2, 0, 1, 2, 0, 2, 0, 1, 2, 1, 0, 0, 1, 1, 0, 1, 0, 0, 0,\n",
              "       2, 0, 2, 2, 0, 1, 1, 2, 0, 1, 0, 2, 1, 1, 2, 1, 0, 1, 2, 0, 2, 2,\n",
              "       2])"
            ]
          },
          "metadata": {
            "tags": []
          },
          "execution_count": 28
        }
      ]
    },
    {
      "cell_type": "markdown",
      "metadata": {
        "id": "VOpI4aeCFw_H"
      },
      "source": [
        "* Confusion Matrix & Classification Report"
      ]
    },
    {
      "cell_type": "code",
      "metadata": {
        "id": "BsPOGiawF-Bg"
      },
      "source": [
        "from sklearn.metrics import confusion_matrix, classification_report"
      ],
      "execution_count": 29,
      "outputs": []
    },
    {
      "cell_type": "code",
      "metadata": {
        "colab": {
          "base_uri": "https://localhost:8080/"
        },
        "id": "dIIMn-BkGBW3",
        "outputId": "123eb54c-a12c-4eb2-ece2-2dd6ae605113"
      },
      "source": [
        "confusion_matrix(y, y_hat)"
      ],
      "execution_count": 30,
      "outputs": [
        {
          "output_type": "execute_result",
          "data": {
            "text/plain": [
              "array([[17,  0,  0],\n",
              "       [ 0, 14,  0],\n",
              "       [ 0,  1, 13]])"
            ]
          },
          "metadata": {
            "tags": []
          },
          "execution_count": 30
        }
      ]
    },
    {
      "cell_type": "code",
      "metadata": {
        "colab": {
          "base_uri": "https://localhost:8080/"
        },
        "id": "5aWrOxgJGERt",
        "outputId": "afdbd0e3-d008-46ae-bcb3-df50ea2515db"
      },
      "source": [
        "print(classification_report(y, y_hat,\r\n",
        "                            target_names = ['setosa',\r\n",
        "                                            'virginica',\r\n",
        "                                            'versicolor']))"
      ],
      "execution_count": 31,
      "outputs": [
        {
          "output_type": "stream",
          "text": [
            "              precision    recall  f1-score   support\n",
            "\n",
            "      setosa       1.00      1.00      1.00        17\n",
            "   virginica       0.93      1.00      0.97        14\n",
            "  versicolor       1.00      0.93      0.96        14\n",
            "\n",
            "    accuracy                           0.98        45\n",
            "   macro avg       0.98      0.98      0.98        45\n",
            "weighted avg       0.98      0.98      0.98        45\n",
            "\n"
          ],
          "name": "stdout"
        }
      ]
    },
    {
      "cell_type": "markdown",
      "metadata": {
        "id": "0dS6ul-LGMfo"
      },
      "source": [
        "# III. Model Save & Load"
      ]
    },
    {
      "cell_type": "markdown",
      "metadata": {
        "id": "ryQvD3aAGP80"
      },
      "source": [
        "> ## 1) File System"
      ]
    },
    {
      "cell_type": "markdown",
      "metadata": {
        "id": "dKNws5LxGRnO"
      },
      "source": [
        "* Save to Colab File System"
      ]
    },
    {
      "cell_type": "code",
      "metadata": {
        "colab": {
          "base_uri": "https://localhost:8080/"
        },
        "id": "aLptifKVGTtu",
        "outputId": "cbceba8b-40a7-49e3-d2d1-e65aa06e7f83"
      },
      "source": [
        "!ls -l"
      ],
      "execution_count": 32,
      "outputs": [
        {
          "output_type": "stream",
          "text": [
            "total 12\n",
            "-rw-r--r-- 1 root root 7979 Mar 17 07:19 model.png\n",
            "drwxr-xr-x 1 root root 4096 Mar  5 14:37 sample_data\n"
          ],
          "name": "stdout"
        }
      ]
    },
    {
      "cell_type": "code",
      "metadata": {
        "colab": {
          "base_uri": "https://localhost:8080/"
        },
        "id": "IYewwlYZGU2m",
        "outputId": "5bafa522-c19e-4e39-ab75-fa5d8537a2f5"
      },
      "source": [
        "Model_iris.save('Model_iris.h5')\r\n",
        "\r\n",
        "!ls -l"
      ],
      "execution_count": 36,
      "outputs": [
        {
          "output_type": "stream",
          "text": [
            "total 48\n",
            "-rw-r--r-- 1 root root 34592 Mar 17 07:32 Model_iris.h5\n",
            "-rw-r--r-- 1 root root  7979 Mar 17 07:19 model.png\n",
            "drwxr-xr-x 1 root root  4096 Mar  5 14:37 sample_data\n"
          ],
          "name": "stdout"
        }
      ]
    },
    {
      "cell_type": "markdown",
      "metadata": {
        "id": "WZrZYmfhGbS3"
      },
      "source": [
        "* Download Colab File System to Local File System"
      ]
    },
    {
      "cell_type": "code",
      "metadata": {
        "colab": {
          "base_uri": "https://localhost:8080/",
          "height": 17
        },
        "id": "_owOps_4Gmus",
        "outputId": "65d01556-0edf-42b7-ed9b-51919ffa4898"
      },
      "source": [
        "from google.colab import files\r\n",
        "files.download('Model_iris.h5')"
      ],
      "execution_count": 38,
      "outputs": [
        {
          "output_type": "display_data",
          "data": {
            "application/javascript": [
              "\n",
              "    async function download(id, filename, size) {\n",
              "      if (!google.colab.kernel.accessAllowed) {\n",
              "        return;\n",
              "      }\n",
              "      const div = document.createElement('div');\n",
              "      const label = document.createElement('label');\n",
              "      label.textContent = `Downloading \"${filename}\": `;\n",
              "      div.appendChild(label);\n",
              "      const progress = document.createElement('progress');\n",
              "      progress.max = size;\n",
              "      div.appendChild(progress);\n",
              "      document.body.appendChild(div);\n",
              "\n",
              "      const buffers = [];\n",
              "      let downloaded = 0;\n",
              "\n",
              "      const channel = await google.colab.kernel.comms.open(id);\n",
              "      // Send a message to notify the kernel that we're ready.\n",
              "      channel.send({})\n",
              "\n",
              "      for await (const message of channel.messages) {\n",
              "        // Send a message to notify the kernel that we're ready.\n",
              "        channel.send({})\n",
              "        if (message.buffers) {\n",
              "          for (const buffer of message.buffers) {\n",
              "            buffers.push(buffer);\n",
              "            downloaded += buffer.byteLength;\n",
              "            progress.value = downloaded;\n",
              "          }\n",
              "        }\n",
              "      }\n",
              "      const blob = new Blob(buffers, {type: 'application/binary'});\n",
              "      const a = document.createElement('a');\n",
              "      a.href = window.URL.createObjectURL(blob);\n",
              "      a.download = filename;\n",
              "      div.appendChild(a);\n",
              "      a.click();\n",
              "      div.remove();\n",
              "    }\n",
              "  "
            ],
            "text/plain": [
              "<IPython.core.display.Javascript object>"
            ]
          },
          "metadata": {
            "tags": []
          }
        },
        {
          "output_type": "display_data",
          "data": {
            "application/javascript": [
              "download(\"download_2bd04b23-93e5-43ae-8ed6-ec4548c1ca03\", \"Model_iris.h5\", 34592)"
            ],
            "text/plain": [
              "<IPython.core.display.Javascript object>"
            ]
          },
          "metadata": {
            "tags": []
          }
        }
      ]
    },
    {
      "cell_type": "markdown",
      "metadata": {
        "id": "087Y5PGGGoi5"
      },
      "source": [
        "* Load from Colab File System"
      ]
    },
    {
      "cell_type": "code",
      "metadata": {
        "colab": {
          "base_uri": "https://localhost:8080/"
        },
        "id": "RWcG-g4mGxW2",
        "outputId": "87d7c1ce-6474-4216-8131-bb8033c9b46a"
      },
      "source": [
        "from keras.models import load_model\r\n",
        "\r\n",
        "Model_local = load_model('Model_iris.h5')\r\n",
        "\r\n",
        "Model_local.predict_classes(X_test)"
      ],
      "execution_count": 39,
      "outputs": [
        {
          "output_type": "execute_result",
          "data": {
            "text/plain": [
              "array([0, 0, 1, 2, 0, 1, 2, 0, 2, 0, 1, 2, 1, 0, 0, 1, 1, 0, 1, 0, 0, 0,\n",
              "       2, 0, 2, 2, 0, 1, 1, 2, 0, 1, 0, 1, 1, 1, 2, 1, 0, 1, 2, 0, 2, 2,\n",
              "       2])"
            ]
          },
          "metadata": {
            "tags": []
          },
          "execution_count": 39
        }
      ]
    },
    {
      "cell_type": "markdown",
      "metadata": {
        "id": "HFWfyhFDG8rE"
      },
      "source": [
        "> ## 2) Google Drive"
      ]
    },
    {
      "cell_type": "code",
      "metadata": {
        "colab": {
          "base_uri": "https://localhost:8080/"
        },
        "id": "aS_shhksG-vS",
        "outputId": "5c56a24b-dcda-4e73-bbc0-809e4d3423c0"
      },
      "source": [
        "from google.colab import drive\r\n",
        "drive.mount('/content/drive')\r\n"
      ],
      "execution_count": 40,
      "outputs": [
        {
          "output_type": "stream",
          "text": [
            "Mounted at /content/drive\n"
          ],
          "name": "stdout"
        }
      ]
    },
    {
      "cell_type": "code",
      "metadata": {
        "colab": {
          "base_uri": "https://localhost:8080/"
        },
        "id": "TVY9HkD_HBd9",
        "outputId": "b2dfdb44-b580-4984-c782-a61e316b9e3e"
      },
      "source": [
        "!ls -l '/content/drive/My Drive/Colab Notebooks/datasets'\r\n"
      ],
      "execution_count": 41,
      "outputs": [
        {
          "output_type": "stream",
          "text": [
            "total 1740620\n",
            "-rw------- 1 root root      20066 Mar  4 04:45 cat.1700.jpg\n",
            "-rw------- 1 root root   69155672 Mar  4 04:46 creditCardFraud.zip\n",
            "-rw------- 1 root root   90618980 Mar  4 04:51 dogs_and_cats_small.zip\n",
            "drwx------ 2 root root       4096 Mar  9 02:39 image\n",
            "-rw------- 1 root root    8204887 Mar  4 04:45 Images_500.zip\n",
            "-rw------- 1 root root    4240457 Mar 15 04:04 Kaggle_Customer_Satisfaction.zip\n",
            "-rw------- 1 root root   12929865 Mar  4 04:42 Logo_Data.zip\n",
            "-rw------- 1 root root   18272469 Mar  4 04:50 MNIST.csv\n",
            "-rw------- 1 root root   22824989 Mar 11 00:24 Online_Retail.zip\n",
            "-rw------- 1 root root        741 Mar  4 04:44 PII.csv\n",
            "-rw------- 1 root root 1141460846 Mar  4 04:50 waferImages.zip\n",
            "-rw------- 1 root root  414658234 Mar  4 04:49 yolo_weight.zip\n"
          ],
          "name": "stdout"
        }
      ]
    },
    {
      "cell_type": "code",
      "metadata": {
        "colab": {
          "base_uri": "https://localhost:8080/",
          "height": 138
        },
        "id": "OHcZnmMaHGxI",
        "outputId": "c5a72003-9975-4983-8c8a-d4eb35137259"
      },
      "source": [
        "import pandas as pd\r\n",
        "\r\n",
        "DF = pd.read_csv('/content/drive/My Drive/Colab Notebooks/datasets/PII.csv')\r\n",
        "DF.head(3)\r\n"
      ],
      "execution_count": 42,
      "outputs": [
        {
          "output_type": "execute_result",
          "data": {
            "text/html": [
              "<div>\n",
              "<style scoped>\n",
              "    .dataframe tbody tr th:only-of-type {\n",
              "        vertical-align: middle;\n",
              "    }\n",
              "\n",
              "    .dataframe tbody tr th {\n",
              "        vertical-align: top;\n",
              "    }\n",
              "\n",
              "    .dataframe thead th {\n",
              "        text-align: right;\n",
              "    }\n",
              "</style>\n",
              "<table border=\"1\" class=\"dataframe\">\n",
              "  <thead>\n",
              "    <tr style=\"text-align: right;\">\n",
              "      <th></th>\n",
              "      <th>Name</th>\n",
              "      <th>Gender</th>\n",
              "      <th>Age</th>\n",
              "      <th>Grade</th>\n",
              "      <th>Picture</th>\n",
              "      <th>BloodType</th>\n",
              "      <th>Height</th>\n",
              "      <th>Weight</th>\n",
              "    </tr>\n",
              "  </thead>\n",
              "  <tbody>\n",
              "    <tr>\n",
              "      <th>0</th>\n",
              "      <td>송태섭</td>\n",
              "      <td>남자</td>\n",
              "      <td>21</td>\n",
              "      <td>3</td>\n",
              "      <td>무</td>\n",
              "      <td>B</td>\n",
              "      <td>179.1</td>\n",
              "      <td>63.9</td>\n",
              "    </tr>\n",
              "    <tr>\n",
              "      <th>1</th>\n",
              "      <td>최유정</td>\n",
              "      <td>여자</td>\n",
              "      <td>23</td>\n",
              "      <td>1</td>\n",
              "      <td>유</td>\n",
              "      <td>A</td>\n",
              "      <td>177.1</td>\n",
              "      <td>54.9</td>\n",
              "    </tr>\n",
              "    <tr>\n",
              "      <th>2</th>\n",
              "      <td>이한나</td>\n",
              "      <td>여자</td>\n",
              "      <td>20</td>\n",
              "      <td>1</td>\n",
              "      <td>무</td>\n",
              "      <td>A</td>\n",
              "      <td>167.9</td>\n",
              "      <td>50.2</td>\n",
              "    </tr>\n",
              "  </tbody>\n",
              "</table>\n",
              "</div>"
            ],
            "text/plain": [
              "  Name Gender  Age  Grade Picture BloodType  Height  Weight\n",
              "0  송태섭     남자   21      3       무         B   179.1    63.9\n",
              "1  최유정     여자   23      1       유         A   177.1    54.9\n",
              "2  이한나     여자   20      1       무         A   167.9    50.2"
            ]
          },
          "metadata": {
            "tags": []
          },
          "execution_count": 42
        }
      ]
    },
    {
      "cell_type": "markdown",
      "metadata": {
        "id": "iBnlZ0GuHJlg"
      },
      "source": [
        "* Save to Mounted Google Drive Directory"
      ]
    },
    {
      "cell_type": "code",
      "metadata": {
        "colab": {
          "base_uri": "https://localhost:8080/"
        },
        "id": "XoVCOKP_HNR3",
        "outputId": "4181d790-db07-4ed1-ec82-0995cee56e56"
      },
      "source": [
        "Model_iris.save('/content/drive/My Drive/Colab Notebooks/models/001_Model_iris.h5')\r\n",
        "\r\n",
        "!ls -l '/content/drive/My Drive/Colab Notebooks/models'"
      ],
      "execution_count": 43,
      "outputs": [
        {
          "output_type": "stream",
          "text": [
            "total 34\n",
            "-rw------- 1 root root 34592 Mar 17 07:36 001_Model_iris.h5\n"
          ],
          "name": "stdout"
        }
      ]
    },
    {
      "cell_type": "markdown",
      "metadata": {
        "id": "BlKPuTPOHPeB"
      },
      "source": [
        "* Load from Mounted Google Drive Directory\r\n"
      ]
    },
    {
      "cell_type": "code",
      "metadata": {
        "colab": {
          "base_uri": "https://localhost:8080/"
        },
        "id": "wQ7aWungHRtR",
        "outputId": "e8efc1fe-570b-4715-984b-1ada5e091e24"
      },
      "source": [
        "from keras.models import load_model\r\n",
        "\r\n",
        "Model_google = load_model('/content/drive/My Drive/Colab Notebooks/models/001_Model_iris.h5')\r\n",
        "Model_google.predict_classes(X_test)\r\n"
      ],
      "execution_count": 44,
      "outputs": [
        {
          "output_type": "execute_result",
          "data": {
            "text/plain": [
              "array([0, 0, 1, 2, 0, 1, 2, 0, 2, 0, 1, 2, 1, 0, 0, 1, 1, 0, 1, 0, 0, 0,\n",
              "       2, 0, 2, 2, 0, 1, 1, 2, 0, 1, 0, 1, 1, 1, 2, 1, 0, 1, 2, 0, 2, 2,\n",
              "       2])"
            ]
          },
          "metadata": {
            "tags": []
          },
          "execution_count": 44
        }
      ]
    },
    {
      "cell_type": "code",
      "metadata": {
        "id": "1ZB8AIHmHU_K"
      },
      "source": [
        ""
      ],
      "execution_count": null,
      "outputs": []
    }
  ]
}