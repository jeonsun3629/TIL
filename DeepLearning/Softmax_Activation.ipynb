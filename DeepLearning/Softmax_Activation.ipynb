{
  "nbformat": 4,
  "nbformat_minor": 0,
  "metadata": {
    "colab": {
      "name": "Softmax_Activation.ipynb",
      "provenance": []
    },
    "kernelspec": {
      "name": "python3",
      "display_name": "Python 3"
    }
  },
  "cells": [
    {
      "cell_type": "markdown",
      "metadata": {
        "id": "mCMIoNfVwkYk"
      },
      "source": [
        "# Softmax Activation"
      ]
    },
    {
      "cell_type": "code",
      "metadata": {
        "id": "hROLS90nwq2l"
      },
      "source": [
        "import warnings\r\n",
        "warnings.filterwarnings('ignore')"
      ],
      "execution_count": 1,
      "outputs": []
    },
    {
      "cell_type": "markdown",
      "metadata": {
        "id": "dxWcHCChwtjz"
      },
      "source": [
        "> ## 1) sigmoid() & softmax() 정의"
      ]
    },
    {
      "cell_type": "markdown",
      "metadata": {
        "id": "1NxxkuOJwwLh"
      },
      "source": [
        "* sigmoid()"
      ]
    },
    {
      "cell_type": "code",
      "metadata": {
        "id": "DVhsGrdDx7BU"
      },
      "source": [
        "import numpy as np\r\n",
        "\r\n",
        "def sigmoid(x):\r\n",
        "  y = 1 / (1 + np.exp(-x))\r\n",
        "  return y"
      ],
      "execution_count": 3,
      "outputs": []
    },
    {
      "cell_type": "markdown",
      "metadata": {
        "id": "oXwzOhaNyDJw"
      },
      "source": [
        "* sigmoid() 시각화"
      ]
    },
    {
      "cell_type": "code",
      "metadata": {
        "colab": {
          "base_uri": "https://localhost:8080/",
          "height": 374
        },
        "id": "keITP05Uxqxe",
        "outputId": "949e9f4c-6ed6-4c65-be00-d15df2761b64"
      },
      "source": [
        "import matplotlib.pyplot as plt\r\n",
        "\r\n",
        "n = np.linspace(-10.0, 10.9, 2000)\r\n",
        "\r\n",
        "plt.figure(figsize = (9, 6))\r\n",
        "plt.plot(n, sigmoid(n))\r\n",
        "plt.show()"
      ],
      "execution_count": 6,
      "outputs": [
        {
          "output_type": "display_data",
          "data": {
            "image/png": "[encoded data removed]",
            "text/plain": [
              "<Figure size 648x432 with 1 Axes>"
            ]
          },
          "metadata": {
            "tags": [],
            "needs_background": "light"
          }
        }
      ]
    },
    {
      "cell_type": "markdown",
      "metadata": {
        "id": "gayHi2Uvx2PL"
      },
      "source": [
        "* softmax()"
      ]
    },
    {
      "cell_type": "code",
      "metadata": {
        "id": "bYAQVitoyegz"
      },
      "source": [
        "def softmax(x):\r\n",
        "  m = np.max(x)\r\n",
        "  sm = np.exp(x - m)/np.sum(np.exp(x - m))\r\n",
        "  return(sm)"
      ],
      "execution_count": 7,
      "outputs": []
    },
    {
      "cell_type": "markdown",
      "metadata": {
        "id": "BbM34qCAytAv"
      },
      "source": [
        "* softmax() 시각화"
      ]
    },
    {
      "cell_type": "code",
      "metadata": {
        "colab": {
          "base_uri": "https://localhost:8080/",
          "height": 374
        },
        "id": "a-fnnCr4ywB8",
        "outputId": "ca0a30bb-edcb-4fe0-d738-9a4b895f775d"
      },
      "source": [
        "import matplotlib.pyplot as plt\r\n",
        "\r\n",
        "n = np.linspace(-10.0, 10.0, 2000)\r\n",
        "plt.figure(figsize = (9, 6))\r\n",
        "plt.plot(n, softmax(n))\r\n",
        "plt.show()"
      ],
      "execution_count": 8,
      "outputs": [
        {
          "output_type": "display_data",
          "data": {
            "image/png": "[encoded data removed]",
            "text/plain": [
              "<Figure size 648x432 with 1 Axes>"
            ]
          },
          "metadata": {
            "tags": [],
            "needs_background": "light"
          }
        }
      ]
    },
    {
      "cell_type": "markdown",
      "metadata": {
        "id": "hoEc18uxyzbu"
      },
      "source": [
        "> ## 2) sigmoid() vs. softmax() 비교"
      ]
    },
    {
      "cell_type": "markdown",
      "metadata": {
        "id": "NJvWi05yy3T5"
      },
      "source": [
        "* 가상의 y_hat"
      ]
    },
    {
      "cell_type": "code",
      "metadata": {
        "id": "5470XPLYy57O"
      },
      "source": [
        "y_hat = np.array([5, 0, -3])"
      ],
      "execution_count": 9,
      "outputs": []
    },
    {
      "cell_type": "markdown",
      "metadata": {
        "id": "mNYQHescy9ov"
      },
      "source": [
        "* Sigmoid Activation 적용"
      ]
    },
    {
      "cell_type": "code",
      "metadata": {
        "colab": {
          "base_uri": "https://localhost:8080/"
        },
        "id": "hL-9yZJyy_1W",
        "outputId": "b734b392-6154-4a37-aea7-41786481c5e5"
      },
      "source": [
        "np.set_printoptions(suppress = True, precision = 5)\r\n",
        "\r\n",
        "print(sigmoid(y_hat))\r\n",
        "print('%.5f'% np.sum(sigmoid(y_hat)))"
      ],
      "execution_count": 10,
      "outputs": [
        {
          "output_type": "stream",
          "text": [
            "[0.99331 0.5     0.04743]\n",
            "1.54073\n"
          ],
          "name": "stdout"
        }
      ]
    },
    {
      "cell_type": "markdown",
      "metadata": {
        "id": "S269oeQBzK85"
      },
      "source": [
        "* Softmax Activation 적용"
      ]
    },
    {
      "cell_type": "code",
      "metadata": {
        "colab": {
          "base_uri": "https://localhost:8080/"
        },
        "id": "PRpROfjgzPH8",
        "outputId": "3ca40263-7673-477a-92c4-4d91d5f32c91"
      },
      "source": [
        "np.set_printoptions(suppress = True)\r\n",
        "\r\n",
        "print(softmax(y_hat))\r\n",
        "print('%.5f'% np.sum(softmax(y_hat)))"
      ],
      "execution_count": 11,
      "outputs": [
        {
          "output_type": "stream",
          "text": [
            "[0.99298 0.00669 0.00033]\n",
            "1.00000\n"
          ],
          "name": "stdout"
        }
      ]
    },
    {
      "cell_type": "markdown",
      "metadata": {
        "id": "IJ-B5nn6zWty"
      },
      "source": [
        "> ## 3) 추가 학습 진행 후 변화 비교"
      ]
    },
    {
      "cell_type": "markdown",
      "metadata": {
        "id": "WI6mtPOLzZoW"
      },
      "source": [
        "* 가상의 y_hat 업데이트"
      ]
    },
    {
      "cell_type": "code",
      "metadata": {
        "id": "oAh4NoMszc9K"
      },
      "source": [
        "y_hat = np.array([10, -2, -9])"
      ],
      "execution_count": 12,
      "outputs": []
    },
    {
      "cell_type": "markdown",
      "metadata": {
        "id": "AgyV4ziSzgzL"
      },
      "source": [
        "* Sigmoid Activation 재적용"
      ]
    },
    {
      "cell_type": "code",
      "metadata": {
        "colab": {
          "base_uri": "https://localhost:8080/"
        },
        "id": "Nzl5H10uzi10",
        "outputId": "7e4e504c-ba92-43ec-d612-815b6e514b17"
      },
      "source": [
        "print(sigmoid(y_hat))\r\n",
        "print('%.5f'% np.sum(sigmoid(y_hat)))"
      ],
      "execution_count": 13,
      "outputs": [
        {
          "output_type": "stream",
          "text": [
            "[0.99995 0.1192  0.00012]\n",
            "1.11928\n"
          ],
          "name": "stdout"
        }
      ]
    },
    {
      "cell_type": "markdown",
      "metadata": {
        "id": "nr8K1p7bznF3"
      },
      "source": [
        "* Softmax Activation 재적용"
      ]
    },
    {
      "cell_type": "code",
      "metadata": {
        "colab": {
          "base_uri": "https://localhost:8080/"
        },
        "id": "y0yh7jpwzqNf",
        "outputId": "0c515c36-5ac4-4b03-a5f1-dda7ee1115b4"
      },
      "source": [
        "print(softmax(y_hat))\r\n",
        "print('%.5f' % np.sum(softmax(y_hat)))"
      ],
      "execution_count": 15,
      "outputs": [
        {
          "output_type": "stream",
          "text": [
            "[0.99999 0.00001 0.     ]\n",
            "1.00000\n"
          ],
          "name": "stdout"
        }
      ]
    },
    {
      "cell_type": "code",
      "metadata": {
        "id": "TnlcvYMLzrWu"
      },
      "source": [
        ""
      ],
      "execution_count": null,
      "outputs": []
    }
  ]
}