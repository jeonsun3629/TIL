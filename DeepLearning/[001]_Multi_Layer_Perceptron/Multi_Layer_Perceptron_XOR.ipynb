{
  "nbformat": 4,
  "nbformat_minor": 0,
  "metadata": {
    "colab": {
      "name": "Multi_Layer_Perceptron_XOR.ipynb",
      "provenance": [],
      "collapsed_sections": []
    },
    "kernelspec": {
      "name": "python3",
      "display_name": "Python 3"
    }
  },
  "cells": [
    {
      "cell_type": "markdown",
      "metadata": {
        "id": "F38jntxjOL4C"
      },
      "source": [
        "# I. 수치미분(Numerical Derivative)"
      ]
    },
    {
      "cell_type": "code",
      "metadata": {
        "id": "A3jqAvyjORhJ"
      },
      "source": [
        "import warnings\r\n",
        "warnings.filterwarnings('ignore')"
      ],
      "execution_count": 28,
      "outputs": []
    },
    {
      "cell_type": "markdown",
      "metadata": {
        "id": "K2FpankhOVpQ"
      },
      "source": [
        "> ## 1) import numpy"
      ]
    },
    {
      "cell_type": "code",
      "metadata": {
        "id": "brh22CA_OZTp"
      },
      "source": [
        "import numpy as np"
      ],
      "execution_count": 29,
      "outputs": []
    },
    {
      "cell_type": "markdown",
      "metadata": {
        "id": "0VwfdR2pObtS"
      },
      "source": [
        "> ## 2) gradient() 함수 정의"
      ]
    },
    {
      "cell_type": "markdown",
      "metadata": {
        "id": "k9CF2GiTOd8w"
      },
      "source": [
        "* 다변수 함수의 수치미분"
      ]
    },
    {
      "cell_type": "code",
      "metadata": {
        "id": "MUU7pFeLOgIl"
      },
      "source": [
        "def gradient(machine, param):\r\n",
        "  if param.ndim ==1:\r\n",
        "    temp_param = param\r\n",
        "    delta = 0.00005\r\n",
        "    learned_param = np.zeros(param.shape)\r\n",
        "\r\n",
        "    for index in range(len(param)):\r\n",
        "      target_param = float(temp_param[index])\r\n",
        "      temp_param[index] = target_param + delta\r\n",
        "      param_plus_delta = machine(temp_param)\r\n",
        "      temp_param[index] = target_param - delta\r\n",
        "      param_minus_delta = machine(temp_param)\r\n",
        "      learned_param[index] = (param_plus_delta - param_minus_delta) / \\\r\n",
        "      (2 * delta)\r\n",
        "      temp_param[index] = target_param\r\n",
        "\r\n",
        "    return learned_param\r\n",
        "  \r\n",
        "  elif param.ndim == 2:\r\n",
        "    temp_param = param\r\n",
        "    delta = 0.00005\r\n",
        "    learned_param = np.zeros(param.shape)\r\n",
        "\r\n",
        "    rows = param.shape[0]\r\n",
        "    columns = param.shape[1]\r\n",
        "\r\n",
        "    for row in range(rows):\r\n",
        "        for column in range(columns):\r\n",
        "            target_param = float(temp_param[row, column])\r\n",
        "            temp_param[row, column] = target_param + delta            \r\n",
        "            param_plus_delta = machine(temp_param)\r\n",
        "            temp_param[row, column] = target_param - delta            \r\n",
        "            param_minus_delta = machine(temp_param)\r\n",
        "            learned_param[row, column] = (param_plus_delta - \\\r\n",
        "                                          param_minus_delta) / (2 * delta)\r\n",
        "            temp_param[row, column] = target_param\r\n",
        "        return learned_param\r\n"
      ],
      "execution_count": 55,
      "outputs": []
    },
    {
      "cell_type": "markdown",
      "metadata": {
        "id": "rwplzIITPPvL"
      },
      "source": [
        "# II. Logic Gate() - 'AND', 'OR', 'NAND'"
      ]
    },
    {
      "cell_type": "markdown",
      "metadata": {
        "id": "UKN-hzaqQUMH"
      },
      "source": [
        "> ## 1) sigmoid() 함수 정의"
      ]
    },
    {
      "cell_type": "code",
      "metadata": {
        "id": "_DXCL2yIQWSN"
      },
      "source": [
        "import numpy as np\r\n",
        "\r\n",
        "def sigmoid(x):\r\n",
        "  y_hat = 1 / (1 + np.exp(-x))\r\n",
        "  return y_hat"
      ],
      "execution_count": 56,
      "outputs": []
    },
    {
      "cell_type": "markdown",
      "metadata": {
        "id": "j90W4LhgQe9z"
      },
      "source": [
        "> ## 2) LogicGate 클래스 선언"
      ]
    },
    {
      "cell_type": "code",
      "metadata": {
        "id": "QPrB-w79Rtid"
      },
      "source": [
        "class LogicGate:\r\n",
        "    \r\n",
        "    def __init__(self, gate_Type, X_input, y_output):  \r\n",
        "# gate_Type 문자열 지정 Member      \r\n",
        "        self.Type = gate_Type\r\n",
        "        \r\n",
        "# X_input, y_output Member 초기화\r\n",
        "        self.X_input = X_input.reshape(4, 2)\r\n",
        "        self.y_output = y_output.reshape(4, 1)\r\n",
        "        \r\n",
        "# W, b Member 초기화\r\n",
        "        self.W = np.random.rand(2, 1)  \r\n",
        "        self.b = np.random.rand(1)\r\n",
        "                        \r\n",
        "# learning_rate Member 지정\r\n",
        "        self.learning_rate = 0.01\r\n",
        "        \r\n",
        "# Cost_Function(CEE) Method\r\n",
        "    def cost_func(self):\r\n",
        "        z = np.dot(self.X_input, self.W) + self.b\r\n",
        "        y_hat = sigmoid(z)\r\n",
        "        delta = 0.00001\r\n",
        "        return -np.sum(self.y_output * np.log(y_hat + delta) + \\\r\n",
        "                       (1 - self.y_output) * np.log((1 - y_hat) + delta))   \r\n",
        "      \r\n",
        "    # Learning_Method\r\n",
        "    def learn(self):\r\n",
        "        machine = lambda x : self.cost_func()\r\n",
        "        print(\"Initial Cost = \", self.cost_func())\r\n",
        "        \r\n",
        "        for step in range(10001):\r\n",
        "            self.W = self.W - self.learning_rate * gradient(machine, self.W)\r\n",
        "            self.b = self.b - self.learning_rate * gradient(machine, self.b)\r\n",
        "    \r\n",
        "            if (step % 1000 == 0):\r\n",
        "                print(\"Step = \", step, \"Cost = \", self.cost_func())\r\n",
        "                \r\n",
        "# Predict Method\r\n",
        "    def predict(self, input_data):\r\n",
        "        \r\n",
        "        z = np.dot(input_data, self.W) + self.b\r\n",
        "        y_prob = sigmoid(z)\r\n",
        "    \r\n",
        "        if y_prob > 0.5:\r\n",
        "            result = 1\r\n",
        "        else:\r\n",
        "            result = 0\r\n",
        "    \r\n",
        "        return y_prob, result"
      ],
      "execution_count": 57,
      "outputs": []
    },
    {
      "cell_type": "markdown",
      "metadata": {
        "id": "26DbFsw9Tq5o"
      },
      "source": [
        "> ## 3) AND_Gate"
      ]
    },
    {
      "cell_type": "markdown",
      "metadata": {
        "id": "jRn_KzZtT8qX"
      },
      "source": [
        "* X_input, y_output 지정"
      ]
    },
    {
      "cell_type": "code",
      "metadata": {
        "id": "S0kjbD_IT_c4"
      },
      "source": [
        "X_input = np.array([[0, 0], [0, 1], [1, 0], [1, 1]])\r\n",
        "y_output = np.array([0, 0, 0, 1])"
      ],
      "execution_count": 58,
      "outputs": []
    },
    {
      "cell_type": "markdown",
      "metadata": {
        "id": "6mu-d4_6UKWV"
      },
      "source": [
        "* AND_Gate 객체 생성 및 학습"
      ]
    },
    {
      "cell_type": "code",
      "metadata": {
        "colab": {
          "base_uri": "https://localhost:8080/"
        },
        "id": "Pvh-mzDWUVUo",
        "outputId": "360e0523-545a-4e1b-dde6-8ca9168d9ce6"
      },
      "source": [
        "AND_Gate = LogicGate(\"AND_GATE\", X_input, y_output)\r\n",
        "AND_Gate.learn()\r\n"
      ],
      "execution_count": 59,
      "outputs": [
        {
          "output_type": "stream",
          "text": [
            "Initial Cost =  3.8631553299566455\n",
            "Step =  0 Cost =  3.8230681094924273\n",
            "Step =  1000 Cost =  1.3049763394023597\n",
            "Step =  2000 Cost =  1.1790625195181494\n",
            "Step =  3000 Cost =  1.1363413594173513\n",
            "Step =  4000 Cost =  1.1154995344924776\n",
            "Step =  5000 Cost =  1.1032914451640892\n",
            "Step =  6000 Cost =  1.095313942866847\n",
            "Step =  7000 Cost =  1.0897083977701085\n",
            "Step =  8000 Cost =  1.085560846200372\n",
            "Step =  9000 Cost =  1.0823714113257958\n",
            "Step =  10000 Cost =  1.0798443663888406\n"
          ],
          "name": "stdout"
        }
      ]
    },
    {
      "cell_type": "markdown",
      "metadata": {
        "id": "ZzQ1N77fYlqi"
      },
      "source": [
        "* AND_Gate 테스트"
      ]
    },
    {
      "cell_type": "code",
      "metadata": {
        "colab": {
          "base_uri": "https://localhost:8080/"
        },
        "id": "e7GDhg7nYbca",
        "outputId": "9df18cd8-a073-4e9a-b8b1-c25ef6b12587"
      },
      "source": [
        "print(AND_Gate.Type, \"\\n\")\r\n",
        "\r\n",
        "test_data = np.array([[0, 0], [0, 1], [1, 0], [1, 1]])\r\n",
        "\r\n",
        "for input_data in test_data:\r\n",
        "    (sigmoid_val, logical_val) = AND_Gate.predict(input_data) \r\n",
        "    print(input_data, \" = \", logical_val)  "
      ],
      "execution_count": 63,
      "outputs": [
        {
          "output_type": "stream",
          "text": [
            "AND_GATE \n",
            "\n",
            "[0 0]  =  0\n",
            "[0 1]  =  0\n",
            "[1 0]  =  0\n",
            "[1 1]  =  1\n"
          ],
          "name": "stdout"
        }
      ]
    },
    {
      "cell_type": "markdown",
      "metadata": {
        "id": "G8F8InKdYiAY"
      },
      "source": [
        "> ## 4) OR_Gate"
      ]
    },
    {
      "cell_type": "markdown",
      "metadata": {
        "id": "lSTquPPfYuju"
      },
      "source": [
        "* X_input, y_output"
      ]
    },
    {
      "cell_type": "code",
      "metadata": {
        "id": "jdaK-2FaYwqW"
      },
      "source": [
        "X_input  = np.array([[0, 0], [0, 1], [1, 0], [1, 1]])\r\n",
        "y_output = np.array([0, 1, 1, 1])\r\n"
      ],
      "execution_count": 64,
      "outputs": []
    },
    {
      "cell_type": "markdown",
      "metadata": {
        "id": "f-ge1tT7YzLf"
      },
      "source": [
        "* OR_Gate 객체 생성 및 학습"
      ]
    },
    {
      "cell_type": "code",
      "metadata": {
        "colab": {
          "base_uri": "https://localhost:8080/"
        },
        "id": "YKaf6WX0Y2A7",
        "outputId": "df3ef268-e69d-449e-e04f-0a9922257f58"
      },
      "source": [
        "OR_Gate = LogicGate(\"OR_GATE\", X_input, y_output)\r\n",
        "\r\n",
        "OR_Gate.learn()"
      ],
      "execution_count": 65,
      "outputs": [
        {
          "output_type": "stream",
          "text": [
            "Initial Cost =  2.0177925949644515\n",
            "Step =  0 Cost =  2.015716003213284\n",
            "Step =  1000 Cost =  1.31543418037455\n",
            "Step =  2000 Cost =  1.2247447116700456\n",
            "Step =  3000 Cost =  1.1970495343259382\n",
            "Step =  4000 Cost =  1.1843383757161114\n",
            "Step =  5000 Cost =  1.1771690089293394\n",
            "Step =  6000 Cost =  1.1726019303956736\n",
            "Step =  7000 Cost =  1.1694509360117498\n",
            "Step =  8000 Cost =  1.1671513738938846\n",
            "Step =  9000 Cost =  1.1654019063605001\n",
            "Step =  10000 Cost =  1.1640276536512462\n"
          ],
          "name": "stdout"
        }
      ]
    },
    {
      "cell_type": "markdown",
      "metadata": {
        "id": "Vc9skHNyY3ew"
      },
      "source": [
        "* OR_Gate 테스트"
      ]
    },
    {
      "cell_type": "code",
      "metadata": {
        "colab": {
          "base_uri": "https://localhost:8080/"
        },
        "id": "Td-yoW-eY57U",
        "outputId": "3cbd0b21-22be-4d73-b43e-e7577bb83b4a"
      },
      "source": [
        "print(OR_Gate.Type, \"\\n\")\r\n",
        "\r\n",
        "test_data = np.array([[0, 0], [0, 1], [1, 0], [1, 1]])\r\n",
        "\r\n",
        "for input_data in test_data:\r\n",
        "    (sigmoid_val, logical_val) = OR_Gate.predict(input_data) \r\n",
        "    print(input_data, \" = \", logical_val)"
      ],
      "execution_count": 67,
      "outputs": [
        {
          "output_type": "stream",
          "text": [
            "OR_GATE \n",
            "\n",
            "[0 0]  =  0\n",
            "[0 1]  =  1\n",
            "[1 0]  =  1\n",
            "[1 1]  =  1\n"
          ],
          "name": "stdout"
        }
      ]
    },
    {
      "cell_type": "markdown",
      "metadata": {
        "id": "Da1hB3OcY96L"
      },
      "source": [
        "> ## 5) NAND_Gate"
      ]
    },
    {
      "cell_type": "markdown",
      "metadata": {
        "id": "uAzGzrOPZCT-"
      },
      "source": [
        "* X_input, y_output"
      ]
    },
    {
      "cell_type": "code",
      "metadata": {
        "id": "bORn7PlzZFIa"
      },
      "source": [
        "X_input  = np.array([[0, 0], [0, 1], [1, 0], [1, 1]])\r\n",
        "y_output = np.array([1, 1, 1, 0])\r\n"
      ],
      "execution_count": 68,
      "outputs": []
    },
    {
      "cell_type": "markdown",
      "metadata": {
        "id": "5StYarTHZGpw"
      },
      "source": [
        "* NAND_Gate 객체 생성 및 학습"
      ]
    },
    {
      "cell_type": "code",
      "metadata": {
        "colab": {
          "base_uri": "https://localhost:8080/"
        },
        "id": "7MYcLSyQZJ95",
        "outputId": "1f8638cb-f9ad-4ff5-bd51-6e3d45113b4d"
      },
      "source": [
        "NAND_Gate = LogicGate(\"NAND_GATE\", X_input, y_output)\r\n",
        "\r\n",
        "NAND_Gate.learn()\r\n"
      ],
      "execution_count": 69,
      "outputs": [
        {
          "output_type": "stream",
          "text": [
            "Initial Cost =  3.048506065033263\n",
            "Step =  0 Cost =  3.043624204281157\n",
            "Step =  1000 Cost =  1.9822069701055525\n",
            "Step =  2000 Cost =  1.8574128480407313\n",
            "Step =  3000 Cost =  1.8149850989959482\n",
            "Step =  4000 Cost =  1.7942588235947419\n",
            "Step =  5000 Cost =  1.7821076106159437\n",
            "Step =  6000 Cost =  1.7741622524717675\n",
            "Step =  7000 Cost =  1.7685766555347948\n",
            "Step =  8000 Cost =  1.7644423468456019\n",
            "Step =  9000 Cost =  1.7612621619624635\n",
            "Step =  10000 Cost =  1.7587418395805976\n"
          ],
          "name": "stdout"
        }
      ]
    },
    {
      "cell_type": "markdown",
      "metadata": {
        "id": "C3qwrdLmZLYV"
      },
      "source": [
        "* NAND_Gate 테스트"
      ]
    },
    {
      "cell_type": "code",
      "metadata": {
        "colab": {
          "base_uri": "https://localhost:8080/"
        },
        "id": "DH-3mg9PZOw4",
        "outputId": "a5dc3fb9-cd3b-49de-f696-7462ac26378e"
      },
      "source": [
        "print(NAND_Gate.Type, \"\\n\")\r\n",
        "\r\n",
        "test_data = np.array([[0, 0], [0, 1], [1, 0], [1, 1]])\r\n",
        "\r\n",
        "for input_data in test_data:\r\n",
        "    (sigmoid_val, logical_val) = NAND_Gate.predict(input_data) \r\n",
        "    print(input_data, \" = \", logical_val)  \r\n"
      ],
      "execution_count": 70,
      "outputs": [
        {
          "output_type": "stream",
          "text": [
            "NAND_GATE \n",
            "\n",
            "[0 0]  =  1\n",
            "[0 1]  =  1\n",
            "[1 0]  =  0\n",
            "[1 1]  =  1\n"
          ],
          "name": "stdout"
        }
      ]
    },
    {
      "cell_type": "markdown",
      "metadata": {
        "id": "A4HXg92gZQm_"
      },
      "source": [
        "# III. XOR_Gate Issue"
      ]
    },
    {
      "cell_type": "markdown",
      "metadata": {
        "id": "DbgA6bv-ZUI8"
      },
      "source": [
        "> ## 1) XOR_Gate Failure"
      ]
    },
    {
      "cell_type": "markdown",
      "metadata": {
        "id": "hI48XgzOZXXX"
      },
      "source": [
        "* X_input, y_output"
      ]
    },
    {
      "cell_type": "code",
      "metadata": {
        "id": "cnd51R9IZaP4"
      },
      "source": [
        "X_input  = np.array([[0, 0], [0, 1], [1, 0], [1, 1]])\r\n",
        "y_output = np.array([0, 1, 1, 0])\r\n"
      ],
      "execution_count": 71,
      "outputs": []
    },
    {
      "cell_type": "code",
      "metadata": {
        "colab": {
          "base_uri": "https://localhost:8080/"
        },
        "id": "zHhBfPmsZbVw",
        "outputId": "4f5e28c3-1fb7-4a8f-b44e-442f55d470cb"
      },
      "source": [
        "XOR_Gate = LogicGate(\"XOR_GATE\", X_input, y_output)\r\n",
        "XOR_Gate.learn()"
      ],
      "execution_count": 72,
      "outputs": [
        {
          "output_type": "stream",
          "text": [
            "Initial Cost =  3.381603502644854\n",
            "Step =  0 Cost =  3.3685835992883577\n",
            "Step =  1000 Cost =  2.78119914573183\n",
            "Step =  2000 Cost =  2.7807214564520892\n",
            "Step =  3000 Cost =  2.7807109383904383\n",
            "Step =  4000 Cost =  2.780710706830289\n",
            "Step =  5000 Cost =  2.7807107017323975\n",
            "Step =  6000 Cost =  2.7807107016201655\n",
            "Step =  7000 Cost =  2.780710701617695\n",
            "Step =  8000 Cost =  2.78071070161764\n",
            "Step =  9000 Cost =  2.7807107016176387\n",
            "Step =  10000 Cost =  2.780710701617639\n"
          ],
          "name": "stdout"
        }
      ]
    },
    {
      "cell_type": "markdown",
      "metadata": {
        "id": "59lpSmrAZdi_"
      },
      "source": [
        "* XOR_Gate 테스트"
      ]
    },
    {
      "cell_type": "code",
      "metadata": {
        "colab": {
          "base_uri": "https://localhost:8080/"
        },
        "id": "tEixVaYaZcYQ",
        "outputId": "41cc4312-e687-4150-cf08-e21d36002f6e"
      },
      "source": [
        "print(XOR_Gate.Type, \"\\n\")\r\n",
        "\r\n",
        "test_data = np.array([[0, 0], [0, 1], [1, 0], [1, 1]])\r\n",
        "\r\n",
        "for input_data in test_data:\r\n",
        "    (sigmoid_val, logical_val) = XOR_Gate.predict(input_data) \r\n",
        "    print(input_data, \" = \", logical_val)"
      ],
      "execution_count": 73,
      "outputs": [
        {
          "output_type": "stream",
          "text": [
            "XOR_GATE \n",
            "\n",
            "[0 0]  =  0\n",
            "[0 1]  =  1\n",
            "[1 0]  =  0\n",
            "[1 1]  =  1\n"
          ],
          "name": "stdout"
        }
      ]
    },
    {
      "cell_type": "markdown",
      "metadata": {
        "id": "ndFRk_GXZimq"
      },
      "source": [
        "> ## 2) XOR_Gate Succeed"
      ]
    },
    {
      "cell_type": "markdown",
      "metadata": {
        "id": "iT0QGbE3ZmtE"
      },
      "source": [
        "* XOR를 (NAND + OR) 계층 및 AND 계층의 조합으로 연산\r\n",
        "* 이전 학습된 Parametrer로 XOR 수행\r\n"
      ]
    },
    {
      "cell_type": "code",
      "metadata": {
        "colab": {
          "base_uri": "https://localhost:8080/"
        },
        "id": "E3iUxXIaZqwn",
        "outputId": "bee0c24d-6405-46b6-eb36-48f4471c9af7"
      },
      "source": [
        "input_data = np.array([[0, 0], [0, 1], [1, 0], [1, 1]])\r\n",
        "\r\n",
        "HL1_1 = []    # NAND 출력\r\n",
        "HL1_2 = []    # OR   출력\r\n",
        "\r\n",
        "new_input_data = []  # AND      입력\r\n",
        "final_output = []    # AND(XOR) 출력\r\n",
        "\r\n",
        "for index in range(len(input_data)):\r\n",
        "    HL1_1 = NAND_Gate.predict(input_data[index])  # NAND 출력\r\n",
        "    HL1_2 = OR_Gate.predict(input_data[index])    # OR   출력\r\n",
        "    \r\n",
        "    new_input_data.append(HL1_1[-1])    # AND 입력\r\n",
        "    new_input_data.append(HL1_2[-1])    # AND 입력\r\n",
        "    \r\n",
        "    (sigmoid_val, logical_val) = AND_Gate.predict(np.array(new_input_data))\r\n",
        "    \r\n",
        "    final_output.append(logical_val)    # AND(XOR) 출력    \r\n",
        "    new_input_data = []                 # AND 입력 초기화\r\n",
        "\r\n",
        "print(XOR_Gate.Type, \"\\n\")\r\n",
        "\r\n",
        "for index in range(len(input_data)):    \r\n",
        "    print(input_data[index], \" = \", final_output[index])"
      ],
      "execution_count": 75,
      "outputs": [
        {
          "output_type": "stream",
          "text": [
            "XOR_GATE \n",
            "\n",
            "[0 0]  =  0\n",
            "[0 1]  =  1\n",
            "[1 0]  =  0\n",
            "[1 1]  =  1\n"
          ],
          "name": "stdout"
        }
      ]
    },
    {
      "cell_type": "code",
      "metadata": {
        "id": "tY004s8fZuCw"
      },
      "source": [
        ""
      ],
      "execution_count": null,
      "outputs": []
    }
  ]
}