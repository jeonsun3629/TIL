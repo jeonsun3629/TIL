{
  "nbformat": 4,
  "nbformat_minor": 0,
  "metadata": {
    "colab": {
      "name": "Keras_Fraud_Detection_전승우.ipynb",
      "provenance": []
    },
    "kernelspec": {
      "name": "python3",
      "display_name": "Python 3"
    }
  },
  "cells": [
    {
      "cell_type": "markdown",
      "metadata": {
        "id": "nYzaUE_3KJlO"
      },
      "source": [
        "# Kaggle 신용카드 사기 검출 (Google Drive Mount)\r\n"
      ]
    },
    {
      "cell_type": "markdown",
      "metadata": {
        "id": "mg6aWrErJ6DJ"
      },
      "source": [
        "## Credit Card Fraud Detection\r\n",
        "  * creditcard.csv (284,807 * 31)\r\n",
        "  * Class : 0 (정상), 1 (사기)\r\n",
        "  * 사기 검출(Fraud Detection), 이상 탐지(Anomaly Detection)\r\n"
      ]
    },
    {
      "cell_type": "code",
      "metadata": {
        "id": "IntULRJgKW04"
      },
      "source": [
        "import warnings\r\n",
        "warnings.filterwarnings('ignore')"
      ],
      "execution_count": 1,
      "outputs": []
    },
    {
      "cell_type": "markdown",
      "metadata": {
        "id": "rgVpUTsbKfG2"
      },
      "source": [
        "# I. Google Drive Mount"
      ]
    },
    {
      "cell_type": "code",
      "metadata": {
        "colab": {
          "base_uri": "https://localhost:8080/"
        },
        "id": "0XXGDVcKKZ-S",
        "outputId": "6414db36-f3a4-43ab-c23e-0b015e4b188a"
      },
      "source": [
        "from google.colab import drive\r\n",
        "\r\n",
        "drive.mount('/content/drive')"
      ],
      "execution_count": 2,
      "outputs": [
        {
          "output_type": "stream",
          "text": [
            "Drive already mounted at /content/drive; to attempt to forcibly remount, call drive.mount(\"/content/drive\", force_remount=True).\n"
          ],
          "name": "stdout"
        }
      ]
    },
    {
      "cell_type": "code",
      "metadata": {
        "colab": {
          "base_uri": "https://localhost:8080/"
        },
        "id": "MTt-CWd9KpdX",
        "outputId": "6f736e94-b43c-4f53-a46c-260ff422f483"
      },
      "source": [
        "!ls -l '/content/drive/My Drive/Colab Notebooks/datasets/creditCardFraud.zip'"
      ],
      "execution_count": 3,
      "outputs": [
        {
          "output_type": "stream",
          "text": [
            "-rw------- 1 root root 69155672 Mar  4 04:46 '/content/drive/My Drive/Colab Notebooks/datasets/creditCardFraud.zip'\n"
          ],
          "name": "stdout"
        }
      ]
    },
    {
      "cell_type": "markdown",
      "metadata": {
        "id": "STvAE30mLfF3"
      },
      "source": [
        "# II. Data Preprocessing"
      ]
    },
    {
      "cell_type": "markdown",
      "metadata": {
        "id": "4uSsy1uQKsWK"
      },
      "source": [
        "> ## 1) Unzip 'creditCardFraud.zip'"
      ]
    },
    {
      "cell_type": "code",
      "metadata": {
        "colab": {
          "base_uri": "https://localhost:8080/"
        },
        "id": "TAtL5k8ILreJ",
        "outputId": "d1adb5c1-1ab7-499b-d7b0-27be476ff8a8"
      },
      "source": [
        "!unzip /content/drive/My\\ Drive/Colab\\ Notebooks/datasets/creditCardFraud.zip"
      ],
      "execution_count": 4,
      "outputs": [
        {
          "output_type": "stream",
          "text": [
            "Archive:  /content/drive/My Drive/Colab Notebooks/datasets/creditCardFraud.zip\n",
            "replace creditcard.csv? [y]es, [n]o, [A]ll, [N]one, [r]ename: y\n",
            "  inflating: creditcard.csv          \n"
          ],
          "name": "stdout"
        }
      ]
    },
    {
      "cell_type": "code",
      "metadata": {
        "colab": {
          "base_uri": "https://localhost:8080/"
        },
        "id": "I3Y6n_7NLtbr",
        "outputId": "56623393-3bb0-4327-d69d-d51554eaaece"
      },
      "source": [
        "!ls -l\r\n"
      ],
      "execution_count": 5,
      "outputs": [
        {
          "output_type": "stream",
          "text": [
            "total 147320\n",
            "-rw-r--r-- 1 root root 150828752 Sep 20  2019 creditcard.csv\n",
            "drwx------ 5 root root      4096 Mar 18 04:14 drive\n",
            "-rw-r--r-- 1 root root     12989 Mar 18 05:05 model.png\n",
            "drwxr-xr-x 1 root root      4096 Mar  5 14:37 sample_data\n"
          ],
          "name": "stdout"
        }
      ]
    },
    {
      "cell_type": "markdown",
      "metadata": {
        "id": "w6-kCjSBQ8zO"
      },
      "source": [
        "> ## 2) 데이터 읽어오기"
      ]
    },
    {
      "cell_type": "markdown",
      "metadata": {
        "id": "7fGOtx96Q7f2"
      },
      "source": [
        "  * pandas DataFrame"
      ]
    },
    {
      "cell_type": "code",
      "metadata": {
        "colab": {
          "base_uri": "https://localhost:8080/"
        },
        "id": "DFwKsH2YRBh5",
        "outputId": "45419cc5-575d-41ff-ebeb-1a59ffdd46d7"
      },
      "source": [
        "%%time\r\n",
        "import pandas as pd\r\n",
        "\r\n",
        "DF = pd.read_csv('creditcard.csv')\r\n",
        "DF.info()"
      ],
      "execution_count": 6,
      "outputs": [
        {
          "output_type": "stream",
          "text": [
            "<class 'pandas.core.frame.DataFrame'>\n",
            "RangeIndex: 284807 entries, 0 to 284806\n",
            "Data columns (total 31 columns):\n",
            " #   Column  Non-Null Count   Dtype  \n",
            "---  ------  --------------   -----  \n",
            " 0   Time    284807 non-null  float64\n",
            " 1   V1      284807 non-null  float64\n",
            " 2   V2      284807 non-null  float64\n",
            " 3   V3      284807 non-null  float64\n",
            " 4   V4      284807 non-null  float64\n",
            " 5   V5      284807 non-null  float64\n",
            " 6   V6      284807 non-null  float64\n",
            " 7   V7      284807 non-null  float64\n",
            " 8   V8      284807 non-null  float64\n",
            " 9   V9      284807 non-null  float64\n",
            " 10  V10     284807 non-null  float64\n",
            " 11  V11     284807 non-null  float64\n",
            " 12  V12     284807 non-null  float64\n",
            " 13  V13     284807 non-null  float64\n",
            " 14  V14     284807 non-null  float64\n",
            " 15  V15     284807 non-null  float64\n",
            " 16  V16     284807 non-null  float64\n",
            " 17  V17     284807 non-null  float64\n",
            " 18  V18     284807 non-null  float64\n",
            " 19  V19     284807 non-null  float64\n",
            " 20  V20     284807 non-null  float64\n",
            " 21  V21     284807 non-null  float64\n",
            " 22  V22     284807 non-null  float64\n",
            " 23  V23     284807 non-null  float64\n",
            " 24  V24     284807 non-null  float64\n",
            " 25  V25     284807 non-null  float64\n",
            " 26  V26     284807 non-null  float64\n",
            " 27  V27     284807 non-null  float64\n",
            " 28  V28     284807 non-null  float64\n",
            " 29  Amount  284807 non-null  float64\n",
            " 30  Class   284807 non-null  int64  \n",
            "dtypes: float64(30), int64(1)\n",
            "memory usage: 67.4 MB\n",
            "CPU times: user 2.29 s, sys: 149 ms, total: 2.44 s\n",
            "Wall time: 2.45 s\n"
          ],
          "name": "stdout"
        }
      ]
    },
    {
      "cell_type": "code",
      "metadata": {
        "id": "uabHjA4IRISk",
        "colab": {
          "base_uri": "https://localhost:8080/",
          "height": 218
        },
        "outputId": "12e79a0c-63e4-4bfc-8dba-c7cd96941bbc"
      },
      "source": [
        "DF.head()"
      ],
      "execution_count": 7,
      "outputs": [
        {
          "output_type": "execute_result",
          "data": {
            "text/html": [
              "<div>\n",
              "<style scoped>\n",
              "    .dataframe tbody tr th:only-of-type {\n",
              "        vertical-align: middle;\n",
              "    }\n",
              "\n",
              "    .dataframe tbody tr th {\n",
              "        vertical-align: top;\n",
              "    }\n",
              "\n",
              "    .dataframe thead th {\n",
              "        text-align: right;\n",
              "    }\n",
              "</style>\n",
              "<table border=\"1\" class=\"dataframe\">\n",
              "  <thead>\n",
              "    <tr style=\"text-align: right;\">\n",
              "      <th></th>\n",
              "      <th>Time</th>\n",
              "      <th>V1</th>\n",
              "      <th>V2</th>\n",
              "      <th>V3</th>\n",
              "      <th>V4</th>\n",
              "      <th>V5</th>\n",
              "      <th>V6</th>\n",
              "      <th>V7</th>\n",
              "      <th>V8</th>\n",
              "      <th>V9</th>\n",
              "      <th>V10</th>\n",
              "      <th>V11</th>\n",
              "      <th>V12</th>\n",
              "      <th>V13</th>\n",
              "      <th>V14</th>\n",
              "      <th>V15</th>\n",
              "      <th>V16</th>\n",
              "      <th>V17</th>\n",
              "      <th>V18</th>\n",
              "      <th>V19</th>\n",
              "      <th>V20</th>\n",
              "      <th>V21</th>\n",
              "      <th>V22</th>\n",
              "      <th>V23</th>\n",
              "      <th>V24</th>\n",
              "      <th>V25</th>\n",
              "      <th>V26</th>\n",
              "      <th>V27</th>\n",
              "      <th>V28</th>\n",
              "      <th>Amount</th>\n",
              "      <th>Class</th>\n",
              "    </tr>\n",
              "  </thead>\n",
              "  <tbody>\n",
              "    <tr>\n",
              "      <th>0</th>\n",
              "      <td>0.0</td>\n",
              "      <td>-1.359807</td>\n",
              "      <td>-0.072781</td>\n",
              "      <td>2.536347</td>\n",
              "      <td>1.378155</td>\n",
              "      <td>-0.338321</td>\n",
              "      <td>0.462388</td>\n",
              "      <td>0.239599</td>\n",
              "      <td>0.098698</td>\n",
              "      <td>0.363787</td>\n",
              "      <td>0.090794</td>\n",
              "      <td>-0.551600</td>\n",
              "      <td>-0.617801</td>\n",
              "      <td>-0.991390</td>\n",
              "      <td>-0.311169</td>\n",
              "      <td>1.468177</td>\n",
              "      <td>-0.470401</td>\n",
              "      <td>0.207971</td>\n",
              "      <td>0.025791</td>\n",
              "      <td>0.403993</td>\n",
              "      <td>0.251412</td>\n",
              "      <td>-0.018307</td>\n",
              "      <td>0.277838</td>\n",
              "      <td>-0.110474</td>\n",
              "      <td>0.066928</td>\n",
              "      <td>0.128539</td>\n",
              "      <td>-0.189115</td>\n",
              "      <td>0.133558</td>\n",
              "      <td>-0.021053</td>\n",
              "      <td>149.62</td>\n",
              "      <td>0</td>\n",
              "    </tr>\n",
              "    <tr>\n",
              "      <th>1</th>\n",
              "      <td>0.0</td>\n",
              "      <td>1.191857</td>\n",
              "      <td>0.266151</td>\n",
              "      <td>0.166480</td>\n",
              "      <td>0.448154</td>\n",
              "      <td>0.060018</td>\n",
              "      <td>-0.082361</td>\n",
              "      <td>-0.078803</td>\n",
              "      <td>0.085102</td>\n",
              "      <td>-0.255425</td>\n",
              "      <td>-0.166974</td>\n",
              "      <td>1.612727</td>\n",
              "      <td>1.065235</td>\n",
              "      <td>0.489095</td>\n",
              "      <td>-0.143772</td>\n",
              "      <td>0.635558</td>\n",
              "      <td>0.463917</td>\n",
              "      <td>-0.114805</td>\n",
              "      <td>-0.183361</td>\n",
              "      <td>-0.145783</td>\n",
              "      <td>-0.069083</td>\n",
              "      <td>-0.225775</td>\n",
              "      <td>-0.638672</td>\n",
              "      <td>0.101288</td>\n",
              "      <td>-0.339846</td>\n",
              "      <td>0.167170</td>\n",
              "      <td>0.125895</td>\n",
              "      <td>-0.008983</td>\n",
              "      <td>0.014724</td>\n",
              "      <td>2.69</td>\n",
              "      <td>0</td>\n",
              "    </tr>\n",
              "    <tr>\n",
              "      <th>2</th>\n",
              "      <td>1.0</td>\n",
              "      <td>-1.358354</td>\n",
              "      <td>-1.340163</td>\n",
              "      <td>1.773209</td>\n",
              "      <td>0.379780</td>\n",
              "      <td>-0.503198</td>\n",
              "      <td>1.800499</td>\n",
              "      <td>0.791461</td>\n",
              "      <td>0.247676</td>\n",
              "      <td>-1.514654</td>\n",
              "      <td>0.207643</td>\n",
              "      <td>0.624501</td>\n",
              "      <td>0.066084</td>\n",
              "      <td>0.717293</td>\n",
              "      <td>-0.165946</td>\n",
              "      <td>2.345865</td>\n",
              "      <td>-2.890083</td>\n",
              "      <td>1.109969</td>\n",
              "      <td>-0.121359</td>\n",
              "      <td>-2.261857</td>\n",
              "      <td>0.524980</td>\n",
              "      <td>0.247998</td>\n",
              "      <td>0.771679</td>\n",
              "      <td>0.909412</td>\n",
              "      <td>-0.689281</td>\n",
              "      <td>-0.327642</td>\n",
              "      <td>-0.139097</td>\n",
              "      <td>-0.055353</td>\n",
              "      <td>-0.059752</td>\n",
              "      <td>378.66</td>\n",
              "      <td>0</td>\n",
              "    </tr>\n",
              "    <tr>\n",
              "      <th>3</th>\n",
              "      <td>1.0</td>\n",
              "      <td>-0.966272</td>\n",
              "      <td>-0.185226</td>\n",
              "      <td>1.792993</td>\n",
              "      <td>-0.863291</td>\n",
              "      <td>-0.010309</td>\n",
              "      <td>1.247203</td>\n",
              "      <td>0.237609</td>\n",
              "      <td>0.377436</td>\n",
              "      <td>-1.387024</td>\n",
              "      <td>-0.054952</td>\n",
              "      <td>-0.226487</td>\n",
              "      <td>0.178228</td>\n",
              "      <td>0.507757</td>\n",
              "      <td>-0.287924</td>\n",
              "      <td>-0.631418</td>\n",
              "      <td>-1.059647</td>\n",
              "      <td>-0.684093</td>\n",
              "      <td>1.965775</td>\n",
              "      <td>-1.232622</td>\n",
              "      <td>-0.208038</td>\n",
              "      <td>-0.108300</td>\n",
              "      <td>0.005274</td>\n",
              "      <td>-0.190321</td>\n",
              "      <td>-1.175575</td>\n",
              "      <td>0.647376</td>\n",
              "      <td>-0.221929</td>\n",
              "      <td>0.062723</td>\n",
              "      <td>0.061458</td>\n",
              "      <td>123.50</td>\n",
              "      <td>0</td>\n",
              "    </tr>\n",
              "    <tr>\n",
              "      <th>4</th>\n",
              "      <td>2.0</td>\n",
              "      <td>-1.158233</td>\n",
              "      <td>0.877737</td>\n",
              "      <td>1.548718</td>\n",
              "      <td>0.403034</td>\n",
              "      <td>-0.407193</td>\n",
              "      <td>0.095921</td>\n",
              "      <td>0.592941</td>\n",
              "      <td>-0.270533</td>\n",
              "      <td>0.817739</td>\n",
              "      <td>0.753074</td>\n",
              "      <td>-0.822843</td>\n",
              "      <td>0.538196</td>\n",
              "      <td>1.345852</td>\n",
              "      <td>-1.119670</td>\n",
              "      <td>0.175121</td>\n",
              "      <td>-0.451449</td>\n",
              "      <td>-0.237033</td>\n",
              "      <td>-0.038195</td>\n",
              "      <td>0.803487</td>\n",
              "      <td>0.408542</td>\n",
              "      <td>-0.009431</td>\n",
              "      <td>0.798278</td>\n",
              "      <td>-0.137458</td>\n",
              "      <td>0.141267</td>\n",
              "      <td>-0.206010</td>\n",
              "      <td>0.502292</td>\n",
              "      <td>0.219422</td>\n",
              "      <td>0.215153</td>\n",
              "      <td>69.99</td>\n",
              "      <td>0</td>\n",
              "    </tr>\n",
              "  </tbody>\n",
              "</table>\n",
              "</div>"
            ],
            "text/plain": [
              "   Time        V1        V2        V3  ...       V27       V28  Amount  Class\n",
              "0   0.0 -1.359807 -0.072781  2.536347  ...  0.133558 -0.021053  149.62      0\n",
              "1   0.0  1.191857  0.266151  0.166480  ... -0.008983  0.014724    2.69      0\n",
              "2   1.0 -1.358354 -1.340163  1.773209  ... -0.055353 -0.059752  378.66      0\n",
              "3   1.0 -0.966272 -0.185226  1.792993  ...  0.062723  0.061458  123.50      0\n",
              "4   2.0 -1.158233  0.877737  1.548718  ...  0.219422  0.215153   69.99      0\n",
              "\n",
              "[5 rows x 31 columns]"
            ]
          },
          "metadata": {
            "tags": []
          },
          "execution_count": 7
        }
      ]
    },
    {
      "cell_type": "markdown",
      "metadata": {
        "id": "zabBYwqCROco"
      },
      "source": [
        "  * 0(정상) Class와 1(사기) Class 개수"
      ]
    },
    {
      "cell_type": "code",
      "metadata": {
        "colab": {
          "base_uri": "https://localhost:8080/"
        },
        "id": "XVUfSn2YZkqk",
        "outputId": "c4493f30-1d0f-4bff-91d5-6c2c6b1796a2"
      },
      "source": [
        "DF.Class.value_counts()"
      ],
      "execution_count": 8,
      "outputs": [
        {
          "output_type": "execute_result",
          "data": {
            "text/plain": [
              "0    284315\n",
              "1       492\n",
              "Name: Class, dtype: int64"
            ]
          },
          "metadata": {
            "tags": []
          },
          "execution_count": 8
        }
      ]
    },
    {
      "cell_type": "markdown",
      "metadata": {
        "id": "yNG2R-TGZ5v1"
      },
      "source": [
        "  * 0(정상) Class와 1(사기) Class 비율"
      ]
    },
    {
      "cell_type": "code",
      "metadata": {
        "colab": {
          "base_uri": "https://localhost:8080/"
        },
        "id": "I-Jk00xrZn3J",
        "outputId": "1247861d-42d1-4e33-a9ce-d4843df1577c"
      },
      "source": [
        "(DF.Class.value_counts() / DF.shape[0]) * 100"
      ],
      "execution_count": 9,
      "outputs": [
        {
          "output_type": "execute_result",
          "data": {
            "text/plain": [
              "0    99.827251\n",
              "1     0.172749\n",
              "Name: Class, dtype: float64"
            ]
          },
          "metadata": {
            "tags": []
          },
          "execution_count": 9
        }
      ]
    },
    {
      "cell_type": "markdown",
      "metadata": {
        "id": "7rFTEUwQaCkd"
      },
      "source": [
        "> ## 3) Time열(Column)삭제"
      ]
    },
    {
      "cell_type": "code",
      "metadata": {
        "colab": {
          "base_uri": "https://localhost:8080/",
          "height": 98
        },
        "id": "oZAPNEhrZ_5e",
        "outputId": "71a5194d-4495-42aa-973d-a884760ed56a"
      },
      "source": [
        "DF.drop('Time', axis = 1, inplace = True)\r\n",
        "DF.head(1)"
      ],
      "execution_count": 10,
      "outputs": [
        {
          "output_type": "execute_result",
          "data": {
            "text/html": [
              "<div>\n",
              "<style scoped>\n",
              "    .dataframe tbody tr th:only-of-type {\n",
              "        vertical-align: middle;\n",
              "    }\n",
              "\n",
              "    .dataframe tbody tr th {\n",
              "        vertical-align: top;\n",
              "    }\n",
              "\n",
              "    .dataframe thead th {\n",
              "        text-align: right;\n",
              "    }\n",
              "</style>\n",
              "<table border=\"1\" class=\"dataframe\">\n",
              "  <thead>\n",
              "    <tr style=\"text-align: right;\">\n",
              "      <th></th>\n",
              "      <th>V1</th>\n",
              "      <th>V2</th>\n",
              "      <th>V3</th>\n",
              "      <th>V4</th>\n",
              "      <th>V5</th>\n",
              "      <th>V6</th>\n",
              "      <th>V7</th>\n",
              "      <th>V8</th>\n",
              "      <th>V9</th>\n",
              "      <th>V10</th>\n",
              "      <th>V11</th>\n",
              "      <th>V12</th>\n",
              "      <th>V13</th>\n",
              "      <th>V14</th>\n",
              "      <th>V15</th>\n",
              "      <th>V16</th>\n",
              "      <th>V17</th>\n",
              "      <th>V18</th>\n",
              "      <th>V19</th>\n",
              "      <th>V20</th>\n",
              "      <th>V21</th>\n",
              "      <th>V22</th>\n",
              "      <th>V23</th>\n",
              "      <th>V24</th>\n",
              "      <th>V25</th>\n",
              "      <th>V26</th>\n",
              "      <th>V27</th>\n",
              "      <th>V28</th>\n",
              "      <th>Amount</th>\n",
              "      <th>Class</th>\n",
              "    </tr>\n",
              "  </thead>\n",
              "  <tbody>\n",
              "    <tr>\n",
              "      <th>0</th>\n",
              "      <td>-1.359807</td>\n",
              "      <td>-0.072781</td>\n",
              "      <td>2.536347</td>\n",
              "      <td>1.378155</td>\n",
              "      <td>-0.338321</td>\n",
              "      <td>0.462388</td>\n",
              "      <td>0.239599</td>\n",
              "      <td>0.098698</td>\n",
              "      <td>0.363787</td>\n",
              "      <td>0.090794</td>\n",
              "      <td>-0.5516</td>\n",
              "      <td>-0.617801</td>\n",
              "      <td>-0.99139</td>\n",
              "      <td>-0.311169</td>\n",
              "      <td>1.468177</td>\n",
              "      <td>-0.470401</td>\n",
              "      <td>0.207971</td>\n",
              "      <td>0.025791</td>\n",
              "      <td>0.403993</td>\n",
              "      <td>0.251412</td>\n",
              "      <td>-0.018307</td>\n",
              "      <td>0.277838</td>\n",
              "      <td>-0.110474</td>\n",
              "      <td>0.066928</td>\n",
              "      <td>0.128539</td>\n",
              "      <td>-0.189115</td>\n",
              "      <td>0.133558</td>\n",
              "      <td>-0.021053</td>\n",
              "      <td>149.62</td>\n",
              "      <td>0</td>\n",
              "    </tr>\n",
              "  </tbody>\n",
              "</table>\n",
              "</div>"
            ],
            "text/plain": [
              "         V1        V2        V3        V4  ...       V27       V28  Amount  Class\n",
              "0 -1.359807 -0.072781  2.536347  1.378155  ...  0.133558 -0.021053  149.62      0\n",
              "\n",
              "[1 rows x 30 columns]"
            ]
          },
          "metadata": {
            "tags": []
          },
          "execution_count": 10
        }
      ]
    },
    {
      "cell_type": "markdown",
      "metadata": {
        "id": "IBB2bwJuaZVS"
      },
      "source": [
        "> ## 4) train_test_split"
      ]
    },
    {
      "cell_type": "code",
      "metadata": {
        "colab": {
          "base_uri": "https://localhost:8080/"
        },
        "id": "tWsT6lBIaKZl",
        "outputId": "9bd02de0-dd91-4143-e2a7-d27b3b7a9ffc"
      },
      "source": [
        "X = DF.iloc[:,:-1]\r\n",
        "y = DF.iloc[:, -1]\r\n",
        "\r\n",
        "X.shape, y.shape"
      ],
      "execution_count": 11,
      "outputs": [
        {
          "output_type": "execute_result",
          "data": {
            "text/plain": [
              "((284807, 29), (284807,))"
            ]
          },
          "metadata": {
            "tags": []
          },
          "execution_count": 11
        }
      ]
    },
    {
      "cell_type": "markdown",
      "metadata": {
        "id": "WfCbv4QPb9Rg"
      },
      "source": [
        "> ## 1) Without 'Stratify'"
      ]
    },
    {
      "cell_type": "code",
      "metadata": {
        "id": "kri0xFXmb8IR"
      },
      "source": [
        "from sklearn.model_selection import train_test_split"
      ],
      "execution_count": 12,
      "outputs": []
    },
    {
      "cell_type": "code",
      "metadata": {
        "id": "hexiYJh_cGLx"
      },
      "source": [
        "X_train, X_test, y_train, y_test = train_test_split(X, y,\r\n",
        "                                                    test_size = 0.3,\r\n",
        "                                                    random_state = 2045)\r\n"
      ],
      "execution_count": 13,
      "outputs": []
    },
    {
      "cell_type": "code",
      "metadata": {
        "colab": {
          "base_uri": "https://localhost:8080/"
        },
        "id": "zYbVmyADcKV1",
        "outputId": "a9350b37-7329-4166-dd1b-d0b59ace59f8"
      },
      "source": [
        "X_train.shape, y_train.shape, X_test.shape, y_test.shape\r\n"
      ],
      "execution_count": 14,
      "outputs": [
        {
          "output_type": "execute_result",
          "data": {
            "text/plain": [
              "((199364, 29), (199364,), (85443, 29), (85443,))"
            ]
          },
          "metadata": {
            "tags": []
          },
          "execution_count": 14
        }
      ]
    },
    {
      "cell_type": "markdown",
      "metadata": {
        "id": "Nc1yqD45cMOI"
      },
      "source": [
        "  * Train_data와 Test_data의 1(부정) 비율이 불균형"
      ]
    },
    {
      "cell_type": "code",
      "metadata": {
        "colab": {
          "base_uri": "https://localhost:8080/"
        },
        "id": "VJnKVCiScUW2",
        "outputId": "1ea2e3f6-6a68-406f-bbb8-a931d4533885"
      },
      "source": [
        "print('Train_Data :','\\n', (y_train.value_counts() / y_train.shape[0]) * 100)\r\n",
        "print('Test_Data :','\\n', (y_test.value_counts() / y_test.shape[0]) * 100)\r\n"
      ],
      "execution_count": 15,
      "outputs": [
        {
          "output_type": "stream",
          "text": [
            "Train_Data : \n",
            " 0    99.825445\n",
            "1     0.174555\n",
            "Name: Class, dtype: float64\n",
            "Test_Data : \n",
            " 0    99.831467\n",
            "1     0.168533\n",
            "Name: Class, dtype: float64\n"
          ],
          "name": "stdout"
        }
      ]
    },
    {
      "cell_type": "markdown",
      "metadata": {
        "id": "QVYC_VNEcrzd"
      },
      "source": [
        "# III. Modeling"
      ]
    },
    {
      "cell_type": "code",
      "metadata": {
        "id": "J4mWBVjot6KT"
      },
      "source": [
        "import keras"
      ],
      "execution_count": 16,
      "outputs": []
    },
    {
      "cell_type": "code",
      "metadata": {
        "colab": {
          "base_uri": "https://localhost:8080/",
          "height": 35
        },
        "id": "GXceVnF8uCcC",
        "outputId": "8d35418e-c0d5-4cbe-f7ae-e637b5dbb4f4"
      },
      "source": [
        "keras. __version__"
      ],
      "execution_count": 17,
      "outputs": [
        {
          "output_type": "execute_result",
          "data": {
            "application/vnd.google.colaboratory.intrinsic+json": {
              "type": "string"
            },
            "text/plain": [
              "'2.4.3'"
            ]
          },
          "metadata": {
            "tags": []
          },
          "execution_count": 17
        }
      ]
    },
    {
      "cell_type": "markdown",
      "metadata": {
        "id": "fBkY-MjacxWB"
      },
      "source": [
        "> ## 1) Keras models & layers Import"
      ]
    },
    {
      "cell_type": "code",
      "metadata": {
        "id": "rbgEC4mqll30"
      },
      "source": [
        "from tensorflow.keras import models\r\n",
        "from tensorflow.keras import layers"
      ],
      "execution_count": 18,
      "outputs": []
    },
    {
      "cell_type": "markdown",
      "metadata": {
        "id": "vnEQbTU6mHxM"
      },
      "source": [
        "> ## 2) Model Define"
      ]
    },
    {
      "cell_type": "code",
      "metadata": {
        "id": "iHXXmfU5ll0C"
      },
      "source": [
        "Model_DF = models.Sequential()\r\n",
        "\r\n",
        "Model_DF.add(layers.Dense(128, activation = 'relu', input_shape = (29,)))\r\n",
        "Model_DF.add(layers.Dense(64, activation = 'relu'))\r\n",
        "Model_DF.add(layers.Dense(32, activation = 'relu'))\r\n",
        "Model_DF.add(layers.Dense(1, activation = 'sigmoid')) # 다중분류일 시, 1 => 1이상 값\r\n",
        "                                                      # 이중분류일 시, 1(0, 1중에서 고르는 문제니까)"
      ],
      "execution_count": 19,
      "outputs": []
    },
    {
      "cell_type": "code",
      "metadata": {
        "colab": {
          "base_uri": "https://localhost:8080/"
        },
        "id": "pPz4tem-llwV",
        "outputId": "19c563e2-0425-4e52-eb80-fe66eb92086b"
      },
      "source": [
        "Model_DF.summary()"
      ],
      "execution_count": 20,
      "outputs": [
        {
          "output_type": "stream",
          "text": [
            "Model: \"sequential\"\n",
            "_________________________________________________________________\n",
            "Layer (type)                 Output Shape              Param #   \n",
            "=================================================================\n",
            "dense (Dense)                (None, 128)               3840      \n",
            "_________________________________________________________________\n",
            "dense_1 (Dense)              (None, 64)                8256      \n",
            "_________________________________________________________________\n",
            "dense_2 (Dense)              (None, 32)                2080      \n",
            "_________________________________________________________________\n",
            "dense_3 (Dense)              (None, 1)                 33        \n",
            "=================================================================\n",
            "Total params: 14,209\n",
            "Trainable params: 14,209\n",
            "Non-trainable params: 0\n",
            "_________________________________________________________________\n"
          ],
          "name": "stdout"
        }
      ]
    },
    {
      "cell_type": "code",
      "metadata": {
        "colab": {
          "base_uri": "https://localhost:8080/",
          "height": 466
        },
        "id": "JrZQhd1Fllsq",
        "outputId": "4feaf634-5c2f-48cc-aef4-29cc48c2c4cf"
      },
      "source": [
        "from tensorflow.keras import utils\r\n",
        "utils.plot_model(Model_DF)"
      ],
      "execution_count": 21,
      "outputs": [
        {
          "output_type": "execute_result",
          "data": {
            "image/png": "[encoded data removed]",
            "text/plain": [
              "<IPython.core.display.Image object>"
            ]
          },
          "metadata": {
            "tags": []
          },
          "execution_count": 21
        }
      ]
    },
    {
      "cell_type": "markdown",
      "metadata": {
        "id": "o1n2DLBgmKyv"
      },
      "source": [
        "> ## 3) Model Compile"
      ]
    },
    {
      "cell_type": "code",
      "metadata": {
        "id": "wmsfLBK9llph"
      },
      "source": [
        "Model_DF.compile(loss = 'binary_crossentropy',\r\n",
        "                   optimizer = 'adam',\r\n",
        "                   metrics = ['Recall'])"
      ],
      "execution_count": 22,
      "outputs": []
    },
    {
      "cell_type": "markdown",
      "metadata": {
        "id": "MGE2lyRSllmd"
      },
      "source": [
        "> ## 4) Model Fit"
      ]
    },
    {
      "cell_type": "code",
      "metadata": {
        "colab": {
          "base_uri": "https://localhost:8080/"
        },
        "id": "fknK5ITAlljf",
        "outputId": "48ebf2f5-bc46-4493-b823-123a2637c5b3"
      },
      "source": [
        "History_DF = Model_DF.fit(X_train, y_train,\r\n",
        "                              epochs = 50,       # 데이터가 너무 크니 반복은 적게\r\n",
        "                              batch_size = 1024, # 한번 쭉 보는게 105개밖에 안되니 batch size를 크게\r\n",
        "                              validation_data = (X_test, y_test))"
      ],
      "execution_count": 23,
      "outputs": [
        {
          "output_type": "stream",
          "text": [
            "Epoch 1/50\n",
            "195/195 [==============================] - 3s 9ms/step - loss: 0.0671 - recall: 0.1919 - val_loss: 0.0051 - val_recall: 0.7778\n",
            "Epoch 2/50\n",
            "195/195 [==============================] - 1s 6ms/step - loss: 0.0105 - recall: 0.7251 - val_loss: 0.0097 - val_recall: 0.7222\n",
            "Epoch 3/50\n",
            "195/195 [==============================] - 1s 6ms/step - loss: 0.0074 - recall: 0.7508 - val_loss: 0.0041 - val_recall: 0.7917\n",
            "Epoch 4/50\n",
            "195/195 [==============================] - 1s 6ms/step - loss: 0.0251 - recall: 0.6367 - val_loss: 0.0034 - val_recall: 0.8125\n",
            "Epoch 5/50\n",
            "195/195 [==============================] - 1s 6ms/step - loss: 0.0311 - recall: 0.6288 - val_loss: 0.0811 - val_recall: 0.3264\n",
            "Epoch 6/50\n",
            "195/195 [==============================] - 1s 6ms/step - loss: 0.0648 - recall: 0.5890 - val_loss: 0.0036 - val_recall: 0.7500\n",
            "Epoch 7/50\n",
            "195/195 [==============================] - 1s 6ms/step - loss: 0.0253 - recall: 0.7222 - val_loss: 0.0052 - val_recall: 0.7986\n",
            "Epoch 8/50\n",
            "195/195 [==============================] - 1s 6ms/step - loss: 0.0109 - recall: 0.8171 - val_loss: 0.0568 - val_recall: 0.6944\n",
            "Epoch 9/50\n",
            "195/195 [==============================] - 1s 6ms/step - loss: 0.0217 - recall: 0.7148 - val_loss: 0.0049 - val_recall: 0.8125\n",
            "Epoch 10/50\n",
            "195/195 [==============================] - 1s 6ms/step - loss: 0.0068 - recall: 0.7611 - val_loss: 0.0344 - val_recall: 0.6875\n",
            "Epoch 11/50\n",
            "195/195 [==============================] - 1s 6ms/step - loss: 0.0102 - recall: 0.7541 - val_loss: 0.0045 - val_recall: 0.7153\n",
            "Epoch 12/50\n",
            "195/195 [==============================] - 1s 6ms/step - loss: 0.0039 - recall: 0.7661 - val_loss: 0.0034 - val_recall: 0.8264\n",
            "Epoch 13/50\n",
            "195/195 [==============================] - 1s 6ms/step - loss: 0.0038 - recall: 0.8098 - val_loss: 0.0346 - val_recall: 0.6875\n",
            "Epoch 14/50\n",
            "195/195 [==============================] - 1s 6ms/step - loss: 0.0093 - recall: 0.7859 - val_loss: 0.0061 - val_recall: 0.8403\n",
            "Epoch 15/50\n",
            "195/195 [==============================] - 1s 6ms/step - loss: 0.0038 - recall: 0.8510 - val_loss: 0.0071 - val_recall: 0.7569\n",
            "Epoch 16/50\n",
            "195/195 [==============================] - 1s 6ms/step - loss: 0.0132 - recall: 0.7233 - val_loss: 0.0058 - val_recall: 0.7361\n",
            "Epoch 17/50\n",
            "195/195 [==============================] - 1s 6ms/step - loss: 0.0032 - recall: 0.8431 - val_loss: 0.0036 - val_recall: 0.7917\n",
            "Epoch 18/50\n",
            "195/195 [==============================] - 1s 6ms/step - loss: 0.0028 - recall: 0.8244 - val_loss: 0.0031 - val_recall: 0.8125\n",
            "Epoch 19/50\n",
            "195/195 [==============================] - 1s 6ms/step - loss: 0.0029 - recall: 0.7959 - val_loss: 0.0036 - val_recall: 0.7917\n",
            "Epoch 20/50\n",
            "195/195 [==============================] - 1s 6ms/step - loss: 0.0021 - recall: 0.8113 - val_loss: 0.0029 - val_recall: 0.7917\n",
            "Epoch 21/50\n",
            "195/195 [==============================] - 1s 6ms/step - loss: 0.0029 - recall: 0.7875 - val_loss: 0.0033 - val_recall: 0.8056\n",
            "Epoch 22/50\n",
            "195/195 [==============================] - 1s 6ms/step - loss: 0.0021 - recall: 0.8502 - val_loss: 0.0029 - val_recall: 0.8264\n",
            "Epoch 23/50\n",
            "195/195 [==============================] - 1s 6ms/step - loss: 0.0026 - recall: 0.8293 - val_loss: 0.0033 - val_recall: 0.8333\n",
            "Epoch 24/50\n",
            "195/195 [==============================] - 1s 6ms/step - loss: 0.0024 - recall: 0.8271 - val_loss: 0.0031 - val_recall: 0.7569\n",
            "Epoch 25/50\n",
            "195/195 [==============================] - 1s 6ms/step - loss: 0.0021 - recall: 0.8503 - val_loss: 0.0030 - val_recall: 0.8125\n",
            "Epoch 26/50\n",
            "195/195 [==============================] - 1s 6ms/step - loss: 0.0022 - recall: 0.8575 - val_loss: 0.0050 - val_recall: 0.7431\n",
            "Epoch 27/50\n",
            "195/195 [==============================] - 1s 6ms/step - loss: 0.0022 - recall: 0.7949 - val_loss: 0.0061 - val_recall: 0.7639\n",
            "Epoch 28/50\n",
            "195/195 [==============================] - 1s 6ms/step - loss: 0.0027 - recall: 0.8497 - val_loss: 0.0030 - val_recall: 0.8264\n",
            "Epoch 29/50\n",
            "195/195 [==============================] - 1s 6ms/step - loss: 0.0024 - recall: 0.8485 - val_loss: 0.0033 - val_recall: 0.8125\n",
            "Epoch 30/50\n",
            "195/195 [==============================] - 1s 6ms/step - loss: 0.0017 - recall: 0.8674 - val_loss: 0.0034 - val_recall: 0.7708\n",
            "Epoch 31/50\n",
            "195/195 [==============================] - 1s 6ms/step - loss: 0.0016 - recall: 0.8919 - val_loss: 0.0040 - val_recall: 0.7917\n",
            "Epoch 32/50\n",
            "195/195 [==============================] - 1s 6ms/step - loss: 0.0018 - recall: 0.8879 - val_loss: 0.0034 - val_recall: 0.7569\n",
            "Epoch 33/50\n",
            "195/195 [==============================] - 1s 6ms/step - loss: 0.0014 - recall: 0.8819 - val_loss: 0.0036 - val_recall: 0.7708\n",
            "Epoch 34/50\n",
            "195/195 [==============================] - 1s 6ms/step - loss: 0.0065 - recall: 0.8288 - val_loss: 0.0035 - val_recall: 0.7708\n",
            "Epoch 35/50\n",
            "195/195 [==============================] - 1s 6ms/step - loss: 0.0037 - recall: 0.8730 - val_loss: 0.0057 - val_recall: 0.5694\n",
            "Epoch 36/50\n",
            "195/195 [==============================] - 1s 6ms/step - loss: 0.0035 - recall: 0.8275 - val_loss: 0.0041 - val_recall: 0.7500\n",
            "Epoch 37/50\n",
            "195/195 [==============================] - 1s 6ms/step - loss: 0.0022 - recall: 0.8575 - val_loss: 0.0042 - val_recall: 0.7917\n",
            "Epoch 38/50\n",
            "195/195 [==============================] - 1s 6ms/step - loss: 0.0018 - recall: 0.8647 - val_loss: 0.0037 - val_recall: 0.8125\n",
            "Epoch 39/50\n",
            "195/195 [==============================] - 1s 6ms/step - loss: 0.0014 - recall: 0.9086 - val_loss: 0.0043 - val_recall: 0.7569\n",
            "Epoch 40/50\n",
            "195/195 [==============================] - 1s 6ms/step - loss: 0.0014 - recall: 0.8979 - val_loss: 0.0038 - val_recall: 0.7986\n",
            "Epoch 41/50\n",
            "195/195 [==============================] - 1s 6ms/step - loss: 0.0018 - recall: 0.8895 - val_loss: 0.0040 - val_recall: 0.8056\n",
            "Epoch 42/50\n",
            "195/195 [==============================] - 1s 6ms/step - loss: 0.0012 - recall: 0.9050 - val_loss: 0.0038 - val_recall: 0.8264\n",
            "Epoch 43/50\n",
            "195/195 [==============================] - 1s 6ms/step - loss: 0.0020 - recall: 0.8867 - val_loss: 0.0047 - val_recall: 0.7917\n",
            "Epoch 44/50\n",
            "195/195 [==============================] - 1s 6ms/step - loss: 0.0016 - recall: 0.8773 - val_loss: 0.0042 - val_recall: 0.7986\n",
            "Epoch 45/50\n",
            "195/195 [==============================] - 1s 6ms/step - loss: 0.0013 - recall: 0.9071 - val_loss: 0.0042 - val_recall: 0.8194\n",
            "Epoch 46/50\n",
            "195/195 [==============================] - 1s 6ms/step - loss: 0.0014 - recall: 0.8981 - val_loss: 0.0041 - val_recall: 0.7986\n",
            "Epoch 47/50\n",
            "195/195 [==============================] - 1s 6ms/step - loss: 0.0013 - recall: 0.9166 - val_loss: 0.0045 - val_recall: 0.7917\n",
            "Epoch 48/50\n",
            "195/195 [==============================] - 1s 6ms/step - loss: 0.0015 - recall: 0.9075 - val_loss: 0.0057 - val_recall: 0.7847\n",
            "Epoch 49/50\n",
            "195/195 [==============================] - 1s 6ms/step - loss: 0.0026 - recall: 0.8739 - val_loss: 0.0056 - val_recall: 0.7847\n",
            "Epoch 50/50\n",
            "195/195 [==============================] - 1s 6ms/step - loss: 0.0026 - recall: 0.8762 - val_loss: 0.0044 - val_recall: 0.8194\n"
          ],
          "name": "stdout"
        }
      ]
    },
    {
      "cell_type": "markdown",
      "metadata": {
        "id": "sI2xsY-4llgs"
      },
      "source": [
        "> ## 5) 학습 결과 시각화"
      ]
    },
    {
      "cell_type": "code",
      "metadata": {
        "colab": {
          "base_uri": "https://localhost:8080/",
          "height": 404
        },
        "id": "nlJgPpG_njb0",
        "outputId": "eacc000f-ad61-4c06-c2c9-865ff1d8a0c5"
      },
      "source": [
        "# Loss Visualization\r\n",
        "import matplotlib.pyplot as plt\r\n",
        "\r\n",
        "epochs = range(1, len(History_DF.history['loss']) + 1)\r\n",
        "\r\n",
        "plt.figure(figsize = (9, 6))\r\n",
        "plt.plot(History_DF.history['loss'])\r\n",
        "plt.plot(History_DF.history['val_loss'])\r\n",
        "plt.title('Training & Validation Loss')\r\n",
        "plt.xlabel('Epochs')\r\n",
        "plt.ylabel('Loss')\r\n",
        "plt.legend(['Training Loss', 'Validation Loss'])\r\n",
        "plt.grid()\r\n",
        "plt.show()"
      ],
      "execution_count": 35,
      "outputs": [
        {
          "output_type": "display_data",
          "data": {
            "image/png": "[encoded data removed]",
            "text/plain": [
              "<Figure size 648x432 with 1 Axes>"
            ]
          },
          "metadata": {
            "tags": [],
            "needs_background": "light"
          }
        }
      ]
    },
    {
      "cell_type": "code",
      "metadata": {
        "colab": {
          "base_uri": "https://localhost:8080/",
          "height": 404
        },
        "id": "WmJgSytRxN5l",
        "outputId": "f4e9618d-a844-48e1-ce24-cb340ee28c94"
      },
      "source": [
        "# Recall Visualization\r\n",
        "import matplotlib.pyplot as plt\r\n",
        "\r\n",
        "epochs = range(1, len(History_DF.history['recall']) + 1)\r\n",
        "\r\n",
        "plt.figure(figsize = (9, 6))\r\n",
        "plt.plot(History_DF.history['recall'])\r\n",
        "plt.plot(History_DF.history['val_recall'])\r\n",
        "plt.title('Training & Validation Recall')\r\n",
        "plt.xlabel('Epochs')\r\n",
        "plt.ylabel('Recall')\r\n",
        "plt.legend(['Training recall', 'Validation Recall'])\r\n",
        "plt.grid()\r\n",
        "plt.show()"
      ],
      "execution_count": 25,
      "outputs": [
        {
          "output_type": "display_data",
          "data": {
            "image/png": "[encoded data removed]",
            "text/plain": [
              "<Figure size 648x432 with 1 Axes>"
            ]
          },
          "metadata": {
            "tags": [],
            "needs_background": "light"
          }
        }
      ]
    },
    {
      "cell_type": "markdown",
      "metadata": {
        "id": "lHKD6QRMxN2c"
      },
      "source": [
        "> ## 6) Model Evaluate"
      ]
    },
    {
      "cell_type": "code",
      "metadata": {
        "colab": {
          "base_uri": "https://localhost:8080/"
        },
        "id": "oAiUo4wkxNzz",
        "outputId": "9c1eceae-87dc-4708-e773-dea397d40834"
      },
      "source": [
        "# Loss & Accuracy\r\n",
        "loss, recall = Model_DF.evaluate(X_test, y_test)\r\n",
        "\r\n",
        "print('Loss = {:.5f}'.format(loss))\r\n",
        "print('Recall = {:.5f}'.format(recall))"
      ],
      "execution_count": 26,
      "outputs": [
        {
          "output_type": "stream",
          "text": [
            "2671/2671 [==============================] - 3s 1ms/step - loss: 0.0044 - recall: 0.8194\n",
            "Loss = 0.00435\n",
            "Recall = 0.81944\n"
          ],
          "name": "stdout"
        }
      ]
    },
    {
      "cell_type": "markdown",
      "metadata": {
        "id": "yxk5_0eAlla8"
      },
      "source": [
        "> ## 7) Model Predict"
      ]
    },
    {
      "cell_type": "code",
      "metadata": {
        "id": "tFS4pLaswX0n"
      },
      "source": [
        "y_hat = Model_DF.predict_classes(X_test)"
      ],
      "execution_count": 27,
      "outputs": []
    },
    {
      "cell_type": "code",
      "metadata": {
        "colab": {
          "base_uri": "https://localhost:8080/"
        },
        "id": "mSs-2FqXzYTM",
        "outputId": "75bd9e37-9fbc-4fe7-c0e9-06ad32cbd033"
      },
      "source": [
        "from sklearn.metrics import confusion_matrix\r\n",
        "\r\n",
        "confusion_matrix(y_test, y_hat)"
      ],
      "execution_count": 28,
      "outputs": [
        {
          "output_type": "execute_result",
          "data": {
            "text/plain": [
              "array([[85283,    16],\n",
              "       [   26,   118]])"
            ]
          },
          "metadata": {
            "tags": []
          },
          "execution_count": 28
        }
      ]
    },
    {
      "cell_type": "code",
      "metadata": {
        "colab": {
          "base_uri": "https://localhost:8080/"
        },
        "id": "QI9RN_cnzZDM",
        "outputId": "bb6fb2ed-0dbb-4633-89dc-3a04c9b1ede2"
      },
      "source": [
        "from sklearn.metrics import accuracy_score, precision_score, recall_score\r\n",
        "\r\n",
        "print(accuracy_score(y_test, y_hat))\r\n",
        "print(precision_score(y_test, y_hat, pos_label = 1))\r\n",
        "print(recall_score(y_test, y_hat, pos_label = 1))"
      ],
      "execution_count": 29,
      "outputs": [
        {
          "output_type": "stream",
          "text": [
            "0.9995084442259752\n",
            "0.8805970149253731\n",
            "0.8194444444444444\n"
          ],
          "name": "stdout"
        }
      ]
    },
    {
      "cell_type": "code",
      "metadata": {
        "id": "aDJJJVFTzZ5j"
      },
      "source": [
        ""
      ],
      "execution_count": 29,
      "outputs": []
    }
  ]
}