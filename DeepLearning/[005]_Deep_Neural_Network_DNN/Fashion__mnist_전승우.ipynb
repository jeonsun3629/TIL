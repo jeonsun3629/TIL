{
  "nbformat": 4,
  "nbformat_minor": 0,
  "metadata": {
    "colab": {
      "name": "Fashion _mnist_전승우.ipynb",
      "provenance": [],
      "collapsed_sections": []
    },
    "kernelspec": {
      "name": "python3",
      "display_name": "Python 3"
    },
    "language_info": {
      "name": "python"
    }
  },
  "cells": [
    {
      "cell_type": "markdown",
      "metadata": {
        "id": "nLMicB3ZNhZW"
      },
      "source": [
        "# Fashion MNIST - Categorical Classification"
      ]
    },
    {
      "cell_type": "code",
      "metadata": {
        "id": "t5xb67JaPr7X"
      },
      "source": [
        "import warnings\n",
        "warnings.filterwarnings('ignore')"
      ],
      "execution_count": 1,
      "outputs": []
    },
    {
      "cell_type": "markdown",
      "metadata": {
        "id": "Dp7CRXHvPugl"
      },
      "source": [
        "# Import Tensorflow & Keras"
      ]
    },
    {
      "cell_type": "code",
      "metadata": {
        "colab": {
          "base_uri": "https://localhost:8080/",
          "height": 35
        },
        "id": "8ZIHaY1OPxjo",
        "outputId": "dd8960a8-6b63-4abc-d30c-d1fdf9717089"
      },
      "source": [
        "import keras\n",
        "keras.__version__"
      ],
      "execution_count": 2,
      "outputs": [
        {
          "output_type": "execute_result",
          "data": {
            "application/vnd.google.colaboratory.intrinsic+json": {
              "type": "string"
            },
            "text/plain": [
              "'2.4.3'"
            ]
          },
          "metadata": {
            "tags": []
          },
          "execution_count": 2
        }
      ]
    },
    {
      "cell_type": "markdown",
      "metadata": {
        "id": "G_rS1XVEPz1D"
      },
      "source": [
        "# I. Fashion MNIST Data_Set Load & Review"
      ]
    },
    {
      "cell_type": "markdown",
      "metadata": {
        "id": "SLwP472KP4kR"
      },
      "source": [
        "> ## 1) Load Fashion MNIST Data_set"
      ]
    },
    {
      "cell_type": "code",
      "metadata": {
        "id": "3Y42NxzpP8gw"
      },
      "source": [
        "from keras.datasets import fashion_mnist\n",
        "\n",
        "(X_train, y_train), (X_test, y_test) = fashion_mnist.load_data()\n"
      ],
      "execution_count": 3,
      "outputs": []
    },
    {
      "cell_type": "code",
      "metadata": {
        "colab": {
          "base_uri": "https://localhost:8080/"
        },
        "id": "ruVDVoEnQAlc",
        "outputId": "03fe004b-2688-4457-a721-85c01e611479"
      },
      "source": [
        "# train_Data Information\n",
        "\n",
        "print(len(X_train))\n",
        "print(X_train.shape)\n",
        "\n",
        "print(len(y_train))\n",
        "print(y_train[0:5])\n"
      ],
      "execution_count": 4,
      "outputs": [
        {
          "output_type": "stream",
          "text": [
            "60000\n",
            "(60000, 28, 28)\n",
            "60000\n",
            "[9 0 0 3 0]\n"
          ],
          "name": "stdout"
        }
      ]
    },
    {
      "cell_type": "code",
      "metadata": {
        "colab": {
          "base_uri": "https://localhost:8080/"
        },
        "id": "2k2WJIMoQE4v",
        "outputId": "0406a5e3-c943-4661-862f-38a4b7625594"
      },
      "source": [
        "# Test_Data Information\n",
        "print(len(X_test))\n",
        "print(X_test.shape)\n",
        "\n",
        "print(len(y_test))\n",
        "print(y_test[0:5])"
      ],
      "execution_count": 5,
      "outputs": [
        {
          "output_type": "stream",
          "text": [
            "10000\n",
            "(10000, 28, 28)\n",
            "10000\n",
            "[9 2 1 1 6]\n"
          ],
          "name": "stdout"
        }
      ]
    },
    {
      "cell_type": "markdown",
      "metadata": {
        "id": "gsXIow-9QHLl"
      },
      "source": [
        "> ## 2) Visualization"
      ]
    },
    {
      "cell_type": "code",
      "metadata": {
        "colab": {
          "base_uri": "https://localhost:8080/",
          "height": 265
        },
        "id": "37s5WilZQLez",
        "outputId": "b033a292-18d4-4b7a-f771-1525a61a2467"
      },
      "source": [
        "import matplotlib.pyplot as plt\n",
        "\n",
        "digit = X_train[0]\n",
        "plt.imshow(digit, cmap = 'gray')\n",
        "plt.show()"
      ],
      "execution_count": 6,
      "outputs": [
        {
          "output_type": "display_data",
          "data": {
            "image/png": "[encoded data removed]",
            "text/plain": [
              "<Figure size 432x288 with 1 Axes>"
            ]
          },
          "metadata": {
            "tags": [],
            "needs_background": "light"
          }
        }
      ]
    },
    {
      "cell_type": "code",
      "metadata": {
        "colab": {
          "base_uri": "https://localhost:8080/"
        },
        "id": "RCrw0t9RQTsY",
        "outputId": "6eca4c92-1d49-4950-f8a3-d0196a5338f2"
      },
      "source": [
        "import numpy as np\n",
        "\n",
        "np.set_printoptions(linewidth = 150)\n",
        "\n",
        "print(X_train[0])"
      ],
      "execution_count": 7,
      "outputs": [
        {
          "output_type": "stream",
          "text": [
            "[[  0   0   0   0   0   0   0   0   0   0   0   0   0   0   0   0   0   0   0   0   0   0   0   0   0   0   0   0]\n",
            " [  0   0   0   0   0   0   0   0   0   0   0   0   0   0   0   0   0   0   0   0   0   0   0   0   0   0   0   0]\n",
            " [  0   0   0   0   0   0   0   0   0   0   0   0   0   0   0   0   0   0   0   0   0   0   0   0   0   0   0   0]\n",
            " [  0   0   0   0   0   0   0   0   0   0   0   0   1   0   0  13  73   0   0   1   4   0   0   0   0   1   1   0]\n",
            " [  0   0   0   0   0   0   0   0   0   0   0   0   3   0  36 136 127  62  54   0   0   0   1   3   4   0   0   3]\n",
            " [  0   0   0   0   0   0   0   0   0   0   0   0   6   0 102 204 176 134 144 123  23   0   0   0   0  12  10   0]\n",
            " [  0   0   0   0   0   0   0   0   0   0   0   0   0   0 155 236 207 178 107 156 161 109  64  23  77 130  72  15]\n",
            " [  0   0   0   0   0   0   0   0   0   0   0   1   0  69 207 223 218 216 216 163 127 121 122 146 141  88 172  66]\n",
            " [  0   0   0   0   0   0   0   0   0   1   1   1   0 200 232 232 233 229 223 223 215 213 164 127 123 196 229   0]\n",
            " [  0   0   0   0   0   0   0   0   0   0   0   0   0 183 225 216 223 228 235 227 224 222 224 221 223 245 173   0]\n",
            " [  0   0   0   0   0   0   0   0   0   0   0   0   0 193 228 218 213 198 180 212 210 211 213 223 220 243 202   0]\n",
            " [  0   0   0   0   0   0   0   0   0   1   3   0  12 219 220 212 218 192 169 227 208 218 224 212 226 197 209  52]\n",
            " [  0   0   0   0   0   0   0   0   0   0   6   0  99 244 222 220 218 203 198 221 215 213 222 220 245 119 167  56]\n",
            " [  0   0   0   0   0   0   0   0   0   4   0   0  55 236 228 230 228 240 232 213 218 223 234 217 217 209  92   0]\n",
            " [  0   0   1   4   6   7   2   0   0   0   0   0 237 226 217 223 222 219 222 221 216 223 229 215 218 255  77   0]\n",
            " [  0   3   0   0   0   0   0   0   0  62 145 204 228 207 213 221 218 208 211 218 224 223 219 215 224 244 159   0]\n",
            " [  0   0   0   0  18  44  82 107 189 228 220 222 217 226 200 205 211 230 224 234 176 188 250 248 233 238 215   0]\n",
            " [  0  57 187 208 224 221 224 208 204 214 208 209 200 159 245 193 206 223 255 255 221 234 221 211 220 232 246   0]\n",
            " [  3 202 228 224 221 211 211 214 205 205 205 220 240  80 150 255 229 221 188 154 191 210 204 209 222 228 225   0]\n",
            " [ 98 233 198 210 222 229 229 234 249 220 194 215 217 241  65  73 106 117 168 219 221 215 217 223 223 224 229  29]\n",
            " [ 75 204 212 204 193 205 211 225 216 185 197 206 198 213 240 195 227 245 239 223 218 212 209 222 220 221 230  67]\n",
            " [ 48 203 183 194 213 197 185 190 194 192 202 214 219 221 220 236 225 216 199 206 186 181 177 172 181 205 206 115]\n",
            " [  0 122 219 193 179 171 183 196 204 210 213 207 211 210 200 196 194 191 195 191 198 192 176 156 167 177 210  92]\n",
            " [  0   0  74 189 212 191 175 172 175 181 185 188 189 188 193 198 204 209 210 210 211 188 188 194 192 216 170   0]\n",
            " [  2   0   0   0  66 200 222 237 239 242 246 243 244 221 220 193 191 179 182 182 181 176 166 168  99  58   0   0]\n",
            " [  0   0   0   0   0   0   0  40  61  44  72  41  35   0   0   0   0   0   0   0   0   0   0   0   0   0   0   0]\n",
            " [  0   0   0   0   0   0   0   0   0   0   0   0   0   0   0   0   0   0   0   0   0   0   0   0   0   0   0   0]\n",
            " [  0   0   0   0   0   0   0   0   0   0   0   0   0   0   0   0   0   0   0   0   0   0   0   0   0   0   0   0]]\n"
          ],
          "name": "stdout"
        }
      ]
    },
    {
      "cell_type": "markdown",
      "metadata": {
        "id": "sJWQ8NrGQZus"
      },
      "source": [
        "# II. Data Preprocessing"
      ]
    },
    {
      "cell_type": "markdown",
      "metadata": {
        "id": "p8-pPHnPQfcj"
      },
      "source": [
        "> ## Reshape and Normalization"
      ]
    },
    {
      "cell_type": "code",
      "metadata": {
        "colab": {
          "base_uri": "https://localhost:8080/"
        },
        "id": "-SxPJFLUQiXS",
        "outputId": "7c3ff554-c6ba-4b6c-c6b0-19ddc4e6e21e"
      },
      "source": [
        "X_train = X_train.reshape((60000, 28 * 28))\n",
        "X_test = X_test.reshape((10000, 28 * 28))\n",
        "\n",
        "X_train.shape, X_test.shape"
      ],
      "execution_count": 8,
      "outputs": [
        {
          "output_type": "execute_result",
          "data": {
            "text/plain": [
              "((60000, 784), (10000, 784))"
            ]
          },
          "metadata": {
            "tags": []
          },
          "execution_count": 8
        }
      ]
    },
    {
      "cell_type": "code",
      "metadata": {
        "colab": {
          "base_uri": "https://localhost:8080/"
        },
        "id": "DPpXGHXGQmym",
        "outputId": "b6263d2f-7237-42f1-aea9-ffb72fe32022"
      },
      "source": [
        "X_train = X_train.astype(float) / 255\n",
        "X_test = X_test.astype(float) / 255\n",
        "print(X_train[4])"
      ],
      "execution_count": 9,
      "outputs": [
        {
          "output_type": "stream",
          "text": [
            "[0.         0.         0.         0.         0.         0.         0.         0.         0.         0.         0.         0.         0.\n",
            " 0.         0.         0.         0.         0.10196078 0.         0.         0.         0.         0.         0.         0.         0.\n",
            " 0.         0.         0.         0.         0.         0.         0.         0.         0.         0.         0.74117647 0.80784314 0.73333333\n",
            " 0.1254902  0.         0.         0.         0.10196078 0.85098039 0.88627451 0.76862745 0.04313725 0.         0.         0.         0.\n",
            " 0.         0.         0.         0.         0.         0.         0.         0.         0.         0.         0.         0.         0.75294118\n",
            " 0.89019608 0.91764706 0.95294118 0.90196078 0.57647059 0.9372549  0.94901961 0.91764706 0.85490196 0.81960784 0.         0.         0.\n",
            " 0.         0.         0.         0.         0.         0.         0.         0.         0.         0.         0.         0.         0.\n",
            " 0.         0.67843137 0.88235294 0.84313725 0.91372549 0.99607843 0.         0.76078431 0.94117647 0.85098039 0.86666667 0.74509804 0.\n",
            " 0.         0.         0.         0.         0.         0.         0.         0.         0.         0.         0.         0.         0.\n",
            " 0.         0.         0.         0.54509804 0.89803922 0.83137255 0.88627451 1.         0.         0.63529412 1.         0.83529412 0.88627451\n",
            " 0.78431373 0.         0.         0.         0.         0.         0.         0.         0.         0.         0.         0.         0.\n",
            " 0.         0.         0.         0.         0.         0.38431373 0.90980392 0.82745098 0.84313725 0.97647059 0.18039216 0.63529412 0.96470588\n",
            " 0.83921569 0.90196078 0.72941176 0.         0.         0.         0.         0.         0.         0.         0.         0.         0.\n",
            " 0.         0.         0.         0.         0.         0.         0.         0.2745098  0.89411765 0.83529412 0.8627451  0.87843137 0.98823529\n",
            " 0.9372549  0.85882353 0.85098039 0.90588235 0.67058824 0.         0.         0.         0.         0.         0.         0.         0.\n",
            " 0.         0.         0.         0.         0.         0.         0.         0.         0.         0.17647059 0.87058824 0.83921569 0.85490196\n",
            " 0.84705882 0.82352941 0.84313725 0.85098039 0.79215686 0.87843137 0.6745098  0.         0.         0.         0.         0.         0.\n",
            " 0.         0.         0.         0.         0.         0.         0.         0.         0.         0.         0.         0.09411765 0.99607843\n",
            " 0.83921569 0.82352941 0.82745098 0.83921569 0.84313725 0.83137255 0.79607843 0.86666667 0.65490196 0.         0.         0.         0.\n",
            " 0.         0.         0.         0.         0.         0.         0.         0.         0.         0.         0.         0.         0.\n",
            " 0.         0.99607843 0.84705882 0.84313725 0.85098039 0.85098039 0.84705882 0.84705882 0.80784314 0.88235294 0.58823529 0.         0.\n",
            " 0.         0.         0.         0.         0.         0.         0.         0.         0.         0.         0.         0.         0.\n",
            " 0.         0.         0.         0.96862745 0.84705882 0.83921569 0.85098039 0.84705882 0.83921569 0.83137255 0.79607843 0.88627451 0.53333333\n",
            " 0.         0.         0.         0.         0.         0.         0.         0.         0.         0.         0.         0.         0.\n",
            " 0.         0.         0.         0.         0.         0.96078431 0.84705882 0.83921569 0.84705882 0.85098039 0.84313725 0.82745098 0.8\n",
            " 0.88235294 0.49019608 0.         0.         0.         0.         0.         0.         0.         0.         0.         0.         0.\n",
            " 0.         0.         0.         0.         0.         0.         0.         0.96862745 0.84705882 0.83921569 0.85098039 0.8627451  0.85098039\n",
            " 0.83529412 0.79607843 0.87058824 0.57647059 0.         0.         0.         0.         0.         0.         0.         0.         0.\n",
            " 0.         0.         0.         0.         0.         0.         0.         0.         0.         0.97254902 0.84705882 0.84313725 0.85490196\n",
            " 0.87058824 0.84705882 0.83921569 0.81176471 0.85490196 0.70196078 0.         0.         0.         0.         0.         0.         0.\n",
            " 0.         0.         0.         0.         0.         0.         0.         0.         0.         0.         0.         0.97647059 0.84705882\n",
            " 0.85098039 0.85882353 0.87058824 0.85098039 0.83921569 0.82352941 0.84313725 0.82745098 0.         0.         0.         0.         0.\n",
            " 0.         0.         0.         0.         0.         0.         0.         0.         0.         0.         0.         0.         0.14901961\n",
            " 1.         0.83921569 0.85490196 0.85882353 0.87843137 0.85490196 0.84313725 0.82745098 0.82745098 0.90588235 0.         0.         0.\n",
            " 0.         0.         0.         0.         0.         0.         0.         0.         0.         0.         0.         0.         0.\n",
            " 0.         0.30980392 0.89019608 0.81960784 0.85882353 0.85882353 0.89019608 0.85882353 0.84313725 0.83529412 0.80784314 0.99607843 0.22745098\n",
            " 0.         0.         0.         0.         0.         0.         0.         0.         0.         0.         0.         0.         0.\n",
            " 0.         0.         0.         0.57254902 0.88627451 0.82745098 0.8627451  0.85882353 0.89411765 0.85490196 0.84313725 0.84705882 0.80392157\n",
            " 0.85882353 0.63921569 0.         0.         0.         0.         0.         0.         0.         0.         0.         0.         0.\n",
            " 0.         0.         0.         0.         0.         0.79215686 0.86666667 0.83921569 0.86666667 0.85882353 0.90588235 0.85490196 0.84313725\n",
            " 0.85490196 0.83529412 0.83137255 0.8627451  0.         0.         0.         0.         0.         0.         0.         0.         0.\n",
            " 0.         0.         0.         0.         0.         0.         0.         0.91764706 0.85098039 0.84705882 0.8627451  0.85882353 0.91764706\n",
            " 0.85098039 0.84313725 0.85490196 0.84705882 0.8745098  0.96862745 0.02745098 0.         0.         0.         0.         0.         0.\n",
            " 0.         0.         0.         0.         0.         0.         0.         0.         0.06666667 0.99607843 0.83137255 0.85882353 0.85882353\n",
            " 0.8627451  0.91372549 0.83921569 0.84705882 0.85882353 0.87058824 0.6        0.93333333 0.22745098 0.         0.         0.         0.\n",
            " 0.         0.         0.         0.         0.         0.         0.         0.         0.         0.         0.25882353 1.         0.81568627\n",
            " 0.8627451  0.85882353 0.87058824 0.94509804 0.8627451  0.85490196 0.85490196 0.85490196 0.75294118 0.94901961 0.38823529 0.         0.\n",
            " 0.         0.         0.         0.         0.         0.         0.         0.         0.         0.         0.         0.         0.55686275\n",
            " 0.92156863 0.79607843 0.85490196 0.84705882 0.90588235 0.94901961 0.88235294 0.91372549 0.85882353 0.83921569 0.84705882 0.93333333 0.56470588\n",
            " 0.         0.         0.         0.         0.         0.         0.         0.         0.         0.         0.         0.         0.\n",
            " 0.         0.69411765 0.97254902 0.89019608 0.89803922 0.82745098 1.         0.29803922 0.         0.96862745 0.95294118 0.90196078 0.90196078\n",
            " 0.97647059 0.73333333 0.         0.         0.         0.         0.         0.         0.         0.         0.         0.         0.\n",
            " 0.         0.         0.         0.39607843 0.94509804 0.89411765 0.89411765 0.8627451  1.         0.25098039 0.         0.95294118 0.92941176\n",
            " 0.90196078 0.89019608 0.94509804 0.55686275 0.         0.         0.         0.         0.         0.         0.         0.         0.\n",
            " 0.         0.         0.         0.         0.         0.         1.         0.94901961 0.87058824 0.85490196 1.         0.24313725 0.\n",
            " 0.8745098  0.93333333 0.88235294 0.93333333 1.         0.12156863 0.         0.         0.         0.         0.         0.         0.\n",
            " 0.         0.         0.         0.         0.         0.         0.         0.         0.17647059 1.         0.94901961 0.92156863 1.\n",
            " 0.32941176 0.         0.96470588 1.         0.94901961 1.         0.2745098  0.         0.         0.         0.         0.         0.\n",
            " 0.         0.         0.         0.         0.         0.         0.         0.         0.         0.         0.         0.         0.23921569\n",
            " 0.4        0.65882353 0.09803922 0.         0.54509804 0.63137255 0.29019608 0.         0.         0.         0.         0.         0.\n",
            " 0.         0.         0.         0.        ]\n"
          ],
          "name": "stdout"
        }
      ]
    },
    {
      "cell_type": "markdown",
      "metadata": {
        "id": "Ip_hq1spQoP3"
      },
      "source": [
        "> ## 2) One Hot Encoding"
      ]
    },
    {
      "cell_type": "code",
      "metadata": {
        "colab": {
          "base_uri": "https://localhost:8080/"
        },
        "id": "rp4aMJ1eQrzN",
        "outputId": "ef369820-5db9-4c6e-9d89-25cb85e576ad"
      },
      "source": [
        "from keras.utils import to_categorical\n",
        "y_train = to_categorical(y_train)\n",
        "y_test = to_categorical(y_test)\n",
        "\n",
        "print(y_train[:5])"
      ],
      "execution_count": 11,
      "outputs": [
        {
          "output_type": "stream",
          "text": [
            "[[0. 0. 0. 0. 0. 0. 0. 0. 0. 1.]\n",
            " [1. 0. 0. 0. 0. 0. 0. 0. 0. 0.]\n",
            " [1. 0. 0. 0. 0. 0. 0. 0. 0. 0.]\n",
            " [0. 0. 0. 1. 0. 0. 0. 0. 0. 0.]\n",
            " [1. 0. 0. 0. 0. 0. 0. 0. 0. 0.]]\n"
          ],
          "name": "stdout"
        }
      ]
    },
    {
      "cell_type": "code",
      "metadata": {
        "colab": {
          "base_uri": "https://localhost:8080/"
        },
        "id": "H-hGZjHMrQS5",
        "outputId": "96d85e18-14d3-4f16-96e5-ce4ec5168af8"
      },
      "source": [
        "from sklearn.model_selection import train_test_split\n",
        "X_train, X_valid, y_train, y_valid = train_test_split(X_train, y_train, \n",
        "                                                      test_size = 0.2, \n",
        "                                                      random_state = 2045)\n",
        " \n",
        "X_train.shape, X_valid.shape, y_train.shape, y_valid.shape"
      ],
      "execution_count": 12,
      "outputs": [
        {
          "output_type": "execute_result",
          "data": {
            "text/plain": [
              "((48000, 784), (12000, 784), (48000, 10), (12000, 10))"
            ]
          },
          "metadata": {
            "tags": []
          },
          "execution_count": 12
        }
      ]
    },
    {
      "cell_type": "markdown",
      "metadata": {
        "id": "RBkw2bbAQyGO"
      },
      "source": [
        "# III. MNIST Keras Modeling"
      ]
    },
    {
      "cell_type": "markdown",
      "metadata": {
        "id": "vEzxO5SaRa20"
      },
      "source": [
        "> ## 1) Model Define"
      ]
    },
    {
      "cell_type": "code",
      "metadata": {
        "id": "tEt3rT8-Rckb"
      },
      "source": [
        "from keras import models\n",
        "from keras import layers\n",
        "\n",
        "mnist = models.Sequential()\n",
        "mnist.add(layers.Dense(512, input_shape = (28 * 28,)))\n",
        "mnist.add(layers.BatchNormalization())\n",
        "mnist.add(layers.Activation('relu'))\n",
        "mnist.add(layers.Dense(256))\n",
        "mnist.add(layers.BatchNormalization())\n",
        "mnist.add(layers.Activation('relu'))\n",
        "mnist.add(layers.Dense(128))\n",
        "mnist.add(layers.BatchNormalization())\n",
        "mnist.add(layers.Activation('relu'))\n",
        "mnist.add(layers.Dense(10, activation = 'softmax'))"
      ],
      "execution_count": 13,
      "outputs": []
    },
    {
      "cell_type": "code",
      "metadata": {
        "colab": {
          "base_uri": "https://localhost:8080/"
        },
        "id": "lwx1Hhp1R4Z3",
        "outputId": "4684c472-28ca-4ca0-d40b-600735ba8a68"
      },
      "source": [
        "mnist.summary()"
      ],
      "execution_count": 14,
      "outputs": [
        {
          "output_type": "stream",
          "text": [
            "Model: \"sequential\"\n",
            "_________________________________________________________________\n",
            "Layer (type)                 Output Shape              Param #   \n",
            "=================================================================\n",
            "dense (Dense)                (None, 512)               401920    \n",
            "_________________________________________________________________\n",
            "batch_normalization (BatchNo (None, 512)               2048      \n",
            "_________________________________________________________________\n",
            "activation (Activation)      (None, 512)               0         \n",
            "_________________________________________________________________\n",
            "dense_1 (Dense)              (None, 256)               131328    \n",
            "_________________________________________________________________\n",
            "batch_normalization_1 (Batch (None, 256)               1024      \n",
            "_________________________________________________________________\n",
            "activation_1 (Activation)    (None, 256)               0         \n",
            "_________________________________________________________________\n",
            "dense_2 (Dense)              (None, 128)               32896     \n",
            "_________________________________________________________________\n",
            "batch_normalization_2 (Batch (None, 128)               512       \n",
            "_________________________________________________________________\n",
            "activation_2 (Activation)    (None, 128)               0         \n",
            "_________________________________________________________________\n",
            "dense_3 (Dense)              (None, 10)                1290      \n",
            "=================================================================\n",
            "Total params: 571,018\n",
            "Trainable params: 569,226\n",
            "Non-trainable params: 1,792\n",
            "_________________________________________________________________\n"
          ],
          "name": "stdout"
        }
      ]
    },
    {
      "cell_type": "markdown",
      "metadata": {
        "id": "Dx5u5G2BSH2m"
      },
      "source": [
        "> ## 2) Model Compile"
      ]
    },
    {
      "cell_type": "code",
      "metadata": {
        "id": "cHmK82YnR7Op"
      },
      "source": [
        "mnist.compile(loss = 'categorical_crossentropy',\n",
        "              optimizer = 'adam',\n",
        "              metrics = ['accuracy'])"
      ],
      "execution_count": 15,
      "outputs": []
    },
    {
      "cell_type": "markdown",
      "metadata": {
        "id": "be-h7ShjR_uV"
      },
      "source": [
        "> ## 3) Model Fit"
      ]
    },
    {
      "cell_type": "code",
      "metadata": {
        "colab": {
          "base_uri": "https://localhost:8080/"
        },
        "id": "ZF5lcTB3SLOl",
        "outputId": "cd6c4cb4-467b-493f-d74a-e2082f34d98c"
      },
      "source": [
        "%%time\n",
        "Hist_mnist = mnist.fit(X_train, y_train,\n",
        "                       epochs = 100,\n",
        "                       batch_size = 128,\n",
        "                       validation_data=(X_valid, y_valid))"
      ],
      "execution_count": 16,
      "outputs": [
        {
          "output_type": "stream",
          "text": [
            "Epoch 1/100\n",
            "375/375 [==============================] - 7s 16ms/step - loss: 0.5856 - accuracy: 0.7999 - val_loss: 0.3949 - val_accuracy: 0.8577\n",
            "Epoch 2/100\n",
            "375/375 [==============================] - 6s 15ms/step - loss: 0.3313 - accuracy: 0.8788 - val_loss: 0.3680 - val_accuracy: 0.8585\n",
            "Epoch 3/100\n",
            "375/375 [==============================] - 6s 15ms/step - loss: 0.2842 - accuracy: 0.8939 - val_loss: 0.3727 - val_accuracy: 0.8627\n",
            "Epoch 4/100\n",
            "375/375 [==============================] - 6s 15ms/step - loss: 0.2478 - accuracy: 0.9069 - val_loss: 0.3212 - val_accuracy: 0.8782\n",
            "Epoch 5/100\n",
            "375/375 [==============================] - 6s 15ms/step - loss: 0.2361 - accuracy: 0.9139 - val_loss: 0.3305 - val_accuracy: 0.8813\n",
            "Epoch 6/100\n",
            "375/375 [==============================] - 6s 15ms/step - loss: 0.2087 - accuracy: 0.9222 - val_loss: 0.3501 - val_accuracy: 0.8773\n",
            "Epoch 7/100\n",
            "375/375 [==============================] - 6s 15ms/step - loss: 0.1917 - accuracy: 0.9289 - val_loss: 0.3743 - val_accuracy: 0.8748\n",
            "Epoch 8/100\n",
            "375/375 [==============================] - 6s 15ms/step - loss: 0.1807 - accuracy: 0.9301 - val_loss: 0.3588 - val_accuracy: 0.8712\n",
            "Epoch 9/100\n",
            "375/375 [==============================] - 6s 15ms/step - loss: 0.1648 - accuracy: 0.9378 - val_loss: 0.3481 - val_accuracy: 0.8819\n",
            "Epoch 10/100\n",
            "375/375 [==============================] - 6s 15ms/step - loss: 0.1483 - accuracy: 0.9443 - val_loss: 0.3841 - val_accuracy: 0.8715\n",
            "Epoch 11/100\n",
            "375/375 [==============================] - 6s 15ms/step - loss: 0.1383 - accuracy: 0.9490 - val_loss: 0.3384 - val_accuracy: 0.8870\n",
            "Epoch 12/100\n",
            "375/375 [==============================] - 6s 15ms/step - loss: 0.1291 - accuracy: 0.9511 - val_loss: 0.3767 - val_accuracy: 0.8780\n",
            "Epoch 13/100\n",
            "375/375 [==============================] - 6s 15ms/step - loss: 0.1189 - accuracy: 0.9559 - val_loss: 0.4004 - val_accuracy: 0.8773\n",
            "Epoch 14/100\n",
            "375/375 [==============================] - 6s 16ms/step - loss: 0.1087 - accuracy: 0.9589 - val_loss: 0.5750 - val_accuracy: 0.8616\n",
            "Epoch 15/100\n",
            "375/375 [==============================] - 6s 16ms/step - loss: 0.1018 - accuracy: 0.9619 - val_loss: 0.3948 - val_accuracy: 0.8887\n",
            "Epoch 16/100\n",
            "375/375 [==============================] - 6s 15ms/step - loss: 0.0976 - accuracy: 0.9627 - val_loss: 0.3982 - val_accuracy: 0.8855\n",
            "Epoch 17/100\n",
            "375/375 [==============================] - 6s 15ms/step - loss: 0.0931 - accuracy: 0.9645 - val_loss: 0.3879 - val_accuracy: 0.8901\n",
            "Epoch 18/100\n",
            "375/375 [==============================] - 6s 15ms/step - loss: 0.0807 - accuracy: 0.9701 - val_loss: 0.3844 - val_accuracy: 0.8916\n",
            "Epoch 19/100\n",
            "375/375 [==============================] - 6s 15ms/step - loss: 0.0775 - accuracy: 0.9712 - val_loss: 0.4307 - val_accuracy: 0.8824\n",
            "Epoch 20/100\n",
            "375/375 [==============================] - 6s 15ms/step - loss: 0.0697 - accuracy: 0.9743 - val_loss: 0.4748 - val_accuracy: 0.8788\n",
            "Epoch 21/100\n",
            "375/375 [==============================] - 6s 15ms/step - loss: 0.0718 - accuracy: 0.9732 - val_loss: 0.4249 - val_accuracy: 0.8953\n",
            "Epoch 22/100\n",
            "375/375 [==============================] - 6s 15ms/step - loss: 0.0635 - accuracy: 0.9761 - val_loss: 0.4276 - val_accuracy: 0.8919\n",
            "Epoch 23/100\n",
            "375/375 [==============================] - 6s 15ms/step - loss: 0.0614 - accuracy: 0.9770 - val_loss: 0.4949 - val_accuracy: 0.8887\n",
            "Epoch 24/100\n",
            "375/375 [==============================] - 6s 15ms/step - loss: 0.0624 - accuracy: 0.9761 - val_loss: 0.4937 - val_accuracy: 0.8848\n",
            "Epoch 25/100\n",
            "375/375 [==============================] - 6s 16ms/step - loss: 0.0530 - accuracy: 0.9799 - val_loss: 0.4758 - val_accuracy: 0.8884\n",
            "Epoch 26/100\n",
            "375/375 [==============================] - 6s 15ms/step - loss: 0.0560 - accuracy: 0.9787 - val_loss: 0.5080 - val_accuracy: 0.8837\n",
            "Epoch 27/100\n",
            "375/375 [==============================] - 6s 15ms/step - loss: 0.0500 - accuracy: 0.9817 - val_loss: 0.4992 - val_accuracy: 0.8844\n",
            "Epoch 28/100\n",
            "375/375 [==============================] - 6s 15ms/step - loss: 0.0508 - accuracy: 0.9809 - val_loss: 0.4534 - val_accuracy: 0.8907\n",
            "Epoch 29/100\n",
            "375/375 [==============================] - 6s 15ms/step - loss: 0.0409 - accuracy: 0.9843 - val_loss: 0.4728 - val_accuracy: 0.8964\n",
            "Epoch 30/100\n",
            "375/375 [==============================] - 6s 15ms/step - loss: 0.0385 - accuracy: 0.9859 - val_loss: 0.5441 - val_accuracy: 0.8836\n",
            "Epoch 31/100\n",
            "375/375 [==============================] - 6s 15ms/step - loss: 0.0366 - accuracy: 0.9866 - val_loss: 0.5280 - val_accuracy: 0.8818\n",
            "Epoch 32/100\n",
            "375/375 [==============================] - 6s 15ms/step - loss: 0.0444 - accuracy: 0.9831 - val_loss: 0.5256 - val_accuracy: 0.8876\n",
            "Epoch 33/100\n",
            "375/375 [==============================] - 6s 15ms/step - loss: 0.0387 - accuracy: 0.9847 - val_loss: 0.4807 - val_accuracy: 0.8970\n",
            "Epoch 34/100\n",
            "375/375 [==============================] - 6s 15ms/step - loss: 0.0329 - accuracy: 0.9887 - val_loss: 0.5514 - val_accuracy: 0.8814\n",
            "Epoch 35/100\n",
            "375/375 [==============================] - 6s 15ms/step - loss: 0.0336 - accuracy: 0.9882 - val_loss: 0.7455 - val_accuracy: 0.8587\n",
            "Epoch 36/100\n",
            "375/375 [==============================] - 6s 15ms/step - loss: 0.0405 - accuracy: 0.9850 - val_loss: 0.5104 - val_accuracy: 0.8967\n",
            "Epoch 37/100\n",
            "375/375 [==============================] - 6s 15ms/step - loss: 0.0357 - accuracy: 0.9881 - val_loss: 0.5479 - val_accuracy: 0.8829\n",
            "Epoch 38/100\n",
            "375/375 [==============================] - 6s 15ms/step - loss: 0.0298 - accuracy: 0.9893 - val_loss: 0.5945 - val_accuracy: 0.8850\n",
            "Epoch 39/100\n",
            "375/375 [==============================] - 6s 15ms/step - loss: 0.0363 - accuracy: 0.9868 - val_loss: 0.5029 - val_accuracy: 0.8943\n",
            "Epoch 40/100\n",
            "375/375 [==============================] - 6s 15ms/step - loss: 0.0281 - accuracy: 0.9903 - val_loss: 0.5761 - val_accuracy: 0.8875\n",
            "Epoch 41/100\n",
            "375/375 [==============================] - 6s 15ms/step - loss: 0.0343 - accuracy: 0.9870 - val_loss: 0.6212 - val_accuracy: 0.8862\n",
            "Epoch 42/100\n",
            "375/375 [==============================] - 6s 15ms/step - loss: 0.0266 - accuracy: 0.9902 - val_loss: 0.5676 - val_accuracy: 0.8855\n",
            "Epoch 43/100\n",
            "375/375 [==============================] - 6s 15ms/step - loss: 0.0271 - accuracy: 0.9908 - val_loss: 0.5521 - val_accuracy: 0.8934\n",
            "Epoch 44/100\n",
            "375/375 [==============================] - 6s 15ms/step - loss: 0.0247 - accuracy: 0.9913 - val_loss: 0.5915 - val_accuracy: 0.8919\n",
            "Epoch 45/100\n",
            "375/375 [==============================] - 6s 15ms/step - loss: 0.0273 - accuracy: 0.9906 - val_loss: 0.5798 - val_accuracy: 0.8912\n",
            "Epoch 46/100\n",
            "375/375 [==============================] - 6s 15ms/step - loss: 0.0288 - accuracy: 0.9896 - val_loss: 0.5967 - val_accuracy: 0.8877\n",
            "Epoch 47/100\n",
            "375/375 [==============================] - 6s 15ms/step - loss: 0.0227 - accuracy: 0.9915 - val_loss: 0.5887 - val_accuracy: 0.8917\n",
            "Epoch 48/100\n",
            "375/375 [==============================] - 6s 15ms/step - loss: 0.0237 - accuracy: 0.9914 - val_loss: 0.5942 - val_accuracy: 0.8957\n",
            "Epoch 49/100\n",
            "375/375 [==============================] - 6s 15ms/step - loss: 0.0236 - accuracy: 0.9918 - val_loss: 0.5926 - val_accuracy: 0.8951\n",
            "Epoch 50/100\n",
            "375/375 [==============================] - 6s 15ms/step - loss: 0.0165 - accuracy: 0.9944 - val_loss: 0.6713 - val_accuracy: 0.8695\n",
            "Epoch 51/100\n",
            "375/375 [==============================] - 6s 15ms/step - loss: 0.0297 - accuracy: 0.9900 - val_loss: 0.5845 - val_accuracy: 0.8938\n",
            "Epoch 52/100\n",
            "375/375 [==============================] - 6s 15ms/step - loss: 0.0155 - accuracy: 0.9944 - val_loss: 0.7037 - val_accuracy: 0.8775\n",
            "Epoch 53/100\n",
            "375/375 [==============================] - 6s 15ms/step - loss: 0.0321 - accuracy: 0.9879 - val_loss: 0.6367 - val_accuracy: 0.8959\n",
            "Epoch 54/100\n",
            "375/375 [==============================] - 6s 15ms/step - loss: 0.0178 - accuracy: 0.9936 - val_loss: 0.6845 - val_accuracy: 0.8856\n",
            "Epoch 55/100\n",
            "375/375 [==============================] - 6s 15ms/step - loss: 0.0207 - accuracy: 0.9929 - val_loss: 0.5600 - val_accuracy: 0.8912\n",
            "Epoch 56/100\n",
            "375/375 [==============================] - 6s 15ms/step - loss: 0.0191 - accuracy: 0.9932 - val_loss: 0.6868 - val_accuracy: 0.8830\n",
            "Epoch 57/100\n",
            "375/375 [==============================] - 6s 15ms/step - loss: 0.0212 - accuracy: 0.9926 - val_loss: 0.6351 - val_accuracy: 0.8917\n",
            "Epoch 58/100\n",
            "375/375 [==============================] - 6s 15ms/step - loss: 0.0132 - accuracy: 0.9958 - val_loss: 0.6899 - val_accuracy: 0.8861\n",
            "Epoch 59/100\n",
            "375/375 [==============================] - 6s 15ms/step - loss: 0.0348 - accuracy: 0.9874 - val_loss: 0.6680 - val_accuracy: 0.8922\n",
            "Epoch 60/100\n",
            "375/375 [==============================] - 6s 15ms/step - loss: 0.0185 - accuracy: 0.9937 - val_loss: 0.6373 - val_accuracy: 0.8932\n",
            "Epoch 61/100\n",
            "375/375 [==============================] - 6s 15ms/step - loss: 0.0151 - accuracy: 0.9953 - val_loss: 0.6283 - val_accuracy: 0.8965\n",
            "Epoch 62/100\n",
            "375/375 [==============================] - 6s 15ms/step - loss: 0.0178 - accuracy: 0.9935 - val_loss: 0.7260 - val_accuracy: 0.8867\n",
            "Epoch 63/100\n",
            "375/375 [==============================] - 6s 15ms/step - loss: 0.0221 - accuracy: 0.9926 - val_loss: 0.6412 - val_accuracy: 0.8895\n",
            "Epoch 64/100\n",
            "375/375 [==============================] - 6s 15ms/step - loss: 0.0188 - accuracy: 0.9934 - val_loss: 0.6665 - val_accuracy: 0.8917\n",
            "Epoch 65/100\n",
            "375/375 [==============================] - 6s 15ms/step - loss: 0.0165 - accuracy: 0.9949 - val_loss: 0.6485 - val_accuracy: 0.8948\n",
            "Epoch 66/100\n",
            "375/375 [==============================] - 6s 15ms/step - loss: 0.0173 - accuracy: 0.9936 - val_loss: 0.6154 - val_accuracy: 0.8977\n",
            "Epoch 67/100\n",
            "375/375 [==============================] - 6s 15ms/step - loss: 0.0149 - accuracy: 0.9951 - val_loss: 0.6946 - val_accuracy: 0.8914\n",
            "Epoch 68/100\n",
            "375/375 [==============================] - 6s 15ms/step - loss: 0.0228 - accuracy: 0.9925 - val_loss: 0.5991 - val_accuracy: 0.8964\n",
            "Epoch 69/100\n",
            "375/375 [==============================] - 6s 16ms/step - loss: 0.0116 - accuracy: 0.9963 - val_loss: 0.6953 - val_accuracy: 0.8875\n",
            "Epoch 70/100\n",
            "375/375 [==============================] - 6s 16ms/step - loss: 0.0170 - accuracy: 0.9944 - val_loss: 0.6715 - val_accuracy: 0.8939\n",
            "Epoch 71/100\n",
            "375/375 [==============================] - 6s 15ms/step - loss: 0.0114 - accuracy: 0.9963 - val_loss: 0.6617 - val_accuracy: 0.8939\n",
            "Epoch 72/100\n",
            "375/375 [==============================] - 6s 15ms/step - loss: 0.0138 - accuracy: 0.9947 - val_loss: 0.7124 - val_accuracy: 0.8965\n",
            "Epoch 73/100\n",
            "375/375 [==============================] - 6s 15ms/step - loss: 0.0093 - accuracy: 0.9971 - val_loss: 0.7136 - val_accuracy: 0.8812\n",
            "Epoch 74/100\n",
            "375/375 [==============================] - 6s 15ms/step - loss: 0.0209 - accuracy: 0.9926 - val_loss: 0.6722 - val_accuracy: 0.8944\n",
            "Epoch 75/100\n",
            "375/375 [==============================] - 6s 15ms/step - loss: 0.0143 - accuracy: 0.9954 - val_loss: 0.6670 - val_accuracy: 0.8976\n",
            "Epoch 76/100\n",
            "375/375 [==============================] - 6s 15ms/step - loss: 0.0117 - accuracy: 0.9964 - val_loss: 0.6930 - val_accuracy: 0.8928\n",
            "Epoch 77/100\n",
            "375/375 [==============================] - 6s 15ms/step - loss: 0.0192 - accuracy: 0.9930 - val_loss: 0.6141 - val_accuracy: 0.8935\n",
            "Epoch 78/100\n",
            "375/375 [==============================] - 6s 15ms/step - loss: 0.0123 - accuracy: 0.9956 - val_loss: 0.7013 - val_accuracy: 0.8928\n",
            "Epoch 79/100\n",
            "375/375 [==============================] - 6s 16ms/step - loss: 0.0187 - accuracy: 0.9936 - val_loss: 0.6870 - val_accuracy: 0.8971\n",
            "Epoch 80/100\n",
            "375/375 [==============================] - 6s 16ms/step - loss: 0.0123 - accuracy: 0.9960 - val_loss: 0.7394 - val_accuracy: 0.8870\n",
            "Epoch 81/100\n",
            "375/375 [==============================] - 6s 15ms/step - loss: 0.0157 - accuracy: 0.9941 - val_loss: 0.7211 - val_accuracy: 0.8879\n",
            "Epoch 82/100\n",
            "375/375 [==============================] - 6s 15ms/step - loss: 0.0165 - accuracy: 0.9951 - val_loss: 0.6566 - val_accuracy: 0.8980\n",
            "Epoch 83/100\n",
            "375/375 [==============================] - 6s 15ms/step - loss: 0.0080 - accuracy: 0.9976 - val_loss: 0.7304 - val_accuracy: 0.8908\n",
            "Epoch 84/100\n",
            "375/375 [==============================] - 6s 15ms/step - loss: 0.0088 - accuracy: 0.9967 - val_loss: 0.6810 - val_accuracy: 0.8947\n",
            "Epoch 85/100\n",
            "375/375 [==============================] - 6s 15ms/step - loss: 0.0145 - accuracy: 0.9951 - val_loss: 0.7131 - val_accuracy: 0.8901\n",
            "Epoch 86/100\n",
            "375/375 [==============================] - 6s 15ms/step - loss: 0.0165 - accuracy: 0.9940 - val_loss: 0.6651 - val_accuracy: 0.8992\n",
            "Epoch 87/100\n",
            "375/375 [==============================] - 6s 15ms/step - loss: 0.0137 - accuracy: 0.9953 - val_loss: 0.7412 - val_accuracy: 0.8947\n",
            "Epoch 88/100\n",
            "375/375 [==============================] - 6s 15ms/step - loss: 0.0082 - accuracy: 0.9975 - val_loss: 0.7790 - val_accuracy: 0.8907\n",
            "Epoch 89/100\n",
            "375/375 [==============================] - 6s 15ms/step - loss: 0.0117 - accuracy: 0.9956 - val_loss: 0.6911 - val_accuracy: 0.8933\n",
            "Epoch 90/100\n",
            "375/375 [==============================] - 6s 15ms/step - loss: 0.0118 - accuracy: 0.9961 - val_loss: 0.7241 - val_accuracy: 0.8929\n",
            "Epoch 91/100\n",
            "375/375 [==============================] - 6s 16ms/step - loss: 0.0164 - accuracy: 0.9948 - val_loss: 0.6933 - val_accuracy: 0.8964\n",
            "Epoch 92/100\n",
            "375/375 [==============================] - 6s 16ms/step - loss: 0.0126 - accuracy: 0.9959 - val_loss: 0.6946 - val_accuracy: 0.8984\n",
            "Epoch 93/100\n",
            "375/375 [==============================] - 6s 15ms/step - loss: 0.0101 - accuracy: 0.9965 - val_loss: 0.7183 - val_accuracy: 0.8919\n",
            "Epoch 94/100\n",
            "375/375 [==============================] - 6s 15ms/step - loss: 0.0147 - accuracy: 0.9949 - val_loss: 0.6710 - val_accuracy: 0.8972\n",
            "Epoch 95/100\n",
            "375/375 [==============================] - 6s 15ms/step - loss: 0.0101 - accuracy: 0.9966 - val_loss: 0.7262 - val_accuracy: 0.8919\n",
            "Epoch 96/100\n",
            "375/375 [==============================] - 6s 15ms/step - loss: 0.0101 - accuracy: 0.9965 - val_loss: 0.7285 - val_accuracy: 0.8919\n",
            "Epoch 97/100\n",
            "375/375 [==============================] - 6s 15ms/step - loss: 0.0176 - accuracy: 0.9941 - val_loss: 0.8380 - val_accuracy: 0.8883\n",
            "Epoch 98/100\n",
            "375/375 [==============================] - 6s 15ms/step - loss: 0.0116 - accuracy: 0.9959 - val_loss: 0.7091 - val_accuracy: 0.8980\n",
            "Epoch 99/100\n",
            "375/375 [==============================] - 6s 15ms/step - loss: 0.0075 - accuracy: 0.9977 - val_loss: 0.6915 - val_accuracy: 0.8943\n",
            "Epoch 100/100\n",
            "375/375 [==============================] - 6s 15ms/step - loss: 0.0150 - accuracy: 0.9952 - val_loss: 0.7192 - val_accuracy: 0.8918\n",
            "CPU times: user 14min 19s, sys: 47.6 s, total: 15min 7s\n",
            "Wall time: 9min 28s\n"
          ],
          "name": "stdout"
        }
      ]
    },
    {
      "cell_type": "markdown",
      "metadata": {
        "id": "tEJrUo7BSQS7"
      },
      "source": [
        "> ## 4) Model 시각화 - Overfitting"
      ]
    },
    {
      "cell_type": "code",
      "metadata": {
        "colab": {
          "base_uri": "https://localhost:8080/",
          "height": 404
        },
        "id": "rft5hAypXJ7b",
        "outputId": "c44f9749-74e0-483c-c93d-4fc4edea6acd"
      },
      "source": [
        "# Loss Visualization\n",
        "import matplotlib.pyplot as plt\n",
        "\n",
        "epochs = range(1, len(Hist_mnist.history['loss']) + 1)\n",
        "\n",
        "plt.figure(figsize = (9, 6))\n",
        "plt.plot(epochs, Hist_mnist.history['loss'])\n",
        "plt.plot(epochs, Hist_mnist.history['val_loss'])\n",
        "plt.title('Training & Validation Loss')\n",
        "plt.xlabel('Epochs')\n",
        "plt.ylabel( 'Loss' )\n",
        "plt.legend(['Training Loss', 'Validation Loss'])\n",
        "plt.grid()\n",
        "plt.show()"
      ],
      "execution_count": 17,
      "outputs": [
        {
          "output_type": "display_data",
          "data": {
            "image/png": "[encoded data removed]",
            "text/plain": [
              "<Figure size 648x432 with 1 Axes>"
            ]
          },
          "metadata": {
            "tags": [],
            "needs_background": "light"
          }
        }
      ]
    },
    {
      "cell_type": "markdown",
      "metadata": {
        "id": "b6p36W3ZXOXA"
      },
      "source": [
        "> ## 5) Model Evaluate"
      ]
    },
    {
      "cell_type": "code",
      "metadata": {
        "colab": {
          "base_uri": "https://localhost:8080/"
        },
        "id": "fCdILzXXYWtp",
        "outputId": "d87adcc8-2c0b-493d-b022-266c556bca9d"
      },
      "source": [
        "# Loss & Accuracy\n",
        "loss, accuracy = mnist.evaluate(X_test, y_test)\n",
        "\n",
        "print('Loss = {:.5f}'.format(loss))\n",
        "print('Accuracy = {:.5f}'.format(accuracy))"
      ],
      "execution_count": 18,
      "outputs": [
        {
          "output_type": "stream",
          "text": [
            "313/313 [==============================] - 1s 2ms/step - loss: 0.8254 - accuracy: 0.8835\n",
            "Loss = 0.82545\n",
            "Accuracy = 0.88350\n"
          ],
          "name": "stdout"
        }
      ]
    },
    {
      "cell_type": "markdown",
      "metadata": {
        "id": "UeuD112dYYMB"
      },
      "source": [
        "> ## 6) Model Predict"
      ]
    },
    {
      "cell_type": "code",
      "metadata": {
        "colab": {
          "base_uri": "https://localhost:8080/"
        },
        "id": "dj-UQ3VFYdn_",
        "outputId": "9039417a-4249-4320-d671-9750f7e47d5f"
      },
      "source": [
        "# Proability\n",
        "np.set_printoptions(suppress = True, precision = 9)\n",
        "\n",
        "print(mnist.predict(X_test[:1, :]))"
      ],
      "execution_count": 19,
      "outputs": [
        {
          "output_type": "stream",
          "text": [
            "[[0.          0.          0.          0.          0.          0.000000051 0.          0.000000407 0.          0.9999995  ]]\n"
          ],
          "name": "stdout"
        }
      ]
    },
    {
      "cell_type": "code",
      "metadata": {
        "colab": {
          "base_uri": "https://localhost:8080/"
        },
        "id": "83upx8j5Yeit",
        "outputId": "4fe1caa3-7268-441d-96fa-5e3eedd9a894"
      },
      "source": [
        "# Class\n",
        "print(mnist.predict_classes(X_test[:1, :]))"
      ],
      "execution_count": 20,
      "outputs": [
        {
          "output_type": "stream",
          "text": [
            "[9]\n"
          ],
          "name": "stdout"
        }
      ]
    },
    {
      "cell_type": "markdown",
      "metadata": {
        "id": "4rE4dpKyYfpP"
      },
      "source": [
        "# IV. Early Stopping"
      ]
    },
    {
      "cell_type": "code",
      "metadata": {
        "id": "O6VlTwmtY1tR"
      },
      "source": [
        "# Session Clear\n",
        "from keras import backend as K\n",
        "\n",
        "K.clear_session()"
      ],
      "execution_count": 53,
      "outputs": []
    },
    {
      "cell_type": "markdown",
      "metadata": {
        "id": "ANxk4ng4Y451"
      },
      "source": [
        "> ## 1) Model Define & Compile"
      ]
    },
    {
      "cell_type": "code",
      "metadata": {
        "id": "cYKuV8zAY8Y3"
      },
      "source": [
        "from keras import models\n",
        "from keras import layers"
      ],
      "execution_count": 54,
      "outputs": []
    },
    {
      "cell_type": "code",
      "metadata": {
        "id": "ZckRRnMpY9No"
      },
      "source": [
        "mnist = models.Sequential(name = 'EarlyStopping')\n",
        "mnist.add(layers.Dense(512, input_shape = (28 * 28,)))\n",
        "mnist.add(layers.BatchNormalization())\n",
        "mnist.add(layers.Activation('relu'))\n",
        "mnist.add(layers.Dropout(0.5))\n",
        "mnist.add(layers.Dense(256))\n",
        "mnist.add(layers.BatchNormalization())\n",
        "mnist.add(layers.Activation('relu'))\n",
        "mnist.add(layers.Dropout(0.5))\n",
        "mnist.add(layers.Dense(128))\n",
        "mnist.add(layers.BatchNormalization())\n",
        "mnist.add(layers.Activation('relu'))\n",
        "mnist.add(layers.Dropout(0.5))\n",
        "mnist.add(layers.Dense(10, activation = 'softmax'))\n",
        "\n",
        "mnist.compile(loss = 'mse',\n",
        "               optimizer = 'rmsprop',\n",
        "               metrics = ['accuracy'])\n"
      ],
      "execution_count": 55,
      "outputs": []
    },
    {
      "cell_type": "markdown",
      "metadata": {
        "id": "FeuRsuRlZgN_"
      },
      "source": [
        "> ## 2) EarlyStopping()"
      ]
    },
    {
      "cell_type": "code",
      "metadata": {
        "id": "242Pwr9DZinD"
      },
      "source": [
        "from keras.callbacks import EarlyStopping\n",
        "es = EarlyStopping(monitor = 'val_mae',\n",
        "                   mode = 'min',\n",
        "                   patience = 25,\n",
        "                   verbose = 1)"
      ],
      "execution_count": 56,
      "outputs": []
    },
    {
      "cell_type": "markdown",
      "metadata": {
        "id": "e0scP7UAZn6o"
      },
      "source": [
        "> ## 3) ModelCheckpoint()"
      ]
    },
    {
      "cell_type": "code",
      "metadata": {
        "id": "lnvpd6RhZq34"
      },
      "source": [
        "from keras.callbacks import ModelCheckpoint\n",
        "\n",
        "mc = ModelCheckpoint('best_fashion.h5',\n",
        "                     monitor = 'val_mae',\n",
        "                     mode = 'min',\n",
        "                     save_best_only = True,\n",
        "                     verbose = 1)"
      ],
      "execution_count": 57,
      "outputs": []
    },
    {
      "cell_type": "markdown",
      "metadata": {
        "id": "uYryO-1VZwNA"
      },
      "source": [
        "> ## 4) Model Fit with callbacks"
      ]
    },
    {
      "cell_type": "code",
      "metadata": {
        "colab": {
          "base_uri": "https://localhost:8080/"
        },
        "id": "oupkUSW8ZzHC",
        "outputId": "e247f5fe-87dc-4e75-9673-c95e1062ea58"
      },
      "source": [
        "%%time\n",
        "\n",
        "Hist_mnist = mnist.fit(X_train, y_train,\n",
        "                         epochs = 100,\n",
        "                         batch_size = 128,\n",
        "                         validation_data = (X_valid, y_valid),\n",
        "                         callbacks = [es, mc],\n",
        "                         verbose = 1)"
      ],
      "execution_count": 58,
      "outputs": [
        {
          "output_type": "stream",
          "text": [
            "Epoch 1/100\n",
            "375/375 [==============================] - 8s 19ms/step - loss: 0.0458 - accuracy: 0.6615 - val_loss: 0.0242 - val_accuracy: 0.8331\n",
            "WARNING:tensorflow:Early stopping conditioned on metric `val_mae` which is not available. Available metrics are: loss,accuracy,val_loss,val_accuracy\n",
            "WARNING:tensorflow:Can save best model only with val_mae available, skipping.\n",
            "Epoch 2/100\n",
            "375/375 [==============================] - 7s 18ms/step - loss: 0.0264 - accuracy: 0.8203 - val_loss: 0.0222 - val_accuracy: 0.8462\n",
            "WARNING:tensorflow:Early stopping conditioned on metric `val_mae` which is not available. Available metrics are: loss,accuracy,val_loss,val_accuracy\n",
            "WARNING:tensorflow:Can save best model only with val_mae available, skipping.\n",
            "Epoch 3/100\n",
            "375/375 [==============================] - 7s 18ms/step - loss: 0.0235 - accuracy: 0.8406 - val_loss: 0.0192 - val_accuracy: 0.8652\n",
            "WARNING:tensorflow:Early stopping conditioned on metric `val_mae` which is not available. Available metrics are: loss,accuracy,val_loss,val_accuracy\n",
            "WARNING:tensorflow:Can save best model only with val_mae available, skipping.\n",
            "Epoch 4/100\n",
            "375/375 [==============================] - 7s 18ms/step - loss: 0.0223 - accuracy: 0.8504 - val_loss: 0.0191 - val_accuracy: 0.8699\n",
            "WARNING:tensorflow:Early stopping conditioned on metric `val_mae` which is not available. Available metrics are: loss,accuracy,val_loss,val_accuracy\n",
            "WARNING:tensorflow:Can save best model only with val_mae available, skipping.\n",
            "Epoch 5/100\n",
            "375/375 [==============================] - 7s 18ms/step - loss: 0.0211 - accuracy: 0.8572 - val_loss: 0.0192 - val_accuracy: 0.8654\n",
            "WARNING:tensorflow:Early stopping conditioned on metric `val_mae` which is not available. Available metrics are: loss,accuracy,val_loss,val_accuracy\n",
            "WARNING:tensorflow:Can save best model only with val_mae available, skipping.\n",
            "Epoch 6/100\n",
            "375/375 [==============================] - 7s 18ms/step - loss: 0.0202 - accuracy: 0.8616 - val_loss: 0.0182 - val_accuracy: 0.8746\n",
            "WARNING:tensorflow:Early stopping conditioned on metric `val_mae` which is not available. Available metrics are: loss,accuracy,val_loss,val_accuracy\n",
            "WARNING:tensorflow:Can save best model only with val_mae available, skipping.\n",
            "Epoch 7/100\n",
            "375/375 [==============================] - 7s 18ms/step - loss: 0.0196 - accuracy: 0.8669 - val_loss: 0.0182 - val_accuracy: 0.8737\n",
            "WARNING:tensorflow:Early stopping conditioned on metric `val_mae` which is not available. Available metrics are: loss,accuracy,val_loss,val_accuracy\n",
            "WARNING:tensorflow:Can save best model only with val_mae available, skipping.\n",
            "Epoch 8/100\n",
            "375/375 [==============================] - 7s 18ms/step - loss: 0.0194 - accuracy: 0.8677 - val_loss: 0.0184 - val_accuracy: 0.8738\n",
            "WARNING:tensorflow:Early stopping conditioned on metric `val_mae` which is not available. Available metrics are: loss,accuracy,val_loss,val_accuracy\n",
            "WARNING:tensorflow:Can save best model only with val_mae available, skipping.\n",
            "Epoch 9/100\n",
            "375/375 [==============================] - 7s 18ms/step - loss: 0.0190 - accuracy: 0.8717 - val_loss: 0.0173 - val_accuracy: 0.8797\n",
            "WARNING:tensorflow:Early stopping conditioned on metric `val_mae` which is not available. Available metrics are: loss,accuracy,val_loss,val_accuracy\n",
            "WARNING:tensorflow:Can save best model only with val_mae available, skipping.\n",
            "Epoch 10/100\n",
            "375/375 [==============================] - 7s 18ms/step - loss: 0.0184 - accuracy: 0.8775 - val_loss: 0.0177 - val_accuracy: 0.8792\n",
            "WARNING:tensorflow:Early stopping conditioned on metric `val_mae` which is not available. Available metrics are: loss,accuracy,val_loss,val_accuracy\n",
            "WARNING:tensorflow:Can save best model only with val_mae available, skipping.\n",
            "Epoch 11/100\n",
            "375/375 [==============================] - 7s 18ms/step - loss: 0.0183 - accuracy: 0.8777 - val_loss: 0.0179 - val_accuracy: 0.8763\n",
            "WARNING:tensorflow:Early stopping conditioned on metric `val_mae` which is not available. Available metrics are: loss,accuracy,val_loss,val_accuracy\n",
            "WARNING:tensorflow:Can save best model only with val_mae available, skipping.\n",
            "Epoch 12/100\n",
            "375/375 [==============================] - 7s 18ms/step - loss: 0.0180 - accuracy: 0.8793 - val_loss: 0.0170 - val_accuracy: 0.8840\n",
            "WARNING:tensorflow:Early stopping conditioned on metric `val_mae` which is not available. Available metrics are: loss,accuracy,val_loss,val_accuracy\n",
            "WARNING:tensorflow:Can save best model only with val_mae available, skipping.\n",
            "Epoch 13/100\n",
            "375/375 [==============================] - 7s 18ms/step - loss: 0.0176 - accuracy: 0.8806 - val_loss: 0.0172 - val_accuracy: 0.8839\n",
            "WARNING:tensorflow:Early stopping conditioned on metric `val_mae` which is not available. Available metrics are: loss,accuracy,val_loss,val_accuracy\n",
            "WARNING:tensorflow:Can save best model only with val_mae available, skipping.\n",
            "Epoch 14/100\n",
            "375/375 [==============================] - 7s 18ms/step - loss: 0.0172 - accuracy: 0.8850 - val_loss: 0.0168 - val_accuracy: 0.8869\n",
            "WARNING:tensorflow:Early stopping conditioned on metric `val_mae` which is not available. Available metrics are: loss,accuracy,val_loss,val_accuracy\n",
            "WARNING:tensorflow:Can save best model only with val_mae available, skipping.\n",
            "Epoch 15/100\n",
            "375/375 [==============================] - 7s 18ms/step - loss: 0.0171 - accuracy: 0.8856 - val_loss: 0.0166 - val_accuracy: 0.8882\n",
            "WARNING:tensorflow:Early stopping conditioned on metric `val_mae` which is not available. Available metrics are: loss,accuracy,val_loss,val_accuracy\n",
            "WARNING:tensorflow:Can save best model only with val_mae available, skipping.\n",
            "Epoch 16/100\n",
            "375/375 [==============================] - 7s 18ms/step - loss: 0.0168 - accuracy: 0.8894 - val_loss: 0.0161 - val_accuracy: 0.8924\n",
            "WARNING:tensorflow:Early stopping conditioned on metric `val_mae` which is not available. Available metrics are: loss,accuracy,val_loss,val_accuracy\n",
            "WARNING:tensorflow:Can save best model only with val_mae available, skipping.\n",
            "Epoch 17/100\n",
            "375/375 [==============================] - 7s 18ms/step - loss: 0.0162 - accuracy: 0.8916 - val_loss: 0.0168 - val_accuracy: 0.8855\n",
            "WARNING:tensorflow:Early stopping conditioned on metric `val_mae` which is not available. Available metrics are: loss,accuracy,val_loss,val_accuracy\n",
            "WARNING:tensorflow:Can save best model only with val_mae available, skipping.\n",
            "Epoch 18/100\n",
            "375/375 [==============================] - 7s 18ms/step - loss: 0.0162 - accuracy: 0.8909 - val_loss: 0.0166 - val_accuracy: 0.8882\n",
            "WARNING:tensorflow:Early stopping conditioned on metric `val_mae` which is not available. Available metrics are: loss,accuracy,val_loss,val_accuracy\n",
            "WARNING:tensorflow:Can save best model only with val_mae available, skipping.\n",
            "Epoch 19/100\n",
            "375/375 [==============================] - 7s 18ms/step - loss: 0.0159 - accuracy: 0.8946 - val_loss: 0.0165 - val_accuracy: 0.8874\n",
            "WARNING:tensorflow:Early stopping conditioned on metric `val_mae` which is not available. Available metrics are: loss,accuracy,val_loss,val_accuracy\n",
            "WARNING:tensorflow:Can save best model only with val_mae available, skipping.\n",
            "Epoch 20/100\n",
            "375/375 [==============================] - 7s 18ms/step - loss: 0.0159 - accuracy: 0.8935 - val_loss: 0.0164 - val_accuracy: 0.8899\n",
            "WARNING:tensorflow:Early stopping conditioned on metric `val_mae` which is not available. Available metrics are: loss,accuracy,val_loss,val_accuracy\n",
            "WARNING:tensorflow:Can save best model only with val_mae available, skipping.\n",
            "Epoch 21/100\n",
            "375/375 [==============================] - 7s 18ms/step - loss: 0.0157 - accuracy: 0.8950 - val_loss: 0.0166 - val_accuracy: 0.8879\n",
            "WARNING:tensorflow:Early stopping conditioned on metric `val_mae` which is not available. Available metrics are: loss,accuracy,val_loss,val_accuracy\n",
            "WARNING:tensorflow:Can save best model only with val_mae available, skipping.\n",
            "Epoch 22/100\n",
            "375/375 [==============================] - 7s 19ms/step - loss: 0.0154 - accuracy: 0.8966 - val_loss: 0.0153 - val_accuracy: 0.8973\n",
            "WARNING:tensorflow:Early stopping conditioned on metric `val_mae` which is not available. Available metrics are: loss,accuracy,val_loss,val_accuracy\n",
            "WARNING:tensorflow:Can save best model only with val_mae available, skipping.\n",
            "Epoch 23/100\n",
            "375/375 [==============================] - 7s 18ms/step - loss: 0.0151 - accuracy: 0.9013 - val_loss: 0.0160 - val_accuracy: 0.8921\n",
            "WARNING:tensorflow:Early stopping conditioned on metric `val_mae` which is not available. Available metrics are: loss,accuracy,val_loss,val_accuracy\n",
            "WARNING:tensorflow:Can save best model only with val_mae available, skipping.\n",
            "Epoch 24/100\n",
            "375/375 [==============================] - 7s 18ms/step - loss: 0.0151 - accuracy: 0.8992 - val_loss: 0.0154 - val_accuracy: 0.8960\n",
            "WARNING:tensorflow:Early stopping conditioned on metric `val_mae` which is not available. Available metrics are: loss,accuracy,val_loss,val_accuracy\n",
            "WARNING:tensorflow:Can save best model only with val_mae available, skipping.\n",
            "Epoch 25/100\n",
            "375/375 [==============================] - 7s 18ms/step - loss: 0.0150 - accuracy: 0.9012 - val_loss: 0.0160 - val_accuracy: 0.8921\n",
            "WARNING:tensorflow:Early stopping conditioned on metric `val_mae` which is not available. Available metrics are: loss,accuracy,val_loss,val_accuracy\n",
            "WARNING:tensorflow:Can save best model only with val_mae available, skipping.\n",
            "Epoch 26/100\n",
            "375/375 [==============================] - 7s 18ms/step - loss: 0.0145 - accuracy: 0.9034 - val_loss: 0.0162 - val_accuracy: 0.8932\n",
            "WARNING:tensorflow:Early stopping conditioned on metric `val_mae` which is not available. Available metrics are: loss,accuracy,val_loss,val_accuracy\n",
            "WARNING:tensorflow:Can save best model only with val_mae available, skipping.\n",
            "Epoch 27/100\n",
            "375/375 [==============================] - 7s 18ms/step - loss: 0.0146 - accuracy: 0.9033 - val_loss: 0.0160 - val_accuracy: 0.8931\n",
            "WARNING:tensorflow:Early stopping conditioned on metric `val_mae` which is not available. Available metrics are: loss,accuracy,val_loss,val_accuracy\n",
            "WARNING:tensorflow:Can save best model only with val_mae available, skipping.\n",
            "Epoch 28/100\n",
            "375/375 [==============================] - 7s 18ms/step - loss: 0.0142 - accuracy: 0.9063 - val_loss: 0.0166 - val_accuracy: 0.8888\n",
            "WARNING:tensorflow:Early stopping conditioned on metric `val_mae` which is not available. Available metrics are: loss,accuracy,val_loss,val_accuracy\n",
            "WARNING:tensorflow:Can save best model only with val_mae available, skipping.\n",
            "Epoch 29/100\n",
            "375/375 [==============================] - 7s 18ms/step - loss: 0.0143 - accuracy: 0.9055 - val_loss: 0.0179 - val_accuracy: 0.8811\n",
            "WARNING:tensorflow:Early stopping conditioned on metric `val_mae` which is not available. Available metrics are: loss,accuracy,val_loss,val_accuracy\n",
            "WARNING:tensorflow:Can save best model only with val_mae available, skipping.\n",
            "Epoch 30/100\n",
            "375/375 [==============================] - 7s 18ms/step - loss: 0.0142 - accuracy: 0.9056 - val_loss: 0.0154 - val_accuracy: 0.8976\n",
            "WARNING:tensorflow:Early stopping conditioned on metric `val_mae` which is not available. Available metrics are: loss,accuracy,val_loss,val_accuracy\n",
            "WARNING:tensorflow:Can save best model only with val_mae available, skipping.\n",
            "Epoch 31/100\n",
            "375/375 [==============================] - 7s 18ms/step - loss: 0.0141 - accuracy: 0.9083 - val_loss: 0.0159 - val_accuracy: 0.8965\n",
            "WARNING:tensorflow:Early stopping conditioned on metric `val_mae` which is not available. Available metrics are: loss,accuracy,val_loss,val_accuracy\n",
            "WARNING:tensorflow:Can save best model only with val_mae available, skipping.\n",
            "Epoch 32/100\n",
            "375/375 [==============================] - 7s 18ms/step - loss: 0.0139 - accuracy: 0.9091 - val_loss: 0.0156 - val_accuracy: 0.8963\n",
            "WARNING:tensorflow:Early stopping conditioned on metric `val_mae` which is not available. Available metrics are: loss,accuracy,val_loss,val_accuracy\n",
            "WARNING:tensorflow:Can save best model only with val_mae available, skipping.\n",
            "Epoch 33/100\n",
            "375/375 [==============================] - 7s 18ms/step - loss: 0.0135 - accuracy: 0.9104 - val_loss: 0.0155 - val_accuracy: 0.8960\n",
            "WARNING:tensorflow:Early stopping conditioned on metric `val_mae` which is not available. Available metrics are: loss,accuracy,val_loss,val_accuracy\n",
            "WARNING:tensorflow:Can save best model only with val_mae available, skipping.\n",
            "Epoch 34/100\n",
            "375/375 [==============================] - 7s 18ms/step - loss: 0.0137 - accuracy: 0.9098 - val_loss: 0.0158 - val_accuracy: 0.8960\n",
            "WARNING:tensorflow:Early stopping conditioned on metric `val_mae` which is not available. Available metrics are: loss,accuracy,val_loss,val_accuracy\n",
            "WARNING:tensorflow:Can save best model only with val_mae available, skipping.\n",
            "Epoch 35/100\n",
            "375/375 [==============================] - 7s 18ms/step - loss: 0.0139 - accuracy: 0.9087 - val_loss: 0.0153 - val_accuracy: 0.8972\n",
            "WARNING:tensorflow:Early stopping conditioned on metric `val_mae` which is not available. Available metrics are: loss,accuracy,val_loss,val_accuracy\n",
            "WARNING:tensorflow:Can save best model only with val_mae available, skipping.\n",
            "Epoch 36/100\n",
            "375/375 [==============================] - 7s 19ms/step - loss: 0.0137 - accuracy: 0.9108 - val_loss: 0.0155 - val_accuracy: 0.8980\n",
            "WARNING:tensorflow:Early stopping conditioned on metric `val_mae` which is not available. Available metrics are: loss,accuracy,val_loss,val_accuracy\n",
            "WARNING:tensorflow:Can save best model only with val_mae available, skipping.\n",
            "Epoch 37/100\n",
            "375/375 [==============================] - 7s 19ms/step - loss: 0.0133 - accuracy: 0.9119 - val_loss: 0.0183 - val_accuracy: 0.8789\n",
            "WARNING:tensorflow:Early stopping conditioned on metric `val_mae` which is not available. Available metrics are: loss,accuracy,val_loss,val_accuracy\n",
            "WARNING:tensorflow:Can save best model only with val_mae available, skipping.\n",
            "Epoch 38/100\n",
            "375/375 [==============================] - 7s 19ms/step - loss: 0.0130 - accuracy: 0.9148 - val_loss: 0.0164 - val_accuracy: 0.8913\n",
            "WARNING:tensorflow:Early stopping conditioned on metric `val_mae` which is not available. Available metrics are: loss,accuracy,val_loss,val_accuracy\n",
            "WARNING:tensorflow:Can save best model only with val_mae available, skipping.\n",
            "Epoch 39/100\n",
            "375/375 [==============================] - 7s 18ms/step - loss: 0.0131 - accuracy: 0.9159 - val_loss: 0.0154 - val_accuracy: 0.8980\n",
            "WARNING:tensorflow:Early stopping conditioned on metric `val_mae` which is not available. Available metrics are: loss,accuracy,val_loss,val_accuracy\n",
            "WARNING:tensorflow:Can save best model only with val_mae available, skipping.\n",
            "Epoch 40/100\n",
            "375/375 [==============================] - 7s 19ms/step - loss: 0.0132 - accuracy: 0.9138 - val_loss: 0.0173 - val_accuracy: 0.8878\n",
            "WARNING:tensorflow:Early stopping conditioned on metric `val_mae` which is not available. Available metrics are: loss,accuracy,val_loss,val_accuracy\n",
            "WARNING:tensorflow:Can save best model only with val_mae available, skipping.\n",
            "Epoch 41/100\n",
            "375/375 [==============================] - 7s 19ms/step - loss: 0.0127 - accuracy: 0.9169 - val_loss: 0.0157 - val_accuracy: 0.8965\n",
            "WARNING:tensorflow:Early stopping conditioned on metric `val_mae` which is not available. Available metrics are: loss,accuracy,val_loss,val_accuracy\n",
            "WARNING:tensorflow:Can save best model only with val_mae available, skipping.\n",
            "Epoch 42/100\n",
            "375/375 [==============================] - 7s 19ms/step - loss: 0.0127 - accuracy: 0.9162 - val_loss: 0.0155 - val_accuracy: 0.8959\n",
            "WARNING:tensorflow:Early stopping conditioned on metric `val_mae` which is not available. Available metrics are: loss,accuracy,val_loss,val_accuracy\n",
            "WARNING:tensorflow:Can save best model only with val_mae available, skipping.\n",
            "Epoch 43/100\n",
            "375/375 [==============================] - 7s 19ms/step - loss: 0.0124 - accuracy: 0.9195 - val_loss: 0.0156 - val_accuracy: 0.8975\n",
            "WARNING:tensorflow:Early stopping conditioned on metric `val_mae` which is not available. Available metrics are: loss,accuracy,val_loss,val_accuracy\n",
            "WARNING:tensorflow:Can save best model only with val_mae available, skipping.\n",
            "Epoch 44/100\n",
            "375/375 [==============================] - 7s 19ms/step - loss: 0.0125 - accuracy: 0.9182 - val_loss: 0.0158 - val_accuracy: 0.8969\n",
            "WARNING:tensorflow:Early stopping conditioned on metric `val_mae` which is not available. Available metrics are: loss,accuracy,val_loss,val_accuracy\n",
            "WARNING:tensorflow:Can save best model only with val_mae available, skipping.\n",
            "Epoch 45/100\n",
            "375/375 [==============================] - 7s 19ms/step - loss: 0.0125 - accuracy: 0.9183 - val_loss: 0.0167 - val_accuracy: 0.8924\n",
            "WARNING:tensorflow:Early stopping conditioned on metric `val_mae` which is not available. Available metrics are: loss,accuracy,val_loss,val_accuracy\n",
            "WARNING:tensorflow:Can save best model only with val_mae available, skipping.\n",
            "Epoch 46/100\n",
            "375/375 [==============================] - 7s 19ms/step - loss: 0.0124 - accuracy: 0.9198 - val_loss: 0.0154 - val_accuracy: 0.8984\n",
            "WARNING:tensorflow:Early stopping conditioned on metric `val_mae` which is not available. Available metrics are: loss,accuracy,val_loss,val_accuracy\n",
            "WARNING:tensorflow:Can save best model only with val_mae available, skipping.\n",
            "Epoch 47/100\n",
            "375/375 [==============================] - 7s 19ms/step - loss: 0.0121 - accuracy: 0.9220 - val_loss: 0.0157 - val_accuracy: 0.8994\n",
            "WARNING:tensorflow:Early stopping conditioned on metric `val_mae` which is not available. Available metrics are: loss,accuracy,val_loss,val_accuracy\n",
            "WARNING:tensorflow:Can save best model only with val_mae available, skipping.\n",
            "Epoch 48/100\n",
            "375/375 [==============================] - 7s 19ms/step - loss: 0.0118 - accuracy: 0.9229 - val_loss: 0.0154 - val_accuracy: 0.8992\n",
            "WARNING:tensorflow:Early stopping conditioned on metric `val_mae` which is not available. Available metrics are: loss,accuracy,val_loss,val_accuracy\n",
            "WARNING:tensorflow:Can save best model only with val_mae available, skipping.\n",
            "Epoch 49/100\n",
            "375/375 [==============================] - 7s 19ms/step - loss: 0.0117 - accuracy: 0.9242 - val_loss: 0.0160 - val_accuracy: 0.8980\n",
            "WARNING:tensorflow:Early stopping conditioned on metric `val_mae` which is not available. Available metrics are: loss,accuracy,val_loss,val_accuracy\n",
            "WARNING:tensorflow:Can save best model only with val_mae available, skipping.\n",
            "Epoch 50/100\n",
            "375/375 [==============================] - 7s 19ms/step - loss: 0.0119 - accuracy: 0.9228 - val_loss: 0.0152 - val_accuracy: 0.9006\n",
            "WARNING:tensorflow:Early stopping conditioned on metric `val_mae` which is not available. Available metrics are: loss,accuracy,val_loss,val_accuracy\n",
            "WARNING:tensorflow:Can save best model only with val_mae available, skipping.\n",
            "Epoch 51/100\n",
            "375/375 [==============================] - 7s 19ms/step - loss: 0.0116 - accuracy: 0.9253 - val_loss: 0.0155 - val_accuracy: 0.9003\n",
            "WARNING:tensorflow:Early stopping conditioned on metric `val_mae` which is not available. Available metrics are: loss,accuracy,val_loss,val_accuracy\n",
            "WARNING:tensorflow:Can save best model only with val_mae available, skipping.\n",
            "Epoch 52/100\n",
            "375/375 [==============================] - 7s 19ms/step - loss: 0.0116 - accuracy: 0.9254 - val_loss: 0.0164 - val_accuracy: 0.8956\n",
            "WARNING:tensorflow:Early stopping conditioned on metric `val_mae` which is not available. Available metrics are: loss,accuracy,val_loss,val_accuracy\n",
            "WARNING:tensorflow:Can save best model only with val_mae available, skipping.\n",
            "Epoch 53/100\n",
            "375/375 [==============================] - 7s 19ms/step - loss: 0.0116 - accuracy: 0.9236 - val_loss: 0.0166 - val_accuracy: 0.8933\n",
            "WARNING:tensorflow:Early stopping conditioned on metric `val_mae` which is not available. Available metrics are: loss,accuracy,val_loss,val_accuracy\n",
            "WARNING:tensorflow:Can save best model only with val_mae available, skipping.\n",
            "Epoch 54/100\n",
            "375/375 [==============================] - 7s 19ms/step - loss: 0.0115 - accuracy: 0.9253 - val_loss: 0.0152 - val_accuracy: 0.9005\n",
            "WARNING:tensorflow:Early stopping conditioned on metric `val_mae` which is not available. Available metrics are: loss,accuracy,val_loss,val_accuracy\n",
            "WARNING:tensorflow:Can save best model only with val_mae available, skipping.\n",
            "Epoch 55/100\n",
            "375/375 [==============================] - 7s 19ms/step - loss: 0.0115 - accuracy: 0.9239 - val_loss: 0.0157 - val_accuracy: 0.8974\n",
            "WARNING:tensorflow:Early stopping conditioned on metric `val_mae` which is not available. Available metrics are: loss,accuracy,val_loss,val_accuracy\n",
            "WARNING:tensorflow:Can save best model only with val_mae available, skipping.\n",
            "Epoch 56/100\n",
            "375/375 [==============================] - 7s 19ms/step - loss: 0.0114 - accuracy: 0.9267 - val_loss: 0.0157 - val_accuracy: 0.8980\n",
            "WARNING:tensorflow:Early stopping conditioned on metric `val_mae` which is not available. Available metrics are: loss,accuracy,val_loss,val_accuracy\n",
            "WARNING:tensorflow:Can save best model only with val_mae available, skipping.\n",
            "Epoch 57/100\n",
            "375/375 [==============================] - 7s 19ms/step - loss: 0.0114 - accuracy: 0.9257 - val_loss: 0.0151 - val_accuracy: 0.9004\n",
            "WARNING:tensorflow:Early stopping conditioned on metric `val_mae` which is not available. Available metrics are: loss,accuracy,val_loss,val_accuracy\n",
            "WARNING:tensorflow:Can save best model only with val_mae available, skipping.\n",
            "Epoch 58/100\n",
            "375/375 [==============================] - 7s 19ms/step - loss: 0.0110 - accuracy: 0.9294 - val_loss: 0.0160 - val_accuracy: 0.8981\n",
            "WARNING:tensorflow:Early stopping conditioned on metric `val_mae` which is not available. Available metrics are: loss,accuracy,val_loss,val_accuracy\n",
            "WARNING:tensorflow:Can save best model only with val_mae available, skipping.\n",
            "Epoch 59/100\n",
            "375/375 [==============================] - 7s 19ms/step - loss: 0.0111 - accuracy: 0.9289 - val_loss: 0.0163 - val_accuracy: 0.8962\n",
            "WARNING:tensorflow:Early stopping conditioned on metric `val_mae` which is not available. Available metrics are: loss,accuracy,val_loss,val_accuracy\n",
            "WARNING:tensorflow:Can save best model only with val_mae available, skipping.\n",
            "Epoch 60/100\n",
            "375/375 [==============================] - 7s 19ms/step - loss: 0.0108 - accuracy: 0.9304 - val_loss: 0.0167 - val_accuracy: 0.8938\n",
            "WARNING:tensorflow:Early stopping conditioned on metric `val_mae` which is not available. Available metrics are: loss,accuracy,val_loss,val_accuracy\n",
            "WARNING:tensorflow:Can save best model only with val_mae available, skipping.\n",
            "Epoch 61/100\n",
            "375/375 [==============================] - 7s 19ms/step - loss: 0.0110 - accuracy: 0.9287 - val_loss: 0.0161 - val_accuracy: 0.8965\n",
            "WARNING:tensorflow:Early stopping conditioned on metric `val_mae` which is not available. Available metrics are: loss,accuracy,val_loss,val_accuracy\n",
            "WARNING:tensorflow:Can save best model only with val_mae available, skipping.\n",
            "Epoch 62/100\n",
            "375/375 [==============================] - 7s 19ms/step - loss: 0.0106 - accuracy: 0.9318 - val_loss: 0.0148 - val_accuracy: 0.9035\n",
            "WARNING:tensorflow:Early stopping conditioned on metric `val_mae` which is not available. Available metrics are: loss,accuracy,val_loss,val_accuracy\n",
            "WARNING:tensorflow:Can save best model only with val_mae available, skipping.\n",
            "Epoch 63/100\n",
            "375/375 [==============================] - 7s 19ms/step - loss: 0.0107 - accuracy: 0.9308 - val_loss: 0.0153 - val_accuracy: 0.9009\n",
            "WARNING:tensorflow:Early stopping conditioned on metric `val_mae` which is not available. Available metrics are: loss,accuracy,val_loss,val_accuracy\n",
            "WARNING:tensorflow:Can save best model only with val_mae available, skipping.\n",
            "Epoch 64/100\n",
            "375/375 [==============================] - 7s 19ms/step - loss: 0.0106 - accuracy: 0.9306 - val_loss: 0.0158 - val_accuracy: 0.8973\n",
            "WARNING:tensorflow:Early stopping conditioned on metric `val_mae` which is not available. Available metrics are: loss,accuracy,val_loss,val_accuracy\n",
            "WARNING:tensorflow:Can save best model only with val_mae available, skipping.\n",
            "Epoch 65/100\n",
            "375/375 [==============================] - 7s 19ms/step - loss: 0.0106 - accuracy: 0.9321 - val_loss: 0.0158 - val_accuracy: 0.9002\n",
            "WARNING:tensorflow:Early stopping conditioned on metric `val_mae` which is not available. Available metrics are: loss,accuracy,val_loss,val_accuracy\n",
            "WARNING:tensorflow:Can save best model only with val_mae available, skipping.\n",
            "Epoch 66/100\n",
            "375/375 [==============================] - 7s 19ms/step - loss: 0.0105 - accuracy: 0.9320 - val_loss: 0.0155 - val_accuracy: 0.9018\n",
            "WARNING:tensorflow:Early stopping conditioned on metric `val_mae` which is not available. Available metrics are: loss,accuracy,val_loss,val_accuracy\n",
            "WARNING:tensorflow:Can save best model only with val_mae available, skipping.\n",
            "Epoch 67/100\n",
            "375/375 [==============================] - 7s 19ms/step - loss: 0.0106 - accuracy: 0.9326 - val_loss: 0.0158 - val_accuracy: 0.8993\n",
            "WARNING:tensorflow:Early stopping conditioned on metric `val_mae` which is not available. Available metrics are: loss,accuracy,val_loss,val_accuracy\n",
            "WARNING:tensorflow:Can save best model only with val_mae available, skipping.\n",
            "Epoch 68/100\n",
            "375/375 [==============================] - 7s 19ms/step - loss: 0.0105 - accuracy: 0.9330 - val_loss: 0.0158 - val_accuracy: 0.8984\n",
            "WARNING:tensorflow:Early stopping conditioned on metric `val_mae` which is not available. Available metrics are: loss,accuracy,val_loss,val_accuracy\n",
            "WARNING:tensorflow:Can save best model only with val_mae available, skipping.\n",
            "Epoch 69/100\n",
            "375/375 [==============================] - 7s 19ms/step - loss: 0.0103 - accuracy: 0.9343 - val_loss: 0.0156 - val_accuracy: 0.9015\n",
            "WARNING:tensorflow:Early stopping conditioned on metric `val_mae` which is not available. Available metrics are: loss,accuracy,val_loss,val_accuracy\n",
            "WARNING:tensorflow:Can save best model only with val_mae available, skipping.\n",
            "Epoch 70/100\n",
            "375/375 [==============================] - 7s 19ms/step - loss: 0.0107 - accuracy: 0.9317 - val_loss: 0.0157 - val_accuracy: 0.9015\n",
            "WARNING:tensorflow:Early stopping conditioned on metric `val_mae` which is not available. Available metrics are: loss,accuracy,val_loss,val_accuracy\n",
            "WARNING:tensorflow:Can save best model only with val_mae available, skipping.\n",
            "Epoch 71/100\n",
            "375/375 [==============================] - 7s 19ms/step - loss: 0.0104 - accuracy: 0.9322 - val_loss: 0.0154 - val_accuracy: 0.9011\n",
            "WARNING:tensorflow:Early stopping conditioned on metric `val_mae` which is not available. Available metrics are: loss,accuracy,val_loss,val_accuracy\n",
            "WARNING:tensorflow:Can save best model only with val_mae available, skipping.\n",
            "Epoch 72/100\n",
            "375/375 [==============================] - 7s 19ms/step - loss: 0.0100 - accuracy: 0.9351 - val_loss: 0.0161 - val_accuracy: 0.8960\n",
            "WARNING:tensorflow:Early stopping conditioned on metric `val_mae` which is not available. Available metrics are: loss,accuracy,val_loss,val_accuracy\n",
            "WARNING:tensorflow:Can save best model only with val_mae available, skipping.\n",
            "Epoch 73/100\n",
            "375/375 [==============================] - 7s 19ms/step - loss: 0.0104 - accuracy: 0.9330 - val_loss: 0.0154 - val_accuracy: 0.9004\n",
            "WARNING:tensorflow:Early stopping conditioned on metric `val_mae` which is not available. Available metrics are: loss,accuracy,val_loss,val_accuracy\n",
            "WARNING:tensorflow:Can save best model only with val_mae available, skipping.\n",
            "Epoch 74/100\n",
            "375/375 [==============================] - 7s 19ms/step - loss: 0.0103 - accuracy: 0.9341 - val_loss: 0.0164 - val_accuracy: 0.8942\n",
            "WARNING:tensorflow:Early stopping conditioned on metric `val_mae` which is not available. Available metrics are: loss,accuracy,val_loss,val_accuracy\n",
            "WARNING:tensorflow:Can save best model only with val_mae available, skipping.\n",
            "Epoch 75/100\n",
            "375/375 [==============================] - 7s 19ms/step - loss: 0.0102 - accuracy: 0.9332 - val_loss: 0.0162 - val_accuracy: 0.8957\n",
            "WARNING:tensorflow:Early stopping conditioned on metric `val_mae` which is not available. Available metrics are: loss,accuracy,val_loss,val_accuracy\n",
            "WARNING:tensorflow:Can save best model only with val_mae available, skipping.\n",
            "Epoch 76/100\n",
            "375/375 [==============================] - 7s 19ms/step - loss: 0.0102 - accuracy: 0.9355 - val_loss: 0.0158 - val_accuracy: 0.9008\n",
            "WARNING:tensorflow:Early stopping conditioned on metric `val_mae` which is not available. Available metrics are: loss,accuracy,val_loss,val_accuracy\n",
            "WARNING:tensorflow:Can save best model only with val_mae available, skipping.\n",
            "Epoch 77/100\n",
            "375/375 [==============================] - 7s 19ms/step - loss: 0.0100 - accuracy: 0.9385 - val_loss: 0.0169 - val_accuracy: 0.8951\n",
            "WARNING:tensorflow:Early stopping conditioned on metric `val_mae` which is not available. Available metrics are: loss,accuracy,val_loss,val_accuracy\n",
            "WARNING:tensorflow:Can save best model only with val_mae available, skipping.\n",
            "Epoch 78/100\n",
            "375/375 [==============================] - 7s 19ms/step - loss: 0.0101 - accuracy: 0.9362 - val_loss: 0.0159 - val_accuracy: 0.8990\n",
            "WARNING:tensorflow:Early stopping conditioned on metric `val_mae` which is not available. Available metrics are: loss,accuracy,val_loss,val_accuracy\n",
            "WARNING:tensorflow:Can save best model only with val_mae available, skipping.\n",
            "Epoch 79/100\n",
            "375/375 [==============================] - 7s 19ms/step - loss: 0.0099 - accuracy: 0.9375 - val_loss: 0.0166 - val_accuracy: 0.8951\n",
            "WARNING:tensorflow:Early stopping conditioned on metric `val_mae` which is not available. Available metrics are: loss,accuracy,val_loss,val_accuracy\n",
            "WARNING:tensorflow:Can save best model only with val_mae available, skipping.\n",
            "Epoch 80/100\n",
            "375/375 [==============================] - 7s 19ms/step - loss: 0.0096 - accuracy: 0.9392 - val_loss: 0.0173 - val_accuracy: 0.8906\n",
            "WARNING:tensorflow:Early stopping conditioned on metric `val_mae` which is not available. Available metrics are: loss,accuracy,val_loss,val_accuracy\n",
            "WARNING:tensorflow:Can save best model only with val_mae available, skipping.\n",
            "Epoch 81/100\n",
            "375/375 [==============================] - 8s 20ms/step - loss: 0.0100 - accuracy: 0.9361 - val_loss: 0.0161 - val_accuracy: 0.8973\n",
            "WARNING:tensorflow:Early stopping conditioned on metric `val_mae` which is not available. Available metrics are: loss,accuracy,val_loss,val_accuracy\n",
            "WARNING:tensorflow:Can save best model only with val_mae available, skipping.\n",
            "Epoch 82/100\n",
            "375/375 [==============================] - 7s 20ms/step - loss: 0.0098 - accuracy: 0.9373 - val_loss: 0.0154 - val_accuracy: 0.9013\n",
            "WARNING:tensorflow:Early stopping conditioned on metric `val_mae` which is not available. Available metrics are: loss,accuracy,val_loss,val_accuracy\n",
            "WARNING:tensorflow:Can save best model only with val_mae available, skipping.\n",
            "Epoch 83/100\n",
            "375/375 [==============================] - 7s 19ms/step - loss: 0.0101 - accuracy: 0.9352 - val_loss: 0.0168 - val_accuracy: 0.8938\n",
            "WARNING:tensorflow:Early stopping conditioned on metric `val_mae` which is not available. Available metrics are: loss,accuracy,val_loss,val_accuracy\n",
            "WARNING:tensorflow:Can save best model only with val_mae available, skipping.\n",
            "Epoch 84/100\n",
            "375/375 [==============================] - 8s 20ms/step - loss: 0.0098 - accuracy: 0.9379 - val_loss: 0.0157 - val_accuracy: 0.9025\n",
            "WARNING:tensorflow:Early stopping conditioned on metric `val_mae` which is not available. Available metrics are: loss,accuracy,val_loss,val_accuracy\n",
            "WARNING:tensorflow:Can save best model only with val_mae available, skipping.\n",
            "Epoch 85/100\n",
            "375/375 [==============================] - 7s 19ms/step - loss: 0.0096 - accuracy: 0.9395 - val_loss: 0.0181 - val_accuracy: 0.8870\n",
            "WARNING:tensorflow:Early stopping conditioned on metric `val_mae` which is not available. Available metrics are: loss,accuracy,val_loss,val_accuracy\n",
            "WARNING:tensorflow:Can save best model only with val_mae available, skipping.\n",
            "Epoch 86/100\n",
            "375/375 [==============================] - 7s 19ms/step - loss: 0.0093 - accuracy: 0.9414 - val_loss: 0.0156 - val_accuracy: 0.9022\n",
            "WARNING:tensorflow:Early stopping conditioned on metric `val_mae` which is not available. Available metrics are: loss,accuracy,val_loss,val_accuracy\n",
            "WARNING:tensorflow:Can save best model only with val_mae available, skipping.\n",
            "Epoch 87/100\n",
            "375/375 [==============================] - 7s 19ms/step - loss: 0.0095 - accuracy: 0.9396 - val_loss: 0.0151 - val_accuracy: 0.9023\n",
            "WARNING:tensorflow:Early stopping conditioned on metric `val_mae` which is not available. Available metrics are: loss,accuracy,val_loss,val_accuracy\n",
            "WARNING:tensorflow:Can save best model only with val_mae available, skipping.\n",
            "Epoch 88/100\n",
            "375/375 [==============================] - 7s 19ms/step - loss: 0.0095 - accuracy: 0.9392 - val_loss: 0.0154 - val_accuracy: 0.9016\n",
            "WARNING:tensorflow:Early stopping conditioned on metric `val_mae` which is not available. Available metrics are: loss,accuracy,val_loss,val_accuracy\n",
            "WARNING:tensorflow:Can save best model only with val_mae available, skipping.\n",
            "Epoch 89/100\n",
            "375/375 [==============================] - 7s 19ms/step - loss: 0.0094 - accuracy: 0.9401 - val_loss: 0.0156 - val_accuracy: 0.9003\n",
            "WARNING:tensorflow:Early stopping conditioned on metric `val_mae` which is not available. Available metrics are: loss,accuracy,val_loss,val_accuracy\n",
            "WARNING:tensorflow:Can save best model only with val_mae available, skipping.\n",
            "Epoch 90/100\n",
            "375/375 [==============================] - 7s 19ms/step - loss: 0.0092 - accuracy: 0.9412 - val_loss: 0.0159 - val_accuracy: 0.9018\n",
            "WARNING:tensorflow:Early stopping conditioned on metric `val_mae` which is not available. Available metrics are: loss,accuracy,val_loss,val_accuracy\n",
            "WARNING:tensorflow:Can save best model only with val_mae available, skipping.\n",
            "Epoch 91/100\n",
            "375/375 [==============================] - 7s 19ms/step - loss: 0.0093 - accuracy: 0.9419 - val_loss: 0.0168 - val_accuracy: 0.8975\n",
            "WARNING:tensorflow:Early stopping conditioned on metric `val_mae` which is not available. Available metrics are: loss,accuracy,val_loss,val_accuracy\n",
            "WARNING:tensorflow:Can save best model only with val_mae available, skipping.\n",
            "Epoch 92/100\n",
            "375/375 [==============================] - 7s 19ms/step - loss: 0.0095 - accuracy: 0.9401 - val_loss: 0.0149 - val_accuracy: 0.9046\n",
            "WARNING:tensorflow:Early stopping conditioned on metric `val_mae` which is not available. Available metrics are: loss,accuracy,val_loss,val_accuracy\n",
            "WARNING:tensorflow:Can save best model only with val_mae available, skipping.\n",
            "Epoch 93/100\n",
            "375/375 [==============================] - 7s 19ms/step - loss: 0.0092 - accuracy: 0.9422 - val_loss: 0.0157 - val_accuracy: 0.9007\n",
            "WARNING:tensorflow:Early stopping conditioned on metric `val_mae` which is not available. Available metrics are: loss,accuracy,val_loss,val_accuracy\n",
            "WARNING:tensorflow:Can save best model only with val_mae available, skipping.\n",
            "Epoch 94/100\n",
            "375/375 [==============================] - 7s 19ms/step - loss: 0.0094 - accuracy: 0.9407 - val_loss: 0.0160 - val_accuracy: 0.9007\n",
            "WARNING:tensorflow:Early stopping conditioned on metric `val_mae` which is not available. Available metrics are: loss,accuracy,val_loss,val_accuracy\n",
            "WARNING:tensorflow:Can save best model only with val_mae available, skipping.\n",
            "Epoch 95/100\n",
            "375/375 [==============================] - 7s 19ms/step - loss: 0.0093 - accuracy: 0.9398 - val_loss: 0.0163 - val_accuracy: 0.8955\n",
            "WARNING:tensorflow:Early stopping conditioned on metric `val_mae` which is not available. Available metrics are: loss,accuracy,val_loss,val_accuracy\n",
            "WARNING:tensorflow:Can save best model only with val_mae available, skipping.\n",
            "Epoch 96/100\n",
            "375/375 [==============================] - 7s 19ms/step - loss: 0.0091 - accuracy: 0.9425 - val_loss: 0.0155 - val_accuracy: 0.9032\n",
            "WARNING:tensorflow:Early stopping conditioned on metric `val_mae` which is not available. Available metrics are: loss,accuracy,val_loss,val_accuracy\n",
            "WARNING:tensorflow:Can save best model only with val_mae available, skipping.\n",
            "Epoch 97/100\n",
            "375/375 [==============================] - 7s 19ms/step - loss: 0.0088 - accuracy: 0.9439 - val_loss: 0.0172 - val_accuracy: 0.8943\n",
            "WARNING:tensorflow:Early stopping conditioned on metric `val_mae` which is not available. Available metrics are: loss,accuracy,val_loss,val_accuracy\n",
            "WARNING:tensorflow:Can save best model only with val_mae available, skipping.\n",
            "Epoch 98/100\n",
            "375/375 [==============================] - 7s 20ms/step - loss: 0.0092 - accuracy: 0.9418 - val_loss: 0.0154 - val_accuracy: 0.9028\n",
            "WARNING:tensorflow:Early stopping conditioned on metric `val_mae` which is not available. Available metrics are: loss,accuracy,val_loss,val_accuracy\n",
            "WARNING:tensorflow:Can save best model only with val_mae available, skipping.\n",
            "Epoch 99/100\n",
            "375/375 [==============================] - 7s 19ms/step - loss: 0.0088 - accuracy: 0.9445 - val_loss: 0.0162 - val_accuracy: 0.8991\n",
            "WARNING:tensorflow:Early stopping conditioned on metric `val_mae` which is not available. Available metrics are: loss,accuracy,val_loss,val_accuracy\n",
            "WARNING:tensorflow:Can save best model only with val_mae available, skipping.\n",
            "Epoch 100/100\n",
            "375/375 [==============================] - 7s 19ms/step - loss: 0.0088 - accuracy: 0.9449 - val_loss: 0.0153 - val_accuracy: 0.9039\n",
            "WARNING:tensorflow:Early stopping conditioned on metric `val_mae` which is not available. Available metrics are: loss,accuracy,val_loss,val_accuracy\n",
            "WARNING:tensorflow:Can save best model only with val_mae available, skipping.\n",
            "CPU times: user 17min 24s, sys: 59.7 s, total: 18min 24s\n",
            "Wall time: 11min 44s\n"
          ],
          "name": "stdout"
        }
      ]
    },
    {
      "cell_type": "markdown",
      "metadata": {
        "id": "1jjnkD9UaAJS"
      },
      "source": [
        "> ## 5) Best Model"
      ]
    },
    {
      "cell_type": "code",
      "metadata": {
        "colab": {
          "base_uri": "https://localhost:8080/"
        },
        "id": "bbIFk40Xe6J1",
        "outputId": "8e48cecb-90a5-44e9-f101-89b900bc6f69"
      },
      "source": [
        "!ls -l"
      ],
      "execution_count": 59,
      "outputs": [
        {
          "output_type": "stream",
          "text": [
            "total 4528\n",
            "-rw-r--r-- 1 root root 4629328 Mar 19 09:24 best_fashion.h5\n",
            "drwxr-xr-x 1 root root    4096 Mar  5 14:37 sample_data\n"
          ],
          "name": "stdout"
        }
      ]
    },
    {
      "cell_type": "markdown",
      "metadata": {
        "id": "-jJSnnNZe7Vk"
      },
      "source": [
        "> ## 6) Model Evaluate"
      ]
    },
    {
      "cell_type": "code",
      "metadata": {
        "colab": {
          "base_uri": "https://localhost:8080/"
        },
        "id": "6AVPHFyDe9g5",
        "outputId": "dfb85e52-1a57-4db1-d901-69bd0c0a76e1"
      },
      "source": [
        "loss, accuracy = mnist.evaluate(X_test, y_test)\n",
        "\n",
        "print(f'Loss = {loss:.5f} \\nAccuracy = {accuracy:.5f}')"
      ],
      "execution_count": 64,
      "outputs": [
        {
          "output_type": "stream",
          "text": [
            "313/313 [==============================] - 1s 3ms/step - loss: 0.0167 - accuracy: 0.8945\n",
            "Loss = 0.01672 \n",
            "Accuracy = 0.89450\n"
          ],
          "name": "stdout"
        }
      ]
    },
    {
      "cell_type": "code",
      "metadata": {
        "id": "ysse16Gauazq"
      },
      "source": [
        ""
      ],
      "execution_count": null,
      "outputs": []
    }
  ]
}