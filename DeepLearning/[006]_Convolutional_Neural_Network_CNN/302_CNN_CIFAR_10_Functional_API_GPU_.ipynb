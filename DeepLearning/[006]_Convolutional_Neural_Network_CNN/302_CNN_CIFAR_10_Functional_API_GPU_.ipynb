{
  "nbformat": 4,
  "nbformat_minor": 0,
  "metadata": {
    "colab": {
      "name": "302_CNN_CIFAR_10_Functional_API_GPU..ipynb",
      "provenance": [],
      "collapsed_sections": []
    },
    "kernelspec": {
      "name": "python3",
      "display_name": "Python 3"
    },
    "accelerator": "GPU"
  },
  "cells": [
    {
      "cell_type": "markdown",
      "metadata": {
        "id": "q2Pr7oBdYLdf"
      },
      "source": [
        "# CIFAR 10 - Functional API Modeling"
      ]
    },
    {
      "cell_type": "code",
      "metadata": {
        "id": "RbPgODpVzdHI"
      },
      "source": [
        "import warnings\n",
        "warnings.filterwarnings('ignore')"
      ],
      "execution_count": 1,
      "outputs": []
    },
    {
      "cell_type": "markdown",
      "metadata": {
        "id": "MPISe865ZBcL"
      },
      "source": [
        "# Import Tensorflow & Keras"
      ]
    },
    {
      "cell_type": "markdown",
      "metadata": {
        "id": "tUvJIk2aRFtw"
      },
      "source": [
        "* import Keras"
      ]
    },
    {
      "cell_type": "code",
      "metadata": {
        "id": "GR4j3p6N_rDV",
        "colab": {
          "base_uri": "https://localhost:8080/",
          "height": 35
        },
        "outputId": "e954ad5f-5130-41c6-fdb5-dd064bfd144c"
      },
      "source": [
        "import keras\n",
        "\n",
        "keras.__version__"
      ],
      "execution_count": 2,
      "outputs": [
        {
          "output_type": "execute_result",
          "data": {
            "application/vnd.google.colaboratory.intrinsic+json": {
              "type": "string"
            },
            "text/plain": [
              "'2.4.3'"
            ]
          },
          "metadata": {
            "tags": []
          },
          "execution_count": 2
        }
      ]
    },
    {
      "cell_type": "markdown",
      "metadata": {
        "id": "H49A769LYp-a"
      },
      "source": [
        "# I. CIFAR 10 Data_Set Load & Review"
      ]
    },
    {
      "cell_type": "markdown",
      "metadata": {
        "id": "vb6EIkRcbPb4"
      },
      "source": [
        "> ## 1) Load CIFAR 10 Data_Set"
      ]
    },
    {
      "cell_type": "code",
      "metadata": {
        "id": "DxstjE8b_6Te",
        "colab": {
          "base_uri": "https://localhost:8080/"
        },
        "outputId": "009005de-bc38-4618-add9-34cf448f8de6"
      },
      "source": [
        "from keras.datasets import cifar10\n",
        "\n",
        "(X_train, y_train), (X_test, y_test) = cifar10.load_data()"
      ],
      "execution_count": 3,
      "outputs": [
        {
          "output_type": "stream",
          "text": [
            "Downloading data from https://www.cs.toronto.edu/~kriz/cifar-10-python.tar.gz\n",
            "170500096/170498071 [==============================] - 11s 0us/step\n"
          ],
          "name": "stdout"
        }
      ]
    },
    {
      "cell_type": "markdown",
      "metadata": {
        "id": "Mt11QE0EHCiJ"
      },
      "source": [
        "* Train_Data Information"
      ]
    },
    {
      "cell_type": "code",
      "metadata": {
        "id": "KT_Mr_Hb__VH",
        "colab": {
          "base_uri": "https://localhost:8080/"
        },
        "outputId": "1f233094-870b-4f14-f89e-7571e6edca92"
      },
      "source": [
        "print(len(X_train))\n",
        "print(X_train.shape)\n",
        "\n",
        "print(len(y_train))\n",
        "print(y_train[0:5])"
      ],
      "execution_count": 4,
      "outputs": [
        {
          "output_type": "stream",
          "text": [
            "50000\n",
            "(50000, 32, 32, 3)\n",
            "50000\n",
            "[[6]\n",
            " [9]\n",
            " [9]\n",
            " [4]\n",
            " [1]]\n"
          ],
          "name": "stdout"
        }
      ]
    },
    {
      "cell_type": "markdown",
      "metadata": {
        "id": "QolAqIwgHGRI"
      },
      "source": [
        "* Test_Data Information"
      ]
    },
    {
      "cell_type": "code",
      "metadata": {
        "id": "NtkD2BKUANZE",
        "colab": {
          "base_uri": "https://localhost:8080/"
        },
        "outputId": "531867fe-59b5-4564-ef66-8f4fb17263d7"
      },
      "source": [
        "print(len(X_test))\n",
        "print(X_test.shape)\n",
        "\n",
        "print(len(y_test))\n",
        "print(y_test[0:5])"
      ],
      "execution_count": 5,
      "outputs": [
        {
          "output_type": "stream",
          "text": [
            "10000\n",
            "(10000, 32, 32, 3)\n",
            "10000\n",
            "[[3]\n",
            " [8]\n",
            " [8]\n",
            " [0]\n",
            " [6]]\n"
          ],
          "name": "stdout"
        }
      ]
    },
    {
      "cell_type": "markdown",
      "metadata": {
        "id": "Mk9XL5vGHor6"
      },
      "source": [
        "# II. Data Preprocessing"
      ]
    },
    {
      "cell_type": "markdown",
      "metadata": {
        "id": "ec8zU4XCZRUF"
      },
      "source": [
        "> ## 1) Normalization"
      ]
    },
    {
      "cell_type": "code",
      "metadata": {
        "id": "SoGHuYeFIGBj"
      },
      "source": [
        "X_train = X_train.astype(float) / 255\n",
        "X_test = X_test.astype(float) / 255"
      ],
      "execution_count": 6,
      "outputs": []
    },
    {
      "cell_type": "code",
      "metadata": {
        "id": "m1HezAboV-x8",
        "colab": {
          "base_uri": "https://localhost:8080/"
        },
        "outputId": "62d957f7-1172-48eb-c89b-8305fdc579de"
      },
      "source": [
        "print(X_train[0])"
      ],
      "execution_count": 7,
      "outputs": [
        {
          "output_type": "stream",
          "text": [
            "[[[0.23137255 0.24313725 0.24705882]\n",
            "  [0.16862745 0.18039216 0.17647059]\n",
            "  [0.19607843 0.18823529 0.16862745]\n",
            "  ...\n",
            "  [0.61960784 0.51764706 0.42352941]\n",
            "  [0.59607843 0.49019608 0.4       ]\n",
            "  [0.58039216 0.48627451 0.40392157]]\n",
            "\n",
            " [[0.0627451  0.07843137 0.07843137]\n",
            "  [0.         0.         0.        ]\n",
            "  [0.07058824 0.03137255 0.        ]\n",
            "  ...\n",
            "  [0.48235294 0.34509804 0.21568627]\n",
            "  [0.46666667 0.3254902  0.19607843]\n",
            "  [0.47843137 0.34117647 0.22352941]]\n",
            "\n",
            " [[0.09803922 0.09411765 0.08235294]\n",
            "  [0.0627451  0.02745098 0.        ]\n",
            "  [0.19215686 0.10588235 0.03137255]\n",
            "  ...\n",
            "  [0.4627451  0.32941176 0.19607843]\n",
            "  [0.47058824 0.32941176 0.19607843]\n",
            "  [0.42745098 0.28627451 0.16470588]]\n",
            "\n",
            " ...\n",
            "\n",
            " [[0.81568627 0.66666667 0.37647059]\n",
            "  [0.78823529 0.6        0.13333333]\n",
            "  [0.77647059 0.63137255 0.10196078]\n",
            "  ...\n",
            "  [0.62745098 0.52156863 0.2745098 ]\n",
            "  [0.21960784 0.12156863 0.02745098]\n",
            "  [0.20784314 0.13333333 0.07843137]]\n",
            "\n",
            " [[0.70588235 0.54509804 0.37647059]\n",
            "  [0.67843137 0.48235294 0.16470588]\n",
            "  [0.72941176 0.56470588 0.11764706]\n",
            "  ...\n",
            "  [0.72156863 0.58039216 0.36862745]\n",
            "  [0.38039216 0.24313725 0.13333333]\n",
            "  [0.3254902  0.20784314 0.13333333]]\n",
            "\n",
            " [[0.69411765 0.56470588 0.45490196]\n",
            "  [0.65882353 0.50588235 0.36862745]\n",
            "  [0.70196078 0.55686275 0.34117647]\n",
            "  ...\n",
            "  [0.84705882 0.72156863 0.54901961]\n",
            "  [0.59215686 0.4627451  0.32941176]\n",
            "  [0.48235294 0.36078431 0.28235294]]]\n"
          ],
          "name": "stdout"
        }
      ]
    },
    {
      "cell_type": "markdown",
      "metadata": {
        "id": "BtSROU80aF12"
      },
      "source": [
        "> ## 2) One Hot Encoding"
      ]
    },
    {
      "cell_type": "code",
      "metadata": {
        "id": "eC48Oym3Ao8E"
      },
      "source": [
        "from keras.utils import to_categorical\n",
        "\n",
        "y_train = to_categorical(y_train)\n",
        "y_test = to_categorical(y_test)"
      ],
      "execution_count": 8,
      "outputs": []
    },
    {
      "cell_type": "code",
      "metadata": {
        "id": "q1O-NsoJMyWU",
        "colab": {
          "base_uri": "https://localhost:8080/"
        },
        "outputId": "b5e6bce1-8f8c-4e01-ef53-ef9c33970e04"
      },
      "source": [
        "print(y_train[:5])"
      ],
      "execution_count": 9,
      "outputs": [
        {
          "output_type": "stream",
          "text": [
            "[[0. 0. 0. 0. 0. 0. 1. 0. 0. 0.]\n",
            " [0. 0. 0. 0. 0. 0. 0. 0. 0. 1.]\n",
            " [0. 0. 0. 0. 0. 0. 0. 0. 0. 1.]\n",
            " [0. 0. 0. 0. 1. 0. 0. 0. 0. 0.]\n",
            " [0. 1. 0. 0. 0. 0. 0. 0. 0. 0.]]\n"
          ],
          "name": "stdout"
        }
      ]
    },
    {
      "cell_type": "markdown",
      "metadata": {
        "id": "NTwZiSjiop3v"
      },
      "source": [
        "# III. Keras Modeling"
      ]
    },
    {
      "cell_type": "markdown",
      "metadata": {
        "id": "j5CT0TurJCkc"
      },
      "source": [
        "> ## 1) Model Define"
      ]
    },
    {
      "cell_type": "markdown",
      "metadata": {
        "id": "ydDCl0jTJD58"
      },
      "source": [
        "* 모델 신경망 구조 정의"
      ]
    },
    {
      "cell_type": "code",
      "metadata": {
        "id": "II0DskRdAcHS"
      },
      "source": [
        "from keras import models\n",
        "from keras import layers\n",
        "\n",
        "input_img = layers.Input((32,32,3))\n",
        "\n",
        "x = layers.Conv2D(filters = 32, kernel_size = (3, 3), strides = (1, 1), padding = 'same')(input_img)\n",
        "x = layers.BatchNormalization()(x)\n",
        "x = layers.LeakyReLU()(x)\n",
        "\n",
        "x = layers.Conv2D(filters = 32, kernel_size = (3, 3), strides = (2, 2), padding = 'same')(x)\n",
        "x = layers.BatchNormalization()(x)\n",
        "x = layers.LeakyReLU()(x)\n",
        "\n",
        "x = layers.Conv2D(filters = 64, kernel_size = (3, 3), strides = (1, 1), padding = 'same')(x)\n",
        "x = layers.BatchNormalization()(x)\n",
        "x = layers.LeakyReLU()(x)\n",
        "\n",
        "x = layers.Conv2D(filters = 64, kernel_size = (3, 3), strides = (2, 2), padding = 'same')(x)\n",
        "x = layers.BatchNormalization()(x)\n",
        "x = layers.LeakyReLU()(x)\n",
        "\n",
        "x = layers.Flatten()(x)\n",
        "\n",
        "x = layers.Dense(128)(x)\n",
        "x = layers.BatchNormalization()(x)\n",
        "x = layers.LeakyReLU()(x)\n",
        "x = layers.Dropout(0.5)(x)\n",
        "\n",
        "x = layers.Dense(10)(x)\n",
        "output_y_hat = layers.Activation('softmax')(x)\n",
        "\n",
        "CIFAR = models.Model(input_img, output_y_hat)"
      ],
      "execution_count": 13,
      "outputs": []
    },
    {
      "cell_type": "markdown",
      "metadata": {
        "id": "PqrObAHZJTN8"
      },
      "source": [
        "* 모델 구조 확인"
      ]
    },
    {
      "cell_type": "code",
      "metadata": {
        "id": "wbtjOA4XMTUd",
        "colab": {
          "base_uri": "https://localhost:8080/"
        },
        "outputId": "da93f616-23c3-42a0-e0d7-0dfe81c04274"
      },
      "source": [
        "CIFAR.summary()"
      ],
      "execution_count": 14,
      "outputs": [
        {
          "output_type": "stream",
          "text": [
            "Model: \"model\"\n",
            "_________________________________________________________________\n",
            "Layer (type)                 Output Shape              Param #   \n",
            "=================================================================\n",
            "input_1 (InputLayer)         [(None, 32, 32, 3)]       0         \n",
            "_________________________________________________________________\n",
            "conv2d (Conv2D)              (None, 32, 32, 32)        896       \n",
            "_________________________________________________________________\n",
            "batch_normalization (BatchNo (None, 32, 32, 32)        128       \n",
            "_________________________________________________________________\n",
            "leaky_re_lu (LeakyReLU)      (None, 32, 32, 32)        0         \n",
            "_________________________________________________________________\n",
            "conv2d_1 (Conv2D)            (None, 16, 16, 32)        9248      \n",
            "_________________________________________________________________\n",
            "batch_normalization_1 (Batch (None, 16, 16, 32)        128       \n",
            "_________________________________________________________________\n",
            "leaky_re_lu_1 (LeakyReLU)    (None, 16, 16, 32)        0         \n",
            "_________________________________________________________________\n",
            "conv2d_2 (Conv2D)            (None, 16, 16, 64)        18496     \n",
            "_________________________________________________________________\n",
            "batch_normalization_2 (Batch (None, 16, 16, 64)        256       \n",
            "_________________________________________________________________\n",
            "leaky_re_lu_2 (LeakyReLU)    (None, 16, 16, 64)        0         \n",
            "_________________________________________________________________\n",
            "conv2d_3 (Conv2D)            (None, 8, 8, 64)          36928     \n",
            "_________________________________________________________________\n",
            "batch_normalization_3 (Batch (None, 8, 8, 64)          256       \n",
            "_________________________________________________________________\n",
            "leaky_re_lu_3 (LeakyReLU)    (None, 8, 8, 64)          0         \n",
            "_________________________________________________________________\n",
            "flatten (Flatten)            (None, 4096)              0         \n",
            "_________________________________________________________________\n",
            "dense (Dense)                (None, 128)               524416    \n",
            "_________________________________________________________________\n",
            "batch_normalization_4 (Batch (None, 128)               512       \n",
            "_________________________________________________________________\n",
            "leaky_re_lu_4 (LeakyReLU)    (None, 128)               0         \n",
            "_________________________________________________________________\n",
            "dropout (Dropout)            (None, 128)               0         \n",
            "_________________________________________________________________\n",
            "dense_1 (Dense)              (None, 10)                1290      \n",
            "_________________________________________________________________\n",
            "activation (Activation)      (None, 10)                0         \n",
            "=================================================================\n",
            "Total params: 592,554\n",
            "Trainable params: 591,914\n",
            "Non-trainable params: 640\n",
            "_________________________________________________________________\n"
          ],
          "name": "stdout"
        }
      ]
    },
    {
      "cell_type": "markdown",
      "metadata": {
        "id": "tpjBDBeYoyuj"
      },
      "source": [
        "> ## 2) Model Compile"
      ]
    },
    {
      "cell_type": "markdown",
      "metadata": {
        "id": "f3sxkQa0JoUr"
      },
      "source": [
        "* 모델 학습방법 설정"
      ]
    },
    {
      "cell_type": "code",
      "metadata": {
        "id": "AyK_t1qwAi6M"
      },
      "source": [
        "CIFAR.compile(loss = 'categorical_crossentropy',\n",
        "              optimizer = 'adam',\n",
        "              metrics = ['accuracy'])"
      ],
      "execution_count": 15,
      "outputs": []
    },
    {
      "cell_type": "markdown",
      "metadata": {
        "id": "umiq4B-Xo3OB"
      },
      "source": [
        "> ## 3) Model Fit"
      ]
    },
    {
      "cell_type": "markdown",
      "metadata": {
        "id": "1KuXREziKMD1"
      },
      "source": [
        "* 약 6분"
      ]
    },
    {
      "cell_type": "code",
      "metadata": {
        "id": "zxwqwAqRAqRP",
        "colab": {
          "base_uri": "https://localhost:8080/"
        },
        "outputId": "17e70736-f8ac-4dbd-a562-093aea57277d"
      },
      "source": [
        "%%time\n",
        "\n",
        "Hist_CIFAR = CIFAR.fit(X_train, y_train,\n",
        "                       epochs = 100,\n",
        "                       batch_size = 128,\n",
        "                       validation_split = 0.2)"
      ],
      "execution_count": 16,
      "outputs": [
        {
          "output_type": "stream",
          "text": [
            "Epoch 1/100\n",
            "313/313 [==============================] - 38s 27ms/step - loss: 1.8216 - accuracy: 0.3805 - val_loss: 2.1509 - val_accuracy: 0.2684\n",
            "Epoch 2/100\n",
            "313/313 [==============================] - 7s 24ms/step - loss: 1.2141 - accuracy: 0.5702 - val_loss: 1.4102 - val_accuracy: 0.5255\n",
            "Epoch 3/100\n",
            "313/313 [==============================] - 7s 24ms/step - loss: 1.0317 - accuracy: 0.6396 - val_loss: 1.2078 - val_accuracy: 0.5985\n",
            "Epoch 4/100\n",
            "313/313 [==============================] - 7s 24ms/step - loss: 0.9244 - accuracy: 0.6722 - val_loss: 1.1299 - val_accuracy: 0.6070\n",
            "Epoch 5/100\n",
            "313/313 [==============================] - 7s 24ms/step - loss: 0.8490 - accuracy: 0.7015 - val_loss: 1.0111 - val_accuracy: 0.6666\n",
            "Epoch 6/100\n",
            "313/313 [==============================] - 7s 24ms/step - loss: 0.7792 - accuracy: 0.7253 - val_loss: 0.8829 - val_accuracy: 0.7001\n",
            "Epoch 7/100\n",
            "313/313 [==============================] - 7s 24ms/step - loss: 0.7402 - accuracy: 0.7430 - val_loss: 0.9130 - val_accuracy: 0.6849\n",
            "Epoch 8/100\n",
            "313/313 [==============================] - 7s 24ms/step - loss: 0.6838 - accuracy: 0.7605 - val_loss: 0.9147 - val_accuracy: 0.6877\n",
            "Epoch 9/100\n",
            "313/313 [==============================] - 7s 24ms/step - loss: 0.6424 - accuracy: 0.7768 - val_loss: 0.8900 - val_accuracy: 0.7013\n",
            "Epoch 10/100\n",
            "313/313 [==============================] - 7s 24ms/step - loss: 0.6121 - accuracy: 0.7831 - val_loss: 1.0242 - val_accuracy: 0.6746\n",
            "Epoch 11/100\n",
            "313/313 [==============================] - 7s 24ms/step - loss: 0.5776 - accuracy: 0.7953 - val_loss: 0.8989 - val_accuracy: 0.6982\n",
            "Epoch 12/100\n",
            "313/313 [==============================] - 8s 24ms/step - loss: 0.5418 - accuracy: 0.8106 - val_loss: 0.9289 - val_accuracy: 0.6930\n",
            "Epoch 13/100\n",
            "313/313 [==============================] - 7s 24ms/step - loss: 0.5156 - accuracy: 0.8186 - val_loss: 0.9797 - val_accuracy: 0.6957\n",
            "Epoch 14/100\n",
            "313/313 [==============================] - 7s 24ms/step - loss: 0.4705 - accuracy: 0.8321 - val_loss: 1.2145 - val_accuracy: 0.6549\n",
            "Epoch 15/100\n",
            "313/313 [==============================] - 7s 24ms/step - loss: 0.4482 - accuracy: 0.8431 - val_loss: 1.0760 - val_accuracy: 0.6807\n",
            "Epoch 16/100\n",
            "313/313 [==============================] - 7s 24ms/step - loss: 0.4158 - accuracy: 0.8522 - val_loss: 1.0080 - val_accuracy: 0.7010\n",
            "Epoch 17/100\n",
            "313/313 [==============================] - 7s 24ms/step - loss: 0.3935 - accuracy: 0.8587 - val_loss: 0.9601 - val_accuracy: 0.7079\n",
            "Epoch 18/100\n",
            "313/313 [==============================] - 7s 24ms/step - loss: 0.3780 - accuracy: 0.8681 - val_loss: 0.9352 - val_accuracy: 0.7231\n",
            "Epoch 19/100\n",
            "313/313 [==============================] - 7s 24ms/step - loss: 0.3568 - accuracy: 0.8738 - val_loss: 1.1923 - val_accuracy: 0.6786\n",
            "Epoch 20/100\n",
            "313/313 [==============================] - 7s 24ms/step - loss: 0.3385 - accuracy: 0.8820 - val_loss: 1.0885 - val_accuracy: 0.6924\n",
            "Epoch 21/100\n",
            "313/313 [==============================] - 7s 24ms/step - loss: 0.3164 - accuracy: 0.8862 - val_loss: 1.1178 - val_accuracy: 0.7010\n",
            "Epoch 22/100\n",
            "313/313 [==============================] - 7s 24ms/step - loss: 0.3091 - accuracy: 0.8905 - val_loss: 1.1428 - val_accuracy: 0.6936\n",
            "Epoch 23/100\n",
            "313/313 [==============================] - 8s 24ms/step - loss: 0.2853 - accuracy: 0.8960 - val_loss: 1.1831 - val_accuracy: 0.6925\n",
            "Epoch 24/100\n",
            "313/313 [==============================] - 7s 24ms/step - loss: 0.2767 - accuracy: 0.9028 - val_loss: 1.1726 - val_accuracy: 0.7009\n",
            "Epoch 25/100\n",
            "313/313 [==============================] - 7s 24ms/step - loss: 0.2631 - accuracy: 0.9050 - val_loss: 1.1854 - val_accuracy: 0.6981\n",
            "Epoch 26/100\n",
            "313/313 [==============================] - 7s 24ms/step - loss: 0.2575 - accuracy: 0.9092 - val_loss: 1.1039 - val_accuracy: 0.7156\n",
            "Epoch 27/100\n",
            "313/313 [==============================] - 7s 24ms/step - loss: 0.2350 - accuracy: 0.9162 - val_loss: 1.1965 - val_accuracy: 0.7006\n",
            "Epoch 28/100\n",
            "313/313 [==============================] - 7s 24ms/step - loss: 0.2256 - accuracy: 0.9193 - val_loss: 1.2048 - val_accuracy: 0.6983\n",
            "Epoch 29/100\n",
            "313/313 [==============================] - 7s 24ms/step - loss: 0.2227 - accuracy: 0.9195 - val_loss: 1.2137 - val_accuracy: 0.7046\n",
            "Epoch 30/100\n",
            "313/313 [==============================] - 7s 24ms/step - loss: 0.2151 - accuracy: 0.9211 - val_loss: 1.1672 - val_accuracy: 0.7174\n",
            "Epoch 31/100\n",
            "313/313 [==============================] - 7s 24ms/step - loss: 0.2089 - accuracy: 0.9235 - val_loss: 1.2344 - val_accuracy: 0.7138\n",
            "Epoch 32/100\n",
            "313/313 [==============================] - 7s 24ms/step - loss: 0.1919 - accuracy: 0.9321 - val_loss: 1.2172 - val_accuracy: 0.7091\n",
            "Epoch 33/100\n",
            "313/313 [==============================] - 7s 24ms/step - loss: 0.1886 - accuracy: 0.9315 - val_loss: 1.2539 - val_accuracy: 0.7103\n",
            "Epoch 34/100\n",
            "313/313 [==============================] - 7s 24ms/step - loss: 0.1843 - accuracy: 0.9353 - val_loss: 1.2965 - val_accuracy: 0.7137\n",
            "Epoch 35/100\n",
            "313/313 [==============================] - 7s 24ms/step - loss: 0.1825 - accuracy: 0.9350 - val_loss: 1.3640 - val_accuracy: 0.7168\n",
            "Epoch 36/100\n",
            "313/313 [==============================] - 7s 24ms/step - loss: 0.1710 - accuracy: 0.9375 - val_loss: 1.4239 - val_accuracy: 0.6947\n",
            "Epoch 37/100\n",
            "313/313 [==============================] - 7s 24ms/step - loss: 0.1710 - accuracy: 0.9387 - val_loss: 1.3291 - val_accuracy: 0.7065\n",
            "Epoch 38/100\n",
            "313/313 [==============================] - 7s 24ms/step - loss: 0.1604 - accuracy: 0.9429 - val_loss: 1.4596 - val_accuracy: 0.7044\n",
            "Epoch 39/100\n",
            "313/313 [==============================] - 7s 24ms/step - loss: 0.1646 - accuracy: 0.9401 - val_loss: 1.4305 - val_accuracy: 0.6997\n",
            "Epoch 40/100\n",
            "313/313 [==============================] - 8s 24ms/step - loss: 0.1492 - accuracy: 0.9472 - val_loss: 1.4058 - val_accuracy: 0.7128\n",
            "Epoch 41/100\n",
            "313/313 [==============================] - 7s 24ms/step - loss: 0.1537 - accuracy: 0.9462 - val_loss: 1.3179 - val_accuracy: 0.7160\n",
            "Epoch 42/100\n",
            "313/313 [==============================] - 8s 24ms/step - loss: 0.1471 - accuracy: 0.9480 - val_loss: 1.5325 - val_accuracy: 0.6992\n",
            "Epoch 43/100\n",
            "313/313 [==============================] - 8s 24ms/step - loss: 0.1459 - accuracy: 0.9493 - val_loss: 1.4687 - val_accuracy: 0.7079\n",
            "Epoch 44/100\n",
            "313/313 [==============================] - 8s 24ms/step - loss: 0.1356 - accuracy: 0.9522 - val_loss: 1.8589 - val_accuracy: 0.6846\n",
            "Epoch 45/100\n",
            "313/313 [==============================] - 8s 24ms/step - loss: 0.1290 - accuracy: 0.9538 - val_loss: 1.5773 - val_accuracy: 0.7022\n",
            "Epoch 46/100\n",
            "313/313 [==============================] - 8s 24ms/step - loss: 0.1304 - accuracy: 0.9537 - val_loss: 1.5058 - val_accuracy: 0.7036\n",
            "Epoch 47/100\n",
            "313/313 [==============================] - 8s 24ms/step - loss: 0.1393 - accuracy: 0.9488 - val_loss: 1.4527 - val_accuracy: 0.7126\n",
            "Epoch 48/100\n",
            "313/313 [==============================] - 8s 24ms/step - loss: 0.1267 - accuracy: 0.9554 - val_loss: 1.5111 - val_accuracy: 0.7062\n",
            "Epoch 49/100\n",
            "313/313 [==============================] - 8s 24ms/step - loss: 0.1224 - accuracy: 0.9561 - val_loss: 1.5366 - val_accuracy: 0.7116\n",
            "Epoch 50/100\n",
            "313/313 [==============================] - 8s 24ms/step - loss: 0.1219 - accuracy: 0.9561 - val_loss: 1.5456 - val_accuracy: 0.7130\n",
            "Epoch 51/100\n",
            "313/313 [==============================] - 8s 24ms/step - loss: 0.1283 - accuracy: 0.9520 - val_loss: 1.6175 - val_accuracy: 0.7065\n",
            "Epoch 52/100\n",
            "313/313 [==============================] - 7s 24ms/step - loss: 0.1221 - accuracy: 0.9551 - val_loss: 1.6529 - val_accuracy: 0.6970\n",
            "Epoch 53/100\n",
            "313/313 [==============================] - 7s 24ms/step - loss: 0.1140 - accuracy: 0.9603 - val_loss: 1.6504 - val_accuracy: 0.6951\n",
            "Epoch 54/100\n",
            "313/313 [==============================] - 7s 24ms/step - loss: 0.1059 - accuracy: 0.9625 - val_loss: 1.6870 - val_accuracy: 0.6992\n",
            "Epoch 55/100\n",
            "313/313 [==============================] - 7s 24ms/step - loss: 0.1130 - accuracy: 0.9606 - val_loss: 1.6199 - val_accuracy: 0.7092\n",
            "Epoch 56/100\n",
            "313/313 [==============================] - 7s 24ms/step - loss: 0.1096 - accuracy: 0.9619 - val_loss: 1.6835 - val_accuracy: 0.7042\n",
            "Epoch 57/100\n",
            "313/313 [==============================] - 8s 24ms/step - loss: 0.1058 - accuracy: 0.9627 - val_loss: 1.6461 - val_accuracy: 0.7058\n",
            "Epoch 58/100\n",
            "313/313 [==============================] - 8s 24ms/step - loss: 0.1017 - accuracy: 0.9638 - val_loss: 1.5985 - val_accuracy: 0.7089\n",
            "Epoch 59/100\n",
            "313/313 [==============================] - 7s 24ms/step - loss: 0.1027 - accuracy: 0.9629 - val_loss: 1.6643 - val_accuracy: 0.7102\n",
            "Epoch 60/100\n",
            "313/313 [==============================] - 7s 24ms/step - loss: 0.1007 - accuracy: 0.9636 - val_loss: 1.6978 - val_accuracy: 0.7036\n",
            "Epoch 61/100\n",
            "313/313 [==============================] - 8s 24ms/step - loss: 0.1047 - accuracy: 0.9626 - val_loss: 1.8462 - val_accuracy: 0.6929\n",
            "Epoch 62/100\n",
            "313/313 [==============================] - 7s 24ms/step - loss: 0.0951 - accuracy: 0.9653 - val_loss: 1.6917 - val_accuracy: 0.7060\n",
            "Epoch 63/100\n",
            "313/313 [==============================] - 8s 24ms/step - loss: 0.0942 - accuracy: 0.9670 - val_loss: 1.6664 - val_accuracy: 0.7096\n",
            "Epoch 64/100\n",
            "313/313 [==============================] - 7s 24ms/step - loss: 0.0923 - accuracy: 0.9682 - val_loss: 1.8042 - val_accuracy: 0.6943\n",
            "Epoch 65/100\n",
            "313/313 [==============================] - 7s 24ms/step - loss: 0.0939 - accuracy: 0.9661 - val_loss: 1.7935 - val_accuracy: 0.7056\n",
            "Epoch 66/100\n",
            "313/313 [==============================] - 7s 24ms/step - loss: 0.0996 - accuracy: 0.9657 - val_loss: 1.6789 - val_accuracy: 0.7134\n",
            "Epoch 67/100\n",
            "313/313 [==============================] - 8s 24ms/step - loss: 0.0916 - accuracy: 0.9675 - val_loss: 1.7518 - val_accuracy: 0.7070\n",
            "Epoch 68/100\n",
            "313/313 [==============================] - 8s 24ms/step - loss: 0.0909 - accuracy: 0.9684 - val_loss: 1.8042 - val_accuracy: 0.7053\n",
            "Epoch 69/100\n",
            "313/313 [==============================] - 7s 24ms/step - loss: 0.0899 - accuracy: 0.9685 - val_loss: 1.8353 - val_accuracy: 0.6985\n",
            "Epoch 70/100\n",
            "313/313 [==============================] - 7s 24ms/step - loss: 0.0936 - accuracy: 0.9670 - val_loss: 1.7398 - val_accuracy: 0.7125\n",
            "Epoch 71/100\n",
            "313/313 [==============================] - 7s 24ms/step - loss: 0.0856 - accuracy: 0.9681 - val_loss: 1.8761 - val_accuracy: 0.7018\n",
            "Epoch 72/100\n",
            "313/313 [==============================] - 7s 24ms/step - loss: 0.0788 - accuracy: 0.9714 - val_loss: 1.8057 - val_accuracy: 0.7094\n",
            "Epoch 73/100\n",
            "313/313 [==============================] - 8s 24ms/step - loss: 0.0850 - accuracy: 0.9698 - val_loss: 1.9825 - val_accuracy: 0.6942\n",
            "Epoch 74/100\n",
            "313/313 [==============================] - 8s 24ms/step - loss: 0.0839 - accuracy: 0.9697 - val_loss: 1.9142 - val_accuracy: 0.6990\n",
            "Epoch 75/100\n",
            "313/313 [==============================] - 8s 24ms/step - loss: 0.0950 - accuracy: 0.9662 - val_loss: 1.8726 - val_accuracy: 0.6978\n",
            "Epoch 76/100\n",
            "313/313 [==============================] - 7s 24ms/step - loss: 0.0773 - accuracy: 0.9736 - val_loss: 1.8616 - val_accuracy: 0.7035\n",
            "Epoch 77/100\n",
            "313/313 [==============================] - 7s 24ms/step - loss: 0.0793 - accuracy: 0.9724 - val_loss: 1.8229 - val_accuracy: 0.7110\n",
            "Epoch 78/100\n",
            "313/313 [==============================] - 8s 24ms/step - loss: 0.0843 - accuracy: 0.9693 - val_loss: 1.7664 - val_accuracy: 0.7117\n",
            "Epoch 79/100\n",
            "313/313 [==============================] - 7s 24ms/step - loss: 0.0848 - accuracy: 0.9698 - val_loss: 2.0775 - val_accuracy: 0.6919\n",
            "Epoch 80/100\n",
            "313/313 [==============================] - 7s 24ms/step - loss: 0.0703 - accuracy: 0.9756 - val_loss: 1.8543 - val_accuracy: 0.7105\n",
            "Epoch 81/100\n",
            "313/313 [==============================] - 8s 24ms/step - loss: 0.0829 - accuracy: 0.9705 - val_loss: 1.9408 - val_accuracy: 0.6983\n",
            "Epoch 82/100\n",
            "313/313 [==============================] - 7s 24ms/step - loss: 0.0746 - accuracy: 0.9735 - val_loss: 2.0523 - val_accuracy: 0.6843\n",
            "Epoch 83/100\n",
            "313/313 [==============================] - 7s 24ms/step - loss: 0.0690 - accuracy: 0.9755 - val_loss: 1.8427 - val_accuracy: 0.7054\n",
            "Epoch 84/100\n",
            "313/313 [==============================] - 8s 24ms/step - loss: 0.0717 - accuracy: 0.9754 - val_loss: 1.8781 - val_accuracy: 0.7111\n",
            "Epoch 85/100\n",
            "313/313 [==============================] - 7s 24ms/step - loss: 0.0785 - accuracy: 0.9731 - val_loss: 1.9146 - val_accuracy: 0.6958\n",
            "Epoch 86/100\n",
            "313/313 [==============================] - 7s 24ms/step - loss: 0.0711 - accuracy: 0.9748 - val_loss: 2.1539 - val_accuracy: 0.6894\n",
            "Epoch 87/100\n",
            "313/313 [==============================] - 8s 24ms/step - loss: 0.0670 - accuracy: 0.9761 - val_loss: 1.9858 - val_accuracy: 0.7060\n",
            "Epoch 88/100\n",
            "313/313 [==============================] - 8s 24ms/step - loss: 0.0660 - accuracy: 0.9767 - val_loss: 1.9064 - val_accuracy: 0.7008\n",
            "Epoch 89/100\n",
            "313/313 [==============================] - 8s 24ms/step - loss: 0.0713 - accuracy: 0.9746 - val_loss: 1.9325 - val_accuracy: 0.6966\n",
            "Epoch 90/100\n",
            "313/313 [==============================] - 7s 24ms/step - loss: 0.0717 - accuracy: 0.9738 - val_loss: 1.9752 - val_accuracy: 0.6957\n",
            "Epoch 91/100\n",
            "313/313 [==============================] - 7s 24ms/step - loss: 0.0717 - accuracy: 0.9745 - val_loss: 1.9744 - val_accuracy: 0.7016\n",
            "Epoch 92/100\n",
            "313/313 [==============================] - 7s 24ms/step - loss: 0.0719 - accuracy: 0.9756 - val_loss: 2.2485 - val_accuracy: 0.6781\n",
            "Epoch 93/100\n",
            "313/313 [==============================] - 8s 24ms/step - loss: 0.0712 - accuracy: 0.9751 - val_loss: 2.3389 - val_accuracy: 0.6839\n",
            "Epoch 94/100\n",
            "313/313 [==============================] - 7s 24ms/step - loss: 0.0611 - accuracy: 0.9779 - val_loss: 2.0761 - val_accuracy: 0.7018\n",
            "Epoch 95/100\n",
            "313/313 [==============================] - 7s 24ms/step - loss: 0.0619 - accuracy: 0.9775 - val_loss: 2.0803 - val_accuracy: 0.6996\n",
            "Epoch 96/100\n",
            "313/313 [==============================] - 7s 24ms/step - loss: 0.0677 - accuracy: 0.9760 - val_loss: 1.9687 - val_accuracy: 0.7037\n",
            "Epoch 97/100\n",
            "313/313 [==============================] - 7s 24ms/step - loss: 0.0757 - accuracy: 0.9732 - val_loss: 1.9621 - val_accuracy: 0.7083\n",
            "Epoch 98/100\n",
            "313/313 [==============================] - 7s 24ms/step - loss: 0.0627 - accuracy: 0.9781 - val_loss: 1.8753 - val_accuracy: 0.7066\n",
            "Epoch 99/100\n",
            "313/313 [==============================] - 8s 24ms/step - loss: 0.0618 - accuracy: 0.9788 - val_loss: 1.8892 - val_accuracy: 0.7100\n",
            "Epoch 100/100\n",
            "313/313 [==============================] - 8s 24ms/step - loss: 0.0721 - accuracy: 0.9739 - val_loss: 1.8746 - val_accuracy: 0.7164\n",
            "CPU times: user 8min 3s, sys: 3min 10s, total: 11min 13s\n",
            "Wall time: 13min\n"
          ],
          "name": "stdout"
        }
      ]
    },
    {
      "cell_type": "markdown",
      "metadata": {
        "id": "FnnIyFtNKhbD"
      },
      "source": [
        "> ## 4) 학습 결과 시각화"
      ]
    },
    {
      "cell_type": "markdown",
      "metadata": {
        "id": "YgXRhVauKqOm"
      },
      "source": [
        "* Loss Visualization"
      ]
    },
    {
      "cell_type": "code",
      "metadata": {
        "id": "OQ4ke8BbKi50",
        "colab": {
          "base_uri": "https://localhost:8080/",
          "height": 404
        },
        "outputId": "f5f972a3-e6fb-45fc-f974-e94851c08efa"
      },
      "source": [
        "import matplotlib.pyplot as plt\n",
        "\n",
        "epochs = range(1, len(Hist_CIFAR.history['loss']) + 1)\n",
        "\n",
        "plt.figure(figsize = (9, 6))\n",
        "plt.plot(epochs, Hist_CIFAR.history['loss'])\n",
        "plt.plot(epochs, Hist_CIFAR.history['val_loss'])\n",
        "# plt.ylim(0, 0.25)\n",
        "plt.title('Training & Validation Loss')\n",
        "plt.xlabel('Epochs')\n",
        "plt.ylabel('Loss')\n",
        "plt.legend(['Training Loss', 'Validation Loss'])\n",
        "plt.grid()\n",
        "plt.show()"
      ],
      "execution_count": 17,
      "outputs": [
        {
          "output_type": "display_data",
          "data": {
            "image/png": "[encoded data removed]",
            "text/plain": [
              "<Figure size 648x432 with 1 Axes>"
            ]
          },
          "metadata": {
            "tags": [],
            "needs_background": "light"
          }
        }
      ]
    },
    {
      "cell_type": "markdown",
      "metadata": {
        "id": "_uJSOLBko7lh"
      },
      "source": [
        "> ## 5) Model Evaluate"
      ]
    },
    {
      "cell_type": "markdown",
      "metadata": {
        "id": "i-TqAB2ALGzZ"
      },
      "source": [
        "* Loss & Accuracy"
      ]
    },
    {
      "cell_type": "code",
      "metadata": {
        "id": "OF30PuZsAxQJ",
        "colab": {
          "base_uri": "https://localhost:8080/"
        },
        "outputId": "47c0ec71-54de-4af6-d2d6-8b7d505ac81c"
      },
      "source": [
        "loss, accuracy = CIFAR.evaluate(X_test, y_test)\n",
        "\n",
        "print('Loss = {:.5f}'.format(loss))\n",
        "print('Accuracy = {:.5f}'.format(accuracy))"
      ],
      "execution_count": 18,
      "outputs": [
        {
          "output_type": "stream",
          "text": [
            "313/313 [==============================] - 2s 6ms/step - loss: 1.9536 - accuracy: 0.7129\n",
            "Loss = 1.95360\n",
            "Accuracy = 0.71290\n"
          ],
          "name": "stdout"
        }
      ]
    },
    {
      "cell_type": "markdown",
      "metadata": {
        "id": "CNoT8-Ku3G5r"
      },
      "source": [
        "> IV. 성능평가"
      ]
    },
    {
      "cell_type": "markdown",
      "metadata": {
        "id": "AhJSbSwTGbME"
      },
      "source": [
        "> ## 1) Label Name 지정"
      ]
    },
    {
      "cell_type": "code",
      "metadata": {
        "id": "Nzd6c_viGdfE"
      },
      "source": [
        "import numpy as np\n",
        "\n",
        "CLASSES = np.array(['Airplane', 'Automobile', 'Bird', 'Cat', 'Deer',\n",
        "                    'Dog', 'Frog', 'Horse', 'Ship', 'Truck'])\n",
        "\n",
        "preds = CIFAR.predict(X_test)\n",
        "preds_single = CLASSES[np.argmax(preds,axis = -1)]\n",
        "actual_single = CLASSES[np.argmax(y_test, axis = -1)]"
      ],
      "execution_count": 20,
      "outputs": []
    },
    {
      "cell_type": "markdown",
      "metadata": {
        "id": "2MTpa6_lG3Uu"
      },
      "source": [
        "> ## 2) 비교 시각화"
      ]
    },
    {
      "cell_type": "code",
      "metadata": {
        "colab": {
          "base_uri": "https://localhost:8080/",
          "height": 136
        },
        "id": "LWYMrp4tG8j7",
        "outputId": "4e815615-a59d-42d6-db78-4acf08ff8a40"
      },
      "source": [
        "import matplotlib.pyplot as plt\n",
        "\n",
        "n_to_show =10\n",
        "indices = np.random.choice(range(len(X_test)), n_to_show)\n",
        "\n",
        "fig = plt.figure(figsize = (15, 3))\n",
        "fig.subplots_adjust(hspace = 0.4, wspace = 0.4)\n",
        "\n",
        "for i, idx in enumerate(indices):\n",
        "  img = X_test[idx]\n",
        "  ax = fig.add_subplot(1, n_to_show, i + 1)\n",
        "  ax.axis('off')\n",
        "  ax.text(0.5, -0.35,\n",
        "          'Pred = ' + str(preds_single[idx]),\n",
        "          fontsize = 10,\n",
        "          ha = 'center',\n",
        "          transform = ax.transAxes)\n",
        "  ax.text(0.5, -0.7, \n",
        "          'Act = ' + str(actual_single[idx]), \n",
        "          fontsize = 10, \n",
        "          ha = 'center', \n",
        "          transform = ax.transAxes)\n",
        "\n",
        "  ax.imshow(img)"
      ],
      "execution_count": 24,
      "outputs": [
        {
          "output_type": "display_data",
          "data": {
            "image/png": "[encoded data removed]",
            "text/plain": [
              "<Figure size 1080x216 with 10 Axes>"
            ]
          },
          "metadata": {
            "tags": [],
            "needs_background": "light"
          }
        }
      ]
    },
    {
      "cell_type": "code",
      "metadata": {
        "id": "wDWThCYIIBWs"
      },
      "source": [
        ""
      ],
      "execution_count": null,
      "outputs": []
    }
  ]
}