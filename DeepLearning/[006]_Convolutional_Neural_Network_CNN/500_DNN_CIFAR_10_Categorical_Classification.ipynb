{
  "nbformat": 4,
  "nbformat_minor": 0,
  "metadata": {
    "accelerator": "GPU",
    "colab": {
      "name": "500_DNN_CIFAR_10_Categorical_Classification.ipynb",
      "provenance": []
    },
    "kernelspec": {
      "display_name": "Python 3",
      "name": "python3"
    },
    "language_info": {
      "name": "python"
    }
  },
  "cells": [
    {
      "cell_type": "markdown",
      "metadata": {
        "id": "h84AnQAZffg5"
      },
      "source": [
        "# CIFAR 10 - Categorical Classification"
      ]
    },
    {
      "cell_type": "code",
      "metadata": {
        "id": "hlyYnZKEfpy2"
      },
      "source": [
        "import warnings\n",
        "warnings.filterwarnings('ignore')"
      ],
      "execution_count": null,
      "outputs": []
    },
    {
      "cell_type": "markdown",
      "metadata": {
        "id": "Ki9BOckCfr-B"
      },
      "source": [
        "# Import Tensorflow & Keras"
      ]
    },
    {
      "cell_type": "code",
      "metadata": {
        "colab": {
          "base_uri": "https://localhost:8080/",
          "height": 35
        },
        "id": "sG1zLdINfvAT",
        "outputId": "a006a200-a36f-4b50-c87f-5a21dff433c7"
      },
      "source": [
        "import keras\n",
        "\n",
        "keras.__version__"
      ],
      "execution_count": null,
      "outputs": [
        {
          "output_type": "execute_result",
          "data": {
            "application/vnd.google.colaboratory.intrinsic+json": {
              "type": "string"
            },
            "text/plain": [
              "'2.4.3'"
            ]
          },
          "metadata": {
            "tags": []
          },
          "execution_count": 2
        }
      ]
    },
    {
      "cell_type": "markdown",
      "metadata": {
        "id": "ylV3n8BFfxQW"
      },
      "source": [
        "## I. CIFAR 10 Data_Set Load & Review"
      ]
    },
    {
      "cell_type": "markdown",
      "metadata": {
        "id": "3mmB9dk2f6fE"
      },
      "source": [
        "> ## 1) Load CIFAR 10 Data_set"
      ]
    },
    {
      "cell_type": "code",
      "metadata": {
        "colab": {
          "base_uri": "https://localhost:8080/"
        },
        "id": "-rR-3f4tgHej",
        "outputId": "f2afe503-f0cf-475a-a51a-b3e97b3615cb"
      },
      "source": [
        "from keras.datasets import cifar10\n",
        "\n",
        "(X_train, y_train), (X_test, y_test) = cifar10.load_data()"
      ],
      "execution_count": null,
      "outputs": [
        {
          "output_type": "stream",
          "text": [
            "Downloading data from https://www.cs.toronto.edu/~kriz/cifar-10-python.tar.gz\n",
            "170500096/170498071 [==============================] - 4s 0us/step\n"
          ],
          "name": "stdout"
        }
      ]
    },
    {
      "cell_type": "code",
      "metadata": {
        "colab": {
          "base_uri": "https://localhost:8080/"
        },
        "id": "0BvIiH8RgLDd",
        "outputId": "001b523f-974b-4805-b839-742d81af07a9"
      },
      "source": [
        "# Train_Data Information\n",
        "print(len(X_train))\n",
        "print(X_train.shape)\n",
        "\n",
        "print(len(y_train))\n",
        "print(y_train[0:5])\n"
      ],
      "execution_count": null,
      "outputs": [
        {
          "output_type": "stream",
          "text": [
            "50000\n",
            "(50000, 32, 32, 3)\n",
            "50000\n",
            "[[6]\n",
            " [9]\n",
            " [9]\n",
            " [4]\n",
            " [1]]\n"
          ],
          "name": "stdout"
        }
      ]
    },
    {
      "cell_type": "code",
      "metadata": {
        "colab": {
          "base_uri": "https://localhost:8080/"
        },
        "id": "DmSsVGmogOVW",
        "outputId": "f205a19f-a49c-4e5a-ab85-d12da6084310"
      },
      "source": [
        "# Test_Data Information\n",
        "print(len(X_test))\n",
        "print(X_test.shape)\n",
        "\n",
        "print(len(y_test))\n",
        "print(y_test[0:5])\n"
      ],
      "execution_count": null,
      "outputs": [
        {
          "output_type": "stream",
          "text": [
            "10000\n",
            "(10000, 32, 32, 3)\n",
            "10000\n",
            "[[3]\n",
            " [8]\n",
            " [8]\n",
            " [0]\n",
            " [6]]\n"
          ],
          "name": "stdout"
        }
      ]
    },
    {
      "cell_type": "markdown",
      "metadata": {
        "id": "UkAcu_xRgWJs"
      },
      "source": [
        "> ## 2) Visualization"
      ]
    },
    {
      "cell_type": "code",
      "metadata": {
        "colab": {
          "base_uri": "https://localhost:8080/",
          "height": 266
        },
        "id": "dDhk7cORgYho",
        "outputId": "12bdcc72-1fe1-42af-aac7-309c857691c6"
      },
      "source": [
        "import matplotlib.pyplot as plt\n",
        "\n",
        "digit = X_train[0]\n",
        "plt.imshow(digit)\n",
        "plt.show()"
      ],
      "execution_count": null,
      "outputs": [
        {
          "output_type": "display_data",
          "data": {
            "image/png": "[encoded data removed]",
            "text/plain": [
              "<Figure size 432x288 with 1 Axes>"
            ]
          },
          "metadata": {
            "tags": []
          }
        }
      ]
    },
    {
      "cell_type": "code",
      "metadata": {
        "colab": {
          "base_uri": "https://localhost:8080/"
        },
        "id": "BRZXPuMXgeSu",
        "outputId": "f80b1463-8a28-470e-ed08-56aa482299a6"
      },
      "source": [
        "import numpy as np\n",
        "np.set_printoptions(linewidth = 150)\n",
        "\n",
        "print(X_train[0][0])"
      ],
      "execution_count": null,
      "outputs": [
        {
          "output_type": "stream",
          "text": [
            "[[ 59  62  63]\n",
            " [ 43  46  45]\n",
            " [ 50  48  43]\n",
            " [ 68  54  42]\n",
            " [ 98  73  52]\n",
            " [119  91  63]\n",
            " [139 107  75]\n",
            " [145 110  80]\n",
            " [149 117  89]\n",
            " [149 120  93]\n",
            " [131 103  77]\n",
            " [125  99  76]\n",
            " [142 115  91]\n",
            " [144 112  86]\n",
            " [137 105  79]\n",
            " [129  97  71]\n",
            " [137 106  79]\n",
            " [134 106  76]\n",
            " [124  97  64]\n",
            " [139 113  78]\n",
            " [139 112  75]\n",
            " [133 105  69]\n",
            " [136 105  74]\n",
            " [139 108  77]\n",
            " [152 120  89]\n",
            " [163 131 100]\n",
            " [168 136 108]\n",
            " [159 129 102]\n",
            " [158 130 104]\n",
            " [158 132 108]\n",
            " [152 125 102]\n",
            " [148 124 103]]\n"
          ],
          "name": "stdout"
        }
      ]
    },
    {
      "cell_type": "markdown",
      "metadata": {
        "id": "wmsiXiHjgk1t"
      },
      "source": [
        "# II. Data Preprocessing"
      ]
    },
    {
      "cell_type": "markdown",
      "metadata": {
        "id": "8iYOXZSggpWh"
      },
      "source": [
        "> ## 1) Reshape and Normalization"
      ]
    },
    {
      "cell_type": "markdown",
      "metadata": {
        "id": "6iBpbHpIgrpL"
      },
      "source": [
        "* reshape\n",
        "  * (50000, 32, 32, 3) to (50000, 3072)\n"
      ]
    },
    {
      "cell_type": "code",
      "metadata": {
        "colab": {
          "base_uri": "https://localhost:8080/"
        },
        "id": "omZxmOqjgvAT",
        "outputId": "0e589941-bef1-4f7e-d12e-493b0bf03893"
      },
      "source": [
        "X_train = X_train.reshape((50000, 32 * 32 * 3))\n",
        "X_test = X_test.reshape((10000, 32 * 32 * 3))\n",
        "\n",
        "X_train.shape, X_test.shape"
      ],
      "execution_count": null,
      "outputs": [
        {
          "output_type": "execute_result",
          "data": {
            "text/plain": [
              "((50000, 3072), (10000, 3072))"
            ]
          },
          "metadata": {
            "tags": []
          },
          "execution_count": 8
        }
      ]
    },
    {
      "cell_type": "markdown",
      "metadata": {
        "id": "ZnSlHJmMg12B"
      },
      "source": [
        "* Nomalization"
      ]
    },
    {
      "cell_type": "code",
      "metadata": {
        "colab": {
          "base_uri": "https://localhost:8080/"
        },
        "id": "vU6esg7WhAPj",
        "outputId": "b652911e-cbed-4994-af86-6a1a2c59e2ed"
      },
      "source": [
        "X_train = X_train.astype(float) / 255\n",
        "X_test = X_test.astype(float) / 255\n",
        "\n",
        "print(X_train[0])\n"
      ],
      "execution_count": null,
      "outputs": [
        {
          "output_type": "stream",
          "text": [
            "[0.23137255 0.24313725 0.24705882 ... 0.48235294 0.36078431 0.28235294]\n"
          ],
          "name": "stdout"
        }
      ]
    },
    {
      "cell_type": "markdown",
      "metadata": {
        "id": "qZ422cQlhDia"
      },
      "source": [
        "> ## 2) One Hot Encoing"
      ]
    },
    {
      "cell_type": "code",
      "metadata": {
        "colab": {
          "base_uri": "https://localhost:8080/"
        },
        "id": "aw4FzFazhGei",
        "outputId": "1b5092d8-8de3-42af-e1e7-daace210299a"
      },
      "source": [
        "from keras.utils import to_categorical\n",
        "\n",
        "y_train = to_categorical(y_train)\n",
        "y_test = to_categorical(y_test)\n",
        "\n",
        "print(y_train[:5])"
      ],
      "execution_count": null,
      "outputs": [
        {
          "output_type": "stream",
          "text": [
            "[[0. 0. 0. 0. 0. 0. 1. 0. 0. 0.]\n",
            " [0. 0. 0. 0. 0. 0. 0. 0. 0. 1.]\n",
            " [0. 0. 0. 0. 0. 0. 0. 0. 0. 1.]\n",
            " [0. 0. 0. 0. 1. 0. 0. 0. 0. 0.]\n",
            " [0. 1. 0. 0. 0. 0. 0. 0. 0. 0.]]\n"
          ],
          "name": "stdout"
        }
      ]
    },
    {
      "cell_type": "markdown",
      "metadata": {
        "id": "mF-PtVuAhSJs"
      },
      "source": [
        "# III. Keras Modeling"
      ]
    },
    {
      "cell_type": "markdown",
      "metadata": {
        "id": "cXPk-G5ThV9b"
      },
      "source": [
        "> ## 1) Model Define"
      ]
    },
    {
      "cell_type": "markdown",
      "metadata": {
        "id": "byfrtlRyhXYH"
      },
      "source": [
        "* 모델 신경망 구조 정의\n",
        "  * 2개의 Hidden Layers & 3968개의 Nodes"
      ]
    },
    {
      "cell_type": "code",
      "metadata": {
        "id": "eN_c4mMshdL-"
      },
      "source": [
        "from keras import models\n",
        "from keras import layers\n",
        "\n",
        "CIFAR = models.Sequential()\n",
        "CIFAR.add(layers.Dense(2048, activation = 'relu', input_shape = (32 * 32 * 3,)))\n",
        "CIFAR.add(layers.Dense(1024, activation = 'relu'))\n",
        "CIFAR.add(layers.Dense(512, activation = 'relu'))\n",
        "CIFAR.add(layers.Dense(256, activation = 'relu'))\n",
        "CIFAR.add(layers.Dense(128, activation = 'relu'))\n",
        "CIFAR.add(layers.Dense(10, activation = 'softmax'))"
      ],
      "execution_count": null,
      "outputs": []
    },
    {
      "cell_type": "code",
      "metadata": {
        "colab": {
          "base_uri": "https://localhost:8080/"
        },
        "id": "1fZsXgUjh15t",
        "outputId": "b6a97115-283b-468b-df4c-45696f9fe03c"
      },
      "source": [
        "# 모델 구조 확인\n",
        "CIFAR.summary()\n"
      ],
      "execution_count": null,
      "outputs": [
        {
          "output_type": "stream",
          "text": [
            "Model: \"sequential\"\n",
            "_________________________________________________________________\n",
            "Layer (type)                 Output Shape              Param #   \n",
            "=================================================================\n",
            "dense (Dense)                (None, 2048)              6293504   \n",
            "_________________________________________________________________\n",
            "dense_1 (Dense)              (None, 1024)              2098176   \n",
            "_________________________________________________________________\n",
            "dense_2 (Dense)              (None, 512)               524800    \n",
            "_________________________________________________________________\n",
            "dense_3 (Dense)              (None, 256)               131328    \n",
            "_________________________________________________________________\n",
            "dense_4 (Dense)              (None, 128)               32896     \n",
            "_________________________________________________________________\n",
            "dense_5 (Dense)              (None, 10)                1290      \n",
            "=================================================================\n",
            "Total params: 9,081,994\n",
            "Trainable params: 9,081,994\n",
            "Non-trainable params: 0\n",
            "_________________________________________________________________\n"
          ],
          "name": "stdout"
        }
      ]
    },
    {
      "cell_type": "markdown",
      "metadata": {
        "id": "K4jsYTPIh-Ys"
      },
      "source": [
        "> ## 2) Model Compile"
      ]
    },
    {
      "cell_type": "code",
      "metadata": {
        "id": "DehQeomKi5Gn"
      },
      "source": [
        "# 모델 학습방법 설정"
      ],
      "execution_count": null,
      "outputs": []
    },
    {
      "cell_type": "code",
      "metadata": {
        "id": "zZ416w3vi6fF"
      },
      "source": [
        "CIFAR.compile(loss = 'categorical_crossentropy',\n",
        "              optimizer = 'rmsprop',\n",
        "              metrics = ['accuracy'])"
      ],
      "execution_count": null,
      "outputs": []
    },
    {
      "cell_type": "markdown",
      "metadata": {
        "id": "qtYnIkp_jDoe"
      },
      "source": [
        "> ## 3) Model Fit"
      ]
    },
    {
      "cell_type": "code",
      "metadata": {
        "colab": {
          "background_save": true,
          "base_uri": "https://localhost:8080/"
        },
        "id": "_zsPJsckjFtV",
        "outputId": "940e041f-5937-4cc5-a177-f1b38c99451b"
      },
      "source": [
        "%%time\n",
        "Hist_CIFAR = CIFAR.fit(X_train, y_train,\n",
        "                       epochs = 100,\n",
        "                       batch_size = 128,\n",
        "                       validation_split = 0.2)"
      ],
      "execution_count": null,
      "outputs": [
        {
          "output_type": "stream",
          "text": [
            "Epoch 1/100\n",
            "313/313 [==============================] - 58s 185ms/step - loss: 1.7939 - accuracy: 0.3536 - val_loss: 1.7902 - val_accuracy: 0.3615\n",
            "Epoch 2/100\n",
            "313/313 [==============================] - 58s 184ms/step - loss: 1.7313 - accuracy: 0.3814 - val_loss: 1.7479 - val_accuracy: 0.3640\n",
            "Epoch 3/100\n",
            "313/313 [==============================] - 58s 185ms/step - loss: 1.6647 - accuracy: 0.4035 - val_loss: 1.7810 - val_accuracy: 0.3668\n",
            "Epoch 4/100\n",
            "313/313 [==============================] - 58s 184ms/step - loss: 1.6254 - accuracy: 0.4198 - val_loss: 1.6921 - val_accuracy: 0.3999\n",
            "Epoch 5/100\n",
            "313/313 [==============================] - 58s 184ms/step - loss: 1.5875 - accuracy: 0.4323 - val_loss: 1.6378 - val_accuracy: 0.4098\n",
            "Epoch 6/100\n",
            "313/313 [==============================] - 58s 184ms/step - loss: 1.5496 - accuracy: 0.4462 - val_loss: 1.7061 - val_accuracy: 0.4014\n",
            "Epoch 7/100\n",
            "313/313 [==============================] - 57s 183ms/step - loss: 1.5183 - accuracy: 0.4603 - val_loss: 2.0337 - val_accuracy: 0.3837\n",
            "Epoch 8/100\n",
            "313/313 [==============================] - 57s 183ms/step - loss: 1.4895 - accuracy: 0.4683 - val_loss: 1.5683 - val_accuracy: 0.4467\n",
            "Epoch 9/100\n",
            "313/313 [==============================] - 57s 183ms/step - loss: 1.4676 - accuracy: 0.4747 - val_loss: 1.6821 - val_accuracy: 0.4296\n",
            "Epoch 10/100\n",
            "313/313 [==============================] - 57s 183ms/step - loss: 1.4424 - accuracy: 0.4834 - val_loss: 1.7066 - val_accuracy: 0.4314\n",
            "Epoch 11/100\n",
            "313/313 [==============================] - 57s 183ms/step - loss: 1.4147 - accuracy: 0.4913 - val_loss: 1.6199 - val_accuracy: 0.4319\n",
            "Epoch 12/100\n",
            "313/313 [==============================] - 57s 184ms/step - loss: 1.4058 - accuracy: 0.4998 - val_loss: 1.6692 - val_accuracy: 0.4309\n",
            "Epoch 13/100\n",
            "313/313 [==============================] - 58s 184ms/step - loss: 1.3838 - accuracy: 0.5067 - val_loss: 1.8064 - val_accuracy: 0.4391\n",
            "Epoch 14/100\n",
            "313/313 [==============================] - 58s 185ms/step - loss: 1.3691 - accuracy: 0.5118 - val_loss: 1.6832 - val_accuracy: 0.4305\n",
            "Epoch 15/100\n",
            "313/313 [==============================] - 58s 185ms/step - loss: 1.3488 - accuracy: 0.5183 - val_loss: 1.7585 - val_accuracy: 0.4326\n",
            "Epoch 16/100\n",
            "313/313 [==============================] - 57s 183ms/step - loss: 1.3287 - accuracy: 0.5252 - val_loss: 1.6907 - val_accuracy: 0.4605\n",
            "Epoch 17/100\n",
            "313/313 [==============================] - 57s 182ms/step - loss: 1.3111 - accuracy: 0.5339 - val_loss: 1.6817 - val_accuracy: 0.4567\n",
            "Epoch 18/100\n",
            "313/313 [==============================] - 61s 195ms/step - loss: 1.3074 - accuracy: 0.5382 - val_loss: 1.6362 - val_accuracy: 0.4896\n",
            "Epoch 19/100\n",
            "313/313 [==============================] - 58s 186ms/step - loss: 1.2889 - accuracy: 0.5431 - val_loss: 1.7114 - val_accuracy: 0.4637\n",
            "Epoch 20/100\n",
            "313/313 [==============================] - 58s 186ms/step - loss: 1.2722 - accuracy: 0.5487 - val_loss: 1.6859 - val_accuracy: 0.4737\n",
            "Epoch 21/100\n",
            "313/313 [==============================] - 58s 185ms/step - loss: 1.2630 - accuracy: 0.5519 - val_loss: 1.6448 - val_accuracy: 0.4808\n",
            "Epoch 22/100\n",
            "313/313 [==============================] - 58s 185ms/step - loss: 1.2428 - accuracy: 0.5617 - val_loss: 2.2540 - val_accuracy: 0.4843\n",
            "Epoch 23/100\n",
            "313/313 [==============================] - 58s 185ms/step - loss: 1.2403 - accuracy: 0.5621 - val_loss: 1.7220 - val_accuracy: 0.4785\n",
            "Epoch 24/100\n",
            "313/313 [==============================] - 58s 185ms/step - loss: 1.2159 - accuracy: 0.5703 - val_loss: 1.9210 - val_accuracy: 0.4917\n",
            "Epoch 25/100\n",
            "313/313 [==============================] - 58s 185ms/step - loss: 1.1981 - accuracy: 0.5751 - val_loss: 1.9446 - val_accuracy: 0.4658\n",
            "Epoch 26/100\n",
            "313/313 [==============================] - 58s 185ms/step - loss: 1.1819 - accuracy: 0.5802 - val_loss: 1.8980 - val_accuracy: 0.5025\n",
            "Epoch 27/100\n",
            "313/313 [==============================] - 58s 185ms/step - loss: 1.1666 - accuracy: 0.5852 - val_loss: 1.9061 - val_accuracy: 0.4978\n",
            "Epoch 28/100\n",
            "313/313 [==============================] - 57s 184ms/step - loss: 1.1547 - accuracy: 0.5949 - val_loss: 2.4791 - val_accuracy: 0.4207\n",
            "Epoch 29/100\n",
            "313/313 [==============================] - 57s 182ms/step - loss: 1.1421 - accuracy: 0.5972 - val_loss: 1.7516 - val_accuracy: 0.4830\n",
            "Epoch 30/100\n",
            "313/313 [==============================] - 57s 182ms/step - loss: 1.1266 - accuracy: 0.6044 - val_loss: 1.9170 - val_accuracy: 0.4703\n",
            "Epoch 31/100\n",
            "313/313 [==============================] - 57s 183ms/step - loss: 1.1132 - accuracy: 0.6064 - val_loss: 2.0150 - val_accuracy: 0.4591\n",
            "Epoch 32/100\n",
            "313/313 [==============================] - 57s 182ms/step - loss: 1.0942 - accuracy: 0.6128 - val_loss: 2.5470 - val_accuracy: 0.4954\n",
            "Epoch 33/100\n",
            "313/313 [==============================] - 57s 183ms/step - loss: 1.0760 - accuracy: 0.6216 - val_loss: 2.2205 - val_accuracy: 0.4690\n",
            "Epoch 34/100\n",
            "313/313 [==============================] - 57s 182ms/step - loss: 1.0784 - accuracy: 0.6210 - val_loss: 2.3124 - val_accuracy: 0.4647\n",
            "Epoch 35/100\n",
            "313/313 [==============================] - 58s 186ms/step - loss: 1.0525 - accuracy: 0.6298 - val_loss: 2.6393 - val_accuracy: 0.4635\n",
            "Epoch 36/100\n",
            "313/313 [==============================] - 57s 181ms/step - loss: 1.0442 - accuracy: 0.6335 - val_loss: 2.3232 - val_accuracy: 0.4715\n",
            "Epoch 37/100\n",
            "313/313 [==============================] - 57s 182ms/step - loss: 1.0289 - accuracy: 0.6321 - val_loss: 2.3244 - val_accuracy: 0.4817\n",
            "Epoch 38/100\n",
            "313/313 [==============================] - 57s 182ms/step - loss: 1.0475 - accuracy: 0.6395 - val_loss: 2.4557 - val_accuracy: 0.5046\n",
            "Epoch 39/100\n",
            "313/313 [==============================] - 57s 183ms/step - loss: 1.0187 - accuracy: 0.6432 - val_loss: 2.7559 - val_accuracy: 0.4723\n",
            "Epoch 40/100\n",
            "313/313 [==============================] - 57s 182ms/step - loss: 1.0021 - accuracy: 0.6476 - val_loss: 3.3529 - val_accuracy: 0.5031\n",
            "Epoch 41/100\n",
            "313/313 [==============================] - 57s 182ms/step - loss: 0.9900 - accuracy: 0.6506 - val_loss: 2.9246 - val_accuracy: 0.4849\n",
            "Epoch 42/100\n",
            "313/313 [==============================] - 57s 182ms/step - loss: 1.0029 - accuracy: 0.6574 - val_loss: 2.4736 - val_accuracy: 0.4952\n",
            "Epoch 43/100\n",
            "313/313 [==============================] - 57s 182ms/step - loss: 0.9686 - accuracy: 0.6622 - val_loss: 2.5163 - val_accuracy: 0.4231\n",
            "Epoch 44/100\n",
            "313/313 [==============================] - 57s 182ms/step - loss: 0.9836 - accuracy: 0.6601 - val_loss: 2.7471 - val_accuracy: 0.4802\n",
            "Epoch 45/100\n",
            "313/313 [==============================] - 57s 182ms/step - loss: 0.9781 - accuracy: 0.6673 - val_loss: 2.4345 - val_accuracy: 0.3953\n",
            "Epoch 46/100\n",
            "313/313 [==============================] - 57s 181ms/step - loss: 0.9469 - accuracy: 0.6733 - val_loss: 3.5447 - val_accuracy: 0.4243\n",
            "Epoch 47/100\n",
            "313/313 [==============================] - 57s 183ms/step - loss: 0.9203 - accuracy: 0.6775 - val_loss: 2.7034 - val_accuracy: 0.4939\n",
            "Epoch 48/100\n",
            "313/313 [==============================] - 57s 182ms/step - loss: 0.9166 - accuracy: 0.6826 - val_loss: 2.6400 - val_accuracy: 0.5085\n",
            "Epoch 49/100\n",
            "313/313 [==============================] - 57s 181ms/step - loss: 0.9041 - accuracy: 0.6853 - val_loss: 3.5088 - val_accuracy: 0.4989\n",
            "Epoch 50/100\n",
            "313/313 [==============================] - 57s 182ms/step - loss: 0.8814 - accuracy: 0.6935 - val_loss: 3.6535 - val_accuracy: 0.4610\n",
            "Epoch 51/100\n",
            "313/313 [==============================] - 58s 185ms/step - loss: 0.8722 - accuracy: 0.6957 - val_loss: 3.4212 - val_accuracy: 0.5069\n",
            "Epoch 52/100\n",
            "313/313 [==============================] - 59s 188ms/step - loss: 0.8837 - accuracy: 0.7000 - val_loss: 3.8023 - val_accuracy: 0.4750\n",
            "Epoch 53/100\n",
            "313/313 [==============================] - 58s 185ms/step - loss: 0.8520 - accuracy: 0.7017 - val_loss: 2.9217 - val_accuracy: 0.4781\n",
            "Epoch 54/100\n",
            "313/313 [==============================] - 61s 196ms/step - loss: 0.8356 - accuracy: 0.7092 - val_loss: 4.1499 - val_accuracy: 0.5040\n",
            "Epoch 55/100\n",
            "313/313 [==============================] - 57s 182ms/step - loss: 0.8440 - accuracy: 0.7136 - val_loss: 2.9984 - val_accuracy: 0.4998\n",
            "Epoch 56/100\n",
            "313/313 [==============================] - 57s 183ms/step - loss: 0.8447 - accuracy: 0.7172 - val_loss: 2.8013 - val_accuracy: 0.4923\n",
            "Epoch 57/100\n",
            "313/313 [==============================] - 57s 183ms/step - loss: 0.8105 - accuracy: 0.7180 - val_loss: 3.0117 - val_accuracy: 0.4786\n",
            "Epoch 58/100\n",
            "313/313 [==============================] - 58s 186ms/step - loss: 0.8138 - accuracy: 0.7182 - val_loss: 3.2385 - val_accuracy: 0.5052\n",
            "Epoch 59/100\n",
            "313/313 [==============================] - 57s 182ms/step - loss: 0.8146 - accuracy: 0.7226 - val_loss: 3.4233 - val_accuracy: 0.4601\n",
            "Epoch 60/100\n",
            "313/313 [==============================] - 57s 183ms/step - loss: 0.7971 - accuracy: 0.7246 - val_loss: 4.5914 - val_accuracy: 0.4837\n",
            "Epoch 61/100\n",
            "313/313 [==============================] - 57s 183ms/step - loss: 0.7835 - accuracy: 0.7296 - val_loss: 3.4888 - val_accuracy: 0.4739\n",
            "Epoch 62/100\n",
            "313/313 [==============================] - 57s 184ms/step - loss: 0.8006 - accuracy: 0.7311 - val_loss: 3.8332 - val_accuracy: 0.4943\n",
            "Epoch 63/100\n",
            "313/313 [==============================] - 57s 183ms/step - loss: 0.7588 - accuracy: 0.7412 - val_loss: 4.1124 - val_accuracy: 0.4983\n",
            "Epoch 64/100\n",
            "313/313 [==============================] - 57s 183ms/step - loss: 0.7534 - accuracy: 0.7407 - val_loss: 4.3289 - val_accuracy: 0.4610\n",
            "Epoch 65/100\n",
            "313/313 [==============================] - 57s 183ms/step - loss: 0.7649 - accuracy: 0.7388 - val_loss: 3.6228 - val_accuracy: 0.4979\n",
            "Epoch 66/100\n",
            "313/313 [==============================] - 57s 184ms/step - loss: 0.7687 - accuracy: 0.7441 - val_loss: 3.4053 - val_accuracy: 0.4711\n",
            "Epoch 67/100\n",
            "313/313 [==============================] - 57s 183ms/step - loss: 0.7235 - accuracy: 0.7525 - val_loss: 3.6373 - val_accuracy: 0.4963\n",
            "Epoch 68/100\n",
            "313/313 [==============================] - 57s 182ms/step - loss: 0.7325 - accuracy: 0.7526 - val_loss: 4.2951 - val_accuracy: 0.4828\n",
            "Epoch 69/100\n",
            "313/313 [==============================] - 57s 182ms/step - loss: 0.7123 - accuracy: 0.7601 - val_loss: 3.3495 - val_accuracy: 0.5121\n",
            "Epoch 70/100\n",
            "313/313 [==============================] - 57s 183ms/step - loss: 0.7220 - accuracy: 0.7636 - val_loss: 3.4278 - val_accuracy: 0.4804\n",
            "Epoch 71/100\n",
            "313/313 [==============================] - 58s 184ms/step - loss: 0.7052 - accuracy: 0.7653 - val_loss: 3.4089 - val_accuracy: 0.5063\n",
            "Epoch 72/100\n",
            "313/313 [==============================] - 58s 185ms/step - loss: 0.6988 - accuracy: 0.7660 - val_loss: 3.2399 - val_accuracy: 0.4804\n",
            "Epoch 73/100\n",
            "313/313 [==============================] - 58s 184ms/step - loss: 0.6918 - accuracy: 0.7669 - val_loss: 4.0924 - val_accuracy: 0.5073\n",
            "Epoch 74/100\n",
            "313/313 [==============================] - 57s 182ms/step - loss: 0.6994 - accuracy: 0.7727 - val_loss: 3.6800 - val_accuracy: 0.4517\n",
            "Epoch 75/100\n",
            "313/313 [==============================] - 57s 182ms/step - loss: 0.6565 - accuracy: 0.7748 - val_loss: 4.4536 - val_accuracy: 0.4922\n",
            "Epoch 76/100\n",
            "313/313 [==============================] - 61s 194ms/step - loss: 0.6618 - accuracy: 0.7765 - val_loss: 4.5721 - val_accuracy: 0.4632\n",
            "Epoch 77/100\n",
            "313/313 [==============================] - 58s 186ms/step - loss: 0.6421 - accuracy: 0.7815 - val_loss: 4.0977 - val_accuracy: 0.5047\n",
            "Epoch 78/100\n",
            "313/313 [==============================] - 58s 185ms/step - loss: 0.6637 - accuracy: 0.7831 - val_loss: 4.4949 - val_accuracy: 0.4736\n",
            "Epoch 79/100\n",
            "313/313 [==============================] - 58s 185ms/step - loss: 0.6343 - accuracy: 0.7880 - val_loss: 4.4572 - val_accuracy: 0.4991\n",
            "Epoch 80/100\n",
            "313/313 [==============================] - 58s 187ms/step - loss: 0.6477 - accuracy: 0.7836 - val_loss: 3.5535 - val_accuracy: 0.4940\n",
            "Epoch 81/100\n",
            "313/313 [==============================] - 59s 187ms/step - loss: 0.6892 - accuracy: 0.7872 - val_loss: 4.4595 - val_accuracy: 0.5036\n",
            "Epoch 82/100\n",
            "313/313 [==============================] - 59s 188ms/step - loss: 0.6317 - accuracy: 0.7894 - val_loss: 4.6641 - val_accuracy: 0.5087\n",
            "Epoch 83/100\n",
            "313/313 [==============================] - 59s 189ms/step - loss: 0.6493 - accuracy: 0.7885 - val_loss: 4.6377 - val_accuracy: 0.5156\n",
            "Epoch 84/100\n",
            "313/313 [==============================] - 59s 187ms/step - loss: 0.6096 - accuracy: 0.7948 - val_loss: 5.1876 - val_accuracy: 0.4747\n",
            "Epoch 85/100\n",
            "313/313 [==============================] - 58s 186ms/step - loss: 0.7142 - accuracy: 0.7882 - val_loss: 5.0831 - val_accuracy: 0.4998\n",
            "Epoch 86/100\n",
            "313/313 [==============================] - 58s 185ms/step - loss: 0.6029 - accuracy: 0.8038 - val_loss: 4.4704 - val_accuracy: 0.4963\n",
            "Epoch 87/100\n",
            "313/313 [==============================] - 58s 184ms/step - loss: 0.6118 - accuracy: 0.7983 - val_loss: 5.5315 - val_accuracy: 0.4759\n",
            "Epoch 88/100\n",
            "313/313 [==============================] - 57s 182ms/step - loss: 0.5880 - accuracy: 0.8066 - val_loss: 5.0681 - val_accuracy: 0.5045\n",
            "Epoch 89/100\n",
            "313/313 [==============================] - 57s 184ms/step - loss: 0.5923 - accuracy: 0.8066 - val_loss: 4.5769 - val_accuracy: 0.5066\n",
            "Epoch 90/100\n",
            "313/313 [==============================] - 57s 183ms/step - loss: 0.5755 - accuracy: 0.8077 - val_loss: 4.7502 - val_accuracy: 0.4747\n",
            "Epoch 91/100\n",
            "313/313 [==============================] - 57s 184ms/step - loss: 0.6020 - accuracy: 0.8062 - val_loss: 6.0492 - val_accuracy: 0.5117\n",
            "Epoch 92/100\n",
            "313/313 [==============================] - 57s 183ms/step - loss: 0.5444 - accuracy: 0.8206 - val_loss: 6.2829 - val_accuracy: 0.4894\n",
            "Epoch 93/100\n",
            "313/313 [==============================] - 57s 183ms/step - loss: 0.6164 - accuracy: 0.8075 - val_loss: 4.1148 - val_accuracy: 0.5014\n",
            "Epoch 94/100\n",
            "313/313 [==============================] - 56s 179ms/step - loss: 0.5844 - accuracy: 0.8186 - val_loss: 5.4985 - val_accuracy: 0.4859\n",
            "Epoch 95/100\n",
            "313/313 [==============================] - 56s 179ms/step - loss: 0.5717 - accuracy: 0.8173 - val_loss: 4.5187 - val_accuracy: 0.4883\n",
            "Epoch 96/100\n",
            "313/313 [==============================] - 56s 179ms/step - loss: 0.5682 - accuracy: 0.8207 - val_loss: 5.5389 - val_accuracy: 0.4877\n",
            "Epoch 97/100\n",
            "313/313 [==============================] - 56s 179ms/step - loss: 0.5882 - accuracy: 0.8164 - val_loss: 4.6811 - val_accuracy: 0.5003\n",
            "Epoch 98/100\n",
            "313/313 [==============================] - 56s 180ms/step - loss: 0.5438 - accuracy: 0.8269 - val_loss: 4.1827 - val_accuracy: 0.4744\n",
            "Epoch 99/100\n",
            "313/313 [==============================] - 56s 180ms/step - loss: 0.5330 - accuracy: 0.8257 - val_loss: 5.8463 - val_accuracy: 0.5054\n",
            "Epoch 100/100\n",
            "313/313 [==============================] - 57s 183ms/step - loss: 0.5273 - accuracy: 0.8280 - val_loss: 4.0091 - val_accuracy: 0.4841\n",
            "CPU times: user 2h 56min 51s, sys: 3min 9s, total: 3h\n",
            "Wall time: 1h 35min 52s\n"
          ],
          "name": "stdout"
        }
      ]
    },
    {
      "cell_type": "markdown",
      "metadata": {
        "id": "uMRpaymsjQvc"
      },
      "source": [
        "> ## 4) 학습결과 시각화"
      ]
    },
    {
      "cell_type": "code",
      "metadata": {
        "colab": {
          "base_uri": "https://localhost:8080/",
          "height": 404
        },
        "id": "rnMTziAOjUIM",
        "outputId": "7b18bd0b-bbc9-4e2b-d338-bb619e74dbbc"
      },
      "source": [
        "# Loss Visualization\n",
        "import matplotlib.pyplot as plt\n",
        "\n",
        "epochs = range(1, len(Hist_CIFAR.history['loss']) + 1)\n",
        "\n",
        "plt.figure(figsize = (9, 6))\n",
        "plt.plot(epochs, Hist_CIFAR.history['loss'])\n",
        "plt.plot(epochs, Hist_CIFAR.history['val_loss'])\n",
        "# plt.ylim(0, 0.25)\n",
        "plt.title('Training & Validation Loss')\n",
        "plt.xlabel('Epochs')\n",
        "plt.ylabel('Loss')\n",
        "plt.legend(['Training Loss', 'Validation Loss'])\n",
        "plt.grid()\n",
        "plt.show()"
      ],
      "execution_count": null,
      "outputs": [
        {
          "output_type": "display_data",
          "data": {
            "image/png": "[encoded data removed]",
            "text/plain": [
              "<Figure size 648x432 with 1 Axes>"
            ]
          },
          "metadata": {
            "tags": []
          }
        }
      ]
    },
    {
      "cell_type": "markdown",
      "metadata": {
        "id": "TbDXlUfXkD-t"
      },
      "source": [
        "> ## 5) Model Evaluate"
      ]
    },
    {
      "cell_type": "code",
      "metadata": {
        "colab": {
          "base_uri": "https://localhost:8080/"
        },
        "id": "RDS2IGUGkD7C",
        "outputId": "cd417915-2ad6-41f4-ef57-9e1469c35098"
      },
      "source": [
        "loss, accuracy = CIFAR.evaluate(X_test, y_test)\n",
        "\n",
        "print('Loss = {:.5f}'.format(loss))\n",
        "print('Accuracy = {:.5f}'.format(accuracy))"
      ],
      "execution_count": null,
      "outputs": [
        {
          "output_type": "stream",
          "text": [
            "313/313 [==============================] - 1s 2ms/step - loss: 4.5822 - accuracy: 0.4102\n",
            "Loss = 4.58222\n",
            "Accuracy = 0.41020\n"
          ],
          "name": "stdout"
        }
      ]
    },
    {
      "cell_type": "markdown",
      "metadata": {
        "id": "ktCinBpEkKEg"
      },
      "source": [
        "> ## 6) Model Predict"
      ]
    },
    {
      "cell_type": "code",
      "metadata": {
        "colab": {
          "base_uri": "https://localhost:8080/"
        },
        "id": "pBjJKp4VkD1V",
        "outputId": "56a3125b-ef68-46ea-9cde-24e4b1a4368b"
      },
      "source": [
        "# Probability\n",
        "\n",
        "np.set_printoptions(suppress = True, precision = 9)\n",
        "print(CIFAR.predict(X_test[:1,:]))\n"
      ],
      "execution_count": null,
      "outputs": [
        {
          "output_type": "stream",
          "text": [
            "[[0.          0.          0.000000131 0.99994326  0.          0.000042079 0.          0.000014527 0.          0.         ]]\n"
          ],
          "name": "stdout"
        }
      ]
    },
    {
      "cell_type": "code",
      "metadata": {
        "colab": {
          "base_uri": "https://localhost:8080/"
        },
        "id": "nHZeaSkFkWvP",
        "outputId": "b12ad62a-8ab7-40b4-be50-5699bb4af70b"
      },
      "source": [
        "# Class\n",
        "\n",
        "print(CIFAR.predict_classes(X_test[:1, :]))"
      ],
      "execution_count": null,
      "outputs": [
        {
          "output_type": "stream",
          "text": [
            "[3]\n"
          ],
          "name": "stdout"
        }
      ]
    },
    {
      "cell_type": "code",
      "metadata": {
        "id": "xCCmJ8JOq-QF"
      },
      "source": [
        ""
      ],
      "execution_count": null,
      "outputs": []
    }
  ]
}