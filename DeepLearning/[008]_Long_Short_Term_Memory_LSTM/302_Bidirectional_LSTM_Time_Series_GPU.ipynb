{
  "nbformat": 4,
  "nbformat_minor": 0,
  "metadata": {
    "colab": {
      "name": "302_Bidirectional_LSTM_Time_Series_GPU.ipynb",
      "provenance": []
    },
    "kernelspec": {
      "name": "python3",
      "display_name": "Python 3"
    },
    "language_info": {
      "name": "python"
    },
    "accelerator": "GPU"
  },
  "cells": [
    {
      "cell_type": "markdown",
      "metadata": {
        "id": "f_mYe_nD6KV8"
      },
      "source": [
        "# LSTM - Time Serise Dataset"
      ]
    },
    {
      "cell_type": "markdown",
      "metadata": {
        "id": "YEmgiPZ267pd"
      },
      "source": [
        "* 서울시 기후 데이터 : 2011년 01월 01일 ~ 2019년 12월 31일\n",
        "* https://data.kma.go.kr/cmmn/main.do\n",
        "* 기후통계분석 -> 기온분석 -> 기간(20110101~20191231) -> 검색 -> CSV 다운로드\n",
        "* Seoul_Temp.csv\n"
      ]
    },
    {
      "cell_type": "code",
      "metadata": {
        "id": "v-HdJN6G6-jb"
      },
      "source": [
        "import warnings\n",
        "warnings.filterwarnings('ignore')\n"
      ],
      "execution_count": 26,
      "outputs": []
    },
    {
      "cell_type": "code",
      "metadata": {
        "id": "1L8d2oWt7CXn"
      },
      "source": [
        "import numpy as np\n",
        "import pandas as pd\n",
        "from matplotlib import pyplot as plt\n",
        "from sklearn.preprocessing import MinMaxScaler\n",
        "from keras.models import Sequential\n",
        "from keras.layers import Dense, LSTM, Bidirectional\n"
      ],
      "execution_count": 27,
      "outputs": []
    },
    {
      "cell_type": "markdown",
      "metadata": {
        "id": "TyBkZV8n7Dgc"
      },
      "source": [
        "# I. Colab File Upload"
      ]
    },
    {
      "cell_type": "markdown",
      "metadata": {
        "id": "X7lf2pO37HM_"
      },
      "source": [
        "> ## 1) 'Seoul_temp.csv' 파일을 Colab에 업로드"
      ]
    },
    {
      "cell_type": "code",
      "metadata": {
        "colab": {
          "base_uri": "https://localhost:8080/",
          "height": 197
        },
        "id": "_4viKuqg7JyC",
        "outputId": "06b35053-9959-49b9-d704-1c2a9a9a8511"
      },
      "source": [
        "url = 'https://raw.githubusercontent.com/rusita-ai/pyData/master/Seoul_Temp.csv'\n",
        "temp = pd.read_csv(url)\n",
        "\n",
        "temp.head()"
      ],
      "execution_count": 28,
      "outputs": [
        {
          "output_type": "execute_result",
          "data": {
            "text/html": [
              "<div>\n",
              "<style scoped>\n",
              "    .dataframe tbody tr th:only-of-type {\n",
              "        vertical-align: middle;\n",
              "    }\n",
              "\n",
              "    .dataframe tbody tr th {\n",
              "        vertical-align: top;\n",
              "    }\n",
              "\n",
              "    .dataframe thead th {\n",
              "        text-align: right;\n",
              "    }\n",
              "</style>\n",
              "<table border=\"1\" class=\"dataframe\">\n",
              "  <thead>\n",
              "    <tr style=\"text-align: right;\">\n",
              "      <th></th>\n",
              "      <th>date</th>\n",
              "      <th>avg</th>\n",
              "      <th>min</th>\n",
              "      <th>max</th>\n",
              "    </tr>\n",
              "  </thead>\n",
              "  <tbody>\n",
              "    <tr>\n",
              "      <th>0</th>\n",
              "      <td>2011-01-01</td>\n",
              "      <td>-6.8</td>\n",
              "      <td>-10.4</td>\n",
              "      <td>-2.9</td>\n",
              "    </tr>\n",
              "    <tr>\n",
              "      <th>1</th>\n",
              "      <td>2011-01-02</td>\n",
              "      <td>-5.4</td>\n",
              "      <td>-8.5</td>\n",
              "      <td>-1.2</td>\n",
              "    </tr>\n",
              "    <tr>\n",
              "      <th>2</th>\n",
              "      <td>2011-01-03</td>\n",
              "      <td>-4.5</td>\n",
              "      <td>-8.5</td>\n",
              "      <td>-0.3</td>\n",
              "    </tr>\n",
              "    <tr>\n",
              "      <th>3</th>\n",
              "      <td>2011-01-04</td>\n",
              "      <td>-3.9</td>\n",
              "      <td>-7.4</td>\n",
              "      <td>-1.7</td>\n",
              "    </tr>\n",
              "    <tr>\n",
              "      <th>4</th>\n",
              "      <td>2011-01-05</td>\n",
              "      <td>-4.0</td>\n",
              "      <td>-7.7</td>\n",
              "      <td>-1.8</td>\n",
              "    </tr>\n",
              "  </tbody>\n",
              "</table>\n",
              "</div>"
            ],
            "text/plain": [
              "         date  avg   min  max\n",
              "0  2011-01-01 -6.8 -10.4 -2.9\n",
              "1  2011-01-02 -5.4  -8.5 -1.2\n",
              "2  2011-01-03 -4.5  -8.5 -0.3\n",
              "3  2011-01-04 -3.9  -7.4 -1.7\n",
              "4  2011-01-05 -4.0  -7.7 -1.8"
            ]
          },
          "metadata": {
            "tags": []
          },
          "execution_count": 28
        }
      ]
    },
    {
      "cell_type": "markdown",
      "metadata": {
        "id": "hRyVYwUb7LBZ"
      },
      "source": [
        "# II. Data Preprocessing\n"
      ]
    },
    {
      "cell_type": "code",
      "metadata": {
        "colab": {
          "base_uri": "https://localhost:8080/",
          "height": 320
        },
        "id": "xvNB6-Hw7M-h",
        "outputId": "d17940eb-d0cf-4157-84bb-2acdb78a9253"
      },
      "source": [
        "# 일일 평균온도 변화에 일정한 패턴 확인\n",
        "temp_data = temp[['avg']]\n",
        "\n",
        "plt.figure(figsize = (12, 5))\n",
        "plt.plot(temp_data)\n",
        "plt.show()"
      ],
      "execution_count": 29,
      "outputs": [
        {
          "output_type": "display_data",
          "data": {
            "image/png": "[encoded data removed]",
            "text/plain": [
              "<Figure size 864x360 with 1 Axes>"
            ]
          },
          "metadata": {
            "tags": [],
            "needs_background": "light"
          }
        }
      ]
    },
    {
      "cell_type": "markdown",
      "metadata": {
        "id": "lqmWgktv7Vcw"
      },
      "source": [
        "> ## 2) Normalization"
      ]
    },
    {
      "cell_type": "code",
      "metadata": {
        "id": "bZwECCLt7egC"
      },
      "source": [
        "# tanh Activation 적용을 위해 -1 ~ 1 범위로 정규화\n",
        "scaler = MinMaxScaler(feature_range = (-1, 1))\n",
        "temp_data = scaler.fit_transform(temp_data)\n"
      ],
      "execution_count": 30,
      "outputs": []
    },
    {
      "cell_type": "markdown",
      "metadata": {
        "id": "4woOIDJ97jEY"
      },
      "source": [
        "> ## 3) Train vs. Test Split\n"
      ]
    },
    {
      "cell_type": "markdown",
      "metadata": {
        "id": "uAzsUdGo7n71"
      },
      "source": [
        "* Train_Dataset : 2011년 01월 01일 ~ 2017년 12월 31일\n",
        "* Test_Dataset : 2018년 01월 01일 ~ 2019년 12월 31일\n"
      ]
    },
    {
      "cell_type": "code",
      "metadata": {
        "id": "aVrurfV77qht"
      },
      "source": [
        "train = temp_data[0:2557]\n",
        "test  = temp_data[2557:]"
      ],
      "execution_count": 31,
      "outputs": []
    },
    {
      "cell_type": "markdown",
      "metadata": {
        "id": "n5pnhyNV7rU8"
      },
      "source": [
        "# III. 시계열 데이터 처리 함수\n"
      ]
    },
    {
      "cell_type": "markdown",
      "metadata": {
        "id": "0xALJHPt7se9"
      },
      "source": [
        "> ## 1) 시계열 학습용 데이터 생성 함수 정의\n"
      ]
    },
    {
      "cell_type": "markdown",
      "metadata": {
        "id": "lXbuiQuj7uK9"
      },
      "source": [
        "* X : 학습 평균온도 데이터\n",
        "* y : 정답 평균온도 데이터\n",
        "* 일정 기간의 X로 y를 예측하도록 학습\n"
      ]
    },
    {
      "cell_type": "code",
      "metadata": {
        "id": "OSIW8Lp97x0D"
      },
      "source": [
        "def create_dataset(time_data, look_back = 1):\n",
        "    data_X, data_y = [], []\n",
        "    \n",
        "    for i in range(len(time_data) - look_back):\n",
        "      data_X.append(time_data[i:(i + look_back), 0])\n",
        "      data_y.append(time_data[i + look_back, 0])\n",
        "\n",
        "    return np.array(data_X), np.array(data_y)"
      ],
      "execution_count": 32,
      "outputs": []
    },
    {
      "cell_type": "markdown",
      "metadata": {
        "id": "VKewIAhR8EfD"
      },
      "source": [
        "> ## 2) loop_back 기간 설정 후 학습데이터 생성"
      ]
    },
    {
      "cell_type": "code",
      "metadata": {
        "id": "gGML4NBp8PlO"
      },
      "source": [
        "# 180일 기간 평균온도로 다음날 평균온도 예측 데이터 생성"
      ],
      "execution_count": 33,
      "outputs": []
    },
    {
      "cell_type": "code",
      "metadata": {
        "id": "BTdgZzvi8TnY"
      },
      "source": [
        "look_back = 180\n",
        "\n",
        "train_X, train_y = create_dataset(train, look_back)\n",
        "test_X, test_y  = create_dataset(test, look_back)\n"
      ],
      "execution_count": 34,
      "outputs": []
    },
    {
      "cell_type": "markdown",
      "metadata": {
        "id": "zG6LFJFR8aa2"
      },
      "source": [
        "> ## 3) Tensor Reshape"
      ]
    },
    {
      "cell_type": "code",
      "metadata": {
        "colab": {
          "base_uri": "https://localhost:8080/"
        },
        "id": "sn_Mya9p9GC0",
        "outputId": "3a9bae4c-6599-4e02-c1fc-c6f310437db9"
      },
      "source": [
        "train_X = np.reshape(train_X, (train_X.shape[0], train_X.shape[1], 1))\n",
        "test_X = np.reshape(test_X, (test_X.shape[0], test_X.shape[1], 1))\n",
        "\n",
        "train_X.shape, train_y.shape, test_X.shape, test_y.shape\n"
      ],
      "execution_count": 35,
      "outputs": [
        {
          "output_type": "execute_result",
          "data": {
            "text/plain": [
              "((2377, 180, 1), (2377,), (550, 180, 1), (550,))"
            ]
          },
          "metadata": {
            "tags": []
          },
          "execution_count": 35
        }
      ]
    },
    {
      "cell_type": "markdown",
      "metadata": {
        "id": "hyDZFqO79IAY"
      },
      "source": [
        "# IV. Bidirectional LSTM Modeling"
      ]
    },
    {
      "cell_type": "markdown",
      "metadata": {
        "id": "gZo8phyz9PbO"
      },
      "source": [
        "> ## 1) Model Define"
      ]
    },
    {
      "cell_type": "code",
      "metadata": {
        "id": "0YOMADVR9Rjq"
      },
      "source": [
        "model = Sequential()\n",
        "model.add(Bidirectional(LSTM(64,\n",
        "                             input_shape = (None, 1))))\n",
        "model.add(Dense(1, activation = 'tanh'))"
      ],
      "execution_count": 36,
      "outputs": []
    },
    {
      "cell_type": "code",
      "metadata": {
        "id": "IC21yHWR9bN-"
      },
      "source": [
        "# model.summary()"
      ],
      "execution_count": 38,
      "outputs": []
    },
    {
      "cell_type": "markdown",
      "metadata": {
        "id": "2YvZNp_Q9dRL"
      },
      "source": [
        "> ## 2) Model Compile"
      ]
    },
    {
      "cell_type": "code",
      "metadata": {
        "id": "sCimsrDf9huZ"
      },
      "source": [
        "model.compile(loss = 'mean_squared_error',\n",
        "              optimizer = 'adam')"
      ],
      "execution_count": 39,
      "outputs": []
    },
    {
      "cell_type": "markdown",
      "metadata": {
        "id": "fbHsKjgo9mKH"
      },
      "source": [
        "> ## 3) Model Fit"
      ]
    },
    {
      "cell_type": "code",
      "metadata": {
        "colab": {
          "base_uri": "https://localhost:8080/"
        },
        "id": "pJibZhTn9nrq",
        "outputId": "a7a14a34-3645-4082-febf-548132f30024"
      },
      "source": [
        "%%time\n",
        "\n",
        "hist = model.fit(train_X, train_y,\n",
        "                 epochs = 200, \n",
        "                 batch_size = 16,  \n",
        "                 validation_data = (test_X, test_y))\n"
      ],
      "execution_count": 40,
      "outputs": [
        {
          "output_type": "stream",
          "text": [
            "Epoch 1/200\n",
            "149/149 [==============================] - 35s 22ms/step - loss: 0.0368 - val_loss: 0.0148\n",
            "Epoch 2/200\n",
            "149/149 [==============================] - 3s 17ms/step - loss: 0.0166 - val_loss: 0.0138\n",
            "Epoch 3/200\n",
            "149/149 [==============================] - 3s 17ms/step - loss: 0.0142 - val_loss: 0.0121\n",
            "Epoch 4/200\n",
            "149/149 [==============================] - 3s 17ms/step - loss: 0.0131 - val_loss: 0.0115\n",
            "Epoch 5/200\n",
            "149/149 [==============================] - 3s 17ms/step - loss: 0.0118 - val_loss: 0.0097\n",
            "Epoch 6/200\n",
            "149/149 [==============================] - 3s 17ms/step - loss: 0.0093 - val_loss: 0.0083\n",
            "Epoch 7/200\n",
            "149/149 [==============================] - 3s 17ms/step - loss: 0.0098 - val_loss: 0.0084\n",
            "Epoch 8/200\n",
            "149/149 [==============================] - 3s 18ms/step - loss: 0.0089 - val_loss: 0.0076\n",
            "Epoch 9/200\n",
            "149/149 [==============================] - 3s 17ms/step - loss: 0.0084 - val_loss: 0.0076\n",
            "Epoch 10/200\n",
            "149/149 [==============================] - 3s 17ms/step - loss: 0.0080 - val_loss: 0.0076\n",
            "Epoch 11/200\n",
            "149/149 [==============================] - 3s 17ms/step - loss: 0.0083 - val_loss: 0.0075\n",
            "Epoch 12/200\n",
            "149/149 [==============================] - 3s 17ms/step - loss: 0.0080 - val_loss: 0.0074\n",
            "Epoch 13/200\n",
            "149/149 [==============================] - 3s 17ms/step - loss: 0.0082 - val_loss: 0.0074\n",
            "Epoch 14/200\n",
            "149/149 [==============================] - 3s 17ms/step - loss: 0.0077 - val_loss: 0.0073\n",
            "Epoch 15/200\n",
            "149/149 [==============================] - 3s 17ms/step - loss: 0.0087 - val_loss: 0.0073\n",
            "Epoch 16/200\n",
            "149/149 [==============================] - 3s 17ms/step - loss: 0.0078 - val_loss: 0.0076\n",
            "Epoch 17/200\n",
            "149/149 [==============================] - 3s 17ms/step - loss: 0.0075 - val_loss: 0.0072\n",
            "Epoch 18/200\n",
            "149/149 [==============================] - 3s 17ms/step - loss: 0.0074 - val_loss: 0.0081\n",
            "Epoch 19/200\n",
            "149/149 [==============================] - 3s 17ms/step - loss: 0.0079 - val_loss: 0.0074\n",
            "Epoch 20/200\n",
            "149/149 [==============================] - 3s 17ms/step - loss: 0.0074 - val_loss: 0.0072\n",
            "Epoch 21/200\n",
            "149/149 [==============================] - 3s 17ms/step - loss: 0.0086 - val_loss: 0.0074\n",
            "Epoch 22/200\n",
            "149/149 [==============================] - 3s 17ms/step - loss: 0.0082 - val_loss: 0.0072\n",
            "Epoch 23/200\n",
            "149/149 [==============================] - 3s 17ms/step - loss: 0.0079 - val_loss: 0.0073\n",
            "Epoch 24/200\n",
            "149/149 [==============================] - 3s 18ms/step - loss: 0.0080 - val_loss: 0.0073\n",
            "Epoch 25/200\n",
            "149/149 [==============================] - 3s 18ms/step - loss: 0.0081 - val_loss: 0.0081\n",
            "Epoch 26/200\n",
            "149/149 [==============================] - 3s 17ms/step - loss: 0.0084 - val_loss: 0.0073\n",
            "Epoch 27/200\n",
            "149/149 [==============================] - 3s 18ms/step - loss: 0.0071 - val_loss: 0.0072\n",
            "Epoch 28/200\n",
            "149/149 [==============================] - 3s 17ms/step - loss: 0.0081 - val_loss: 0.0072\n",
            "Epoch 29/200\n",
            "149/149 [==============================] - 3s 17ms/step - loss: 0.0075 - val_loss: 0.0073\n",
            "Epoch 30/200\n",
            "149/149 [==============================] - 3s 17ms/step - loss: 0.0085 - val_loss: 0.0072\n",
            "Epoch 31/200\n",
            "149/149 [==============================] - 3s 18ms/step - loss: 0.0076 - val_loss: 0.0071\n",
            "Epoch 32/200\n",
            "149/149 [==============================] - 3s 17ms/step - loss: 0.0071 - val_loss: 0.0072\n",
            "Epoch 33/200\n",
            "149/149 [==============================] - 3s 17ms/step - loss: 0.0079 - val_loss: 0.0071\n",
            "Epoch 34/200\n",
            "149/149 [==============================] - 3s 18ms/step - loss: 0.0077 - val_loss: 0.0070\n",
            "Epoch 35/200\n",
            "149/149 [==============================] - 3s 17ms/step - loss: 0.0078 - val_loss: 0.0076\n",
            "Epoch 36/200\n",
            "149/149 [==============================] - 3s 17ms/step - loss: 0.0080 - val_loss: 0.0075\n",
            "Epoch 37/200\n",
            "149/149 [==============================] - 3s 17ms/step - loss: 0.0081 - val_loss: 0.0073\n",
            "Epoch 38/200\n",
            "149/149 [==============================] - 3s 17ms/step - loss: 0.0081 - val_loss: 0.0072\n",
            "Epoch 39/200\n",
            "149/149 [==============================] - 3s 18ms/step - loss: 0.0079 - val_loss: 0.0072\n",
            "Epoch 40/200\n",
            "149/149 [==============================] - 3s 18ms/step - loss: 0.0076 - val_loss: 0.0073\n",
            "Epoch 41/200\n",
            "149/149 [==============================] - 3s 18ms/step - loss: 0.0080 - val_loss: 0.0071\n",
            "Epoch 42/200\n",
            "149/149 [==============================] - 3s 17ms/step - loss: 0.0080 - val_loss: 0.0071\n",
            "Epoch 43/200\n",
            "149/149 [==============================] - 3s 17ms/step - loss: 0.0074 - val_loss: 0.0072\n",
            "Epoch 44/200\n",
            "149/149 [==============================] - 3s 17ms/step - loss: 0.0078 - val_loss: 0.0072\n",
            "Epoch 45/200\n",
            "149/149 [==============================] - 3s 18ms/step - loss: 0.0072 - val_loss: 0.0073\n",
            "Epoch 46/200\n",
            "149/149 [==============================] - 3s 17ms/step - loss: 0.0079 - val_loss: 0.0070\n",
            "Epoch 47/200\n",
            "149/149 [==============================] - 3s 18ms/step - loss: 0.0073 - val_loss: 0.0073\n",
            "Epoch 48/200\n",
            "149/149 [==============================] - 3s 17ms/step - loss: 0.0079 - val_loss: 0.0073\n",
            "Epoch 49/200\n",
            "149/149 [==============================] - 3s 18ms/step - loss: 0.0074 - val_loss: 0.0070\n",
            "Epoch 50/200\n",
            "149/149 [==============================] - 3s 18ms/step - loss: 0.0075 - val_loss: 0.0072\n",
            "Epoch 51/200\n",
            "149/149 [==============================] - 3s 18ms/step - loss: 0.0077 - val_loss: 0.0073\n",
            "Epoch 52/200\n",
            "149/149 [==============================] - 3s 18ms/step - loss: 0.0076 - val_loss: 0.0074\n",
            "Epoch 53/200\n",
            "149/149 [==============================] - 3s 18ms/step - loss: 0.0075 - val_loss: 0.0073\n",
            "Epoch 54/200\n",
            "149/149 [==============================] - 3s 18ms/step - loss: 0.0074 - val_loss: 0.0074\n",
            "Epoch 55/200\n",
            "149/149 [==============================] - 3s 18ms/step - loss: 0.0074 - val_loss: 0.0076\n",
            "Epoch 56/200\n",
            "149/149 [==============================] - 3s 18ms/step - loss: 0.0075 - val_loss: 0.0072\n",
            "Epoch 57/200\n",
            "149/149 [==============================] - 3s 18ms/step - loss: 0.0076 - val_loss: 0.0076\n",
            "Epoch 58/200\n",
            "149/149 [==============================] - 3s 17ms/step - loss: 0.0071 - val_loss: 0.0074\n",
            "Epoch 59/200\n",
            "149/149 [==============================] - 3s 18ms/step - loss: 0.0073 - val_loss: 0.0074\n",
            "Epoch 60/200\n",
            "149/149 [==============================] - 3s 17ms/step - loss: 0.0074 - val_loss: 0.0076\n",
            "Epoch 61/200\n",
            "149/149 [==============================] - 3s 17ms/step - loss: 0.0077 - val_loss: 0.0071\n",
            "Epoch 62/200\n",
            "149/149 [==============================] - 3s 18ms/step - loss: 0.0076 - val_loss: 0.0071\n",
            "Epoch 63/200\n",
            "149/149 [==============================] - 3s 18ms/step - loss: 0.0077 - val_loss: 0.0072\n",
            "Epoch 64/200\n",
            "149/149 [==============================] - 3s 18ms/step - loss: 0.0077 - val_loss: 0.0070\n",
            "Epoch 65/200\n",
            "149/149 [==============================] - 3s 18ms/step - loss: 0.0075 - val_loss: 0.0071\n",
            "Epoch 66/200\n",
            "149/149 [==============================] - 3s 18ms/step - loss: 0.0073 - val_loss: 0.0079\n",
            "Epoch 67/200\n",
            "149/149 [==============================] - 3s 18ms/step - loss: 0.0076 - val_loss: 0.0073\n",
            "Epoch 68/200\n",
            "149/149 [==============================] - 3s 18ms/step - loss: 0.0075 - val_loss: 0.0078\n",
            "Epoch 69/200\n",
            "149/149 [==============================] - 3s 18ms/step - loss: 0.0073 - val_loss: 0.0075\n",
            "Epoch 70/200\n",
            "149/149 [==============================] - 3s 18ms/step - loss: 0.0076 - val_loss: 0.0071\n",
            "Epoch 71/200\n",
            "149/149 [==============================] - 3s 18ms/step - loss: 0.0069 - val_loss: 0.0076\n",
            "Epoch 72/200\n",
            "149/149 [==============================] - 3s 18ms/step - loss: 0.0071 - val_loss: 0.0076\n",
            "Epoch 73/200\n",
            "149/149 [==============================] - 3s 18ms/step - loss: 0.0074 - val_loss: 0.0073\n",
            "Epoch 74/200\n",
            "149/149 [==============================] - 3s 18ms/step - loss: 0.0080 - val_loss: 0.0074\n",
            "Epoch 75/200\n",
            "149/149 [==============================] - 3s 18ms/step - loss: 0.0073 - val_loss: 0.0081\n",
            "Epoch 76/200\n",
            "149/149 [==============================] - 3s 18ms/step - loss: 0.0078 - val_loss: 0.0071\n",
            "Epoch 77/200\n",
            "149/149 [==============================] - 3s 18ms/step - loss: 0.0067 - val_loss: 0.0075\n",
            "Epoch 78/200\n",
            "149/149 [==============================] - 3s 18ms/step - loss: 0.0069 - val_loss: 0.0072\n",
            "Epoch 79/200\n",
            "149/149 [==============================] - 3s 18ms/step - loss: 0.0075 - val_loss: 0.0072\n",
            "Epoch 80/200\n",
            "149/149 [==============================] - 3s 18ms/step - loss: 0.0071 - val_loss: 0.0076\n",
            "Epoch 81/200\n",
            "149/149 [==============================] - 3s 18ms/step - loss: 0.0075 - val_loss: 0.0077\n",
            "Epoch 82/200\n",
            "149/149 [==============================] - 3s 18ms/step - loss: 0.0069 - val_loss: 0.0073\n",
            "Epoch 83/200\n",
            "149/149 [==============================] - 3s 18ms/step - loss: 0.0067 - val_loss: 0.0072\n",
            "Epoch 84/200\n",
            "149/149 [==============================] - 3s 18ms/step - loss: 0.0072 - val_loss: 0.0082\n",
            "Epoch 85/200\n",
            "149/149 [==============================] - 3s 18ms/step - loss: 0.0073 - val_loss: 0.0073\n",
            "Epoch 86/200\n",
            "149/149 [==============================] - 3s 18ms/step - loss: 0.0072 - val_loss: 0.0077\n",
            "Epoch 87/200\n",
            "149/149 [==============================] - 3s 18ms/step - loss: 0.0070 - val_loss: 0.0086\n",
            "Epoch 88/200\n",
            "149/149 [==============================] - 3s 18ms/step - loss: 0.0074 - val_loss: 0.0078\n",
            "Epoch 89/200\n",
            "149/149 [==============================] - 3s 18ms/step - loss: 0.0067 - val_loss: 0.0075\n",
            "Epoch 90/200\n",
            "149/149 [==============================] - 3s 18ms/step - loss: 0.0068 - val_loss: 0.0077\n",
            "Epoch 91/200\n",
            "149/149 [==============================] - 3s 18ms/step - loss: 0.0072 - val_loss: 0.0079\n",
            "Epoch 92/200\n",
            "149/149 [==============================] - 3s 18ms/step - loss: 0.0070 - val_loss: 0.0075\n",
            "Epoch 93/200\n",
            "149/149 [==============================] - 3s 18ms/step - loss: 0.0068 - val_loss: 0.0074\n",
            "Epoch 94/200\n",
            "149/149 [==============================] - 3s 18ms/step - loss: 0.0070 - val_loss: 0.0076\n",
            "Epoch 95/200\n",
            "149/149 [==============================] - 3s 18ms/step - loss: 0.0069 - val_loss: 0.0081\n",
            "Epoch 96/200\n",
            "149/149 [==============================] - 3s 18ms/step - loss: 0.0071 - val_loss: 0.0078\n",
            "Epoch 97/200\n",
            "149/149 [==============================] - 3s 18ms/step - loss: 0.0071 - val_loss: 0.0079\n",
            "Epoch 98/200\n",
            "149/149 [==============================] - 3s 18ms/step - loss: 0.0066 - val_loss: 0.0087\n",
            "Epoch 99/200\n",
            "149/149 [==============================] - 3s 18ms/step - loss: 0.0069 - val_loss: 0.0078\n",
            "Epoch 100/200\n",
            "149/149 [==============================] - 3s 18ms/step - loss: 0.0066 - val_loss: 0.0082\n",
            "Epoch 101/200\n",
            "149/149 [==============================] - 3s 18ms/step - loss: 0.0067 - val_loss: 0.0086\n",
            "Epoch 102/200\n",
            "149/149 [==============================] - 3s 18ms/step - loss: 0.0067 - val_loss: 0.0088\n",
            "Epoch 103/200\n",
            "149/149 [==============================] - 3s 18ms/step - loss: 0.0068 - val_loss: 0.0084\n",
            "Epoch 104/200\n",
            "149/149 [==============================] - 3s 18ms/step - loss: 0.0066 - val_loss: 0.0080\n",
            "Epoch 105/200\n",
            "149/149 [==============================] - 3s 18ms/step - loss: 0.0066 - val_loss: 0.0082\n",
            "Epoch 106/200\n",
            "149/149 [==============================] - 3s 18ms/step - loss: 0.0063 - val_loss: 0.0091\n",
            "Epoch 107/200\n",
            "149/149 [==============================] - 3s 18ms/step - loss: 0.0059 - val_loss: 0.0081\n",
            "Epoch 108/200\n",
            "149/149 [==============================] - 3s 18ms/step - loss: 0.0065 - val_loss: 0.0084\n",
            "Epoch 109/200\n",
            "149/149 [==============================] - 3s 18ms/step - loss: 0.0065 - val_loss: 0.0080\n",
            "Epoch 110/200\n",
            "149/149 [==============================] - 3s 18ms/step - loss: 0.0061 - val_loss: 0.0088\n",
            "Epoch 111/200\n",
            "149/149 [==============================] - 3s 18ms/step - loss: 0.0062 - val_loss: 0.0084\n",
            "Epoch 112/200\n",
            "149/149 [==============================] - 3s 18ms/step - loss: 0.0063 - val_loss: 0.0089\n",
            "Epoch 113/200\n",
            "149/149 [==============================] - 3s 18ms/step - loss: 0.0066 - val_loss: 0.0085\n",
            "Epoch 114/200\n",
            "149/149 [==============================] - 3s 18ms/step - loss: 0.0061 - val_loss: 0.0096\n",
            "Epoch 115/200\n",
            "149/149 [==============================] - 3s 18ms/step - loss: 0.0065 - val_loss: 0.0090\n",
            "Epoch 116/200\n",
            "149/149 [==============================] - 3s 18ms/step - loss: 0.0065 - val_loss: 0.0090\n",
            "Epoch 117/200\n",
            "149/149 [==============================] - 3s 18ms/step - loss: 0.0068 - val_loss: 0.0089\n",
            "Epoch 118/200\n",
            "149/149 [==============================] - 3s 18ms/step - loss: 0.0059 - val_loss: 0.0090\n",
            "Epoch 119/200\n",
            "149/149 [==============================] - 3s 18ms/step - loss: 0.0062 - val_loss: 0.0092\n",
            "Epoch 120/200\n",
            "149/149 [==============================] - 3s 18ms/step - loss: 0.0061 - val_loss: 0.0100\n",
            "Epoch 121/200\n",
            "149/149 [==============================] - 3s 18ms/step - loss: 0.0057 - val_loss: 0.0095\n",
            "Epoch 122/200\n",
            "149/149 [==============================] - 3s 18ms/step - loss: 0.0056 - val_loss: 0.0098\n",
            "Epoch 123/200\n",
            "149/149 [==============================] - 3s 18ms/step - loss: 0.0059 - val_loss: 0.0092\n",
            "Epoch 124/200\n",
            "149/149 [==============================] - 3s 18ms/step - loss: 0.0061 - val_loss: 0.0092\n",
            "Epoch 125/200\n",
            "149/149 [==============================] - 3s 18ms/step - loss: 0.0062 - val_loss: 0.0101\n",
            "Epoch 126/200\n",
            "149/149 [==============================] - 3s 18ms/step - loss: 0.0055 - val_loss: 0.0094\n",
            "Epoch 127/200\n",
            "149/149 [==============================] - 3s 18ms/step - loss: 0.0059 - val_loss: 0.0098\n",
            "Epoch 128/200\n",
            "149/149 [==============================] - 3s 18ms/step - loss: 0.0060 - val_loss: 0.0104\n",
            "Epoch 129/200\n",
            "149/149 [==============================] - 3s 18ms/step - loss: 0.0057 - val_loss: 0.0100\n",
            "Epoch 130/200\n",
            "149/149 [==============================] - 3s 18ms/step - loss: 0.0057 - val_loss: 0.0103\n",
            "Epoch 131/200\n",
            "149/149 [==============================] - 3s 18ms/step - loss: 0.0059 - val_loss: 0.0101\n",
            "Epoch 132/200\n",
            "149/149 [==============================] - 3s 18ms/step - loss: 0.0058 - val_loss: 0.0104\n",
            "Epoch 133/200\n",
            "149/149 [==============================] - 3s 18ms/step - loss: 0.0055 - val_loss: 0.0113\n",
            "Epoch 134/200\n",
            "149/149 [==============================] - 3s 18ms/step - loss: 0.0060 - val_loss: 0.0102\n",
            "Epoch 135/200\n",
            "149/149 [==============================] - 3s 18ms/step - loss: 0.0052 - val_loss: 0.0108\n",
            "Epoch 136/200\n",
            "149/149 [==============================] - 3s 18ms/step - loss: 0.0058 - val_loss: 0.0115\n",
            "Epoch 137/200\n",
            "149/149 [==============================] - 3s 18ms/step - loss: 0.0059 - val_loss: 0.0110\n",
            "Epoch 138/200\n",
            "149/149 [==============================] - 3s 18ms/step - loss: 0.0058 - val_loss: 0.0101\n",
            "Epoch 139/200\n",
            "149/149 [==============================] - 3s 18ms/step - loss: 0.0057 - val_loss: 0.0112\n",
            "Epoch 140/200\n",
            "149/149 [==============================] - 3s 18ms/step - loss: 0.0053 - val_loss: 0.0117\n",
            "Epoch 141/200\n",
            "149/149 [==============================] - 3s 18ms/step - loss: 0.0056 - val_loss: 0.0098\n",
            "Epoch 142/200\n",
            "149/149 [==============================] - 3s 18ms/step - loss: 0.0050 - val_loss: 0.0111\n",
            "Epoch 143/200\n",
            "149/149 [==============================] - 3s 18ms/step - loss: 0.0054 - val_loss: 0.0111\n",
            "Epoch 144/200\n",
            "149/149 [==============================] - 3s 18ms/step - loss: 0.0052 - val_loss: 0.0096\n",
            "Epoch 145/200\n",
            "149/149 [==============================] - 3s 18ms/step - loss: 0.0056 - val_loss: 0.0112\n",
            "Epoch 146/200\n",
            "149/149 [==============================] - 3s 18ms/step - loss: 0.0051 - val_loss: 0.0116\n",
            "Epoch 147/200\n",
            "149/149 [==============================] - 3s 18ms/step - loss: 0.0054 - val_loss: 0.0110\n",
            "Epoch 148/200\n",
            "149/149 [==============================] - 3s 18ms/step - loss: 0.0052 - val_loss: 0.0100\n",
            "Epoch 149/200\n",
            "149/149 [==============================] - 3s 18ms/step - loss: 0.0048 - val_loss: 0.0117\n",
            "Epoch 150/200\n",
            "149/149 [==============================] - 3s 18ms/step - loss: 0.0054 - val_loss: 0.0107\n",
            "Epoch 151/200\n",
            "149/149 [==============================] - 3s 18ms/step - loss: 0.0050 - val_loss: 0.0109\n",
            "Epoch 152/200\n",
            "149/149 [==============================] - 3s 18ms/step - loss: 0.0052 - val_loss: 0.0108\n",
            "Epoch 153/200\n",
            "149/149 [==============================] - 3s 18ms/step - loss: 0.0051 - val_loss: 0.0113\n",
            "Epoch 154/200\n",
            "149/149 [==============================] - 3s 18ms/step - loss: 0.0050 - val_loss: 0.0110\n",
            "Epoch 155/200\n",
            "149/149 [==============================] - 3s 18ms/step - loss: 0.0051 - val_loss: 0.0115\n",
            "Epoch 156/200\n",
            "149/149 [==============================] - 3s 18ms/step - loss: 0.0047 - val_loss: 0.0119\n",
            "Epoch 157/200\n",
            "149/149 [==============================] - 3s 18ms/step - loss: 0.0047 - val_loss: 0.0123\n",
            "Epoch 158/200\n",
            "149/149 [==============================] - 3s 18ms/step - loss: 0.0049 - val_loss: 0.0111\n",
            "Epoch 159/200\n",
            "149/149 [==============================] - 3s 18ms/step - loss: 0.0052 - val_loss: 0.0114\n",
            "Epoch 160/200\n",
            "149/149 [==============================] - 3s 18ms/step - loss: 0.0050 - val_loss: 0.0129\n",
            "Epoch 161/200\n",
            "149/149 [==============================] - 3s 18ms/step - loss: 0.0050 - val_loss: 0.0117\n",
            "Epoch 162/200\n",
            "149/149 [==============================] - 3s 19ms/step - loss: 0.0048 - val_loss: 0.0118\n",
            "Epoch 163/200\n",
            "149/149 [==============================] - 3s 18ms/step - loss: 0.0047 - val_loss: 0.0120\n",
            "Epoch 164/200\n",
            "149/149 [==============================] - 3s 18ms/step - loss: 0.0050 - val_loss: 0.0127\n",
            "Epoch 165/200\n",
            "149/149 [==============================] - 3s 18ms/step - loss: 0.0049 - val_loss: 0.0125\n",
            "Epoch 166/200\n",
            "149/149 [==============================] - 3s 18ms/step - loss: 0.0047 - val_loss: 0.0126\n",
            "Epoch 167/200\n",
            "149/149 [==============================] - 3s 18ms/step - loss: 0.0045 - val_loss: 0.0133\n",
            "Epoch 168/200\n",
            "149/149 [==============================] - 3s 18ms/step - loss: 0.0050 - val_loss: 0.0138\n",
            "Epoch 169/200\n",
            "149/149 [==============================] - 3s 18ms/step - loss: 0.0045 - val_loss: 0.0127\n",
            "Epoch 170/200\n",
            "149/149 [==============================] - 3s 18ms/step - loss: 0.0046 - val_loss: 0.0130\n",
            "Epoch 171/200\n",
            "149/149 [==============================] - 3s 18ms/step - loss: 0.0045 - val_loss: 0.0148\n",
            "Epoch 172/200\n",
            "149/149 [==============================] - 3s 18ms/step - loss: 0.0046 - val_loss: 0.0121\n",
            "Epoch 173/200\n",
            "149/149 [==============================] - 3s 18ms/step - loss: 0.0049 - val_loss: 0.0127\n",
            "Epoch 174/200\n",
            "149/149 [==============================] - 3s 18ms/step - loss: 0.0044 - val_loss: 0.0137\n",
            "Epoch 175/200\n",
            "149/149 [==============================] - 3s 18ms/step - loss: 0.0042 - val_loss: 0.0130\n",
            "Epoch 176/200\n",
            "149/149 [==============================] - 3s 18ms/step - loss: 0.0044 - val_loss: 0.0133\n",
            "Epoch 177/200\n",
            "149/149 [==============================] - 3s 18ms/step - loss: 0.0044 - val_loss: 0.0156\n",
            "Epoch 178/200\n",
            "149/149 [==============================] - 3s 18ms/step - loss: 0.0046 - val_loss: 0.0146\n",
            "Epoch 179/200\n",
            "149/149 [==============================] - 3s 18ms/step - loss: 0.0045 - val_loss: 0.0137\n",
            "Epoch 180/200\n",
            "149/149 [==============================] - 3s 18ms/step - loss: 0.0043 - val_loss: 0.0146\n",
            "Epoch 181/200\n",
            "149/149 [==============================] - 3s 18ms/step - loss: 0.0042 - val_loss: 0.0141\n",
            "Epoch 182/200\n",
            "149/149 [==============================] - 3s 18ms/step - loss: 0.0042 - val_loss: 0.0155\n",
            "Epoch 183/200\n",
            "149/149 [==============================] - 3s 18ms/step - loss: 0.0044 - val_loss: 0.0142\n",
            "Epoch 184/200\n",
            "149/149 [==============================] - 3s 18ms/step - loss: 0.0041 - val_loss: 0.0133\n",
            "Epoch 185/200\n",
            "149/149 [==============================] - 3s 18ms/step - loss: 0.0043 - val_loss: 0.0152\n",
            "Epoch 186/200\n",
            "149/149 [==============================] - 3s 18ms/step - loss: 0.0043 - val_loss: 0.0138\n",
            "Epoch 187/200\n",
            "149/149 [==============================] - 3s 18ms/step - loss: 0.0042 - val_loss: 0.0146\n",
            "Epoch 188/200\n",
            "149/149 [==============================] - 3s 18ms/step - loss: 0.0039 - val_loss: 0.0147\n",
            "Epoch 189/200\n",
            "149/149 [==============================] - 3s 18ms/step - loss: 0.0041 - val_loss: 0.0149\n",
            "Epoch 190/200\n",
            "149/149 [==============================] - 3s 18ms/step - loss: 0.0040 - val_loss: 0.0151\n",
            "Epoch 191/200\n",
            "149/149 [==============================] - 3s 19ms/step - loss: 0.0040 - val_loss: 0.0159\n",
            "Epoch 192/200\n",
            "149/149 [==============================] - 3s 18ms/step - loss: 0.0039 - val_loss: 0.0159\n",
            "Epoch 193/200\n",
            "149/149 [==============================] - 3s 18ms/step - loss: 0.0043 - val_loss: 0.0143\n",
            "Epoch 194/200\n",
            "149/149 [==============================] - 3s 18ms/step - loss: 0.0041 - val_loss: 0.0143\n",
            "Epoch 195/200\n",
            "149/149 [==============================] - 3s 18ms/step - loss: 0.0039 - val_loss: 0.0152\n",
            "Epoch 196/200\n",
            "149/149 [==============================] - 3s 19ms/step - loss: 0.0039 - val_loss: 0.0169\n",
            "Epoch 197/200\n",
            "149/149 [==============================] - 3s 18ms/step - loss: 0.0036 - val_loss: 0.0173\n",
            "Epoch 198/200\n",
            "149/149 [==============================] - 3s 18ms/step - loss: 0.0041 - val_loss: 0.0158\n",
            "Epoch 199/200\n",
            "149/149 [==============================] - 3s 18ms/step - loss: 0.0038 - val_loss: 0.0169\n",
            "Epoch 200/200\n",
            "149/149 [==============================] - 3s 18ms/step - loss: 0.0037 - val_loss: 0.0142\n",
            "CPU times: user 7min 24s, sys: 1min 31s, total: 8min 55s\n",
            "Wall time: 9min 26s\n"
          ],
          "name": "stdout"
        }
      ]
    },
    {
      "cell_type": "markdown",
      "metadata": {
        "id": "g7N08kPL9pQE"
      },
      "source": [
        "> ## 4) 학습결과 시각화"
      ]
    },
    {
      "cell_type": "code",
      "metadata": {
        "colab": {
          "base_uri": "https://localhost:8080/",
          "height": 334
        },
        "id": "fPo9Bp4u9xoC",
        "outputId": "025c8bf0-1504-4bae-bdbe-f040590d08fa"
      },
      "source": [
        "plt.figure(figsize = (12, 5))\n",
        "plt.plot(hist.history['loss'])\n",
        "plt.plot(hist.history['val_loss'])\n",
        "\n",
        "plt.ylabel('loss')\n",
        "plt.xlabel('epoch')\n",
        "plt.legend(['Train Loss', 'Valid Loss'], loc = 'upper right')\n",
        "plt.show()\n"
      ],
      "execution_count": 41,
      "outputs": [
        {
          "output_type": "display_data",
          "data": {
            "image/png": "[encoded data removed]",
            "text/plain": [
              "<Figure size 864x360 with 1 Axes>"
            ]
          },
          "metadata": {
            "tags": [],
            "needs_background": "light"
          }
        }
      ]
    },
    {
      "cell_type": "markdown",
      "metadata": {
        "id": "yphS8Vwt90KT"
      },
      "source": [
        "> ## 5) Model Evaluate"
      ]
    },
    {
      "cell_type": "code",
      "metadata": {
        "colab": {
          "base_uri": "https://localhost:8080/"
        },
        "id": "fdih9Dd293Os",
        "outputId": "edf3e702-3dec-40ce-8703-f88e2dce4e15"
      },
      "source": [
        "trainScore = model.evaluate(train_X, train_y, verbose = 0)\n",
        "print('Train Score: ', trainScore)\n",
        "\n",
        "testScore = model.evaluate(test_X, test_y, verbose = 0)\n",
        "print('Test Score: ', testScore)\n"
      ],
      "execution_count": 42,
      "outputs": [
        {
          "output_type": "stream",
          "text": [
            "Train Score:  0.003788168076425791\n",
            "Test Score:  0.014182964339852333\n"
          ],
          "name": "stdout"
        }
      ]
    },
    {
      "cell_type": "markdown",
      "metadata": {
        "id": "Etx7BUlW96PA"
      },
      "source": [
        "# V. Model Predict"
      ]
    },
    {
      "cell_type": "code",
      "metadata": {
        "colab": {
          "base_uri": "https://localhost:8080/",
          "height": 320
        },
        "id": "Vn-wps-Q99Qw",
        "outputId": "b149cf2a-af72-4093-9258-51ce449d3fca"
      },
      "source": [
        "look_ahead = 550\n",
        "\n",
        "xhat = test_X[0]\n",
        "\n",
        "predictions = np.zeros((look_ahead, 1))\n",
        "\n",
        "for i in range(look_ahead):\n",
        "    prediction = model.predict(np.array([xhat]), batch_size = 1)\n",
        "    predictions[i] = prediction\n",
        "    xhat = np.vstack([xhat[1:], prediction])\n",
        "    \n",
        "plt.figure(figsize = (12, 5))\n",
        "plt.plot(np.arange(look_ahead), predictions, 'r', label = 'Prediction')\n",
        "plt.plot(np.arange(look_ahead), test_y[:look_ahead], label = 'Test_Data')\n",
        "plt.legend()\n",
        "plt.show()\n"
      ],
      "execution_count": 45,
      "outputs": [
        {
          "output_type": "display_data",
          "data": {
            "image/png": "[encoded data removed]",
            "text/plain": [
              "<Figure size 864x360 with 1 Axes>"
            ]
          },
          "metadata": {
            "tags": [],
            "needs_background": "light"
          }
        }
      ]
    },
    {
      "cell_type": "code",
      "metadata": {
        "id": "0JjGHNzF__5r"
      },
      "source": [
        ""
      ],
      "execution_count": 43,
      "outputs": []
    }
  ]
}