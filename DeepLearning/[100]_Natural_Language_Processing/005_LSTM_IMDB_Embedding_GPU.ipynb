{
  "nbformat": 4,
  "nbformat_minor": 0,
  "metadata": {
    "colab": {
      "name": "005_LSTM_IMDB_Embedding_GPU.ipynb",
      "provenance": []
    },
    "kernelspec": {
      "name": "python3",
      "display_name": "Python 3"
    },
    "language_info": {
      "name": "python"
    },
    "accelerator": "GPU"
  },
  "cells": [
    {
      "cell_type": "markdown",
      "metadata": {
        "id": "eOxHPKjxv1dZ"
      },
      "source": [
        "# IMDB - Embedding with LSTM\n"
      ]
    },
    {
      "cell_type": "markdown",
      "metadata": {
        "id": "01BqgIiowC6j"
      },
      "source": [
        "> ## NLP(Natural Language Processing)"
      ]
    },
    {
      "cell_type": "code",
      "metadata": {
        "id": "bcmE_3NywRwi"
      },
      "source": [
        "import warnings\n",
        "warnings.filterwarnings('ignore')\n"
      ],
      "execution_count": 2,
      "outputs": []
    },
    {
      "cell_type": "code",
      "metadata": {
        "colab": {
          "base_uri": "https://localhost:8080/",
          "height": 34
        },
        "id": "QZflq_rFwT47",
        "outputId": "65cbaea5-221f-4b5c-b659-9eaeb024e0a1"
      },
      "source": [
        "import keras\n",
        "keras.__version__"
      ],
      "execution_count": 3,
      "outputs": [
        {
          "output_type": "execute_result",
          "data": {
            "application/vnd.google.colaboratory.intrinsic+json": {
              "type": "string"
            },
            "text/plain": [
              "'2.4.3'"
            ]
          },
          "metadata": {
            "tags": []
          },
          "execution_count": 3
        }
      ]
    },
    {
      "cell_type": "markdown",
      "metadata": {
        "id": "BFreYcB6wXR9"
      },
      "source": [
        "# I. IMDB Data_Set Load & Review"
      ]
    },
    {
      "cell_type": "markdown",
      "metadata": {
        "id": "6j1XxyeMwbIL"
      },
      "source": [
        "> ## 1) Load IMDB Data_Set"
      ]
    },
    {
      "cell_type": "markdown",
      "metadata": {
        "id": "GWSjCkJwwdoy"
      },
      "source": [
        "* Word to Vector\n",
        "* 전체 데이터 내에서 단어의 사용 빈도에 따라 인덱스화\n",
        "* 정수 인덱스 '11'은 11번째로 자주 사용된 단어를 나타냄\n",
        "* num_words = 10000: 인덱스 값 10000 이하의 단어만 추출\n",
        "* 단어 인덱스 값이 10000을 넘지 않는 단어만 분석에 사용"
      ]
    },
    {
      "cell_type": "code",
      "metadata": {
        "id": "qRpsUnkZwu50"
      },
      "source": [
        "from keras.datasets import imdb\n",
        "\n",
        "(X_train, y_train), (X_test, y_test) = imdb.load_data(num_words = 10000)\n"
      ],
      "execution_count": 4,
      "outputs": []
    },
    {
      "cell_type": "markdown",
      "metadata": {
        "id": "iO4K_dLbwwjW"
      },
      "source": [
        "> ## 2) Visualization & Frequency(Optional)\n"
      ]
    },
    {
      "cell_type": "code",
      "metadata": {
        "colab": {
          "base_uri": "https://localhost:8080/",
          "height": 424
        },
        "id": "37mfy7RWxGel",
        "outputId": "9a22a4ac-32d4-4af9-bcda-ec58abe733b7"
      },
      "source": [
        "# x-Histogram(리뷰 길이)\n",
        "\n",
        "import matplotlib.pyplot as plt\n",
        "\n",
        "print('리뷰 최대 길이 :', max(len(L)for L in X_train))\n",
        "print('리뷰 평균길이 :', sum(map(len, X_train))/len(X_train))\n",
        "\n",
        "plt.figure(figsize = (9, 6))\n",
        "plt.hist([len(L) for L in X_train], bins = 50)\n",
        "plt.xlabel('Length of X_train')\n",
        "plt.ylabel('Number of X_train')\n",
        "plt.show()\n"
      ],
      "execution_count": 5,
      "outputs": [
        {
          "output_type": "stream",
          "text": [
            "리뷰 최대 길이 : 2494\n",
            "리뷰 평균길이 : 238.71364\n"
          ],
          "name": "stdout"
        },
        {
          "output_type": "display_data",
          "data": {
            "image/png": "[encoded data removed]",
            "text/plain": [
              "<Figure size 648x432 with 1 Axes>"
            ]
          },
          "metadata": {
            "tags": [],
            "needs_background": "light"
          }
        }
      ]
    },
    {
      "cell_type": "code",
      "metadata": {
        "colab": {
          "base_uri": "https://localhost:8080/"
        },
        "id": "6UGcN_MIxcPF",
        "outputId": "79140efa-47fc-4820-abbd-2f9ad3d15476"
      },
      "source": [
        "# y-Frequency(0: 부정, 1: 긍정)\n",
        "\n",
        "import numpy as np\n",
        "\n",
        "unique_elements, counts_elements = np.unique(y_train, return_counts = True)\n",
        "\n",
        "print('Label 빈도수:')\n",
        "print(np.asarray((unique_elements, counts_elements)))"
      ],
      "execution_count": 6,
      "outputs": [
        {
          "output_type": "stream",
          "text": [
            "Label 빈도수:\n",
            "[[    0     1]\n",
            " [12500 12500]]\n"
          ],
          "name": "stdout"
        }
      ]
    },
    {
      "cell_type": "markdown",
      "metadata": {
        "id": "_-oXvdjxxw5E"
      },
      "source": [
        "# II. Tensor Transformation"
      ]
    },
    {
      "cell_type": "markdown",
      "metadata": {
        "id": "MZeclnxix3Qb"
      },
      "source": [
        "> ## 1) X_train & X_test: (25000, 10000)"
      ]
    },
    {
      "cell_type": "markdown",
      "metadata": {
        "id": "tuUDRlldx67-"
      },
      "source": [
        "* vectorization\n",
        "  * (25000, 10000)"
      ]
    },
    {
      "cell_type": "code",
      "metadata": {
        "colab": {
          "base_uri": "https://localhost:8080/"
        },
        "id": "NCggre3Yx-ka",
        "outputId": "6f79f131-db4b-4cbe-a6af-2437c6bb73ca"
      },
      "source": [
        "from keras import preprocessing\n",
        "\n",
        "X_train = preprocessing.sequence.pad_sequences(X_train, maxlen = 10000)\n",
        "X_test = preprocessing.sequence.pad_sequences(X_test, maxlen = 10000)\n",
        "X_train.shape, X_test.shape\n"
      ],
      "execution_count": 7,
      "outputs": [
        {
          "output_type": "execute_result",
          "data": {
            "text/plain": [
              "((25000, 10000), (25000, 10000))"
            ]
          },
          "metadata": {
            "tags": []
          },
          "execution_count": 7
        }
      ]
    },
    {
      "cell_type": "code",
      "metadata": {
        "colab": {
          "base_uri": "https://localhost:8080/"
        },
        "id": "7MxP4R5CyCOb",
        "outputId": "e132b593-157b-43c3-a427-10308afa94cb"
      },
      "source": [
        "# Transformation check\n",
        "\n",
        "print(X_train[0][:21])\n",
        "print(X_train[0][9979:])\n",
        "\n",
        "print(X_test[0][:21])\n",
        "print(X_test[0][9979:])\n"
      ],
      "execution_count": 8,
      "outputs": [
        {
          "output_type": "stream",
          "text": [
            "[0 0 0 0 0 0 0 0 0 0 0 0 0 0 0 0 0 0 0 0 0]\n",
            "[ 226   65   16   38 1334   88   12   16  283    5   16 4472  113  103\n",
            "   32   15   16 5345   19  178   32]\n",
            "[0 0 0 0 0 0 0 0 0 0 0 0 0 0 0 0 0 0 0 0 0]\n",
            "[  14  286  170    8  157   46    5   27  239   16  179    2   38   32\n",
            "   25 7944  451  202   14    6  717]\n"
          ],
          "name": "stdout"
        }
      ]
    },
    {
      "cell_type": "markdown",
      "metadata": {
        "id": "4znbe6RnyNC_"
      },
      "source": [
        "> ## 2) y_train & y_test"
      ]
    },
    {
      "cell_type": "code",
      "metadata": {
        "colab": {
          "base_uri": "https://localhost:8080/"
        },
        "id": "Yd8PkG4FyTcZ",
        "outputId": "78e269a9-b7d2-4c5e-becd-59165e4c59c6"
      },
      "source": [
        "y_train = np.asarray(y_train).astype(float)\n",
        "y_test = np.asarray(y_test).astype(float)\n",
        "\n",
        "print(y_train[:21])\n",
        "print(y_test[:21])\n"
      ],
      "execution_count": 9,
      "outputs": [
        {
          "output_type": "stream",
          "text": [
            "[1. 0. 0. 1. 0. 0. 1. 0. 1. 0. 1. 0. 0. 0. 0. 0. 1. 1. 0. 1. 0.]\n",
            "[0. 1. 1. 0. 1. 1. 1. 0. 0. 1. 1. 0. 0. 0. 1. 0. 1. 0. 0. 0. 1.]\n"
          ],
          "name": "stdout"
        }
      ]
    },
    {
      "cell_type": "markdown",
      "metadata": {
        "id": "nePARexnyVLB"
      },
      "source": [
        "# III. Keras Embedding Modeling"
      ]
    },
    {
      "cell_type": "markdown",
      "metadata": {
        "id": "useVtc4NyYNP"
      },
      "source": [
        "> ## 1) Model Define"
      ]
    },
    {
      "cell_type": "markdown",
      "metadata": {
        "id": "efBSmiXtyZQ9"
      },
      "source": [
        "* 모델 신경망 구조 정의\n",
        "  * Embedding Dimension: 32"
      ]
    },
    {
      "cell_type": "code",
      "metadata": {
        "id": "pjDjQh0Ayci2"
      },
      "source": [
        "from keras import models\n",
        "from keras import layers\n",
        "\n",
        "imdb = models.Sequential()\n",
        "\n",
        "imdb.add(layers.Embedding(10000, 32, input_length = 10000))\n",
        "\n",
        "imdb.add(layers.LSTM(8))\n",
        "imdb.add(layers.Dropout(0.5))\n",
        "imdb.add(layers.Dense(1, activation = 'sigmoid'))\n"
      ],
      "execution_count": 11,
      "outputs": []
    },
    {
      "cell_type": "code",
      "metadata": {
        "colab": {
          "base_uri": "https://localhost:8080/"
        },
        "id": "pBYoNgrWyo1W",
        "outputId": "b8a83c15-92bb-43c6-cb06-206cd66df087"
      },
      "source": [
        "imdb.summary()"
      ],
      "execution_count": 12,
      "outputs": [
        {
          "output_type": "stream",
          "text": [
            "Model: \"sequential_1\"\n",
            "_________________________________________________________________\n",
            "Layer (type)                 Output Shape              Param #   \n",
            "=================================================================\n",
            "embedding_1 (Embedding)      (None, 10000, 32)         320000    \n",
            "_________________________________________________________________\n",
            "lstm_1 (LSTM)                (None, 8)                 1312      \n",
            "_________________________________________________________________\n",
            "dropout (Dropout)            (None, 8)                 0         \n",
            "_________________________________________________________________\n",
            "dense (Dense)                (None, 1)                 9         \n",
            "=================================================================\n",
            "Total params: 321,321\n",
            "Trainable params: 321,321\n",
            "Non-trainable params: 0\n",
            "_________________________________________________________________\n"
          ],
          "name": "stdout"
        }
      ]
    },
    {
      "cell_type": "markdown",
      "metadata": {
        "id": "kiJ7K7g-ysOC"
      },
      "source": [
        "> ## 2) Model Compile"
      ]
    },
    {
      "cell_type": "code",
      "metadata": {
        "id": "AAGBBlpCyv6F"
      },
      "source": [
        "# 모델 학습방법 설정\n",
        "\n",
        "imdb.compile(loss = 'binary_crossentropy',\n",
        "             optimizer = 'adam',\n",
        "             metrics = ['accuracy'])\n"
      ],
      "execution_count": 13,
      "outputs": []
    },
    {
      "cell_type": "markdown",
      "metadata": {
        "id": "ksrBdKlcy8C3"
      },
      "source": [
        "> ## 3) Model Fit"
      ]
    },
    {
      "cell_type": "code",
      "metadata": {
        "colab": {
          "base_uri": "https://localhost:8080/"
        },
        "id": "X5CTSXkmy9hM",
        "outputId": "73da8615-88a4-4e48-856e-c5a4af9775ab"
      },
      "source": [
        "%%time\n",
        "\n",
        "Hist_imdb = imdb.fit(X_train, y_train,\n",
        "                     epochs = 50,\n",
        "                     batch_size = 512,\n",
        "                     validation_data = (X_test, y_test))\n"
      ],
      "execution_count": 14,
      "outputs": [
        {
          "output_type": "stream",
          "text": [
            "Epoch 1/50\n",
            "49/49 [==============================] - 82s 1s/step - loss: 0.6890 - accuracy: 0.5671 - val_loss: 0.6586 - val_accuracy: 0.7000\n",
            "Epoch 2/50\n",
            "49/49 [==============================] - 53s 1s/step - loss: 0.6065 - accuracy: 0.7373 - val_loss: 0.4884 - val_accuracy: 0.8226\n",
            "Epoch 3/50\n",
            "49/49 [==============================] - 53s 1s/step - loss: 0.4588 - accuracy: 0.8452 - val_loss: 0.4078 - val_accuracy: 0.8520\n",
            "Epoch 4/50\n",
            "49/49 [==============================] - 53s 1s/step - loss: 0.3783 - accuracy: 0.8839 - val_loss: 0.3793 - val_accuracy: 0.8574\n",
            "Epoch 5/50\n",
            "49/49 [==============================] - 53s 1s/step - loss: 0.3484 - accuracy: 0.8933 - val_loss: 0.3776 - val_accuracy: 0.8512\n",
            "Epoch 6/50\n",
            "49/49 [==============================] - 53s 1s/step - loss: 0.3194 - accuracy: 0.8994 - val_loss: 0.3917 - val_accuracy: 0.8456\n",
            "Epoch 7/50\n",
            "49/49 [==============================] - 53s 1s/step - loss: 0.2977 - accuracy: 0.9119 - val_loss: 0.3587 - val_accuracy: 0.8584\n",
            "Epoch 8/50\n",
            "49/49 [==============================] - 53s 1s/step - loss: 0.3649 - accuracy: 0.8569 - val_loss: 0.3910 - val_accuracy: 0.8368\n",
            "Epoch 9/50\n",
            "49/49 [==============================] - 53s 1s/step - loss: 0.3030 - accuracy: 0.9004 - val_loss: 0.3663 - val_accuracy: 0.8525\n",
            "Epoch 10/50\n",
            "49/49 [==============================] - 53s 1s/step - loss: 0.2663 - accuracy: 0.9212 - val_loss: 0.3669 - val_accuracy: 0.8544\n",
            "Epoch 11/50\n",
            "49/49 [==============================] - 53s 1s/step - loss: 0.2395 - accuracy: 0.9317 - val_loss: 0.3710 - val_accuracy: 0.8575\n",
            "Epoch 12/50\n",
            "49/49 [==============================] - 53s 1s/step - loss: 0.2213 - accuracy: 0.9400 - val_loss: 0.4104 - val_accuracy: 0.8528\n",
            "Epoch 13/50\n",
            "49/49 [==============================] - 53s 1s/step - loss: 0.2196 - accuracy: 0.9394 - val_loss: 0.3945 - val_accuracy: 0.8541\n",
            "Epoch 14/50\n",
            "49/49 [==============================] - 53s 1s/step - loss: 0.2070 - accuracy: 0.9460 - val_loss: 0.3848 - val_accuracy: 0.8559\n",
            "Epoch 15/50\n",
            "49/49 [==============================] - 53s 1s/step - loss: 0.1875 - accuracy: 0.9540 - val_loss: 0.3866 - val_accuracy: 0.8569\n",
            "Epoch 16/50\n",
            "49/49 [==============================] - 53s 1s/step - loss: 0.1739 - accuracy: 0.9579 - val_loss: 0.3945 - val_accuracy: 0.8560\n",
            "Epoch 17/50\n",
            "49/49 [==============================] - 53s 1s/step - loss: 0.1729 - accuracy: 0.9590 - val_loss: 0.4005 - val_accuracy: 0.8538\n",
            "Epoch 18/50\n",
            "49/49 [==============================] - 53s 1s/step - loss: 0.1621 - accuracy: 0.9606 - val_loss: 0.4097 - val_accuracy: 0.8550\n",
            "Epoch 19/50\n",
            "49/49 [==============================] - 52s 1s/step - loss: 0.2112 - accuracy: 0.9393 - val_loss: 0.4357 - val_accuracy: 0.8352\n",
            "Epoch 20/50\n",
            "49/49 [==============================] - 53s 1s/step - loss: 0.2210 - accuracy: 0.9320 - val_loss: 0.4137 - val_accuracy: 0.8541\n",
            "Epoch 21/50\n",
            "49/49 [==============================] - 53s 1s/step - loss: 0.1597 - accuracy: 0.9611 - val_loss: 0.4285 - val_accuracy: 0.8539\n",
            "Epoch 22/50\n",
            "49/49 [==============================] - 53s 1s/step - loss: 0.1473 - accuracy: 0.9645 - val_loss: 0.4269 - val_accuracy: 0.8529\n",
            "Epoch 23/50\n",
            "49/49 [==============================] - 53s 1s/step - loss: 0.1400 - accuracy: 0.9659 - val_loss: 0.4409 - val_accuracy: 0.8530\n",
            "Epoch 24/50\n",
            "49/49 [==============================] - 53s 1s/step - loss: 0.1400 - accuracy: 0.9676 - val_loss: 0.4535 - val_accuracy: 0.8534\n",
            "Epoch 25/50\n",
            "49/49 [==============================] - 53s 1s/step - loss: 0.1207 - accuracy: 0.9734 - val_loss: 0.4691 - val_accuracy: 0.8538\n",
            "Epoch 26/50\n",
            "49/49 [==============================] - 53s 1s/step - loss: 0.1187 - accuracy: 0.9752 - val_loss: 0.4660 - val_accuracy: 0.8516\n",
            "Epoch 27/50\n",
            "49/49 [==============================] - 53s 1s/step - loss: 0.1201 - accuracy: 0.9728 - val_loss: 0.4712 - val_accuracy: 0.8527\n",
            "Epoch 28/50\n",
            "49/49 [==============================] - 53s 1s/step - loss: 0.1216 - accuracy: 0.9724 - val_loss: 0.4951 - val_accuracy: 0.8508\n",
            "Epoch 29/50\n",
            "49/49 [==============================] - 53s 1s/step - loss: 0.1129 - accuracy: 0.9731 - val_loss: 0.4978 - val_accuracy: 0.8518\n",
            "Epoch 30/50\n",
            "49/49 [==============================] - 53s 1s/step - loss: 0.1096 - accuracy: 0.9749 - val_loss: 0.4991 - val_accuracy: 0.8500\n",
            "Epoch 31/50\n",
            "49/49 [==============================] - 53s 1s/step - loss: 0.1003 - accuracy: 0.9782 - val_loss: 0.5189 - val_accuracy: 0.8514\n",
            "Epoch 32/50\n",
            "49/49 [==============================] - 53s 1s/step - loss: 0.0947 - accuracy: 0.9800 - val_loss: 0.5309 - val_accuracy: 0.8509\n",
            "Epoch 33/50\n",
            "49/49 [==============================] - 53s 1s/step - loss: 0.0962 - accuracy: 0.9792 - val_loss: 0.6485 - val_accuracy: 0.8350\n",
            "Epoch 34/50\n",
            "49/49 [==============================] - 53s 1s/step - loss: 0.3526 - accuracy: 0.9132 - val_loss: 2.6531 - val_accuracy: 0.5358\n",
            "Epoch 35/50\n",
            "49/49 [==============================] - 53s 1s/step - loss: 1.7641 - accuracy: 0.6529 - val_loss: 0.5226 - val_accuracy: 0.8256\n",
            "Epoch 36/50\n",
            "49/49 [==============================] - 53s 1s/step - loss: 0.3643 - accuracy: 0.8908 - val_loss: 0.4841 - val_accuracy: 0.8264\n",
            "Epoch 37/50\n",
            "49/49 [==============================] - 51s 1s/step - loss: 0.2650 - accuracy: 0.9130 - val_loss: 0.4564 - val_accuracy: 0.8414\n",
            "Epoch 38/50\n",
            "49/49 [==============================] - 51s 1s/step - loss: 0.2277 - accuracy: 0.9322 - val_loss: 0.4519 - val_accuracy: 0.8414\n",
            "Epoch 39/50\n",
            "49/49 [==============================] - 52s 1s/step - loss: 0.2110 - accuracy: 0.9389 - val_loss: 0.4471 - val_accuracy: 0.8434\n",
            "Epoch 40/50\n",
            "49/49 [==============================] - 53s 1s/step - loss: 0.1922 - accuracy: 0.9431 - val_loss: 0.4452 - val_accuracy: 0.8458\n",
            "Epoch 41/50\n",
            "49/49 [==============================] - 53s 1s/step - loss: 0.1862 - accuracy: 0.9458 - val_loss: 0.4493 - val_accuracy: 0.8477\n",
            "Epoch 42/50\n",
            "49/49 [==============================] - 53s 1s/step - loss: 0.1746 - accuracy: 0.9523 - val_loss: 0.4494 - val_accuracy: 0.8463\n",
            "Epoch 43/50\n",
            "49/49 [==============================] - 53s 1s/step - loss: 0.1649 - accuracy: 0.9560 - val_loss: 0.4528 - val_accuracy: 0.8475\n",
            "Epoch 44/50\n",
            "49/49 [==============================] - 53s 1s/step - loss: 0.1594 - accuracy: 0.9595 - val_loss: 0.4613 - val_accuracy: 0.8462\n",
            "Epoch 45/50\n",
            "49/49 [==============================] - 53s 1s/step - loss: 0.1457 - accuracy: 0.9641 - val_loss: 0.4585 - val_accuracy: 0.8465\n",
            "Epoch 46/50\n",
            "49/49 [==============================] - 53s 1s/step - loss: 0.1491 - accuracy: 0.9623 - val_loss: 0.4663 - val_accuracy: 0.8469\n",
            "Epoch 47/50\n",
            "49/49 [==============================] - 53s 1s/step - loss: 0.1422 - accuracy: 0.9659 - val_loss: 0.4698 - val_accuracy: 0.8466\n",
            "Epoch 48/50\n",
            "49/49 [==============================] - 52s 1s/step - loss: 0.1374 - accuracy: 0.9664 - val_loss: 0.4937 - val_accuracy: 0.8343\n",
            "Epoch 49/50\n",
            "49/49 [==============================] - 52s 1s/step - loss: 0.2127 - accuracy: 0.9319 - val_loss: 0.4828 - val_accuracy: 0.8392\n",
            "Epoch 50/50\n",
            "49/49 [==============================] - 51s 1s/step - loss: 0.1517 - accuracy: 0.9610 - val_loss: 0.4779 - val_accuracy: 0.8434\n",
            "CPU times: user 31min 57s, sys: 7min 14s, total: 39min 12s\n",
            "Wall time: 44min 25s\n"
          ],
          "name": "stdout"
        }
      ]
    },
    {
      "cell_type": "markdown",
      "metadata": {
        "id": "oQHj8qegzBdO"
      },
      "source": [
        "> ## 4) 학습 결과 시각화"
      ]
    },
    {
      "cell_type": "code",
      "metadata": {
        "id": "uWt0J9u0zIRH",
        "colab": {
          "base_uri": "https://localhost:8080/",
          "height": 404
        },
        "outputId": "aaddeec8-317b-4a0f-aa3b-96155b9fac53"
      },
      "source": [
        "# Loss Visualization\n",
        "\n",
        "import matplotlib.pyplot as plt\n",
        "\n",
        "epochs = range(1, len(Hist_imdb.history['loss']) + 1)\n",
        "\n",
        "plt.figure(figsize = (9, 6))\n",
        "plt.plot(epochs, Hist_imdb.history['loss'])\n",
        "plt.plot(epochs, Hist_imdb.history['val_loss'])\n",
        "plt.title('Training & Validation Loss')\n",
        "plt.xlabel('Epochs')\n",
        "plt.ylabel('Loss')\n",
        "plt.legend(['Training Loss', 'Validation Loss'])\n",
        "plt.grid()\n",
        "plt.show()"
      ],
      "execution_count": 15,
      "outputs": [
        {
          "output_type": "display_data",
          "data": {
            "image/png": "[encoded data removed]",
            "text/plain": [
              "<Figure size 648x432 with 1 Axes>"
            ]
          },
          "metadata": {
            "tags": [],
            "needs_background": "light"
          }
        }
      ]
    },
    {
      "cell_type": "code",
      "metadata": {
        "id": "RHZdocaSzUPt",
        "colab": {
          "base_uri": "https://localhost:8080/",
          "height": 404
        },
        "outputId": "fa834986-ecc3-4e18-b06c-44b07fcf2e8a"
      },
      "source": [
        "# Accuracy Visualization\n",
        "\n",
        "import matplotlib.pyplot as plt\n",
        "\n",
        "epochs = range(1, len(Hist_imdb.history['accuracy']) + 1)\n",
        "\n",
        "plt.figure(figsize = (9, 6))\n",
        "plt.plot(epochs, Hist_imdb.history['accuracy'])\n",
        "plt.plot(epochs, Hist_imdb.history['val_accuracy'])\n",
        "plt.title('Training & Validation Accuracy')\n",
        "plt.xlabel('Epochs')\n",
        "plt.ylabel('Accuracy')\n",
        "plt.legend(['Training Accuracy', 'Validation Accuracy'])\n",
        "plt.grid()\n",
        "plt.show()\n"
      ],
      "execution_count": 16,
      "outputs": [
        {
          "output_type": "display_data",
          "data": {
            "image/png": "[encoded data removed]",
            "text/plain": [
              "<Figure size 648x432 with 1 Axes>"
            ]
          },
          "metadata": {
            "tags": [],
            "needs_background": "light"
          }
        }
      ]
    },
    {
      "cell_type": "markdown",
      "metadata": {
        "id": "Ju7uHtjbzZxd"
      },
      "source": [
        "> ## 5) Model Evaluate"
      ]
    },
    {
      "cell_type": "code",
      "metadata": {
        "id": "zdkrFg7mzdSl",
        "colab": {
          "base_uri": "https://localhost:8080/"
        },
        "outputId": "b15bd49a-0f27-4d4c-9b87-02995bf537d0"
      },
      "source": [
        "# Loss & Accuracy\n",
        "\n",
        "loss, accuracy = imdb.evaluate(X_test, y_test)\n",
        "\n",
        "print('Loss = {:.5f}'.format(loss))\n",
        "print('Accuracy = {:.5f}'.format(accuracy))\n"
      ],
      "execution_count": 17,
      "outputs": [
        {
          "output_type": "stream",
          "text": [
            "782/782 [==============================] - 125s 160ms/step - loss: 0.4779 - accuracy: 0.8434\n",
            "Loss = 0.47785\n",
            "Accuracy = 0.84340\n"
          ],
          "name": "stdout"
        }
      ]
    },
    {
      "cell_type": "code",
      "metadata": {
        "id": "rzKAGSrvzhdv"
      },
      "source": [
        ""
      ],
      "execution_count": null,
      "outputs": []
    }
  ]
}