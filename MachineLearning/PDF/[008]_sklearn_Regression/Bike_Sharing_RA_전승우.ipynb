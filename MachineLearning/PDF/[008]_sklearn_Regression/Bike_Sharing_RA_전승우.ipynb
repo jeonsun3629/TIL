{
  "nbformat": 4,
  "nbformat_minor": 0,
  "metadata": {
    "colab": {
      "name": "Bike_Sharing_RA_전승우.ipynb",
      "provenance": []
    },
    "kernelspec": {
      "name": "python3",
      "display_name": "Python 3"
    }
  },
  "cells": [
    {
      "cell_type": "code",
      "metadata": {
        "id": "53R1KbozRgWG"
      },
      "source": [
        "import warnings\r\n",
        "warnings.filterwarnings('ignore')"
      ],
      "execution_count": 1,
      "outputs": []
    },
    {
      "cell_type": "code",
      "metadata": {
        "id": "kqvkzjEwRosP"
      },
      "source": [
        "import pandas as pd\r\n",
        "url = 'https://raw.githubusercontent.com/rusita-ai/pyData/master/Bike_Sharing_Demand.csv'\r\n",
        "DF = pd.read_csv(url)"
      ],
      "execution_count": 2,
      "outputs": []
    },
    {
      "cell_type": "code",
      "metadata": {
        "colab": {
          "base_uri": "https://localhost:8080/"
        },
        "id": "8p5PYzkbRuAQ",
        "outputId": "4c7b075b-a06e-4b68-af63-c30f20a740dc"
      },
      "source": [
        "DF.info()"
      ],
      "execution_count": 3,
      "outputs": [
        {
          "output_type": "stream",
          "text": [
            "<class 'pandas.core.frame.DataFrame'>\n",
            "RangeIndex: 10886 entries, 0 to 10885\n",
            "Data columns (total 12 columns):\n",
            " #   Column      Non-Null Count  Dtype  \n",
            "---  ------      --------------  -----  \n",
            " 0   datetime    10886 non-null  object \n",
            " 1   season      10886 non-null  int64  \n",
            " 2   holiday     10886 non-null  int64  \n",
            " 3   workingday  10886 non-null  int64  \n",
            " 4   weather     10886 non-null  int64  \n",
            " 5   temp        10886 non-null  float64\n",
            " 6   atemp       10886 non-null  float64\n",
            " 7   humidity    10886 non-null  int64  \n",
            " 8   windspeed   10886 non-null  float64\n",
            " 9   casual      10886 non-null  int64  \n",
            " 10  registered  10886 non-null  int64  \n",
            " 11  count       10886 non-null  int64  \n",
            "dtypes: float64(3), int64(8), object(1)\n",
            "memory usage: 1020.7+ KB\n"
          ],
          "name": "stdout"
        }
      ]
    },
    {
      "cell_type": "code",
      "metadata": {
        "colab": {
          "base_uri": "https://localhost:8080/",
          "height": 394
        },
        "id": "cc4-ih0uW59V",
        "outputId": "75a4aac4-2831-45b3-c371-c2e53d058e7c"
      },
      "source": [
        "DF.head()"
      ],
      "execution_count": 4,
      "outputs": [
        {
          "output_type": "execute_result",
          "data": {
            "text/html": [
              "<div>\n",
              "<style scoped>\n",
              "    .dataframe tbody tr th:only-of-type {\n",
              "        vertical-align: middle;\n",
              "    }\n",
              "\n",
              "    .dataframe tbody tr th {\n",
              "        vertical-align: top;\n",
              "    }\n",
              "\n",
              "    .dataframe thead th {\n",
              "        text-align: right;\n",
              "    }\n",
              "</style>\n",
              "<table border=\"1\" class=\"dataframe\">\n",
              "  <thead>\n",
              "    <tr style=\"text-align: right;\">\n",
              "      <th></th>\n",
              "      <th>datetime</th>\n",
              "      <th>season</th>\n",
              "      <th>holiday</th>\n",
              "      <th>workingday</th>\n",
              "      <th>weather</th>\n",
              "      <th>temp</th>\n",
              "      <th>atemp</th>\n",
              "      <th>humidity</th>\n",
              "      <th>windspeed</th>\n",
              "      <th>casual</th>\n",
              "      <th>registered</th>\n",
              "      <th>count</th>\n",
              "    </tr>\n",
              "  </thead>\n",
              "  <tbody>\n",
              "    <tr>\n",
              "      <th>0</th>\n",
              "      <td>2011-01-01 00:00:00</td>\n",
              "      <td>1</td>\n",
              "      <td>0</td>\n",
              "      <td>0</td>\n",
              "      <td>1</td>\n",
              "      <td>9.84</td>\n",
              "      <td>14.395</td>\n",
              "      <td>81</td>\n",
              "      <td>0.0</td>\n",
              "      <td>3</td>\n",
              "      <td>13</td>\n",
              "      <td>16</td>\n",
              "    </tr>\n",
              "    <tr>\n",
              "      <th>1</th>\n",
              "      <td>2011-01-01 01:00:00</td>\n",
              "      <td>1</td>\n",
              "      <td>0</td>\n",
              "      <td>0</td>\n",
              "      <td>1</td>\n",
              "      <td>9.02</td>\n",
              "      <td>13.635</td>\n",
              "      <td>80</td>\n",
              "      <td>0.0</td>\n",
              "      <td>8</td>\n",
              "      <td>32</td>\n",
              "      <td>40</td>\n",
              "    </tr>\n",
              "    <tr>\n",
              "      <th>2</th>\n",
              "      <td>2011-01-01 02:00:00</td>\n",
              "      <td>1</td>\n",
              "      <td>0</td>\n",
              "      <td>0</td>\n",
              "      <td>1</td>\n",
              "      <td>9.02</td>\n",
              "      <td>13.635</td>\n",
              "      <td>80</td>\n",
              "      <td>0.0</td>\n",
              "      <td>5</td>\n",
              "      <td>27</td>\n",
              "      <td>32</td>\n",
              "    </tr>\n",
              "    <tr>\n",
              "      <th>3</th>\n",
              "      <td>2011-01-01 03:00:00</td>\n",
              "      <td>1</td>\n",
              "      <td>0</td>\n",
              "      <td>0</td>\n",
              "      <td>1</td>\n",
              "      <td>9.84</td>\n",
              "      <td>14.395</td>\n",
              "      <td>75</td>\n",
              "      <td>0.0</td>\n",
              "      <td>3</td>\n",
              "      <td>10</td>\n",
              "      <td>13</td>\n",
              "    </tr>\n",
              "    <tr>\n",
              "      <th>4</th>\n",
              "      <td>2011-01-01 04:00:00</td>\n",
              "      <td>1</td>\n",
              "      <td>0</td>\n",
              "      <td>0</td>\n",
              "      <td>1</td>\n",
              "      <td>9.84</td>\n",
              "      <td>14.395</td>\n",
              "      <td>75</td>\n",
              "      <td>0.0</td>\n",
              "      <td>0</td>\n",
              "      <td>1</td>\n",
              "      <td>1</td>\n",
              "    </tr>\n",
              "  </tbody>\n",
              "</table>\n",
              "</div>"
            ],
            "text/plain": [
              "              datetime  season  holiday  ...  casual  registered  count\n",
              "0  2011-01-01 00:00:00       1        0  ...       3          13     16\n",
              "1  2011-01-01 01:00:00       1        0  ...       8          32     40\n",
              "2  2011-01-01 02:00:00       1        0  ...       5          27     32\n",
              "3  2011-01-01 03:00:00       1        0  ...       3          10     13\n",
              "4  2011-01-01 04:00:00       1        0  ...       0           1      1\n",
              "\n",
              "[5 rows x 12 columns]"
            ]
          },
          "metadata": {
            "tags": []
          },
          "execution_count": 4
        }
      ]
    },
    {
      "cell_type": "code",
      "metadata": {
        "id": "LCftQO3dRwvC"
      },
      "source": [
        "DF['datetime'] = DF.datetime.apply(pd.to_datetime)\r\n",
        "DF['year'] = DF.datetime.apply(lambda x : x.year)\r\n",
        "DF['month'] = DF.datetime.apply(lambda x : x.month)\r\n",
        "DF['day'] = DF.datetime.apply(lambda x : x.day)\r\n",
        "DF['hour'] = DF.datetime.apply(lambda x: x.hour)\r\n"
      ],
      "execution_count": 5,
      "outputs": []
    },
    {
      "cell_type": "code",
      "metadata": {
        "id": "PGO5SkgdUokn"
      },
      "source": [
        "drop_columns = ['datetime', 'casual', 'registered']\r\n",
        "DF.drop(drop_columns, axis = 1,inplace = True)\r\n",
        "\r\n",
        "# year, month, day, hour 분리 후, datetime, casual, registered 열 삭제"
      ],
      "execution_count": 6,
      "outputs": []
    },
    {
      "cell_type": "code",
      "metadata": {
        "colab": {
          "base_uri": "https://localhost:8080/",
          "height": 204
        },
        "id": "DEODoaboU1PS",
        "outputId": "85d280c0-4a56-4b52-8835-e9049cefab03"
      },
      "source": [
        "DF = DF[['temp', 'atemp', 'humidity' ,'count', 'season', 'holiday', 'workingday', 'weather', 'month', 'hour']]\r\n",
        "DF.head()"
      ],
      "execution_count": 7,
      "outputs": [
        {
          "output_type": "execute_result",
          "data": {
            "text/html": [
              "<div>\n",
              "<style scoped>\n",
              "    .dataframe tbody tr th:only-of-type {\n",
              "        vertical-align: middle;\n",
              "    }\n",
              "\n",
              "    .dataframe tbody tr th {\n",
              "        vertical-align: top;\n",
              "    }\n",
              "\n",
              "    .dataframe thead th {\n",
              "        text-align: right;\n",
              "    }\n",
              "</style>\n",
              "<table border=\"1\" class=\"dataframe\">\n",
              "  <thead>\n",
              "    <tr style=\"text-align: right;\">\n",
              "      <th></th>\n",
              "      <th>temp</th>\n",
              "      <th>atemp</th>\n",
              "      <th>humidity</th>\n",
              "      <th>count</th>\n",
              "      <th>season</th>\n",
              "      <th>holiday</th>\n",
              "      <th>workingday</th>\n",
              "      <th>weather</th>\n",
              "      <th>month</th>\n",
              "      <th>hour</th>\n",
              "    </tr>\n",
              "  </thead>\n",
              "  <tbody>\n",
              "    <tr>\n",
              "      <th>0</th>\n",
              "      <td>9.84</td>\n",
              "      <td>14.395</td>\n",
              "      <td>81</td>\n",
              "      <td>16</td>\n",
              "      <td>1</td>\n",
              "      <td>0</td>\n",
              "      <td>0</td>\n",
              "      <td>1</td>\n",
              "      <td>1</td>\n",
              "      <td>0</td>\n",
              "    </tr>\n",
              "    <tr>\n",
              "      <th>1</th>\n",
              "      <td>9.02</td>\n",
              "      <td>13.635</td>\n",
              "      <td>80</td>\n",
              "      <td>40</td>\n",
              "      <td>1</td>\n",
              "      <td>0</td>\n",
              "      <td>0</td>\n",
              "      <td>1</td>\n",
              "      <td>1</td>\n",
              "      <td>1</td>\n",
              "    </tr>\n",
              "    <tr>\n",
              "      <th>2</th>\n",
              "      <td>9.02</td>\n",
              "      <td>13.635</td>\n",
              "      <td>80</td>\n",
              "      <td>32</td>\n",
              "      <td>1</td>\n",
              "      <td>0</td>\n",
              "      <td>0</td>\n",
              "      <td>1</td>\n",
              "      <td>1</td>\n",
              "      <td>2</td>\n",
              "    </tr>\n",
              "    <tr>\n",
              "      <th>3</th>\n",
              "      <td>9.84</td>\n",
              "      <td>14.395</td>\n",
              "      <td>75</td>\n",
              "      <td>13</td>\n",
              "      <td>1</td>\n",
              "      <td>0</td>\n",
              "      <td>0</td>\n",
              "      <td>1</td>\n",
              "      <td>1</td>\n",
              "      <td>3</td>\n",
              "    </tr>\n",
              "    <tr>\n",
              "      <th>4</th>\n",
              "      <td>9.84</td>\n",
              "      <td>14.395</td>\n",
              "      <td>75</td>\n",
              "      <td>1</td>\n",
              "      <td>1</td>\n",
              "      <td>0</td>\n",
              "      <td>0</td>\n",
              "      <td>1</td>\n",
              "      <td>1</td>\n",
              "      <td>4</td>\n",
              "    </tr>\n",
              "  </tbody>\n",
              "</table>\n",
              "</div>"
            ],
            "text/plain": [
              "   temp   atemp  humidity  count  ...  workingday  weather  month  hour\n",
              "0  9.84  14.395        81     16  ...           0        1      1     0\n",
              "1  9.02  13.635        80     40  ...           0        1      1     1\n",
              "2  9.02  13.635        80     32  ...           0        1      1     2\n",
              "3  9.84  14.395        75     13  ...           0        1      1     3\n",
              "4  9.84  14.395        75      1  ...           0        1      1     4\n",
              "\n",
              "[5 rows x 10 columns]"
            ]
          },
          "metadata": {
            "tags": []
          },
          "execution_count": 7
        }
      ]
    },
    {
      "cell_type": "markdown",
      "metadata": {
        "id": "hL56yMKPYNWS"
      },
      "source": [
        "# Train & Test Split"
      ]
    },
    {
      "cell_type": "code",
      "metadata": {
        "id": "IQpL7hG-X37Q"
      },
      "source": [
        "from sklearn.model_selection import train_test_split"
      ],
      "execution_count": 8,
      "outputs": []
    },
    {
      "cell_type": "code",
      "metadata": {
        "id": "r1JGvuyTYTaL"
      },
      "source": [
        "X = DF[['temp', 'atemp', 'humidity', 'season', 'holiday', 'workingday', 'weather', 'month', 'hour']]\r\n",
        "y = DF['count']"
      ],
      "execution_count": 9,
      "outputs": []
    },
    {
      "cell_type": "code",
      "metadata": {
        "id": "Yp9D9r-0YbgZ"
      },
      "source": [
        "X_train, X_test, y_train, y_test = train_test_split(X, y,\r\n",
        "                                                    test_size = 0.3,\r\n",
        "                                                    random_state = 2045)"
      ],
      "execution_count": 10,
      "outputs": []
    },
    {
      "cell_type": "code",
      "metadata": {
        "colab": {
          "base_uri": "https://localhost:8080/"
        },
        "id": "S25SThw7YdiC",
        "outputId": "e8b13b94-305c-4e51-d59c-e7183dae2bb3"
      },
      "source": [
        "print('Train Data : ', X_train.shape, y_train.shape)\r\n",
        "print('Test Data : ', X_test.shape, y_test.shape)"
      ],
      "execution_count": 11,
      "outputs": [
        {
          "output_type": "stream",
          "text": [
            "Train Data :  (7620, 9) (7620,)\n",
            "Test Data :  (3266, 9) (3266,)\n"
          ],
          "name": "stdout"
        }
      ]
    },
    {
      "cell_type": "markdown",
      "metadata": {
        "id": "sXVNN-fi0SX_"
      },
      "source": [
        "# Gradient Boosting Machine Classifier 사용"
      ]
    },
    {
      "cell_type": "code",
      "metadata": {
        "colab": {
          "base_uri": "https://localhost:8080/"
        },
        "id": "IzbXgGsVuZPF",
        "outputId": "c929b08d-d7c4-4e54-d444-afe8d1269997"
      },
      "source": [
        "%%time\r\n",
        "\r\n",
        "from sklearn.ensemble import GradientBoostingRegressor\r\n",
        "GBR = GradientBoostingRegressor(loss = 'ls',\r\n",
        "                                n_estimators = 9000,\r\n",
        "                                learning_rate = 0.0001,\r\n",
        "                                criterion = 'mse',\r\n",
        "                                max_features = 3,\r\n",
        "                                max_depth = 1)\r\n",
        "\r\n",
        "GBR.fit(X_train, y_train)"
      ],
      "execution_count": 54,
      "outputs": [
        {
          "output_type": "stream",
          "text": [
            "CPU times: user 11 s, sys: 18.4 ms, total: 11 s\n",
            "Wall time: 11.1 s\n"
          ],
          "name": "stdout"
        }
      ]
    },
    {
      "cell_type": "code",
      "metadata": {
        "id": "zgRH0XUtuZDa"
      },
      "source": [
        ""
      ],
      "execution_count": 54,
      "outputs": []
    },
    {
      "cell_type": "markdown",
      "metadata": {
        "id": "UrM42LamfRRV"
      },
      "source": [
        "# 1. Linear Regression"
      ]
    },
    {
      "cell_type": "code",
      "metadata": {
        "id": "TIOisS9hfVvU"
      },
      "source": [
        "from sklearn.linear_model import LinearRegression"
      ],
      "execution_count": 55,
      "outputs": []
    },
    {
      "cell_type": "code",
      "metadata": {
        "id": "jV-eIHe9lrMu"
      },
      "source": [
        "X_train, X_test, y_train, y_test = train_test_split(X, y, \r\n",
        "                                                      test_size = 0.3, \r\n",
        "                                                      random_state = 2045)"
      ],
      "execution_count": 56,
      "outputs": []
    },
    {
      "cell_type": "code",
      "metadata": {
        "colab": {
          "base_uri": "https://localhost:8080/"
        },
        "id": "3x3OgARaldyo",
        "outputId": "bb4f1a6b-fd3c-4da5-f851-72562422e833"
      },
      "source": [
        "model_lr = LinearRegression()\r\n",
        "model_lr.fit(X_train, y_train)"
      ],
      "execution_count": 57,
      "outputs": [
        {
          "output_type": "execute_result",
          "data": {
            "text/plain": [
              "LinearRegression(copy_X=True, fit_intercept=True, n_jobs=None, normalize=False)"
            ]
          },
          "metadata": {
            "tags": []
          },
          "execution_count": 57
        }
      ]
    },
    {
      "cell_type": "code",
      "metadata": {
        "id": "Xd8ZWfTbl-Q4"
      },
      "source": [
        "y_hat = model_lr.predict(X_test)"
      ],
      "execution_count": 58,
      "outputs": []
    },
    {
      "cell_type": "code",
      "metadata": {
        "colab": {
          "base_uri": "https://localhost:8080/"
        },
        "id": "CAzS4HPQfVpu",
        "outputId": "58432839-9454-4b1f-e0a2-e4bc8d6f96df"
      },
      "source": [
        "print(model_lr.coef_)\r\n",
        "print(model_lr.intercept_)"
      ],
      "execution_count": 59,
      "outputs": [
        {
          "output_type": "stream",
          "text": [
            "[  0.73929596   5.81229507  -2.3932283  -10.39178529   4.17815303\n",
            "  -2.02075546  -1.75752214  10.62521953   7.66216618]\n",
            "59.18916672341018\n"
          ],
          "name": "stdout"
        }
      ]
    },
    {
      "cell_type": "code",
      "metadata": {
        "colab": {
          "base_uri": "https://localhost:8080/"
        },
        "id": "ATJdwf6mfVmd",
        "outputId": "6a8b66d2-7dde-4cfd-ed03-a3edbf4da026"
      },
      "source": [
        "print(\"훈련 세트 점수: {:2f}\".format(model_lr.score(X_train, y_train)))\r\n",
        "print(\"테스트 세트 점수: {:2f}\".format(model_lr.score(X_test, y_test)))"
      ],
      "execution_count": 60,
      "outputs": [
        {
          "output_type": "stream",
          "text": [
            "훈련 세트 점수: 0.341658\n",
            "테스트 세트 점수: 0.326219\n"
          ],
          "name": "stdout"
        }
      ]
    },
    {
      "cell_type": "code",
      "metadata": {
        "id": "LVN_r1AyfVjv"
      },
      "source": [
        "# 1파원 데이터셋에선 모델이 매우 단순. 과대적합을 걱정할 필요 없음.\r\n",
        "# 고차원 모델에서는 선형 모델의 성능이 매우 높아져 과대적합 될 가능성"
      ],
      "execution_count": 61,
      "outputs": []
    },
    {
      "cell_type": "code",
      "metadata": {
        "id": "fhPDn_9An71M"
      },
      "source": [
        "from sklearn.metrics import mean_squared_error"
      ],
      "execution_count": 62,
      "outputs": []
    },
    {
      "cell_type": "code",
      "metadata": {
        "colab": {
          "base_uri": "https://localhost:8080/"
        },
        "id": "oRB7F1UHqwV-",
        "outputId": "ada9599a-1737-43b7-ad28-3a4f5a9e7a7a"
      },
      "source": [
        "mean_squared_error(y_test, model_lr.predict(X_test))\r\n"
      ],
      "execution_count": 63,
      "outputs": [
        {
          "output_type": "execute_result",
          "data": {
            "text/plain": [
              "21925.35925091442"
            ]
          },
          "metadata": {
            "tags": []
          },
          "execution_count": 63
        }
      ]
    },
    {
      "cell_type": "code",
      "metadata": {
        "colab": {
          "base_uri": "https://localhost:8080/"
        },
        "id": "N2_lyUcyn9ko",
        "outputId": "b3b389f9-50c6-4b14-a76d-5cdb59ba1f61"
      },
      "source": [
        "lrMSE = mean_squared_error(y_test, model_lr.predict(X_test))\r\n",
        "print(lrMSE)"
      ],
      "execution_count": 64,
      "outputs": [
        {
          "output_type": "stream",
          "text": [
            "21925.35925091442\n"
          ],
          "name": "stdout"
        }
      ]
    },
    {
      "cell_type": "markdown",
      "metadata": {
        "id": "gkDoI4JnbFKz"
      },
      "source": [
        "# 2. Ridge Regression"
      ]
    },
    {
      "cell_type": "code",
      "metadata": {
        "id": "YbjF0-jZeT5T"
      },
      "source": [
        "from sklearn.linear_model import Ridge"
      ],
      "execution_count": 65,
      "outputs": []
    },
    {
      "cell_type": "code",
      "metadata": {
        "id": "NxoQO98CmMYL"
      },
      "source": [
        "X_train, X_test, y_train, y_test = train_test_split(X, y, \r\n",
        "                                                      test_size = 0.3, \r\n",
        "                                                      random_state = 2045)"
      ],
      "execution_count": 66,
      "outputs": []
    },
    {
      "cell_type": "code",
      "metadata": {
        "colab": {
          "base_uri": "https://localhost:8080/"
        },
        "id": "JrCcwSEMe5He",
        "outputId": "8ae12517-5b83-4e62-b7dc-5e89665be5b0"
      },
      "source": [
        "model_rd = Ridge(normalize = True,\r\n",
        "                 alpha=0.1,\r\n",
        "                 solver = 'cholesky').fit(X_train, y_train)\r\n",
        "print(\"훈련 세트 점수: {:2f}\".format(model_rd.score(X_train, y_train)))\r\n",
        "print(\"테스트 세트 점수: {:2f}\".format(model_rd.score(X_test, y_test)))"
      ],
      "execution_count": 67,
      "outputs": [
        {
          "output_type": "stream",
          "text": [
            "훈련 세트 점수: 0.339538\n",
            "테스트 세트 점수: 0.327341\n"
          ],
          "name": "stdout"
        }
      ]
    },
    {
      "cell_type": "code",
      "metadata": {
        "id": "OY5XgtCKp6NT"
      },
      "source": [
        "from sklearn.metrics import mean_squared_error"
      ],
      "execution_count": 68,
      "outputs": []
    },
    {
      "cell_type": "code",
      "metadata": {
        "colab": {
          "base_uri": "https://localhost:8080/"
        },
        "id": "WHA0akyFqpPB",
        "outputId": "0c879a3e-5201-480a-bc6f-b48a6c2247f2"
      },
      "source": [
        "rdMSE = mean_squared_error(y_test, model_rd.predict(X_test))\r\n",
        "print(rdMSE)"
      ],
      "execution_count": 69,
      "outputs": [
        {
          "output_type": "stream",
          "text": [
            "21888.854159887644\n"
          ],
          "name": "stdout"
        }
      ]
    },
    {
      "cell_type": "markdown",
      "metadata": {
        "id": "1O4Pq37NsBzm"
      },
      "source": [
        "# 3. Lasso Regression"
      ]
    },
    {
      "cell_type": "code",
      "metadata": {
        "id": "9kgf_CeYqqJp"
      },
      "source": [
        "from sklearn.linear_model import Lasso\r\n",
        "import numpy as np"
      ],
      "execution_count": 70,
      "outputs": []
    },
    {
      "cell_type": "code",
      "metadata": {
        "colab": {
          "base_uri": "https://localhost:8080/"
        },
        "id": "vymUvB1CsI3C",
        "outputId": "0473e8b0-c41c-4b10-b0c5-50a7871e9d80"
      },
      "source": [
        "model_ls = Lasso(alpha=0.01).fit(X_train, y_train)\r\n",
        "print(\"훈련 세트 점수: {:2f}\".format(model_ls.score(X_train, y_train)))\r\n",
        "print(\"테스트 세트 점수: {:2f}\".format(model_ls.score(X_test, y_test)))\r\n",
        "print(\"사용한 특성의 개수: \", np.sum(model_ls.coef_ != 0))"
      ],
      "execution_count": 71,
      "outputs": [
        {
          "output_type": "stream",
          "text": [
            "훈련 세트 점수: 0.341658\n",
            "테스트 세트 점수: 0.326250\n",
            "사용한 특성의 개수:  9\n"
          ],
          "name": "stdout"
        }
      ]
    },
    {
      "cell_type": "code",
      "metadata": {
        "id": "L0RJmzP5smTD"
      },
      "source": [
        "from sklearn.metrics import mean_squared_error"
      ],
      "execution_count": 72,
      "outputs": []
    },
    {
      "cell_type": "code",
      "metadata": {
        "colab": {
          "base_uri": "https://localhost:8080/"
        },
        "id": "4HIbrdF0s_SO",
        "outputId": "ddcdf316-21e6-430d-cce8-dc06d68f6d0c"
      },
      "source": [
        "lsMSE = mean_squared_error(y_test, model_ls.predict(X_test))\r\n",
        "print(lsMSE)"
      ],
      "execution_count": 73,
      "outputs": [
        {
          "output_type": "stream",
          "text": [
            "21924.35401912829\n"
          ],
          "name": "stdout"
        }
      ]
    },
    {
      "cell_type": "markdown",
      "metadata": {
        "id": "j9dYTa-H0J6l"
      },
      "source": [
        "# MSE 비교"
      ]
    },
    {
      "cell_type": "code",
      "metadata": {
        "colab": {
          "base_uri": "https://localhost:8080/"
        },
        "id": "S2QZEysrtBII",
        "outputId": "06d3a733-a51d-4e10-e422-ceefaa329a44"
      },
      "source": [
        "print(lrMSE)\r\n",
        "print(rdMSE)\r\n",
        "print(lsMSE)"
      ],
      "execution_count": 74,
      "outputs": [
        {
          "output_type": "stream",
          "text": [
            "21925.35925091442\n",
            "21888.854159887644\n",
            "21924.35401912829\n"
          ],
          "name": "stdout"
        }
      ]
    },
    {
      "cell_type": "markdown",
      "metadata": {
        "id": "fnLiQbGM0oJm"
      },
      "source": [
        "  * Linear Regression MSE가 21925.35925로 가장 높다"
      ]
    },
    {
      "cell_type": "code",
      "metadata": {
        "id": "VacIJ4oA0Pnh"
      },
      "source": [
        ""
      ],
      "execution_count": 74,
      "outputs": []
    }
  ]
}