{
  "nbformat": 4,
  "nbformat_minor": 0,
  "metadata": {
    "colab": {
      "name": "Hypothesis_Test.ipynb",
      "provenance": []
    },
    "kernelspec": {
      "name": "python3",
      "display_name": "Python 3"
    }
  },
  "cells": [
    {
      "cell_type": "markdown",
      "metadata": {
        "id": "D7S_wUnInRLA"
      },
      "source": [
        "# Hypothesis Test"
      ]
    },
    {
      "cell_type": "code",
      "metadata": {
        "id": "9MzTLSGCow_X"
      },
      "source": [
        "import warnings\r\n",
        "warnings.filterwarnings('ignore')"
      ],
      "execution_count": null,
      "outputs": []
    },
    {
      "cell_type": "markdown",
      "metadata": {
        "id": "js7rBGzho0op"
      },
      "source": [
        "# I. t-Test"
      ]
    },
    {
      "cell_type": "markdown",
      "metadata": {
        "id": "5vr0mP6Xo5vu"
      },
      "source": [
        "* 일반적으로 모집단의 모평균이나 모분산은 알 수 없음\r\n",
        "* 표본표준편차로 표본집단을 표준화 하면, 표준정규분포가 아닌 t-분포를 따름\r\n",
        "* 표본표준편차로 변환한 t-분포를 사용하기 때문에 t-Test라고 함"
      ]
    },
    {
      "cell_type": "markdown",
      "metadata": {
        "id": "ymFjxlvlpG-c"
      },
      "source": [
        "> ## 1) 단일집단 t-Test"
      ]
    },
    {
      "cell_type": "markdown",
      "metadata": {
        "id": "vjWzq1XJpJu9"
      },
      "source": [
        "> ### (1) Hypothesis"
      ]
    },
    {
      "cell_type": "markdown",
      "metadata": {
        "id": "h-vaS2dopOGR"
      },
      "source": [
        "* 귀무가설: 스낵의 평균무게는 50이다\r\n",
        "* 대립가성: 스낵의 평균무게는 50이 아니다"
      ]
    },
    {
      "cell_type": "markdown",
      "metadata": {
        "id": "Z3D7AxRSpUy5"
      },
      "source": [
        "> ### (2) 단일표본"
      ]
    },
    {
      "cell_type": "code",
      "metadata": {
        "id": "b5jNvwc8pZV4"
      },
      "source": [
        "import pandas as pd"
      ],
      "execution_count": null,
      "outputs": []
    },
    {
      "cell_type": "code",
      "metadata": {
        "colab": {
          "base_uri": "https://localhost:8080/"
        },
        "id": "YEpQ9h8Zpab2",
        "outputId": "2a0aaa14-4662-416a-a7b8-5cc075629487"
      },
      "source": [
        "url = 'https://raw.githubusercontent.com/rusita-ai/pyData/master/foodWeight.csv'\r\n",
        "DF = pd.read_csv(url)\r\n",
        "DF.info()\r\n"
      ],
      "execution_count": null,
      "outputs": [
        {
          "output_type": "stream",
          "text": [
            "<class 'pandas.core.frame.DataFrame'>\n",
            "RangeIndex: 20 entries, 0 to 19\n",
            "Data columns (total 1 columns):\n",
            " #   Column  Non-Null Count  Dtype  \n",
            "---  ------  --------------  -----  \n",
            " 0   weight  20 non-null     float64\n",
            "dtypes: float64(1)\n",
            "memory usage: 288.0 bytes\n"
          ],
          "name": "stdout"
        }
      ]
    },
    {
      "cell_type": "code",
      "metadata": {
        "colab": {
          "base_uri": "https://localhost:8080/",
          "height": 198
        },
        "id": "GoYyoxrQpb7g",
        "outputId": "c4666fd3-f2a5-4278-c206-d3d7d255a2db"
      },
      "source": [
        "DF.head()"
      ],
      "execution_count": null,
      "outputs": [
        {
          "output_type": "execute_result",
          "data": {
            "text/html": [
              "<div>\n",
              "<style scoped>\n",
              "    .dataframe tbody tr th:only-of-type {\n",
              "        vertical-align: middle;\n",
              "    }\n",
              "\n",
              "    .dataframe tbody tr th {\n",
              "        vertical-align: top;\n",
              "    }\n",
              "\n",
              "    .dataframe thead th {\n",
              "        text-align: right;\n",
              "    }\n",
              "</style>\n",
              "<table border=\"1\" class=\"dataframe\">\n",
              "  <thead>\n",
              "    <tr style=\"text-align: right;\">\n",
              "      <th></th>\n",
              "      <th>weight</th>\n",
              "    </tr>\n",
              "  </thead>\n",
              "  <tbody>\n",
              "    <tr>\n",
              "      <th>0</th>\n",
              "      <td>58.529820</td>\n",
              "    </tr>\n",
              "    <tr>\n",
              "      <th>1</th>\n",
              "      <td>52.353039</td>\n",
              "    </tr>\n",
              "    <tr>\n",
              "      <th>2</th>\n",
              "      <td>74.446169</td>\n",
              "    </tr>\n",
              "    <tr>\n",
              "      <th>3</th>\n",
              "      <td>52.983263</td>\n",
              "    </tr>\n",
              "    <tr>\n",
              "      <th>4</th>\n",
              "      <td>55.876879</td>\n",
              "    </tr>\n",
              "  </tbody>\n",
              "</table>\n",
              "</div>"
            ],
            "text/plain": [
              "      weight\n",
              "0  58.529820\n",
              "1  52.353039\n",
              "2  74.446169\n",
              "3  52.983263\n",
              "4  55.876879"
            ]
          },
          "metadata": {
            "tags": []
          },
          "execution_count": 4
        }
      ]
    },
    {
      "cell_type": "markdown",
      "metadata": {
        "id": "K7mpPsGrpe6u"
      },
      "source": [
        "> ### (3) t-Test"
      ]
    },
    {
      "cell_type": "markdown",
      "metadata": {
        "id": "qBMyH7F_pjOk"
      },
      "source": [
        "* 단이표본 t-Test\r\n",
        "* p값이 0.05보다 작기 때문에, '스낵의 평균무게는 50이다'는 귀무가설을 '기각'\r\n",
        "  * 집단의 모평균의 차이는 통계적으로 유의미함"
      ]
    },
    {
      "cell_type": "code",
      "metadata": {
        "colab": {
          "base_uri": "https://localhost:8080/"
        },
        "id": "_0_XEjwxplhM",
        "outputId": "8ddc463d-6ed7-4e8d-ed03-b14313f2bbb7"
      },
      "source": [
        "import scipy.stats\r\n",
        "scipy.stats.ttest_1samp(DF, 50)"
      ],
      "execution_count": null,
      "outputs": [
        {
          "output_type": "execute_result",
          "data": {
            "text/plain": [
              "Ttest_1sampResult(statistic=array([2.75033968]), pvalue=array([0.01272559]))"
            ]
          },
          "metadata": {
            "tags": []
          },
          "execution_count": 5
        }
      ]
    },
    {
      "cell_type": "markdown",
      "metadata": {
        "id": "wdacx3Xhp0rU"
      },
      "source": [
        "> ## 2) 두 집단 독립 표본 t-Test"
      ]
    },
    {
      "cell_type": "markdown",
      "metadata": {
        "id": "ZzvmlvC5p-Lu"
      },
      "source": [
        "* 두 표본집단을 구성(수집)할 때 독립인 경우\r\n",
        "  * 독립표본: 무작위로 남자 100명과 여자 100명을 뽑아 두 집단을 비교\r\n",
        "  * 대응표본: 부부 100쌍을 뽑아 남편 100명과 아내 100명의 두집단을 비교\r\n",
        "\r\n",
        "* 논리\r\n",
        "  * 모평균과 표본평균은 다를 수 있지만 차이가 크지 않을 것\r\n",
        "  * 두 표본집단의 평균의 차이는 0이 아니지만, 큰 차이는 보이지 않음\r\n",
        "  * 만약, 두 표본 평균의 차이가 크다면, 귀무가설이 맞지 않을 수 있음\r\n",
        "  * 따라서, 두 표본평균의 차이나는 정도에 대한 가능성(확률)을 계산하여 판단"
      ]
    },
    {
      "cell_type": "markdown",
      "metadata": {
        "id": "8YSYRhCzqkm5"
      },
      "source": [
        "> ### (1) Hypothesis"
      ]
    },
    {
      "cell_type": "markdown",
      "metadata": {
        "id": "9DyJSbIgqpNZ"
      },
      "source": [
        "* 귀무가설 : 두 집단의 모평균이 동일하다.\r\n",
        "* 대립가성 : 두 딥단의 모평균은 동일하지 않다."
      ]
    },
    {
      "cell_type": "markdown",
      "metadata": {
        "id": "1QJ7JA_4qsRI"
      },
      "source": [
        "> ### (2) 독립표본"
      ]
    },
    {
      "cell_type": "markdown",
      "metadata": {
        "id": "PyyfuM8bqwzN"
      },
      "source": [
        "* mMale과 Female 표본집단이 무작위로 추출"
      ]
    },
    {
      "cell_type": "code",
      "metadata": {
        "id": "9v-cVt8Sq0ql"
      },
      "source": [
        "Male = [117, 108, 105, 89, 101, \r\n",
        "        93, 96, 108, 108, 94, \r\n",
        "        93, 112, 92, 91, 100, \r\n",
        "        96, 120, 86, 96, 95]\r\n",
        "Female = [121, 101, 102, 114, 103, \r\n",
        "          105, 101, 131, 96, 109, \r\n",
        "          109, 113, 115, 94, 108, \r\n",
        "          96, 110, 112, 120, 100]"
      ],
      "execution_count": 7,
      "outputs": []
    },
    {
      "cell_type": "markdown",
      "metadata": {
        "id": "gS76yVsXrA_z"
      },
      "source": [
        "> ### (3) Welch's t-Test"
      ]
    },
    {
      "cell_type": "markdown",
      "metadata": {
        "id": "54T03zjzrNM1"
      },
      "source": [
        "* 두 표본분산의 등분산성 검사 없이 진행\r\n",
        "* 독립표본 t-Test에 적용(Independent)\r\n",
        "  * 'equal_var = False'\r\n",
        "* p값이 0.05보다 작기 때문에, '두 집단의 모평균이 동일하다'는 귀무가설을 '기각'\r\n",
        "  * 두 집잔의 모푱균의 차이는 통계적으로 유의미함"
      ]
    },
    {
      "cell_type": "code",
      "metadata": {
        "colab": {
          "base_uri": "https://localhost:8080/"
        },
        "id": "UQkWOLlTrcaz",
        "outputId": "9d5eac96-405d-43fc-f972-889427aac9af"
      },
      "source": [
        "import scipy.stats\r\n",
        "scipy.stats.ttest_ind(Male, Female, equal_var = False)"
      ],
      "execution_count": 10,
      "outputs": [
        {
          "output_type": "execute_result",
          "data": {
            "text/plain": [
              "Ttest_indResult(statistic=-2.670573872669349, pvalue=0.01108318824471652)"
            ]
          },
          "metadata": {
            "tags": []
          },
          "execution_count": 10
        }
      ]
    },
    {
      "cell_type": "markdown",
      "metadata": {
        "id": "5mbz-u89rj86"
      },
      "source": [
        "> ### (4) Effect Size"
      ]
    },
    {
      "cell_type": "markdown",
      "metadata": {
        "id": "uY9gpAccr_pE"
      },
      "source": [
        "* 두 집단의 평균 차이를 일정한 기준으로 표현\r\n",
        "* 절대적이지 않으며, 0.2 정도면 작은 편, 0.5 정도면 중간, 0.8 이면 큰 편"
      ]
    },
    {
      "cell_type": "code",
      "metadata": {
        "id": "yFGrk9S0sCf6"
      },
      "source": [
        "DT = scipy.stats.ttest_ind(Male, Female, equal_var = False)"
      ],
      "execution_count": 11,
      "outputs": []
    },
    {
      "cell_type": "code",
      "metadata": {
        "colab": {
          "base_uri": "https://localhost:8080/"
        },
        "id": "DYK8bF_NsJIR",
        "outputId": "9993f094-41a2-445f-ca78-81844bb28535"
      },
      "source": [
        "# Cohen's d\r\n",
        "import numpy as np\r\n",
        "\r\n",
        "t = DT.statistic\r\n",
        "df = len(Male) + len(Female) - 2\r\n",
        "\r\n",
        "abs(t) / np.sqrt(df)"
      ],
      "execution_count": 13,
      "outputs": [
        {
          "output_type": "execute_result",
          "data": {
            "text/plain": [
              "0.4332242888591059"
            ]
          },
          "metadata": {
            "tags": []
          },
          "execution_count": 13
        }
      ]
    },
    {
      "cell_type": "code",
      "metadata": {
        "colab": {
          "base_uri": "https://localhost:8080/"
        },
        "id": "52XyGRKMsLLa",
        "outputId": "d7157e5b-af6e-484d-de8a-d18b50f0ca5e"
      },
      "source": [
        "# Pearson's r\r\n",
        "t2 = t ** 2\r\n",
        "\r\n",
        "np.sqrt(t2 / (t2 + df))"
      ],
      "execution_count": 14,
      "outputs": [
        {
          "output_type": "execute_result",
          "data": {
            "text/plain": [
              "0.39752319599996255"
            ]
          },
          "metadata": {
            "tags": []
          },
          "execution_count": 14
        }
      ]
    },
    {
      "cell_type": "markdown",
      "metadata": {
        "id": "v8FJA0KBscR-"
      },
      "source": [
        "> ### (5) 검증결과 해석"
      ]
    },
    {
      "cell_type": "markdown",
      "metadata": {
        "id": "Eh2j_Q-msgKT"
      },
      "source": [
        "* 두 집단 Male과 Female에 대하여 독립표본 t 검증을 실시한 결과,\r\n",
        "  * 집단 Male의 평균값(100)은 집단 Female의 평균값(108)보다 통계적으로 유의미하게 낮았으며 (p < 0.05),\r\n",
        "  * 효과 크기는 중간 수준이었다 (Cohen's d = 0.43, Pearson's r = 0.39)"
      ]
    },
    {
      "cell_type": "markdown",
      "metadata": {
        "id": "VYuiUH6ms4Qp"
      },
      "source": [
        "> ## 3) 두 집단 대응표본 t-Test"
      ]
    },
    {
      "cell_type": "markdown",
      "metadata": {
        "id": "cVLNsl0xs8vp"
      },
      "source": [
        "* 두 집단의 자료를 쌍으로 묶을 수 있는 경우\r\n",
        "    * 예) 남편과 아내, Before vs. After\r\n",
        "* 쌍을 이루고 있는 두 값의 차이를 구함"
      ]
    },
    {
      "cell_type": "markdown",
      "metadata": {
        "id": "4rYz8t9ZtAFA"
      },
      "source": [
        "> ### (1) Hypothesis\r\n"
      ]
    },
    {
      "cell_type": "markdown",
      "metadata": {
        "id": "fbdyml1DtIe1"
      },
      "source": [
        "* 귀무가설 : 두 집단의 모평균이 동일하다.\r\n",
        "* 대립가성 : 두 딥단의 모평균은 동일하지 않다.\r\n"
      ]
    },
    {
      "cell_type": "markdown",
      "metadata": {
        "id": "jOLOqZpStG_a"
      },
      "source": [
        "> ### (2) 대응표본"
      ]
    },
    {
      "cell_type": "markdown",
      "metadata": {
        "id": "jyYZCqortNMB"
      },
      "source": [
        "* 두 표본집한 Before와 After가 순서대로 짝지어 있음"
      ]
    },
    {
      "cell_type": "code",
      "metadata": {
        "id": "uKpRjckftO24"
      },
      "source": [
        "Before = [117, 108, 105, 89, 101, \r\n",
        "          93, 96, 108, 108, 94, \r\n",
        "          93, 112, 92, 91, 100, \r\n",
        "          96, 120, 86, 96, 95]\r\n",
        "After = [121, 101, 102, 114, 103, \r\n",
        "         105, 101, 131, 96, 109, \r\n",
        "         109, 113, 115, 94, 108, \r\n",
        "         96, 110, 112, 120, 100]\r\n"
      ],
      "execution_count": 15,
      "outputs": []
    },
    {
      "cell_type": "markdown",
      "metadata": {
        "id": "2Wu0cADntP7H"
      },
      "source": [
        "> ### (3) t-Test"
      ]
    },
    {
      "cell_type": "markdown",
      "metadata": {
        "id": "Q6aKvAERtThZ"
      },
      "source": [
        "* 대응표본 t-Test에 적용(Related)\r\n",
        "* p값이 0.05보다 작기 때문에, '두 집단의 모평균이 동일하다'는 귀무가설을 '기각'\r\n",
        "  * 두 집단의 모평균의 차이는 통계적으로 유의미함\r\n"
      ]
    },
    {
      "cell_type": "code",
      "metadata": {
        "colab": {
          "base_uri": "https://localhost:8080/"
        },
        "id": "_PvLUrvPtZSO",
        "outputId": "c03b3cf4-9a1f-48a7-f751-eb299dcbf6ea"
      },
      "source": [
        "import scipy.stats\r\n",
        "scipy.stats.ttest_rel(Before, After)"
      ],
      "execution_count": 16,
      "outputs": [
        {
          "output_type": "execute_result",
          "data": {
            "text/plain": [
              "Ttest_relResult(statistic=-2.9868874599588247, pvalue=0.007578486289181322)"
            ]
          },
          "metadata": {
            "tags": []
          },
          "execution_count": 16
        }
      ]
    },
    {
      "cell_type": "markdown",
      "metadata": {
        "id": "sLJ6udCBta_0"
      },
      "source": [
        "> ### (4) Effect Size"
      ]
    },
    {
      "cell_type": "markdown",
      "metadata": {
        "id": "IExn_IsptnIU"
      },
      "source": [
        "* 두 집단의 평균 차이를 일정한 기준으로 표현\r\n",
        "* 절대적이지 않으며, 0.2 정도면 작은 편, 0.5 정도면 중간, 0.8이면 큰편"
      ]
    },
    {
      "cell_type": "code",
      "metadata": {
        "id": "Ny9nRuLbtvXc"
      },
      "source": [
        "DT = scipy.stats.ttest_rel(Before, After)"
      ],
      "execution_count": 17,
      "outputs": []
    },
    {
      "cell_type": "code",
      "metadata": {
        "colab": {
          "base_uri": "https://localhost:8080/"
        },
        "id": "-4Zk34J7ty7C",
        "outputId": "6e69f174-cd09-4d79-e24d-3f52aa2c1258"
      },
      "source": [
        "# Cohen's d\r\n",
        "\r\n",
        "t = DT.statistic\r\n",
        "\r\n",
        "df = len(Before) + len(After) - 2\r\n",
        "\r\n",
        "abs(t) / np.sqrt(df)"
      ],
      "execution_count": 18,
      "outputs": [
        {
          "output_type": "execute_result",
          "data": {
            "text/plain": [
              "0.4845371285121742"
            ]
          },
          "metadata": {
            "tags": []
          },
          "execution_count": 18
        }
      ]
    },
    {
      "cell_type": "code",
      "metadata": {
        "colab": {
          "base_uri": "https://localhost:8080/"
        },
        "id": "dKsRkunIt21q",
        "outputId": "469b6853-66d1-4fe4-e6e1-2d7356a6a73f"
      },
      "source": [
        "# Pearson's r\r\n",
        "\r\n",
        "t2 = t ** 2\r\n",
        "\r\n",
        "np.sqrt(t2 / (t2 + df))"
      ],
      "execution_count": 19,
      "outputs": [
        {
          "output_type": "execute_result",
          "data": {
            "text/plain": [
              "0.43604662677848566"
            ]
          },
          "metadata": {
            "tags": []
          },
          "execution_count": 19
        }
      ]
    },
    {
      "cell_type": "markdown",
      "metadata": {
        "id": "dgt0XuK6t8mc"
      },
      "source": [
        "> ### (5) 검증결과 해석"
      ]
    },
    {
      "cell_type": "markdown",
      "metadata": {
        "id": "VKaC793mt-xm"
      },
      "source": [
        "* 두 집단 Before와 After에 대하여 대응표본 t 검증을 실시한 결과,\r\n",
        "  * 집단 Before의 평균값(100)은 집단 After의 평균값(108)보다 통계적으로 유의미하게 낮았으며(p < 0.05),\r\n",
        "  * 효과 크기는 중간 수준이었다(Cohen's d = 0.48, Pearson's r = 0.43)"
      ]
    },
    {
      "cell_type": "markdown",
      "metadata": {
        "id": "C07aG7ibuU9L"
      },
      "source": [
        "# II. ANOVA Test"
      ]
    },
    {
      "cell_type": "markdown",
      "metadata": {
        "id": "uswtElh2uYVp"
      },
      "source": [
        "* Analysis Of VAriance(ANOVA)\r\n",
        "* 세 개 이상의 집단에 대한 평균을 비교할 때 사용\r\n",
        "  * 기존 t-Test 사용 시 과잉검증(Overtesting) 문제 발생\r\n",
        "  * t-Test로 두 집단씩 짝지어 분석할 경우 분석횟수가 기하급수적으로 증가\r\n",
        "  * 통계적 검증절차를 남용하여, 확률적 의사결정에서 발생 가능한 오류의 확률이 필요 이상으로 증가하는 문제\r\n",
        "\r\n",
        "* 용어\r\n",
        "  * 요인(Factor) : 집단을 구별하는 독립변수\r\n",
        "  * 수준(Level) : 요인의 수준(예: '성별'요인의 수준은 '남자'와 '여자')\r\n",
        "  * 상호작용 : 한 요인의 수준에 따른 종속변수의 차이가 또 다른 요인의 수준에 따라 달라\r\n",
        "질 때\r\n",
        "  * n-way ANOVA\r\n",
        "    * One-way ANOVA : 요인이 1개인 분산분석\r\n",
        "    * Two-way ANOVA : 요인이 2개인 분산분석\r\n"
      ]
    },
    {
      "cell_type": "markdown",
      "metadata": {
        "id": "41lq2CxZuckr"
      },
      "source": [
        "> ## 1) One-way ANOVA"
      ]
    },
    {
      "cell_type": "markdown",
      "metadata": {
        "id": "CVzMC2tPvGEQ"
      },
      "source": [
        "> ### (1) Hypothesis"
      ]
    },
    {
      "cell_type": "markdown",
      "metadata": {
        "id": "cgD53NIGvI-0"
      },
      "source": [
        "* 귀무가설 : 모든 집단의 평균은 동일하다\r\n",
        "* 대립가설 : 적어도 한 집단의 평균은 다른 집단과 다르다"
      ]
    },
    {
      "cell_type": "markdown",
      "metadata": {
        "id": "mOOhUuy9vMDF"
      },
      "source": [
        "> ### (2) Load Data"
      ]
    },
    {
      "cell_type": "code",
      "metadata": {
        "colab": {
          "base_uri": "https://localhost:8080/"
        },
        "id": "0Q5JR5O2vUyj",
        "outputId": "6bd14eec-ea8a-40be-8c76-1c6010b71fda"
      },
      "source": [
        "import pandas as pd\r\n",
        "url = 'https://raw.githubusercontent.com/rusita-ai/pyData/master/PlantGrowth.csv'\r\n",
        "DF = pd.read_csv(url)\r\n",
        "DF.info()\r\n"
      ],
      "execution_count": 20,
      "outputs": [
        {
          "output_type": "stream",
          "text": [
            "<class 'pandas.core.frame.DataFrame'>\n",
            "RangeIndex: 30 entries, 0 to 29\n",
            "Data columns (total 2 columns):\n",
            " #   Column  Non-Null Count  Dtype  \n",
            "---  ------  --------------  -----  \n",
            " 0   weight  30 non-null     float64\n",
            " 1   group   30 non-null     object \n",
            "dtypes: float64(1), object(1)\n",
            "memory usage: 608.0+ bytes\n"
          ],
          "name": "stdout"
        }
      ]
    },
    {
      "cell_type": "code",
      "metadata": {
        "colab": {
          "base_uri": "https://localhost:8080/",
          "height": 198
        },
        "id": "fUTvjuzevWI2",
        "outputId": "4b2f9bad-3268-46c7-c4c4-31bbfc868dce"
      },
      "source": [
        "DF.head()"
      ],
      "execution_count": 21,
      "outputs": [
        {
          "output_type": "execute_result",
          "data": {
            "text/html": [
              "<div>\n",
              "<style scoped>\n",
              "    .dataframe tbody tr th:only-of-type {\n",
              "        vertical-align: middle;\n",
              "    }\n",
              "\n",
              "    .dataframe tbody tr th {\n",
              "        vertical-align: top;\n",
              "    }\n",
              "\n",
              "    .dataframe thead th {\n",
              "        text-align: right;\n",
              "    }\n",
              "</style>\n",
              "<table border=\"1\" class=\"dataframe\">\n",
              "  <thead>\n",
              "    <tr style=\"text-align: right;\">\n",
              "      <th></th>\n",
              "      <th>weight</th>\n",
              "      <th>group</th>\n",
              "    </tr>\n",
              "  </thead>\n",
              "  <tbody>\n",
              "    <tr>\n",
              "      <th>0</th>\n",
              "      <td>4.17</td>\n",
              "      <td>ctrl</td>\n",
              "    </tr>\n",
              "    <tr>\n",
              "      <th>1</th>\n",
              "      <td>5.58</td>\n",
              "      <td>ctrl</td>\n",
              "    </tr>\n",
              "    <tr>\n",
              "      <th>2</th>\n",
              "      <td>5.18</td>\n",
              "      <td>ctrl</td>\n",
              "    </tr>\n",
              "    <tr>\n",
              "      <th>3</th>\n",
              "      <td>6.11</td>\n",
              "      <td>ctrl</td>\n",
              "    </tr>\n",
              "    <tr>\n",
              "      <th>4</th>\n",
              "      <td>4.50</td>\n",
              "      <td>ctrl</td>\n",
              "    </tr>\n",
              "  </tbody>\n",
              "</table>\n",
              "</div>"
            ],
            "text/plain": [
              "   weight group\n",
              "0    4.17  ctrl\n",
              "1    5.58  ctrl\n",
              "2    5.18  ctrl\n",
              "3    6.11  ctrl\n",
              "4    4.50  ctrl"
            ]
          },
          "metadata": {
            "tags": []
          },
          "execution_count": 21
        }
      ]
    },
    {
      "cell_type": "code",
      "metadata": {
        "colab": {
          "base_uri": "https://localhost:8080/"
        },
        "id": "sQEatuKQvXpX",
        "outputId": "0eaa8e2e-cc9d-4f8d-eb32-78aefbf130fd"
      },
      "source": [
        "# 3개의 집단 확인\r\n",
        "# 'ctrl1, trt1, trt2\r\n",
        "\r\n",
        "DF['group'].unique()"
      ],
      "execution_count": 24,
      "outputs": [
        {
          "output_type": "execute_result",
          "data": {
            "text/plain": [
              "array(['ctrl', 'trt1', 'trt2'], dtype=object)"
            ]
          },
          "metadata": {
            "tags": []
          },
          "execution_count": 24
        }
      ]
    },
    {
      "cell_type": "markdown",
      "metadata": {
        "id": "4VGwg7cVvg0h"
      },
      "source": [
        "> ### (3) 일원분산분석"
      ]
    },
    {
      "cell_type": "markdown",
      "metadata": {
        "id": "8X-JOc4RvoDA"
      },
      "source": [
        "* Pr(>F)가 p-value\r\n",
        "* p-value 값이 0.05보다 작으면, 통계적으로 유의미한 차이가 존재\r\n",
        "* 검증결과 0.0159로 0.05보다 작아서, 귀무가설 '기각'\r\n",
        "* 구체적으로 어떤 수준(집단)이 차이가 있는지 확인하려면 사후분석(post hoc test) 필요\r\n",
        "* 유의미한 차이가 없는 경우, 사후분석 필요 없음\r\n"
      ]
    },
    {
      "cell_type": "code",
      "metadata": {
        "colab": {
          "base_uri": "https://localhost:8080/",
          "height": 108
        },
        "id": "ynNfUpXQvuq_",
        "outputId": "dff24bfb-7100-41b0-e540-65351b0b2485"
      },
      "source": [
        "from statsmodels.formula.api import ols\r\n",
        "from statsmodels.stats.anova import anova_lm\r\n",
        "model = ols('weight ~ C(group)', DF).fit()\r\n",
        "anova_lm(model)"
      ],
      "execution_count": 27,
      "outputs": [
        {
          "output_type": "execute_result",
          "data": {
            "text/html": [
              "<div>\n",
              "<style scoped>\n",
              "    .dataframe tbody tr th:only-of-type {\n",
              "        vertical-align: middle;\n",
              "    }\n",
              "\n",
              "    .dataframe tbody tr th {\n",
              "        vertical-align: top;\n",
              "    }\n",
              "\n",
              "    .dataframe thead th {\n",
              "        text-align: right;\n",
              "    }\n",
              "</style>\n",
              "<table border=\"1\" class=\"dataframe\">\n",
              "  <thead>\n",
              "    <tr style=\"text-align: right;\">\n",
              "      <th></th>\n",
              "      <th>df</th>\n",
              "      <th>sum_sq</th>\n",
              "      <th>mean_sq</th>\n",
              "      <th>F</th>\n",
              "      <th>PR(&gt;F)</th>\n",
              "    </tr>\n",
              "  </thead>\n",
              "  <tbody>\n",
              "    <tr>\n",
              "      <th>C(group)</th>\n",
              "      <td>2.0</td>\n",
              "      <td>3.76634</td>\n",
              "      <td>1.883170</td>\n",
              "      <td>4.846088</td>\n",
              "      <td>0.01591</td>\n",
              "    </tr>\n",
              "    <tr>\n",
              "      <th>Residual</th>\n",
              "      <td>27.0</td>\n",
              "      <td>10.49209</td>\n",
              "      <td>0.388596</td>\n",
              "      <td>NaN</td>\n",
              "      <td>NaN</td>\n",
              "    </tr>\n",
              "  </tbody>\n",
              "</table>\n",
              "</div>"
            ],
            "text/plain": [
              "            df    sum_sq   mean_sq         F   PR(>F)\n",
              "C(group)   2.0   3.76634  1.883170  4.846088  0.01591\n",
              "Residual  27.0  10.49209  0.388596       NaN      NaN"
            ]
          },
          "metadata": {
            "tags": []
          },
          "execution_count": 27
        }
      ]
    },
    {
      "cell_type": "markdown",
      "metadata": {
        "id": "HoxbIqEgv_NN"
      },
      "source": [
        "> ### (4) 일원분산분석 가정"
      ]
    },
    {
      "cell_type": "markdown",
      "metadata": {
        "id": "UxocuMs9wY0k"
      },
      "source": [
        "* 독립성: 자료의 추출은 독립적으로 이루어졌음\r\n",
        "* 정규성: 자료의 모집단 분포는 정규분포를 따름\r\n",
        "* 등분산성: 모든 집단의 모분산은 동일함\r\n",
        "  "
      ]
    },
    {
      "cell_type": "markdown",
      "metadata": {
        "id": "86xneElcw2uO"
      },
      "source": [
        "\r\n",
        "(4-1). 독립성\r\n",
        "* 자료 수집이 Random Sampling 되었다면 만족하는 것으로 봄\r\n",
        "\r\n",
        "(4-2). 정규성\r\n",
        "  * 세 수준 모두 p-value값이 0.05보다 큼\r\n",
        "  * 모집단의 분포가 정규 분포를 따른다는 귀무가설을 '채택'"
      ]
    },
    {
      "cell_type": "code",
      "metadata": {
        "colab": {
          "base_uri": "https://localhost:8080/"
        },
        "id": "JL6Vq5ZLxFJi",
        "outputId": "1d0fba30-e560-44b3-c141-892daba0d49e"
      },
      "source": [
        "# 'ctrl' 수준의 정규성\r\n",
        "import scipy.stats\r\n",
        "scipy.stats.shapiro(DF.weight[DF.group == 'ctrl'])\r\n"
      ],
      "execution_count": 31,
      "outputs": [
        {
          "output_type": "execute_result",
          "data": {
            "text/plain": [
              "(0.9566815495491028, 0.7474744915962219)"
            ]
          },
          "metadata": {
            "tags": []
          },
          "execution_count": 31
        }
      ]
    },
    {
      "cell_type": "code",
      "metadata": {
        "colab": {
          "base_uri": "https://localhost:8080/"
        },
        "id": "p1LZaAo9xLAY",
        "outputId": "61540812-ad12-4f0a-cfa2-16a545552120"
      },
      "source": [
        "# 'trt1' 수준의 정규성\r\n",
        "scipy.stats.shapiro(DF.weight[DF.group == 'trt1'])"
      ],
      "execution_count": 32,
      "outputs": [
        {
          "output_type": "execute_result",
          "data": {
            "text/plain": [
              "(0.9304108619689941, 0.451945960521698)"
            ]
          },
          "metadata": {
            "tags": []
          },
          "execution_count": 32
        }
      ]
    },
    {
      "cell_type": "code",
      "metadata": {
        "colab": {
          "base_uri": "https://localhost:8080/"
        },
        "id": "CBatsghmxgP3",
        "outputId": "8a1a13a2-9fcf-4a78-9db4-e0fa9346127e"
      },
      "source": [
        "# 'trt2' 수준의 정규성\r\n",
        "scipy.stats.shapiro(DF.weight[DF.group == 'trt2'])"
      ],
      "execution_count": 33,
      "outputs": [
        {
          "output_type": "execute_result",
          "data": {
            "text/plain": [
              "(0.9410051107406616, 0.5642509460449219)"
            ]
          },
          "metadata": {
            "tags": []
          },
          "execution_count": 33
        }
      ]
    },
    {
      "cell_type": "markdown",
      "metadata": {
        "id": "fYiS_YV6xkEQ"
      },
      "source": [
        "(4-3). 등분산성\r\n",
        "* 두 가지 테스트 모두 p-value값이 0.05보다 큼\r\n",
        "* 모집단의 모분산은 동일하다는 귀무가설을 '채택'"
      ]
    },
    {
      "cell_type": "code",
      "metadata": {
        "colab": {
          "base_uri": "https://localhost:8080/"
        },
        "id": "m7zjyGAZxuQX",
        "outputId": "0529cc5a-18de-4b78-ee8a-32c5862650d2"
      },
      "source": [
        "# Levene(레빈 검증)\r\n",
        "scipy.stats.levene(\r\n",
        "    DF.weight[DF.group == 'ctrl'],\r\n",
        "    DF.weight[DF.group == 'trt1'],\r\n",
        "    DF.weight[DF.group == 'trt2'] )\r\n"
      ],
      "execution_count": 34,
      "outputs": [
        {
          "output_type": "execute_result",
          "data": {
            "text/plain": [
              "LeveneResult(statistic=1.1191856948703909, pvalue=0.3412266241254737)"
            ]
          },
          "metadata": {
            "tags": []
          },
          "execution_count": 34
        }
      ]
    },
    {
      "cell_type": "code",
      "metadata": {
        "colab": {
          "base_uri": "https://localhost:8080/"
        },
        "id": "6aYyAvLuxyX5",
        "outputId": "58ee4c94-5fef-45de-a5c4-d38f92912fb4"
      },
      "source": [
        "# Bartlett(바틀렛 검증)\r\n",
        "scipy.stats.bartlett(\r\n",
        "    DF.weight[DF.group == 'ctrl'],\r\n",
        "    DF.weight[DF.group == 'trt1'],\r\n",
        "    DF.weight[DF.group == 'trt2'] )\r\n"
      ],
      "execution_count": 35,
      "outputs": [
        {
          "output_type": "execute_result",
          "data": {
            "text/plain": [
              "BartlettResult(statistic=2.8785737872360935, pvalue=0.23709677363455822)"
            ]
          },
          "metadata": {
            "tags": []
          },
          "execution_count": 35
        }
      ]
    },
    {
      "cell_type": "markdown",
      "metadata": {
        "id": "BEGVMJxVx4Ae"
      },
      "source": [
        "> ### (5) 일원분산분석 사후분석"
      ]
    },
    {
      "cell_type": "markdown",
      "metadata": {
        "id": "y80B8Gtux7wr"
      },
      "source": [
        "* post hoc test\r\n",
        "  * 유의미한 검증결과 도출 시, 어떤 수준(들)에서 평균 차이가 나는지를 검증\r\n",
        "  * 연구자의 사전 가설(아이디어)없이 ANOVA를 시행한 경우, 탐색적으로 평균 차이가 나\r\n",
        "는 수준(집단)을 살펴보기 위해 시행\r\n",
        "  * 조합 가능한 모든 쌍에 대해 비교하여, 과잉검증으로 인한 FWER 증가\r\n",
        "\r\n",
        "* FWER\r\n",
        "  * Family Wise Error Rate\r\n",
        "  * 여러 개의 가설 검정을 할 때 적어도 하나의 가설에서 1종 오류가 발생할 가능성\r\n",
        "  * 가설검정을 많이 할 수록 FWER은 증가\r\n",
        "  * 유의수준을 보정하여 FWER을 0.05로 고정 후 검증"
      ]
    },
    {
      "cell_type": "markdown",
      "metadata": {
        "id": "2ghTbsBpyH1X"
      },
      "source": [
        "(5-1). 사후분석 준비"
      ]
    },
    {
      "cell_type": "code",
      "metadata": {
        "id": "wkSaGoGnyYym"
      },
      "source": [
        "from statsmodels.sandbox.stats.multicomp import MultiComparison\r\n",
        "import scipy.stats\r\n",
        "\r\n",
        "MC = MultiComparison(DF['weight'], DF['group'])"
      ],
      "execution_count": 37,
      "outputs": []
    },
    {
      "cell_type": "markdown",
      "metadata": {
        "id": "W9pgfQctylLc"
      },
      "source": [
        "(5-2). Bonferroni Correction"
      ]
    },
    {
      "cell_type": "markdown",
      "metadata": {
        "id": "1zUKqYK8yrgw"
      },
      "source": [
        "* 봉페로니 교정\r\n",
        "  * 모든 집단을 짝지어 t-Test\r\n",
        "* 'trt1'과 'trt2' 수준 간의 평균차이만 유의미함"
      ]
    },
    {
      "cell_type": "code",
      "metadata": {
        "colab": {
          "base_uri": "https://localhost:8080/",
          "height": 155
        },
        "id": "yF4yEQnPyzhF",
        "outputId": "edd4b268-1e1f-4985-99d7-6e7fd30debc0"
      },
      "source": [
        "result = MC.allpairtest(scipy.stats.ttest_ind, method = 'bonf')\r\n",
        "result[0]"
      ],
      "execution_count": 39,
      "outputs": [
        {
          "output_type": "execute_result",
          "data": {
            "text/html": [
              "<table class=\"simpletable\">\n",
              "<caption>Test Multiple Comparison ttest_ind \n",
              "FWER=0.05 method=bonf\n",
              "alphacSidak=0.02, alphacBonf=0.017</caption>\n",
              "<tr>\n",
              "  <th>group1</th> <th>group2</th>  <th>stat</th>    <th>pval</th>  <th>pval_corr</th> <th>reject</th>\n",
              "</tr>\n",
              "<tr>\n",
              "   <td>ctrl</td>   <td>trt1</td>  <td>1.1913</td>   <td>0.249</td>  <td>0.7471</td>    <td>False</td>\n",
              "</tr>\n",
              "<tr>\n",
              "   <td>ctrl</td>   <td>trt2</td>  <td>-2.134</td>  <td>0.0469</td>  <td>0.1406</td>    <td>False</td>\n",
              "</tr>\n",
              "<tr>\n",
              "   <td>trt1</td>   <td>trt2</td>  <td>-3.0101</td> <td>0.0075</td>  <td>0.0226</td>    <td>True</td> \n",
              "</tr>\n",
              "</table>"
            ],
            "text/plain": [
              "<class 'statsmodels.iolib.table.SimpleTable'>"
            ]
          },
          "metadata": {
            "tags": []
          },
          "execution_count": 39
        }
      ]
    },
    {
      "cell_type": "markdown",
      "metadata": {
        "id": "zBgQQq5Gy6__"
      },
      "source": [
        "(5-3). Tuckey's HSD"
      ]
    },
    {
      "cell_type": "markdown",
      "metadata": {
        "id": "sa87Jir-zCIi"
      },
      "source": [
        "* 투키의 HSD(Honestly Significant Difference)\r\n",
        "* 'trt1'과 'trt2'수준 간의 평균차이만 유의미함"
      ]
    },
    {
      "cell_type": "code",
      "metadata": {
        "colab": {
          "base_uri": "https://localhost:8080/",
          "height": 137
        },
        "id": "VtBJAXuJzMzq",
        "outputId": "a3143802-138f-49af-8472-098c73f03afa"
      },
      "source": [
        "from statsmodels.stats.multicomp import pairwise_tukeyhsd\r\n",
        "\r\n",
        "THSD = pairwise_tukeyhsd(DF['weight'], DF['group'], alpha = 0.05)\r\n",
        "\r\n",
        "THSD.summary()"
      ],
      "execution_count": 41,
      "outputs": [
        {
          "output_type": "execute_result",
          "data": {
            "text/html": [
              "<table class=\"simpletable\">\n",
              "<caption>Multiple Comparison of Means - Tukey HSD, FWER=0.05</caption>\n",
              "<tr>\n",
              "  <th>group1</th> <th>group2</th> <th>meandiff</th>  <th>p-adj</th>  <th>lower</th>   <th>upper</th> <th>reject</th>\n",
              "</tr>\n",
              "<tr>\n",
              "   <td>ctrl</td>   <td>trt1</td>   <td>-0.371</td>  <td>0.3921</td> <td>-1.0621</td> <td>0.3201</td>  <td>False</td>\n",
              "</tr>\n",
              "<tr>\n",
              "   <td>ctrl</td>   <td>trt2</td>    <td>0.494</td>   <td>0.198</td> <td>-0.1971</td> <td>1.1851</td>  <td>False</td>\n",
              "</tr>\n",
              "<tr>\n",
              "   <td>trt1</td>   <td>trt2</td>    <td>0.865</td>   <td>0.012</td> <td>0.1739</td>  <td>1.5561</td>  <td>True</td> \n",
              "</tr>\n",
              "</table>"
            ],
            "text/plain": [
              "<class 'statsmodels.iolib.table.SimpleTable'>"
            ]
          },
          "metadata": {
            "tags": []
          },
          "execution_count": 41
        }
      ]
    },
    {
      "cell_type": "markdown",
      "metadata": {
        "id": "qhBAO0uJzZoU"
      },
      "source": [
        "> ### (6) 일월분산분석 결과 해석"
      ]
    },
    {
      "cell_type": "markdown",
      "metadata": {
        "id": "SBpxrN-Xzqk8"
      },
      "source": [
        "* group에 따른 weight의 평균 차이는 유의미함 (p <  0.05)\r\n",
        "  * 사후분석을 실시 결과, 'trt1' 수준과 'trt2' 수준에서 유의미한 평균 차이가 있었음(p <\r\n",
        "0.05)\r\n",
        "\r\n",
        "\r\n"
      ]
    },
    {
      "cell_type": "code",
      "metadata": {
        "id": "QzQe93SBz2Pt"
      },
      "source": [
        ""
      ],
      "execution_count": null,
      "outputs": []
    }
  ]
}